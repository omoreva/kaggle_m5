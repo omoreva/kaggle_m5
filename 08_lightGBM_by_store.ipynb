{
  "nbformat": 4,
  "nbformat_minor": 0,
  "metadata": {
    "kernelspec": {
      "display_name": "Python 3",
      "language": "python",
      "name": "python3"
    },
    "language_info": {
      "codemirror_mode": {
        "name": "ipython",
        "version": 3
      },
      "file_extension": ".py",
      "mimetype": "text/x-python",
      "name": "python",
      "nbconvert_exporter": "python",
      "pygments_lexer": "ipython3",
      "version": "3.7.4"
    },
    "colab": {
      "name": "07_lightGBM_demand_type.ipynb",
      "provenance": []
    }
  },
  "cells": [
    {
      "cell_type": "code",
      "metadata": {
        "id": "jW8-zNCCabFC",
        "colab_type": "code",
        "colab": {
          "base_uri": "https://localhost:8080/",
          "height": 1000
        },
        "outputId": "3d2d2c38-56d5-4c94-918b-90d45efb59ed"
      },
      "source": [
        "!pip install mlflow"
      ],
      "execution_count": 3,
      "outputs": [
        {
          "output_type": "stream",
          "text": [
            "Collecting mlflow\n",
            "\u001b[?25l  Downloading https://files.pythonhosted.org/packages/9e/a7/40679fdb5ac44ad922902b560818682038be169f88c23ad719b9d1f82090/mlflow-1.8.0-py3-none-any.whl (10.4MB)\n",
            "\u001b[K     |████████████████████████████████| 10.4MB 2.7MB/s \n",
            "\u001b[?25hRequirement already satisfied: protobuf>=3.6.0 in /usr/local/lib/python3.6/dist-packages (from mlflow) (3.10.0)\n",
            "Requirement already satisfied: requests>=2.17.3 in /usr/local/lib/python3.6/dist-packages (from mlflow) (2.23.0)\n",
            "Collecting databricks-cli>=0.8.7\n",
            "\u001b[?25l  Downloading https://files.pythonhosted.org/packages/49/d1/fe0ba3d5c2b4b76ec035aa243bbc2fd0d60607a391f192ebe1656e17a4e2/databricks-cli-0.10.0.tar.gz (45kB)\n",
            "\u001b[K     |████████████████████████████████| 51kB 6.8MB/s \n",
            "\u001b[?25hRequirement already satisfied: six>=1.10.0 in /usr/local/lib/python3.6/dist-packages (from mlflow) (1.12.0)\n",
            "Requirement already satisfied: python-dateutil in /usr/local/lib/python3.6/dist-packages (from mlflow) (2.8.1)\n",
            "Requirement already satisfied: sqlparse in /usr/local/lib/python3.6/dist-packages (from mlflow) (0.3.1)\n",
            "Collecting gunicorn; platform_system != \"Windows\"\n",
            "\u001b[?25l  Downloading https://files.pythonhosted.org/packages/69/ca/926f7cd3a2014b16870086b2d0fdc84a9e49473c68a8dff8b57f7c156f43/gunicorn-20.0.4-py2.py3-none-any.whl (77kB)\n",
            "\u001b[K     |████████████████████████████████| 81kB 8.0MB/s \n",
            "\u001b[?25hRequirement already satisfied: Flask in /usr/local/lib/python3.6/dist-packages (from mlflow) (1.1.2)\n",
            "Requirement already satisfied: click>=7.0 in /usr/local/lib/python3.6/dist-packages (from mlflow) (7.1.2)\n",
            "Collecting simplejson\n",
            "\u001b[?25l  Downloading https://files.pythonhosted.org/packages/98/87/a7b98aa9256c8843f92878966dc3d8d914c14aad97e2c5ce4798d5743e07/simplejson-3.17.0.tar.gz (83kB)\n",
            "\u001b[K     |████████████████████████████████| 92kB 9.7MB/s \n",
            "\u001b[?25hRequirement already satisfied: cloudpickle in /usr/local/lib/python3.6/dist-packages (from mlflow) (1.3.0)\n",
            "Requirement already satisfied: numpy in /usr/local/lib/python3.6/dist-packages (from mlflow) (1.18.3)\n",
            "Collecting gorilla\n",
            "  Downloading https://files.pythonhosted.org/packages/e3/56/5a683944cbfc77e429c6f03c636ca50504a785f60ffae91ddd7f5f7bb520/gorilla-0.3.0-py2.py3-none-any.whl\n",
            "Requirement already satisfied: pyyaml in /usr/local/lib/python3.6/dist-packages (from mlflow) (3.13)\n",
            "Collecting docker>=4.0.0\n",
            "\u001b[?25l  Downloading https://files.pythonhosted.org/packages/58/74/379a9d30b1620def158c40b88c43e01c1936a287ebb97afab0699c601c57/docker-4.2.0-py2.py3-none-any.whl (143kB)\n",
            "\u001b[K     |████████████████████████████████| 153kB 45.3MB/s \n",
            "\u001b[?25hCollecting sqlalchemy<=1.3.13\n",
            "\u001b[?25l  Downloading https://files.pythonhosted.org/packages/af/47/35edeb0f86c0b44934c05d961c893e223ef27e79e1f53b5e6f14820ff553/SQLAlchemy-1.3.13.tar.gz (6.0MB)\n",
            "\u001b[K     |████████████████████████████████| 6.0MB 44.4MB/s \n",
            "\u001b[?25hCollecting prometheus-flask-exporter\n",
            "  Downloading https://files.pythonhosted.org/packages/74/72/167af24b6df90e1c9db21d4d3a1d67573f35a4ec2376eaebd1ac4e1bbf03/prometheus_flask_exporter-0.13.0.tar.gz\n",
            "Requirement already satisfied: pandas in /usr/local/lib/python3.6/dist-packages (from mlflow) (1.0.3)\n",
            "Collecting gitpython>=2.1.0\n",
            "\u001b[?25l  Downloading https://files.pythonhosted.org/packages/44/33/917e6fde1cad13daa7053f39b7c8af3be287314f75f1b1ea8d3fe37a8571/GitPython-3.1.2-py3-none-any.whl (451kB)\n",
            "\u001b[K     |████████████████████████████████| 460kB 41.3MB/s \n",
            "\u001b[?25hCollecting querystring-parser\n",
            "  Downloading https://files.pythonhosted.org/packages/4a/fa/f54f5662e0eababf0c49e92fd94bf178888562c0e7b677c8941bbbcd1bd6/querystring_parser-1.2.4.tar.gz\n",
            "Requirement already satisfied: entrypoints in /usr/local/lib/python3.6/dist-packages (from mlflow) (0.3)\n",
            "Collecting alembic\n",
            "\u001b[?25l  Downloading https://files.pythonhosted.org/packages/60/1e/cabc75a189de0fbb2841d0975243e59bde8b7822bacbb95008ac6fe9ad47/alembic-1.4.2.tar.gz (1.1MB)\n",
            "\u001b[K     |████████████████████████████████| 1.1MB 42.4MB/s \n",
            "\u001b[?25h  Installing build dependencies ... \u001b[?25l\u001b[?25hdone\n",
            "  Getting requirements to build wheel ... \u001b[?25l\u001b[?25hdone\n",
            "    Preparing wheel metadata ... \u001b[?25l\u001b[?25hdone\n",
            "Requirement already satisfied: setuptools in /usr/local/lib/python3.6/dist-packages (from protobuf>=3.6.0->mlflow) (46.1.3)\n",
            "Requirement already satisfied: urllib3!=1.25.0,!=1.25.1,<1.26,>=1.21.1 in /usr/local/lib/python3.6/dist-packages (from requests>=2.17.3->mlflow) (1.24.3)\n",
            "Requirement already satisfied: idna<3,>=2.5 in /usr/local/lib/python3.6/dist-packages (from requests>=2.17.3->mlflow) (2.9)\n",
            "Requirement already satisfied: certifi>=2017.4.17 in /usr/local/lib/python3.6/dist-packages (from requests>=2.17.3->mlflow) (2020.4.5.1)\n",
            "Requirement already satisfied: chardet<4,>=3.0.2 in /usr/local/lib/python3.6/dist-packages (from requests>=2.17.3->mlflow) (3.0.4)\n",
            "Requirement already satisfied: tabulate>=0.7.7 in /usr/local/lib/python3.6/dist-packages (from databricks-cli>=0.8.7->mlflow) (0.8.7)\n",
            "Collecting configparser>=0.3.5\n",
            "  Downloading https://files.pythonhosted.org/packages/4b/6b/01baa293090240cf0562cc5eccb69c6f5006282127f2b846fad011305c79/configparser-5.0.0-py3-none-any.whl\n",
            "Requirement already satisfied: Werkzeug>=0.15 in /usr/local/lib/python3.6/dist-packages (from Flask->mlflow) (1.0.1)\n",
            "Requirement already satisfied: itsdangerous>=0.24 in /usr/local/lib/python3.6/dist-packages (from Flask->mlflow) (1.1.0)\n",
            "Requirement already satisfied: Jinja2>=2.10.1 in /usr/local/lib/python3.6/dist-packages (from Flask->mlflow) (2.11.2)\n",
            "Collecting websocket-client>=0.32.0\n",
            "\u001b[?25l  Downloading https://files.pythonhosted.org/packages/4c/5f/f61b420143ed1c8dc69f9eaec5ff1ac36109d52c80de49d66e0c36c3dfdf/websocket_client-0.57.0-py2.py3-none-any.whl (200kB)\n",
            "\u001b[K     |████████████████████████████████| 204kB 43.1MB/s \n",
            "\u001b[?25hRequirement already satisfied: prometheus_client in /usr/local/lib/python3.6/dist-packages (from prometheus-flask-exporter->mlflow) (0.7.1)\n",
            "Requirement already satisfied: pytz>=2017.2 in /usr/local/lib/python3.6/dist-packages (from pandas->mlflow) (2018.9)\n",
            "Collecting gitdb<5,>=4.0.1\n",
            "\u001b[?25l  Downloading https://files.pythonhosted.org/packages/48/11/d1800bca0a3bae820b84b7d813ad1eff15a48a64caea9c823fc8c1b119e8/gitdb-4.0.5-py3-none-any.whl (63kB)\n",
            "\u001b[K     |████████████████████████████████| 71kB 9.5MB/s \n",
            "\u001b[?25hCollecting python-editor>=0.3\n",
            "  Downloading https://files.pythonhosted.org/packages/c6/d3/201fc3abe391bbae6606e6f1d598c15d367033332bd54352b12f35513717/python_editor-1.0.4-py3-none-any.whl\n",
            "Collecting Mako\n",
            "\u001b[?25l  Downloading https://files.pythonhosted.org/packages/50/78/f6ade1e18aebda570eed33b7c534378d9659351cadce2fcbc7b31be5f615/Mako-1.1.2-py2.py3-none-any.whl (75kB)\n",
            "\u001b[K     |████████████████████████████████| 81kB 10.6MB/s \n",
            "\u001b[?25hRequirement already satisfied: MarkupSafe>=0.23 in /usr/local/lib/python3.6/dist-packages (from Jinja2>=2.10.1->Flask->mlflow) (1.1.1)\n",
            "Collecting smmap<4,>=3.0.1\n",
            "  Downloading https://files.pythonhosted.org/packages/b0/9a/4d409a6234eb940e6a78dfdfc66156e7522262f5f2fecca07dc55915952d/smmap-3.0.4-py2.py3-none-any.whl\n",
            "Building wheels for collected packages: alembic\n",
            "  Building wheel for alembic (PEP 517) ... \u001b[?25l\u001b[?25hdone\n",
            "  Created wheel for alembic: filename=alembic-1.4.2-cp36-none-any.whl size=159543 sha256=884ad5c3a3cb45264434cd12e7c4997a9b141a7544f6497f2a46ba4df27061c5\n",
            "  Stored in directory: /root/.cache/pip/wheels/1f/04/83/76023f7a4c14688c0b5c2682a96392cfdd3ee4449eaaa287ef\n",
            "Successfully built alembic\n",
            "Building wheels for collected packages: databricks-cli, simplejson, sqlalchemy, prometheus-flask-exporter, querystring-parser\n",
            "  Building wheel for databricks-cli (setup.py) ... \u001b[?25l\u001b[?25hdone\n",
            "  Created wheel for databricks-cli: filename=databricks_cli-0.10.0-cp36-none-any.whl size=84285 sha256=5b1e1dfcd8ee165738d9d00a2ecf41a35fd59891b0a1238ef805a22bd638fb42\n",
            "  Stored in directory: /root/.cache/pip/wheels/1e/e5/2d/a19c0bfd38005176063f130d72de17cb3d2d32c0ee384e7493\n",
            "  Building wheel for simplejson (setup.py) ... \u001b[?25l\u001b[?25hdone\n",
            "  Created wheel for simplejson: filename=simplejson-3.17.0-cp36-cp36m-linux_x86_64.whl size=114200 sha256=d84994d856e745cfaea39bf65d4d8b6257d16ceef117371feb9b62c03b8b854c\n",
            "  Stored in directory: /root/.cache/pip/wheels/86/c0/83/dcd0339abb2640544bb8e0938aab2d069cef55e5647ce6e097\n",
            "  Building wheel for sqlalchemy (setup.py) ... \u001b[?25l\u001b[?25hdone\n",
            "  Created wheel for sqlalchemy: filename=SQLAlchemy-1.3.13-cp36-cp36m-linux_x86_64.whl size=1217130 sha256=c7549ca5abcc79e74caf4898dc211c17c0872b1971d30ebb292ff859b45f0224\n",
            "  Stored in directory: /root/.cache/pip/wheels/b3/35/98/4c9cb3fd63d21d5606b972dd70643769745adf60e622467b71\n",
            "  Building wheel for prometheus-flask-exporter (setup.py) ... \u001b[?25l\u001b[?25hdone\n",
            "  Created wheel for prometheus-flask-exporter: filename=prometheus_flask_exporter-0.13.0-cp36-none-any.whl size=14946 sha256=1d357ea6bcc0ba22c2d7bb1fb7b3a6d4602de9aab2e23889e76aea1950aaf255\n",
            "  Stored in directory: /root/.cache/pip/wheels/c8/2f/a3/c81e6aa99897467c82d523858738fb8c94d1d43e500da45dc2\n",
            "  Building wheel for querystring-parser (setup.py) ... \u001b[?25l\u001b[?25hdone\n",
            "  Created wheel for querystring-parser: filename=querystring_parser-1.2.4-cp36-none-any.whl size=7079 sha256=8bf4d83f2548cc33d26953a162ae7ed3bec968178c63293cc83c794fddac85f2\n",
            "  Stored in directory: /root/.cache/pip/wheels/1e/41/34/23ebf5d1089a9aed847951e0ee375426eb4ad0a7079d88d41e\n",
            "Successfully built databricks-cli simplejson sqlalchemy prometheus-flask-exporter querystring-parser\n",
            "Installing collected packages: configparser, databricks-cli, gunicorn, simplejson, gorilla, websocket-client, docker, sqlalchemy, prometheus-flask-exporter, smmap, gitdb, gitpython, querystring-parser, python-editor, Mako, alembic, mlflow\n",
            "  Found existing installation: SQLAlchemy 1.3.16\n",
            "    Uninstalling SQLAlchemy-1.3.16:\n",
            "      Successfully uninstalled SQLAlchemy-1.3.16\n",
            "Successfully installed Mako-1.1.2 alembic-1.4.2 configparser-5.0.0 databricks-cli-0.10.0 docker-4.2.0 gitdb-4.0.5 gitpython-3.1.2 gorilla-0.3.0 gunicorn-20.0.4 mlflow-1.8.0 prometheus-flask-exporter-0.13.0 python-editor-1.0.4 querystring-parser-1.2.4 simplejson-3.17.0 smmap-3.0.4 sqlalchemy-1.3.13 websocket-client-0.57.0\n"
          ],
          "name": "stdout"
        }
      ]
    },
    {
      "cell_type": "code",
      "metadata": {
        "id": "RU5EEyZHYShR",
        "colab_type": "code",
        "colab": {}
      },
      "source": [
        "import pandas as pd\n",
        "import numpy as np\n",
        "from datetime  import datetime  \n",
        "from datetime import timedelta  \n",
        "import lightgbm as lgb\n",
        "from sklearn import preprocessing, metrics\n",
        "from sklearn.model_selection import ParameterGrid\n",
        "import matplotlib.pyplot as plt\n",
        "import seaborn as sns\n",
        "import mlflow\n",
        "import mlflow.lightgbm\n",
        "import seaborn as sns"
      ],
      "execution_count": 0,
      "outputs": []
    },
    {
      "cell_type": "code",
      "metadata": {
        "id": "jIh3bs2K3m7R",
        "colab_type": "code",
        "colab": {}
      },
      "source": [
        "np.random.seed(0)"
      ],
      "execution_count": 0,
      "outputs": []
    },
    {
      "cell_type": "code",
      "metadata": {
        "id": "oGmPdLayYShf",
        "colab_type": "code",
        "colab": {}
      },
      "source": [
        "data_folder = '/content/drive/My Drive/Kaggle_M5/00_data/'\n",
        "submission = pd.read_csv(data_folder + 'sample_submission.csv')"
      ],
      "execution_count": 0,
      "outputs": []
    },
    {
      "cell_type": "code",
      "metadata": {
        "id": "sajf_2UrYShr",
        "colab_type": "code",
        "colab": {}
      },
      "source": [
        "params = {\n",
        "        'boosting_type': 'gbdt',\n",
        "        'metric': 'rmse',\n",
        "        'objective':  'tweedie',\n",
        "        'n_jobs': -1,\n",
        "        'seed': 0,\n",
        "        'learning_rate': 0.05, \n",
        "        'bagging_fraction': 0.9,\n",
        "        'bagging_freq': 1, \n",
        "        'colsample_bytree': 0.75,\n",
        "        'num_iterations': 5000,\n",
        "        'early_stopping_round': 500,\n",
        "        'max_bin': 100,\n",
        "        'boost_from_average': False}"
      ],
      "execution_count": 0,
      "outputs": []
    },
    {
      "cell_type": "code",
      "metadata": {
        "id": "cfv8X1jUa8UO",
        "colab_type": "code",
        "colab": {}
      },
      "source": [
        "params = {'bagging_fraction': 0.5, \n",
        "          'bagging_freq': 10, \n",
        "          'boosting_type': 'gbdt', \n",
        "          'colsample_bytree': 0.75, \n",
        "          'early_stopping_round': 500, \n",
        "          'learning_rate': 0.05, \n",
        "          'metric': 'rmse', \n",
        "          'n_jobs': -1, \n",
        "          'num_iterations': 5000, \n",
        "          'early_stopping_round': 500,         \n",
        "          'objective': 'tweedie', \n",
        "          'seed': 0}"
      ],
      "execution_count": 0,
      "outputs": []
    },
    {
      "cell_type": "code",
      "metadata": {
        "id": "2iqdipBlwuBw",
        "colab_type": "code",
        "colab": {}
      },
      "source": [
        "param_grid = {'boosting_type': ['gbdt', 'dart'],\n",
        "        'metric': ['rmse'],\n",
        "        'objective': ['poisson', 'tweedie'],\n",
        "        'n_jobs': [-1],\n",
        "        'seed': [0],\n",
        "        'learning_rate':  [0.05, 0.075, 0.1],\n",
        "        'bagging_fraction': [0.5, 0.75, 1],\n",
        "        'bagging_freq': [5, 10], \n",
        "        'colsample_bytree': [0.75],\n",
        "        'num_iterations': [1000, 5000],\n",
        "        'early_stopping_round': [500]}"
      ],
      "execution_count": 0,
      "outputs": []
    },
    {
      "cell_type": "code",
      "metadata": {
        "id": "Iw6qv9FaYSh9",
        "colab_type": "code",
        "colab": {}
      },
      "source": [
        "evaluation_rows = [row for row in submission['id'] if 'evaluation' in row] \n",
        "evaluation = submission[submission['id'].isin(evaluation_rows)]\n",
        "\n",
        "validation_rows = [row for row in submission['id'] if 'validation' in row] \n",
        "validation_csv = submission[submission['id'].isin(validation_rows)]\n"
      ],
      "execution_count": 0,
      "outputs": []
    },
    {
      "cell_type": "code",
      "metadata": {
        "id": "blDaEKjmcZTm",
        "colab_type": "code",
        "colab": {}
      },
      "source": [
        "not_features = ['d', 'id', 'item_id', 'store_id', 'demand', 'date', 'start_date']"
      ],
      "execution_count": 0,
      "outputs": []
    },
    {
      "cell_type": "code",
      "metadata": {
        "id": "U_LDEPjdYSiY",
        "colab_type": "code",
        "outputId": "1645113b-3245-440a-f948-cb4504f171c2",
        "colab": {
          "base_uri": "https://localhost:8080/",
          "height": 1000
        }
      },
      "source": [
        "validation = pd.DataFrame(columns=submission.columns)\n",
        "data_folder = '/content/drive/My Drive/Kaggle_M5/01_preprocessed_data/'\n",
        "\n",
        "overall_rmse = 0\n",
        "pred_true = pd.DataFrame(columns=['pred', 'true'])\n",
        "rmse_score = []\n",
        "mae_score = []\n",
        "j = 0\n",
        "for param in ParameterGrid(param_grid):\n",
        "  print(\"----------------------\")\n",
        "  print(j)\n",
        "  print(param)\n",
        "  for i in ['CA_1', 'CA_2', 'CA_3', 'CA_4', 'TX_1', 'TX_2', 'TX_3', 'WI_1', 'WI_2', 'WI_3']:\n",
        "      print(i)\n",
        "      \n",
        "      X_val = pd.read_pickle(data_folder + \"X_val_{}.pkl\".format(i))\n",
        "      X_test = pd.read_pickle(data_folder + \"X_test_{}.pkl\".format(i))\n",
        "      X_train = pd.read_pickle(data_folder + \"X_train_{}.pkl\".format(i))\n",
        "      y_train = X_train['demand']\n",
        "      y_val = X_val['demand']\n",
        "      print(X_train.shape)\n",
        "      features = X_train.columns[~X_train.columns.isin(not_features) ]\n",
        "\n",
        "      train_set = lgb.Dataset(X_train[features],y_train)\n",
        "      val_set = lgb.Dataset(X_val[features], y_val)\n",
        "      model = lgb.train(param, train_set, valid_sets = [train_set, val_set], verbose_eval = 100)\n",
        "      \n",
        "      val_pred = model.predict(X_val[features])\n",
        "      val_score = metrics.mean_absolute_error(val_pred, y_val)\n",
        "\n",
        "      temp = pd.DataFrame({'pred':val_pred, 'true':y_val})\n",
        "      pred_true =pred_true.append(temp)\n",
        "      print(f'Our val mae score is {val_score}')\n",
        "\n",
        "      y_test = model.predict(X_test[features])\n",
        "      X_test['demand'] = y_test\n",
        "      predictions = X_test[['id', 'days_from_start', 'demand']]\n",
        "      predictions = pd.pivot(predictions, index = 'id', columns = 'days_from_start', values = 'demand').reset_index()\n",
        "      predictions.columns = ['id'] + ['F' + str(j + 1) for j in range(28)]\n",
        "      validation = validation.append(predictions)\n",
        "  rmse = np.sqrt(np.mean((pred_true['pred'] - pred_true['true'])**2) )\n",
        "  rmse_score.append(rmse)\n",
        "  mae_score.append(np.mean(np.abs(pred_true['pred'] - pred_true['true']) ))\n",
        "  j = j + 1\n",
        "    "
      ],
      "execution_count": 0,
      "outputs": [
        {
          "output_type": "stream",
          "text": [
            "CA_1\n",
            "{'bagging_fraction': 0.5, 'bagging_freq': 5, 'boosting_type': 'gbdt', 'colsample_bytree': 0.75, 'early_stopping_round': 500, 'learning_rate': 0.05, 'metric': 'rmse', 'n_jobs': -1, 'num_iterations': 100, 'objective': 'poisson', 'seed': 0}\n",
            "(4510808, 44)\n"
          ],
          "name": "stdout"
        },
        {
          "output_type": "stream",
          "text": [
            "/usr/local/lib/python3.6/dist-packages/lightgbm/engine.py:118: UserWarning: Found `num_iterations` in params. Will use it instead of argument\n",
            "  warnings.warn(\"Found `{}` in params. Will use it instead of argument\".format(alias))\n",
            "/usr/local/lib/python3.6/dist-packages/lightgbm/engine.py:123: UserWarning: Found `early_stopping_round` in params. Will use it instead of argument\n",
            "  warnings.warn(\"Found `{}` in params. Will use it instead of argument\".format(alias))\n",
            "/usr/local/lib/python3.6/dist-packages/lightgbm/basic.py:762: UserWarning: categorical_feature in param dict is overridden.\n",
            "  warnings.warn('categorical_feature in param dict is overridden.')\n"
          ],
          "name": "stderr"
        },
        {
          "output_type": "stream",
          "text": [
            "Training until validation scores don't improve for 500 rounds.\n",
            "[100]\ttraining's rmse: 2.79589\tvalid_1's rmse: 2.24564\n",
            "Did not meet early stopping. Best iteration is:\n",
            "[100]\ttraining's rmse: 2.79589\tvalid_1's rmse: 2.24564\n",
            "Our val mae score is 1.1638297208794421\n",
            "CA_2\n",
            "{'bagging_fraction': 0.5, 'bagging_freq': 5, 'boosting_type': 'gbdt', 'colsample_bytree': 0.75, 'early_stopping_round': 500, 'learning_rate': 0.05, 'metric': 'rmse', 'n_jobs': -1, 'num_iterations': 100, 'objective': 'poisson', 'seed': 0}\n",
            "(4082924, 44)\n"
          ],
          "name": "stdout"
        },
        {
          "output_type": "stream",
          "text": [
            "/usr/local/lib/python3.6/dist-packages/lightgbm/engine.py:118: UserWarning: Found `num_iterations` in params. Will use it instead of argument\n",
            "  warnings.warn(\"Found `{}` in params. Will use it instead of argument\".format(alias))\n",
            "/usr/local/lib/python3.6/dist-packages/lightgbm/engine.py:123: UserWarning: Found `early_stopping_round` in params. Will use it instead of argument\n",
            "  warnings.warn(\"Found `{}` in params. Will use it instead of argument\".format(alias))\n",
            "/usr/local/lib/python3.6/dist-packages/lightgbm/basic.py:762: UserWarning: categorical_feature in param dict is overridden.\n",
            "  warnings.warn('categorical_feature in param dict is overridden.')\n"
          ],
          "name": "stderr"
        },
        {
          "output_type": "stream",
          "text": [
            "Training until validation scores don't improve for 500 rounds.\n",
            "[100]\ttraining's rmse: 2.20774\tvalid_1's rmse: 2.14609\n",
            "Did not meet early stopping. Best iteration is:\n",
            "[100]\ttraining's rmse: 2.20774\tvalid_1's rmse: 2.14609\n",
            "Our val mae score is 1.1496749535572222\n",
            "CA_3\n",
            "{'bagging_fraction': 0.5, 'bagging_freq': 5, 'boosting_type': 'gbdt', 'colsample_bytree': 0.75, 'early_stopping_round': 500, 'learning_rate': 0.05, 'metric': 'rmse', 'n_jobs': -1, 'num_iterations': 100, 'objective': 'poisson', 'seed': 0}\n",
            "(4479854, 44)\n"
          ],
          "name": "stdout"
        },
        {
          "output_type": "stream",
          "text": [
            "/usr/local/lib/python3.6/dist-packages/lightgbm/engine.py:118: UserWarning: Found `num_iterations` in params. Will use it instead of argument\n",
            "  warnings.warn(\"Found `{}` in params. Will use it instead of argument\".format(alias))\n",
            "/usr/local/lib/python3.6/dist-packages/lightgbm/engine.py:123: UserWarning: Found `early_stopping_round` in params. Will use it instead of argument\n",
            "  warnings.warn(\"Found `{}` in params. Will use it instead of argument\".format(alias))\n",
            "/usr/local/lib/python3.6/dist-packages/lightgbm/basic.py:762: UserWarning: categorical_feature in param dict is overridden.\n",
            "  warnings.warn('categorical_feature in param dict is overridden.')\n"
          ],
          "name": "stderr"
        },
        {
          "output_type": "stream",
          "text": [
            "Training until validation scores don't improve for 500 rounds.\n",
            "[100]\ttraining's rmse: 4.01709\tvalid_1's rmse: 2.86155\n",
            "Did not meet early stopping. Best iteration is:\n",
            "[100]\ttraining's rmse: 4.01709\tvalid_1's rmse: 2.86155\n",
            "Our val mae score is 1.4605895323576261\n",
            "CA_4\n",
            "{'bagging_fraction': 0.5, 'bagging_freq': 5, 'boosting_type': 'gbdt', 'colsample_bytree': 0.75, 'early_stopping_round': 500, 'learning_rate': 0.05, 'metric': 'rmse', 'n_jobs': -1, 'num_iterations': 100, 'objective': 'poisson', 'seed': 0}\n",
            "(4375090, 44)\n"
          ],
          "name": "stdout"
        },
        {
          "output_type": "stream",
          "text": [
            "/usr/local/lib/python3.6/dist-packages/lightgbm/engine.py:118: UserWarning: Found `num_iterations` in params. Will use it instead of argument\n",
            "  warnings.warn(\"Found `{}` in params. Will use it instead of argument\".format(alias))\n",
            "/usr/local/lib/python3.6/dist-packages/lightgbm/engine.py:123: UserWarning: Found `early_stopping_round` in params. Will use it instead of argument\n",
            "  warnings.warn(\"Found `{}` in params. Will use it instead of argument\".format(alias))\n",
            "/usr/local/lib/python3.6/dist-packages/lightgbm/basic.py:762: UserWarning: categorical_feature in param dict is overridden.\n",
            "  warnings.warn('categorical_feature in param dict is overridden.')\n"
          ],
          "name": "stderr"
        },
        {
          "output_type": "stream",
          "text": [
            "Training until validation scores don't improve for 500 rounds.\n",
            "[100]\ttraining's rmse: 1.59861\tvalid_1's rmse: 1.42731\n",
            "Did not meet early stopping. Best iteration is:\n",
            "[100]\ttraining's rmse: 1.59861\tvalid_1's rmse: 1.42731\n",
            "Our val mae score is 0.8055468541884306\n",
            "TX_1\n",
            "{'bagging_fraction': 0.5, 'bagging_freq': 5, 'boosting_type': 'gbdt', 'colsample_bytree': 0.75, 'early_stopping_round': 500, 'learning_rate': 0.05, 'metric': 'rmse', 'n_jobs': -1, 'num_iterations': 100, 'objective': 'poisson', 'seed': 0}\n",
            "(4519857, 44)\n"
          ],
          "name": "stdout"
        },
        {
          "output_type": "stream",
          "text": [
            "/usr/local/lib/python3.6/dist-packages/lightgbm/engine.py:118: UserWarning: Found `num_iterations` in params. Will use it instead of argument\n",
            "  warnings.warn(\"Found `{}` in params. Will use it instead of argument\".format(alias))\n",
            "/usr/local/lib/python3.6/dist-packages/lightgbm/engine.py:123: UserWarning: Found `early_stopping_round` in params. Will use it instead of argument\n",
            "  warnings.warn(\"Found `{}` in params. Will use it instead of argument\".format(alias))\n",
            "/usr/local/lib/python3.6/dist-packages/lightgbm/basic.py:762: UserWarning: categorical_feature in param dict is overridden.\n",
            "  warnings.warn('categorical_feature in param dict is overridden.')\n"
          ],
          "name": "stderr"
        },
        {
          "output_type": "stream",
          "text": [
            "Training until validation scores don't improve for 500 rounds.\n",
            "[100]\ttraining's rmse: 2.32264\tvalid_1's rmse: 1.91628\n",
            "Did not meet early stopping. Best iteration is:\n",
            "[100]\ttraining's rmse: 2.32264\tvalid_1's rmse: 1.91628\n",
            "Our val mae score is 0.9207626875072921\n",
            "TX_2\n",
            "{'bagging_fraction': 0.5, 'bagging_freq': 5, 'boosting_type': 'gbdt', 'colsample_bytree': 0.75, 'early_stopping_round': 500, 'learning_rate': 0.05, 'metric': 'rmse', 'n_jobs': -1, 'num_iterations': 100, 'objective': 'poisson', 'seed': 0}\n",
            "(4530422, 44)\n"
          ],
          "name": "stdout"
        },
        {
          "output_type": "stream",
          "text": [
            "/usr/local/lib/python3.6/dist-packages/lightgbm/engine.py:118: UserWarning: Found `num_iterations` in params. Will use it instead of argument\n",
            "  warnings.warn(\"Found `{}` in params. Will use it instead of argument\".format(alias))\n",
            "/usr/local/lib/python3.6/dist-packages/lightgbm/engine.py:123: UserWarning: Found `early_stopping_round` in params. Will use it instead of argument\n",
            "  warnings.warn(\"Found `{}` in params. Will use it instead of argument\".format(alias))\n",
            "/usr/local/lib/python3.6/dist-packages/lightgbm/basic.py:762: UserWarning: categorical_feature in param dict is overridden.\n",
            "  warnings.warn('categorical_feature in param dict is overridden.')\n"
          ],
          "name": "stderr"
        },
        {
          "output_type": "stream",
          "text": [
            "Training until validation scores don't improve for 500 rounds.\n",
            "[100]\ttraining's rmse: 2.80506\tvalid_1's rmse: 1.96677\n",
            "Did not meet early stopping. Best iteration is:\n",
            "[100]\ttraining's rmse: 2.80506\tvalid_1's rmse: 1.96677\n",
            "Our val mae score is 1.0254415440025955\n",
            "TX_3\n",
            "{'bagging_fraction': 0.5, 'bagging_freq': 5, 'boosting_type': 'gbdt', 'colsample_bytree': 0.75, 'early_stopping_round': 500, 'learning_rate': 0.05, 'metric': 'rmse', 'n_jobs': -1, 'num_iterations': 100, 'objective': 'poisson', 'seed': 0}\n",
            "(4459708, 44)\n"
          ],
          "name": "stdout"
        },
        {
          "output_type": "stream",
          "text": [
            "/usr/local/lib/python3.6/dist-packages/lightgbm/engine.py:118: UserWarning: Found `num_iterations` in params. Will use it instead of argument\n",
            "  warnings.warn(\"Found `{}` in params. Will use it instead of argument\".format(alias))\n",
            "/usr/local/lib/python3.6/dist-packages/lightgbm/engine.py:123: UserWarning: Found `early_stopping_round` in params. Will use it instead of argument\n",
            "  warnings.warn(\"Found `{}` in params. Will use it instead of argument\".format(alias))\n",
            "/usr/local/lib/python3.6/dist-packages/lightgbm/basic.py:762: UserWarning: categorical_feature in param dict is overridden.\n",
            "  warnings.warn('categorical_feature in param dict is overridden.')\n"
          ],
          "name": "stderr"
        },
        {
          "output_type": "stream",
          "text": [
            "Training until validation scores don't improve for 500 rounds.\n",
            "[100]\ttraining's rmse: 2.43547\tvalid_1's rmse: 1.92021\n",
            "Did not meet early stopping. Best iteration is:\n",
            "[100]\ttraining's rmse: 2.43547\tvalid_1's rmse: 1.92021\n",
            "Our val mae score is 0.9936773084675785\n",
            "WI_1\n",
            "{'bagging_fraction': 0.5, 'bagging_freq': 5, 'boosting_type': 'gbdt', 'colsample_bytree': 0.75, 'early_stopping_round': 500, 'learning_rate': 0.05, 'metric': 'rmse', 'n_jobs': -1, 'num_iterations': 100, 'objective': 'poisson', 'seed': 0}\n",
            "(4283308, 44)\n"
          ],
          "name": "stdout"
        },
        {
          "output_type": "stream",
          "text": [
            "/usr/local/lib/python3.6/dist-packages/lightgbm/engine.py:118: UserWarning: Found `num_iterations` in params. Will use it instead of argument\n",
            "  warnings.warn(\"Found `{}` in params. Will use it instead of argument\".format(alias))\n",
            "/usr/local/lib/python3.6/dist-packages/lightgbm/engine.py:123: UserWarning: Found `early_stopping_round` in params. Will use it instead of argument\n",
            "  warnings.warn(\"Found `{}` in params. Will use it instead of argument\".format(alias))\n",
            "/usr/local/lib/python3.6/dist-packages/lightgbm/basic.py:762: UserWarning: categorical_feature in param dict is overridden.\n",
            "  warnings.warn('categorical_feature in param dict is overridden.')\n"
          ],
          "name": "stderr"
        },
        {
          "output_type": "stream",
          "text": [
            "Training until validation scores don't improve for 500 rounds.\n",
            "[100]\ttraining's rmse: 1.84513\tvalid_1's rmse: 1.73648\n",
            "Did not meet early stopping. Best iteration is:\n",
            "[100]\ttraining's rmse: 1.84513\tvalid_1's rmse: 1.73648\n",
            "Our val mae score is 0.9918956031048554\n",
            "WI_2\n",
            "{'bagging_fraction': 0.5, 'bagging_freq': 5, 'boosting_type': 'gbdt', 'colsample_bytree': 0.75, 'early_stopping_round': 500, 'learning_rate': 0.05, 'metric': 'rmse', 'n_jobs': -1, 'num_iterations': 100, 'objective': 'poisson', 'seed': 0}\n",
            "(4368755, 44)\n"
          ],
          "name": "stdout"
        },
        {
          "output_type": "stream",
          "text": [
            "/usr/local/lib/python3.6/dist-packages/lightgbm/engine.py:118: UserWarning: Found `num_iterations` in params. Will use it instead of argument\n",
            "  warnings.warn(\"Found `{}` in params. Will use it instead of argument\".format(alias))\n",
            "/usr/local/lib/python3.6/dist-packages/lightgbm/engine.py:123: UserWarning: Found `early_stopping_round` in params. Will use it instead of argument\n",
            "  warnings.warn(\"Found `{}` in params. Will use it instead of argument\".format(alias))\n",
            "/usr/local/lib/python3.6/dist-packages/lightgbm/basic.py:762: UserWarning: categorical_feature in param dict is overridden.\n",
            "  warnings.warn('categorical_feature in param dict is overridden.')\n"
          ],
          "name": "stderr"
        },
        {
          "output_type": "stream",
          "text": [
            "Training until validation scores don't improve for 500 rounds.\n",
            "[100]\ttraining's rmse: 2.97744\tvalid_1's rmse: 3.12904\n",
            "Did not meet early stopping. Best iteration is:\n",
            "[100]\ttraining's rmse: 2.97744\tvalid_1's rmse: 3.12904\n",
            "Our val mae score is 1.2787063904294613\n",
            "WI_3\n",
            "{'bagging_fraction': 0.5, 'bagging_freq': 5, 'boosting_type': 'gbdt', 'colsample_bytree': 0.75, 'early_stopping_round': 500, 'learning_rate': 0.05, 'metric': 'rmse', 'n_jobs': -1, 'num_iterations': 100, 'objective': 'poisson', 'seed': 0}\n",
            "(4494582, 44)\n"
          ],
          "name": "stdout"
        },
        {
          "output_type": "stream",
          "text": [
            "/usr/local/lib/python3.6/dist-packages/lightgbm/engine.py:118: UserWarning: Found `num_iterations` in params. Will use it instead of argument\n",
            "  warnings.warn(\"Found `{}` in params. Will use it instead of argument\".format(alias))\n",
            "/usr/local/lib/python3.6/dist-packages/lightgbm/engine.py:123: UserWarning: Found `early_stopping_round` in params. Will use it instead of argument\n",
            "  warnings.warn(\"Found `{}` in params. Will use it instead of argument\".format(alias))\n",
            "/usr/local/lib/python3.6/dist-packages/lightgbm/basic.py:762: UserWarning: categorical_feature in param dict is overridden.\n",
            "  warnings.warn('categorical_feature in param dict is overridden.')\n"
          ],
          "name": "stderr"
        },
        {
          "output_type": "stream",
          "text": [
            "Training until validation scores don't improve for 500 rounds.\n",
            "[100]\ttraining's rmse: 2.68233\tvalid_1's rmse: 2.16846\n",
            "Did not meet early stopping. Best iteration is:\n",
            "[100]\ttraining's rmse: 2.68233\tvalid_1's rmse: 2.16846\n",
            "Our val mae score is 1.0090111973847204\n",
            "CA_1\n",
            "{'bagging_fraction': 0.5, 'bagging_freq': 5, 'boosting_type': 'gbdt', 'colsample_bytree': 0.75, 'early_stopping_round': 500, 'learning_rate': 0.05, 'metric': 'rmse', 'n_jobs': -1, 'num_iterations': 100, 'objective': 'tweedie', 'seed': 0}\n",
            "(4510808, 44)\n"
          ],
          "name": "stdout"
        },
        {
          "output_type": "stream",
          "text": [
            "/usr/local/lib/python3.6/dist-packages/lightgbm/engine.py:118: UserWarning: Found `num_iterations` in params. Will use it instead of argument\n",
            "  warnings.warn(\"Found `{}` in params. Will use it instead of argument\".format(alias))\n",
            "/usr/local/lib/python3.6/dist-packages/lightgbm/engine.py:123: UserWarning: Found `early_stopping_round` in params. Will use it instead of argument\n",
            "  warnings.warn(\"Found `{}` in params. Will use it instead of argument\".format(alias))\n",
            "/usr/local/lib/python3.6/dist-packages/lightgbm/basic.py:762: UserWarning: categorical_feature in param dict is overridden.\n",
            "  warnings.warn('categorical_feature in param dict is overridden.')\n"
          ],
          "name": "stderr"
        },
        {
          "output_type": "stream",
          "text": [
            "Training until validation scores don't improve for 500 rounds.\n",
            "[100]\ttraining's rmse: 2.80693\tvalid_1's rmse: 2.21786\n",
            "Did not meet early stopping. Best iteration is:\n",
            "[100]\ttraining's rmse: 2.80693\tvalid_1's rmse: 2.21786\n",
            "Our val mae score is 1.1313689129228384\n",
            "CA_2\n",
            "{'bagging_fraction': 0.5, 'bagging_freq': 5, 'boosting_type': 'gbdt', 'colsample_bytree': 0.75, 'early_stopping_round': 500, 'learning_rate': 0.05, 'metric': 'rmse', 'n_jobs': -1, 'num_iterations': 100, 'objective': 'tweedie', 'seed': 0}\n",
            "(4082924, 44)\n"
          ],
          "name": "stdout"
        },
        {
          "output_type": "stream",
          "text": [
            "/usr/local/lib/python3.6/dist-packages/lightgbm/engine.py:118: UserWarning: Found `num_iterations` in params. Will use it instead of argument\n",
            "  warnings.warn(\"Found `{}` in params. Will use it instead of argument\".format(alias))\n",
            "/usr/local/lib/python3.6/dist-packages/lightgbm/engine.py:123: UserWarning: Found `early_stopping_round` in params. Will use it instead of argument\n",
            "  warnings.warn(\"Found `{}` in params. Will use it instead of argument\".format(alias))\n",
            "/usr/local/lib/python3.6/dist-packages/lightgbm/basic.py:762: UserWarning: categorical_feature in param dict is overridden.\n",
            "  warnings.warn('categorical_feature in param dict is overridden.')\n"
          ],
          "name": "stderr"
        },
        {
          "output_type": "stream",
          "text": [
            "Training until validation scores don't improve for 500 rounds.\n",
            "[100]\ttraining's rmse: 2.21082\tvalid_1's rmse: 2.12666\n",
            "Did not meet early stopping. Best iteration is:\n",
            "[100]\ttraining's rmse: 2.21082\tvalid_1's rmse: 2.12666\n",
            "Our val mae score is 1.134182597877211\n",
            "CA_3\n",
            "{'bagging_fraction': 0.5, 'bagging_freq': 5, 'boosting_type': 'gbdt', 'colsample_bytree': 0.75, 'early_stopping_round': 500, 'learning_rate': 0.05, 'metric': 'rmse', 'n_jobs': -1, 'num_iterations': 100, 'objective': 'tweedie', 'seed': 0}\n",
            "(4479854, 44)\n"
          ],
          "name": "stdout"
        },
        {
          "output_type": "stream",
          "text": [
            "/usr/local/lib/python3.6/dist-packages/lightgbm/engine.py:118: UserWarning: Found `num_iterations` in params. Will use it instead of argument\n",
            "  warnings.warn(\"Found `{}` in params. Will use it instead of argument\".format(alias))\n",
            "/usr/local/lib/python3.6/dist-packages/lightgbm/engine.py:123: UserWarning: Found `early_stopping_round` in params. Will use it instead of argument\n",
            "  warnings.warn(\"Found `{}` in params. Will use it instead of argument\".format(alias))\n",
            "/usr/local/lib/python3.6/dist-packages/lightgbm/basic.py:762: UserWarning: categorical_feature in param dict is overridden.\n",
            "  warnings.warn('categorical_feature in param dict is overridden.')\n"
          ],
          "name": "stderr"
        },
        {
          "output_type": "stream",
          "text": [
            "Training until validation scores don't improve for 500 rounds.\n",
            "[100]\ttraining's rmse: 3.9991\tvalid_1's rmse: 2.84676\n",
            "Did not meet early stopping. Best iteration is:\n",
            "[100]\ttraining's rmse: 3.9991\tvalid_1's rmse: 2.84676\n",
            "Our val mae score is 1.4233358941986691\n",
            "CA_4\n",
            "{'bagging_fraction': 0.5, 'bagging_freq': 5, 'boosting_type': 'gbdt', 'colsample_bytree': 0.75, 'early_stopping_round': 500, 'learning_rate': 0.05, 'metric': 'rmse', 'n_jobs': -1, 'num_iterations': 100, 'objective': 'tweedie', 'seed': 0}\n",
            "(4375090, 44)\n"
          ],
          "name": "stdout"
        },
        {
          "output_type": "stream",
          "text": [
            "/usr/local/lib/python3.6/dist-packages/lightgbm/engine.py:118: UserWarning: Found `num_iterations` in params. Will use it instead of argument\n",
            "  warnings.warn(\"Found `{}` in params. Will use it instead of argument\".format(alias))\n",
            "/usr/local/lib/python3.6/dist-packages/lightgbm/engine.py:123: UserWarning: Found `early_stopping_round` in params. Will use it instead of argument\n",
            "  warnings.warn(\"Found `{}` in params. Will use it instead of argument\".format(alias))\n",
            "/usr/local/lib/python3.6/dist-packages/lightgbm/basic.py:762: UserWarning: categorical_feature in param dict is overridden.\n",
            "  warnings.warn('categorical_feature in param dict is overridden.')\n"
          ],
          "name": "stderr"
        },
        {
          "output_type": "stream",
          "text": [
            "Training until validation scores don't improve for 500 rounds.\n",
            "[100]\ttraining's rmse: 1.60791\tvalid_1's rmse: 1.41701\n",
            "Did not meet early stopping. Best iteration is:\n",
            "[100]\ttraining's rmse: 1.60791\tvalid_1's rmse: 1.41701\n",
            "Our val mae score is 0.7901010844982425\n",
            "TX_1\n",
            "{'bagging_fraction': 0.5, 'bagging_freq': 5, 'boosting_type': 'gbdt', 'colsample_bytree': 0.75, 'early_stopping_round': 500, 'learning_rate': 0.05, 'metric': 'rmse', 'n_jobs': -1, 'num_iterations': 100, 'objective': 'tweedie', 'seed': 0}\n",
            "(4519857, 44)\n"
          ],
          "name": "stdout"
        },
        {
          "output_type": "stream",
          "text": [
            "/usr/local/lib/python3.6/dist-packages/lightgbm/engine.py:118: UserWarning: Found `num_iterations` in params. Will use it instead of argument\n",
            "  warnings.warn(\"Found `{}` in params. Will use it instead of argument\".format(alias))\n",
            "/usr/local/lib/python3.6/dist-packages/lightgbm/engine.py:123: UserWarning: Found `early_stopping_round` in params. Will use it instead of argument\n",
            "  warnings.warn(\"Found `{}` in params. Will use it instead of argument\".format(alias))\n",
            "/usr/local/lib/python3.6/dist-packages/lightgbm/basic.py:762: UserWarning: categorical_feature in param dict is overridden.\n",
            "  warnings.warn('categorical_feature in param dict is overridden.')\n"
          ],
          "name": "stderr"
        },
        {
          "output_type": "stream",
          "text": [
            "Training until validation scores don't improve for 500 rounds.\n",
            "[100]\ttraining's rmse: 2.32861\tvalid_1's rmse: 1.88004\n",
            "Did not meet early stopping. Best iteration is:\n",
            "[100]\ttraining's rmse: 2.32861\tvalid_1's rmse: 1.88004\n",
            "Our val mae score is 0.8891875608461606\n",
            "TX_2\n",
            "{'bagging_fraction': 0.5, 'bagging_freq': 5, 'boosting_type': 'gbdt', 'colsample_bytree': 0.75, 'early_stopping_round': 500, 'learning_rate': 0.05, 'metric': 'rmse', 'n_jobs': -1, 'num_iterations': 100, 'objective': 'tweedie', 'seed': 0}\n",
            "(4530422, 44)\n"
          ],
          "name": "stdout"
        },
        {
          "output_type": "stream",
          "text": [
            "/usr/local/lib/python3.6/dist-packages/lightgbm/engine.py:118: UserWarning: Found `num_iterations` in params. Will use it instead of argument\n",
            "  warnings.warn(\"Found `{}` in params. Will use it instead of argument\".format(alias))\n",
            "/usr/local/lib/python3.6/dist-packages/lightgbm/engine.py:123: UserWarning: Found `early_stopping_round` in params. Will use it instead of argument\n",
            "  warnings.warn(\"Found `{}` in params. Will use it instead of argument\".format(alias))\n",
            "/usr/local/lib/python3.6/dist-packages/lightgbm/basic.py:762: UserWarning: categorical_feature in param dict is overridden.\n",
            "  warnings.warn('categorical_feature in param dict is overridden.')\n"
          ],
          "name": "stderr"
        },
        {
          "output_type": "stream",
          "text": [
            "Training until validation scores don't improve for 500 rounds.\n",
            "[100]\ttraining's rmse: 2.80979\tvalid_1's rmse: 1.91978\n",
            "Did not meet early stopping. Best iteration is:\n",
            "[100]\ttraining's rmse: 2.80979\tvalid_1's rmse: 1.91978\n",
            "Our val mae score is 0.9951586402978708\n",
            "TX_3\n",
            "{'bagging_fraction': 0.5, 'bagging_freq': 5, 'boosting_type': 'gbdt', 'colsample_bytree': 0.75, 'early_stopping_round': 500, 'learning_rate': 0.05, 'metric': 'rmse', 'n_jobs': -1, 'num_iterations': 100, 'objective': 'tweedie', 'seed': 0}\n",
            "(4459708, 44)\n"
          ],
          "name": "stdout"
        },
        {
          "output_type": "stream",
          "text": [
            "/usr/local/lib/python3.6/dist-packages/lightgbm/engine.py:118: UserWarning: Found `num_iterations` in params. Will use it instead of argument\n",
            "  warnings.warn(\"Found `{}` in params. Will use it instead of argument\".format(alias))\n",
            "/usr/local/lib/python3.6/dist-packages/lightgbm/engine.py:123: UserWarning: Found `early_stopping_round` in params. Will use it instead of argument\n",
            "  warnings.warn(\"Found `{}` in params. Will use it instead of argument\".format(alias))\n",
            "/usr/local/lib/python3.6/dist-packages/lightgbm/basic.py:762: UserWarning: categorical_feature in param dict is overridden.\n",
            "  warnings.warn('categorical_feature in param dict is overridden.')\n"
          ],
          "name": "stderr"
        },
        {
          "output_type": "stream",
          "text": [
            "Training until validation scores don't improve for 500 rounds.\n",
            "[100]\ttraining's rmse: 2.44349\tvalid_1's rmse: 1.90136\n",
            "Did not meet early stopping. Best iteration is:\n",
            "[100]\ttraining's rmse: 2.44349\tvalid_1's rmse: 1.90136\n",
            "Our val mae score is 0.9744278056821125\n",
            "WI_1\n",
            "{'bagging_fraction': 0.5, 'bagging_freq': 5, 'boosting_type': 'gbdt', 'colsample_bytree': 0.75, 'early_stopping_round': 500, 'learning_rate': 0.05, 'metric': 'rmse', 'n_jobs': -1, 'num_iterations': 100, 'objective': 'tweedie', 'seed': 0}\n",
            "(4283308, 44)\n"
          ],
          "name": "stdout"
        },
        {
          "output_type": "stream",
          "text": [
            "/usr/local/lib/python3.6/dist-packages/lightgbm/engine.py:118: UserWarning: Found `num_iterations` in params. Will use it instead of argument\n",
            "  warnings.warn(\"Found `{}` in params. Will use it instead of argument\".format(alias))\n",
            "/usr/local/lib/python3.6/dist-packages/lightgbm/engine.py:123: UserWarning: Found `early_stopping_round` in params. Will use it instead of argument\n",
            "  warnings.warn(\"Found `{}` in params. Will use it instead of argument\".format(alias))\n",
            "/usr/local/lib/python3.6/dist-packages/lightgbm/basic.py:762: UserWarning: categorical_feature in param dict is overridden.\n",
            "  warnings.warn('categorical_feature in param dict is overridden.')\n"
          ],
          "name": "stderr"
        },
        {
          "output_type": "stream",
          "text": [
            "Training until validation scores don't improve for 500 rounds.\n",
            "[100]\ttraining's rmse: 1.84894\tvalid_1's rmse: 1.72668\n",
            "Did not meet early stopping. Best iteration is:\n",
            "[100]\ttraining's rmse: 1.84894\tvalid_1's rmse: 1.72668\n",
            "Our val mae score is 0.9748292979504722\n",
            "WI_2\n",
            "{'bagging_fraction': 0.5, 'bagging_freq': 5, 'boosting_type': 'gbdt', 'colsample_bytree': 0.75, 'early_stopping_round': 500, 'learning_rate': 0.05, 'metric': 'rmse', 'n_jobs': -1, 'num_iterations': 100, 'objective': 'tweedie', 'seed': 0}\n",
            "(4368755, 44)\n"
          ],
          "name": "stdout"
        },
        {
          "output_type": "stream",
          "text": [
            "/usr/local/lib/python3.6/dist-packages/lightgbm/engine.py:118: UserWarning: Found `num_iterations` in params. Will use it instead of argument\n",
            "  warnings.warn(\"Found `{}` in params. Will use it instead of argument\".format(alias))\n",
            "/usr/local/lib/python3.6/dist-packages/lightgbm/engine.py:123: UserWarning: Found `early_stopping_round` in params. Will use it instead of argument\n",
            "  warnings.warn(\"Found `{}` in params. Will use it instead of argument\".format(alias))\n",
            "/usr/local/lib/python3.6/dist-packages/lightgbm/basic.py:762: UserWarning: categorical_feature in param dict is overridden.\n",
            "  warnings.warn('categorical_feature in param dict is overridden.')\n"
          ],
          "name": "stderr"
        },
        {
          "output_type": "stream",
          "text": [
            "Training until validation scores don't improve for 500 rounds.\n",
            "[100]\ttraining's rmse: 2.99006\tvalid_1's rmse: 3.14057\n",
            "Did not meet early stopping. Best iteration is:\n",
            "[100]\ttraining's rmse: 2.99006\tvalid_1's rmse: 3.14057\n",
            "Our val mae score is 1.2603225100802085\n",
            "WI_3\n",
            "{'bagging_fraction': 0.5, 'bagging_freq': 5, 'boosting_type': 'gbdt', 'colsample_bytree': 0.75, 'early_stopping_round': 500, 'learning_rate': 0.05, 'metric': 'rmse', 'n_jobs': -1, 'num_iterations': 100, 'objective': 'tweedie', 'seed': 0}\n",
            "(4494582, 44)\n"
          ],
          "name": "stdout"
        },
        {
          "output_type": "stream",
          "text": [
            "/usr/local/lib/python3.6/dist-packages/lightgbm/engine.py:118: UserWarning: Found `num_iterations` in params. Will use it instead of argument\n",
            "  warnings.warn(\"Found `{}` in params. Will use it instead of argument\".format(alias))\n",
            "/usr/local/lib/python3.6/dist-packages/lightgbm/engine.py:123: UserWarning: Found `early_stopping_round` in params. Will use it instead of argument\n",
            "  warnings.warn(\"Found `{}` in params. Will use it instead of argument\".format(alias))\n",
            "/usr/local/lib/python3.6/dist-packages/lightgbm/basic.py:762: UserWarning: categorical_feature in param dict is overridden.\n",
            "  warnings.warn('categorical_feature in param dict is overridden.')\n"
          ],
          "name": "stderr"
        },
        {
          "output_type": "stream",
          "text": [
            "Training until validation scores don't improve for 500 rounds.\n",
            "[100]\ttraining's rmse: 2.70442\tvalid_1's rmse: 2.14844\n",
            "Did not meet early stopping. Best iteration is:\n",
            "[100]\ttraining's rmse: 2.70442\tvalid_1's rmse: 2.14844\n",
            "Our val mae score is 0.9787660869409953\n",
            "CA_1\n",
            "{'bagging_fraction': 0.5, 'bagging_freq': 5, 'boosting_type': 'gbdt', 'colsample_bytree': 0.75, 'early_stopping_round': 500, 'learning_rate': 0.075, 'metric': 'rmse', 'n_jobs': -1, 'num_iterations': 100, 'objective': 'poisson', 'seed': 0}\n",
            "(4510808, 44)\n"
          ],
          "name": "stdout"
        },
        {
          "output_type": "stream",
          "text": [
            "/usr/local/lib/python3.6/dist-packages/lightgbm/engine.py:118: UserWarning: Found `num_iterations` in params. Will use it instead of argument\n",
            "  warnings.warn(\"Found `{}` in params. Will use it instead of argument\".format(alias))\n",
            "/usr/local/lib/python3.6/dist-packages/lightgbm/engine.py:123: UserWarning: Found `early_stopping_round` in params. Will use it instead of argument\n",
            "  warnings.warn(\"Found `{}` in params. Will use it instead of argument\".format(alias))\n",
            "/usr/local/lib/python3.6/dist-packages/lightgbm/basic.py:762: UserWarning: categorical_feature in param dict is overridden.\n",
            "  warnings.warn('categorical_feature in param dict is overridden.')\n"
          ],
          "name": "stderr"
        },
        {
          "output_type": "stream",
          "text": [
            "Training until validation scores don't improve for 500 rounds.\n",
            "[100]\ttraining's rmse: 2.82144\tvalid_1's rmse: 2.24781\n",
            "Did not meet early stopping. Best iteration is:\n",
            "[100]\ttraining's rmse: 2.82144\tvalid_1's rmse: 2.24781\n",
            "Our val mae score is 1.1412506318291222\n",
            "CA_2\n",
            "{'bagging_fraction': 0.5, 'bagging_freq': 5, 'boosting_type': 'gbdt', 'colsample_bytree': 0.75, 'early_stopping_round': 500, 'learning_rate': 0.075, 'metric': 'rmse', 'n_jobs': -1, 'num_iterations': 100, 'objective': 'poisson', 'seed': 0}\n",
            "(4082924, 44)\n"
          ],
          "name": "stdout"
        },
        {
          "output_type": "stream",
          "text": [
            "/usr/local/lib/python3.6/dist-packages/lightgbm/engine.py:118: UserWarning: Found `num_iterations` in params. Will use it instead of argument\n",
            "  warnings.warn(\"Found `{}` in params. Will use it instead of argument\".format(alias))\n",
            "/usr/local/lib/python3.6/dist-packages/lightgbm/engine.py:123: UserWarning: Found `early_stopping_round` in params. Will use it instead of argument\n",
            "  warnings.warn(\"Found `{}` in params. Will use it instead of argument\".format(alias))\n",
            "/usr/local/lib/python3.6/dist-packages/lightgbm/basic.py:762: UserWarning: categorical_feature in param dict is overridden.\n",
            "  warnings.warn('categorical_feature in param dict is overridden.')\n"
          ],
          "name": "stderr"
        },
        {
          "output_type": "stream",
          "text": [
            "Training until validation scores don't improve for 500 rounds.\n",
            "[100]\ttraining's rmse: 2.19288\tvalid_1's rmse: 2.12477\n",
            "Did not meet early stopping. Best iteration is:\n",
            "[100]\ttraining's rmse: 2.19288\tvalid_1's rmse: 2.12477\n",
            "Our val mae score is 1.1358670286466848\n",
            "CA_3\n",
            "{'bagging_fraction': 0.5, 'bagging_freq': 5, 'boosting_type': 'gbdt', 'colsample_bytree': 0.75, 'early_stopping_round': 500, 'learning_rate': 0.075, 'metric': 'rmse', 'n_jobs': -1, 'num_iterations': 100, 'objective': 'poisson', 'seed': 0}\n",
            "(4479854, 44)\n"
          ],
          "name": "stdout"
        },
        {
          "output_type": "stream",
          "text": [
            "/usr/local/lib/python3.6/dist-packages/lightgbm/engine.py:118: UserWarning: Found `num_iterations` in params. Will use it instead of argument\n",
            "  warnings.warn(\"Found `{}` in params. Will use it instead of argument\".format(alias))\n",
            "/usr/local/lib/python3.6/dist-packages/lightgbm/engine.py:123: UserWarning: Found `early_stopping_round` in params. Will use it instead of argument\n",
            "  warnings.warn(\"Found `{}` in params. Will use it instead of argument\".format(alias))\n",
            "/usr/local/lib/python3.6/dist-packages/lightgbm/basic.py:762: UserWarning: categorical_feature in param dict is overridden.\n",
            "  warnings.warn('categorical_feature in param dict is overridden.')\n"
          ],
          "name": "stderr"
        },
        {
          "output_type": "stream",
          "text": [
            "Training until validation scores don't improve for 500 rounds.\n",
            "[100]\ttraining's rmse: 3.9819\tvalid_1's rmse: 2.85622\n",
            "Did not meet early stopping. Best iteration is:\n",
            "[100]\ttraining's rmse: 3.9819\tvalid_1's rmse: 2.85622\n",
            "Our val mae score is 1.4316367804630843\n",
            "CA_4\n",
            "{'bagging_fraction': 0.5, 'bagging_freq': 5, 'boosting_type': 'gbdt', 'colsample_bytree': 0.75, 'early_stopping_round': 500, 'learning_rate': 0.075, 'metric': 'rmse', 'n_jobs': -1, 'num_iterations': 100, 'objective': 'poisson', 'seed': 0}\n",
            "(4375090, 44)\n"
          ],
          "name": "stdout"
        },
        {
          "output_type": "stream",
          "text": [
            "/usr/local/lib/python3.6/dist-packages/lightgbm/engine.py:118: UserWarning: Found `num_iterations` in params. Will use it instead of argument\n",
            "  warnings.warn(\"Found `{}` in params. Will use it instead of argument\".format(alias))\n",
            "/usr/local/lib/python3.6/dist-packages/lightgbm/engine.py:123: UserWarning: Found `early_stopping_round` in params. Will use it instead of argument\n",
            "  warnings.warn(\"Found `{}` in params. Will use it instead of argument\".format(alias))\n",
            "/usr/local/lib/python3.6/dist-packages/lightgbm/basic.py:762: UserWarning: categorical_feature in param dict is overridden.\n",
            "  warnings.warn('categorical_feature in param dict is overridden.')\n"
          ],
          "name": "stderr"
        },
        {
          "output_type": "stream",
          "text": [
            "Training until validation scores don't improve for 500 rounds.\n",
            "[100]\ttraining's rmse: 1.59696\tvalid_1's rmse: 1.4241\n",
            "Did not meet early stopping. Best iteration is:\n",
            "[100]\ttraining's rmse: 1.59696\tvalid_1's rmse: 1.4241\n",
            "Our val mae score is 0.7929817616154995\n",
            "TX_1\n",
            "{'bagging_fraction': 0.5, 'bagging_freq': 5, 'boosting_type': 'gbdt', 'colsample_bytree': 0.75, 'early_stopping_round': 500, 'learning_rate': 0.075, 'metric': 'rmse', 'n_jobs': -1, 'num_iterations': 100, 'objective': 'poisson', 'seed': 0}\n",
            "(4519857, 44)\n"
          ],
          "name": "stdout"
        },
        {
          "output_type": "stream",
          "text": [
            "/usr/local/lib/python3.6/dist-packages/lightgbm/engine.py:118: UserWarning: Found `num_iterations` in params. Will use it instead of argument\n",
            "  warnings.warn(\"Found `{}` in params. Will use it instead of argument\".format(alias))\n",
            "/usr/local/lib/python3.6/dist-packages/lightgbm/engine.py:123: UserWarning: Found `early_stopping_round` in params. Will use it instead of argument\n",
            "  warnings.warn(\"Found `{}` in params. Will use it instead of argument\".format(alias))\n",
            "/usr/local/lib/python3.6/dist-packages/lightgbm/basic.py:762: UserWarning: categorical_feature in param dict is overridden.\n",
            "  warnings.warn('categorical_feature in param dict is overridden.')\n"
          ],
          "name": "stderr"
        },
        {
          "output_type": "stream",
          "text": [
            "Training until validation scores don't improve for 500 rounds.\n",
            "[100]\ttraining's rmse: 2.33892\tvalid_1's rmse: 1.91056\n",
            "Did not meet early stopping. Best iteration is:\n",
            "[100]\ttraining's rmse: 2.33892\tvalid_1's rmse: 1.91056\n",
            "Our val mae score is 0.9003880866458965\n",
            "TX_2\n",
            "{'bagging_fraction': 0.5, 'bagging_freq': 5, 'boosting_type': 'gbdt', 'colsample_bytree': 0.75, 'early_stopping_round': 500, 'learning_rate': 0.075, 'metric': 'rmse', 'n_jobs': -1, 'num_iterations': 100, 'objective': 'poisson', 'seed': 0}\n",
            "(4530422, 44)\n"
          ],
          "name": "stdout"
        },
        {
          "output_type": "stream",
          "text": [
            "/usr/local/lib/python3.6/dist-packages/lightgbm/engine.py:118: UserWarning: Found `num_iterations` in params. Will use it instead of argument\n",
            "  warnings.warn(\"Found `{}` in params. Will use it instead of argument\".format(alias))\n",
            "/usr/local/lib/python3.6/dist-packages/lightgbm/engine.py:123: UserWarning: Found `early_stopping_round` in params. Will use it instead of argument\n",
            "  warnings.warn(\"Found `{}` in params. Will use it instead of argument\".format(alias))\n",
            "/usr/local/lib/python3.6/dist-packages/lightgbm/basic.py:762: UserWarning: categorical_feature in param dict is overridden.\n",
            "  warnings.warn('categorical_feature in param dict is overridden.')\n"
          ],
          "name": "stderr"
        },
        {
          "output_type": "stream",
          "text": [
            "Training until validation scores don't improve for 500 rounds.\n",
            "[100]\ttraining's rmse: 2.81323\tvalid_1's rmse: 1.99602\n",
            "Did not meet early stopping. Best iteration is:\n",
            "[100]\ttraining's rmse: 2.81323\tvalid_1's rmse: 1.99602\n",
            "Our val mae score is 1.007340828007022\n",
            "TX_3\n",
            "{'bagging_fraction': 0.5, 'bagging_freq': 5, 'boosting_type': 'gbdt', 'colsample_bytree': 0.75, 'early_stopping_round': 500, 'learning_rate': 0.075, 'metric': 'rmse', 'n_jobs': -1, 'num_iterations': 100, 'objective': 'poisson', 'seed': 0}\n",
            "(4459708, 44)\n"
          ],
          "name": "stdout"
        },
        {
          "output_type": "stream",
          "text": [
            "/usr/local/lib/python3.6/dist-packages/lightgbm/engine.py:118: UserWarning: Found `num_iterations` in params. Will use it instead of argument\n",
            "  warnings.warn(\"Found `{}` in params. Will use it instead of argument\".format(alias))\n",
            "/usr/local/lib/python3.6/dist-packages/lightgbm/engine.py:123: UserWarning: Found `early_stopping_round` in params. Will use it instead of argument\n",
            "  warnings.warn(\"Found `{}` in params. Will use it instead of argument\".format(alias))\n",
            "/usr/local/lib/python3.6/dist-packages/lightgbm/basic.py:762: UserWarning: categorical_feature in param dict is overridden.\n",
            "  warnings.warn('categorical_feature in param dict is overridden.')\n"
          ],
          "name": "stderr"
        },
        {
          "output_type": "stream",
          "text": [
            "Training until validation scores don't improve for 500 rounds.\n",
            "[100]\ttraining's rmse: 2.42409\tvalid_1's rmse: 1.95684\n",
            "Did not meet early stopping. Best iteration is:\n",
            "[100]\ttraining's rmse: 2.42409\tvalid_1's rmse: 1.95684\n",
            "Our val mae score is 0.9807017091877114\n",
            "WI_1\n",
            "{'bagging_fraction': 0.5, 'bagging_freq': 5, 'boosting_type': 'gbdt', 'colsample_bytree': 0.75, 'early_stopping_round': 500, 'learning_rate': 0.075, 'metric': 'rmse', 'n_jobs': -1, 'num_iterations': 100, 'objective': 'poisson', 'seed': 0}\n",
            "(4283308, 44)\n"
          ],
          "name": "stdout"
        },
        {
          "output_type": "stream",
          "text": [
            "/usr/local/lib/python3.6/dist-packages/lightgbm/engine.py:118: UserWarning: Found `num_iterations` in params. Will use it instead of argument\n",
            "  warnings.warn(\"Found `{}` in params. Will use it instead of argument\".format(alias))\n",
            "/usr/local/lib/python3.6/dist-packages/lightgbm/engine.py:123: UserWarning: Found `early_stopping_round` in params. Will use it instead of argument\n",
            "  warnings.warn(\"Found `{}` in params. Will use it instead of argument\".format(alias))\n",
            "/usr/local/lib/python3.6/dist-packages/lightgbm/basic.py:762: UserWarning: categorical_feature in param dict is overridden.\n",
            "  warnings.warn('categorical_feature in param dict is overridden.')\n"
          ],
          "name": "stderr"
        },
        {
          "output_type": "stream",
          "text": [
            "Training until validation scores don't improve for 500 rounds.\n",
            "[100]\ttraining's rmse: 1.8303\tvalid_1's rmse: 1.73551\n",
            "Did not meet early stopping. Best iteration is:\n",
            "[100]\ttraining's rmse: 1.8303\tvalid_1's rmse: 1.73551\n",
            "Our val mae score is 0.9822465179922932\n",
            "WI_2\n",
            "{'bagging_fraction': 0.5, 'bagging_freq': 5, 'boosting_type': 'gbdt', 'colsample_bytree': 0.75, 'early_stopping_round': 500, 'learning_rate': 0.075, 'metric': 'rmse', 'n_jobs': -1, 'num_iterations': 100, 'objective': 'poisson', 'seed': 0}\n",
            "(4368755, 44)\n"
          ],
          "name": "stdout"
        },
        {
          "output_type": "stream",
          "text": [
            "/usr/local/lib/python3.6/dist-packages/lightgbm/engine.py:118: UserWarning: Found `num_iterations` in params. Will use it instead of argument\n",
            "  warnings.warn(\"Found `{}` in params. Will use it instead of argument\".format(alias))\n",
            "/usr/local/lib/python3.6/dist-packages/lightgbm/engine.py:123: UserWarning: Found `early_stopping_round` in params. Will use it instead of argument\n",
            "  warnings.warn(\"Found `{}` in params. Will use it instead of argument\".format(alias))\n",
            "/usr/local/lib/python3.6/dist-packages/lightgbm/basic.py:762: UserWarning: categorical_feature in param dict is overridden.\n",
            "  warnings.warn('categorical_feature in param dict is overridden.')\n"
          ],
          "name": "stderr"
        },
        {
          "output_type": "stream",
          "text": [
            "Training until validation scores don't improve for 500 rounds.\n",
            "[100]\ttraining's rmse: 2.94805\tvalid_1's rmse: 3.06249\n",
            "Did not meet early stopping. Best iteration is:\n",
            "[100]\ttraining's rmse: 2.94805\tvalid_1's rmse: 3.06249\n",
            "Our val mae score is 1.2522633334977786\n",
            "WI_3\n",
            "{'bagging_fraction': 0.5, 'bagging_freq': 5, 'boosting_type': 'gbdt', 'colsample_bytree': 0.75, 'early_stopping_round': 500, 'learning_rate': 0.075, 'metric': 'rmse', 'n_jobs': -1, 'num_iterations': 100, 'objective': 'poisson', 'seed': 0}\n",
            "(4494582, 44)\n"
          ],
          "name": "stdout"
        },
        {
          "output_type": "stream",
          "text": [
            "/usr/local/lib/python3.6/dist-packages/lightgbm/engine.py:118: UserWarning: Found `num_iterations` in params. Will use it instead of argument\n",
            "  warnings.warn(\"Found `{}` in params. Will use it instead of argument\".format(alias))\n",
            "/usr/local/lib/python3.6/dist-packages/lightgbm/engine.py:123: UserWarning: Found `early_stopping_round` in params. Will use it instead of argument\n",
            "  warnings.warn(\"Found `{}` in params. Will use it instead of argument\".format(alias))\n",
            "/usr/local/lib/python3.6/dist-packages/lightgbm/basic.py:762: UserWarning: categorical_feature in param dict is overridden.\n",
            "  warnings.warn('categorical_feature in param dict is overridden.')\n"
          ],
          "name": "stderr"
        },
        {
          "output_type": "stream",
          "text": [
            "Training until validation scores don't improve for 500 rounds.\n",
            "[100]\ttraining's rmse: 2.67071\tvalid_1's rmse: 2.16124\n",
            "Did not meet early stopping. Best iteration is:\n",
            "[100]\ttraining's rmse: 2.67071\tvalid_1's rmse: 2.16124\n",
            "Our val mae score is 0.986773298660915\n",
            "CA_1\n",
            "{'bagging_fraction': 0.5, 'bagging_freq': 5, 'boosting_type': 'gbdt', 'colsample_bytree': 0.75, 'early_stopping_round': 500, 'learning_rate': 0.075, 'metric': 'rmse', 'n_jobs': -1, 'num_iterations': 100, 'objective': 'tweedie', 'seed': 0}\n",
            "(4510808, 44)\n"
          ],
          "name": "stdout"
        },
        {
          "output_type": "stream",
          "text": [
            "/usr/local/lib/python3.6/dist-packages/lightgbm/engine.py:118: UserWarning: Found `num_iterations` in params. Will use it instead of argument\n",
            "  warnings.warn(\"Found `{}` in params. Will use it instead of argument\".format(alias))\n",
            "/usr/local/lib/python3.6/dist-packages/lightgbm/engine.py:123: UserWarning: Found `early_stopping_round` in params. Will use it instead of argument\n",
            "  warnings.warn(\"Found `{}` in params. Will use it instead of argument\".format(alias))\n",
            "/usr/local/lib/python3.6/dist-packages/lightgbm/basic.py:762: UserWarning: categorical_feature in param dict is overridden.\n",
            "  warnings.warn('categorical_feature in param dict is overridden.')\n"
          ],
          "name": "stderr"
        },
        {
          "output_type": "stream",
          "text": [
            "Training until validation scores don't improve for 500 rounds.\n",
            "[100]\ttraining's rmse: 2.76112\tvalid_1's rmse: 2.19542\n",
            "Did not meet early stopping. Best iteration is:\n",
            "[100]\ttraining's rmse: 2.76112\tvalid_1's rmse: 2.19542\n",
            "Our val mae score is 1.1285436949933412\n",
            "CA_2\n",
            "{'bagging_fraction': 0.5, 'bagging_freq': 5, 'boosting_type': 'gbdt', 'colsample_bytree': 0.75, 'early_stopping_round': 500, 'learning_rate': 0.075, 'metric': 'rmse', 'n_jobs': -1, 'num_iterations': 100, 'objective': 'tweedie', 'seed': 0}\n",
            "(4082924, 44)\n"
          ],
          "name": "stdout"
        },
        {
          "output_type": "stream",
          "text": [
            "/usr/local/lib/python3.6/dist-packages/lightgbm/engine.py:118: UserWarning: Found `num_iterations` in params. Will use it instead of argument\n",
            "  warnings.warn(\"Found `{}` in params. Will use it instead of argument\".format(alias))\n",
            "/usr/local/lib/python3.6/dist-packages/lightgbm/engine.py:123: UserWarning: Found `early_stopping_round` in params. Will use it instead of argument\n",
            "  warnings.warn(\"Found `{}` in params. Will use it instead of argument\".format(alias))\n",
            "/usr/local/lib/python3.6/dist-packages/lightgbm/basic.py:762: UserWarning: categorical_feature in param dict is overridden.\n",
            "  warnings.warn('categorical_feature in param dict is overridden.')\n"
          ],
          "name": "stderr"
        },
        {
          "output_type": "stream",
          "text": [
            "Training until validation scores don't improve for 500 rounds.\n",
            "[100]\ttraining's rmse: 2.1883\tvalid_1's rmse: 2.10554\n",
            "Did not meet early stopping. Best iteration is:\n",
            "[100]\ttraining's rmse: 2.1883\tvalid_1's rmse: 2.10554\n",
            "Our val mae score is 1.1334909600587226\n",
            "CA_3\n",
            "{'bagging_fraction': 0.5, 'bagging_freq': 5, 'boosting_type': 'gbdt', 'colsample_bytree': 0.75, 'early_stopping_round': 500, 'learning_rate': 0.075, 'metric': 'rmse', 'n_jobs': -1, 'num_iterations': 100, 'objective': 'tweedie', 'seed': 0}\n",
            "(4479854, 44)\n"
          ],
          "name": "stdout"
        },
        {
          "output_type": "stream",
          "text": [
            "/usr/local/lib/python3.6/dist-packages/lightgbm/engine.py:118: UserWarning: Found `num_iterations` in params. Will use it instead of argument\n",
            "  warnings.warn(\"Found `{}` in params. Will use it instead of argument\".format(alias))\n",
            "/usr/local/lib/python3.6/dist-packages/lightgbm/engine.py:123: UserWarning: Found `early_stopping_round` in params. Will use it instead of argument\n",
            "  warnings.warn(\"Found `{}` in params. Will use it instead of argument\".format(alias))\n",
            "/usr/local/lib/python3.6/dist-packages/lightgbm/basic.py:762: UserWarning: categorical_feature in param dict is overridden.\n",
            "  warnings.warn('categorical_feature in param dict is overridden.')\n"
          ],
          "name": "stderr"
        },
        {
          "output_type": "stream",
          "text": [
            "Training until validation scores don't improve for 500 rounds.\n",
            "[100]\ttraining's rmse: 3.89856\tvalid_1's rmse: 2.82048\n",
            "Did not meet early stopping. Best iteration is:\n",
            "[100]\ttraining's rmse: 3.89856\tvalid_1's rmse: 2.82048\n",
            "Our val mae score is 1.4168491110496313\n",
            "CA_4\n",
            "{'bagging_fraction': 0.5, 'bagging_freq': 5, 'boosting_type': 'gbdt', 'colsample_bytree': 0.75, 'early_stopping_round': 500, 'learning_rate': 0.075, 'metric': 'rmse', 'n_jobs': -1, 'num_iterations': 100, 'objective': 'tweedie', 'seed': 0}\n",
            "(4375090, 44)\n"
          ],
          "name": "stdout"
        },
        {
          "output_type": "stream",
          "text": [
            "/usr/local/lib/python3.6/dist-packages/lightgbm/engine.py:118: UserWarning: Found `num_iterations` in params. Will use it instead of argument\n",
            "  warnings.warn(\"Found `{}` in params. Will use it instead of argument\".format(alias))\n",
            "/usr/local/lib/python3.6/dist-packages/lightgbm/engine.py:123: UserWarning: Found `early_stopping_round` in params. Will use it instead of argument\n",
            "  warnings.warn(\"Found `{}` in params. Will use it instead of argument\".format(alias))\n",
            "/usr/local/lib/python3.6/dist-packages/lightgbm/basic.py:762: UserWarning: categorical_feature in param dict is overridden.\n",
            "  warnings.warn('categorical_feature in param dict is overridden.')\n"
          ],
          "name": "stderr"
        },
        {
          "output_type": "stream",
          "text": [
            "Training until validation scores don't improve for 500 rounds.\n",
            "[100]\ttraining's rmse: 1.59335\tvalid_1's rmse: 1.41496\n",
            "Did not meet early stopping. Best iteration is:\n",
            "[100]\ttraining's rmse: 1.59335\tvalid_1's rmse: 1.41496\n",
            "Our val mae score is 0.7954090113548179\n",
            "TX_1\n",
            "{'bagging_fraction': 0.5, 'bagging_freq': 5, 'boosting_type': 'gbdt', 'colsample_bytree': 0.75, 'early_stopping_round': 500, 'learning_rate': 0.075, 'metric': 'rmse', 'n_jobs': -1, 'num_iterations': 100, 'objective': 'tweedie', 'seed': 0}\n",
            "(4519857, 44)\n"
          ],
          "name": "stdout"
        },
        {
          "output_type": "stream",
          "text": [
            "/usr/local/lib/python3.6/dist-packages/lightgbm/engine.py:118: UserWarning: Found `num_iterations` in params. Will use it instead of argument\n",
            "  warnings.warn(\"Found `{}` in params. Will use it instead of argument\".format(alias))\n",
            "/usr/local/lib/python3.6/dist-packages/lightgbm/engine.py:123: UserWarning: Found `early_stopping_round` in params. Will use it instead of argument\n",
            "  warnings.warn(\"Found `{}` in params. Will use it instead of argument\".format(alias))\n",
            "/usr/local/lib/python3.6/dist-packages/lightgbm/basic.py:762: UserWarning: categorical_feature in param dict is overridden.\n",
            "  warnings.warn('categorical_feature in param dict is overridden.')\n"
          ],
          "name": "stderr"
        },
        {
          "output_type": "stream",
          "text": [
            "Training until validation scores don't improve for 500 rounds.\n",
            "[100]\ttraining's rmse: 2.29707\tvalid_1's rmse: 1.8759\n",
            "Did not meet early stopping. Best iteration is:\n",
            "[100]\ttraining's rmse: 2.29707\tvalid_1's rmse: 1.8759\n",
            "Our val mae score is 0.8911966635944185\n",
            "TX_2\n",
            "{'bagging_fraction': 0.5, 'bagging_freq': 5, 'boosting_type': 'gbdt', 'colsample_bytree': 0.75, 'early_stopping_round': 500, 'learning_rate': 0.075, 'metric': 'rmse', 'n_jobs': -1, 'num_iterations': 100, 'objective': 'tweedie', 'seed': 0}\n",
            "(4530422, 44)\n"
          ],
          "name": "stdout"
        },
        {
          "output_type": "stream",
          "text": [
            "/usr/local/lib/python3.6/dist-packages/lightgbm/engine.py:118: UserWarning: Found `num_iterations` in params. Will use it instead of argument\n",
            "  warnings.warn(\"Found `{}` in params. Will use it instead of argument\".format(alias))\n",
            "/usr/local/lib/python3.6/dist-packages/lightgbm/engine.py:123: UserWarning: Found `early_stopping_round` in params. Will use it instead of argument\n",
            "  warnings.warn(\"Found `{}` in params. Will use it instead of argument\".format(alias))\n",
            "/usr/local/lib/python3.6/dist-packages/lightgbm/basic.py:762: UserWarning: categorical_feature in param dict is overridden.\n",
            "  warnings.warn('categorical_feature in param dict is overridden.')\n"
          ],
          "name": "stderr"
        },
        {
          "output_type": "stream",
          "text": [
            "Training until validation scores don't improve for 500 rounds.\n",
            "[100]\ttraining's rmse: 2.76539\tvalid_1's rmse: 1.93259\n",
            "Did not meet early stopping. Best iteration is:\n",
            "[100]\ttraining's rmse: 2.76539\tvalid_1's rmse: 1.93259\n",
            "Our val mae score is 1.0007583878882447\n",
            "TX_3\n",
            "{'bagging_fraction': 0.5, 'bagging_freq': 5, 'boosting_type': 'gbdt', 'colsample_bytree': 0.75, 'early_stopping_round': 500, 'learning_rate': 0.075, 'metric': 'rmse', 'n_jobs': -1, 'num_iterations': 100, 'objective': 'tweedie', 'seed': 0}\n",
            "(4459708, 44)\n"
          ],
          "name": "stdout"
        },
        {
          "output_type": "stream",
          "text": [
            "/usr/local/lib/python3.6/dist-packages/lightgbm/engine.py:118: UserWarning: Found `num_iterations` in params. Will use it instead of argument\n",
            "  warnings.warn(\"Found `{}` in params. Will use it instead of argument\".format(alias))\n",
            "/usr/local/lib/python3.6/dist-packages/lightgbm/engine.py:123: UserWarning: Found `early_stopping_round` in params. Will use it instead of argument\n",
            "  warnings.warn(\"Found `{}` in params. Will use it instead of argument\".format(alias))\n",
            "/usr/local/lib/python3.6/dist-packages/lightgbm/basic.py:762: UserWarning: categorical_feature in param dict is overridden.\n",
            "  warnings.warn('categorical_feature in param dict is overridden.')\n"
          ],
          "name": "stderr"
        },
        {
          "output_type": "stream",
          "text": [
            "Training until validation scores don't improve for 500 rounds.\n",
            "[100]\ttraining's rmse: 2.40289\tvalid_1's rmse: 1.89418\n",
            "Did not meet early stopping. Best iteration is:\n",
            "[100]\ttraining's rmse: 2.40289\tvalid_1's rmse: 1.89418\n",
            "Our val mae score is 0.9762161556248188\n",
            "WI_1\n",
            "{'bagging_fraction': 0.5, 'bagging_freq': 5, 'boosting_type': 'gbdt', 'colsample_bytree': 0.75, 'early_stopping_round': 500, 'learning_rate': 0.075, 'metric': 'rmse', 'n_jobs': -1, 'num_iterations': 100, 'objective': 'tweedie', 'seed': 0}\n",
            "(4283308, 44)\n"
          ],
          "name": "stdout"
        },
        {
          "output_type": "stream",
          "text": [
            "/usr/local/lib/python3.6/dist-packages/lightgbm/engine.py:118: UserWarning: Found `num_iterations` in params. Will use it instead of argument\n",
            "  warnings.warn(\"Found `{}` in params. Will use it instead of argument\".format(alias))\n",
            "/usr/local/lib/python3.6/dist-packages/lightgbm/engine.py:123: UserWarning: Found `early_stopping_round` in params. Will use it instead of argument\n",
            "  warnings.warn(\"Found `{}` in params. Will use it instead of argument\".format(alias))\n",
            "/usr/local/lib/python3.6/dist-packages/lightgbm/basic.py:762: UserWarning: categorical_feature in param dict is overridden.\n",
            "  warnings.warn('categorical_feature in param dict is overridden.')\n"
          ],
          "name": "stderr"
        },
        {
          "output_type": "stream",
          "text": [
            "Training until validation scores don't improve for 500 rounds.\n",
            "[100]\ttraining's rmse: 1.82941\tvalid_1's rmse: 1.72178\n",
            "Did not meet early stopping. Best iteration is:\n",
            "[100]\ttraining's rmse: 1.82941\tvalid_1's rmse: 1.72178\n",
            "Our val mae score is 0.9819156772782061\n",
            "WI_2\n",
            "{'bagging_fraction': 0.5, 'bagging_freq': 5, 'boosting_type': 'gbdt', 'colsample_bytree': 0.75, 'early_stopping_round': 500, 'learning_rate': 0.075, 'metric': 'rmse', 'n_jobs': -1, 'num_iterations': 100, 'objective': 'tweedie', 'seed': 0}\n",
            "(4368755, 44)\n"
          ],
          "name": "stdout"
        },
        {
          "output_type": "stream",
          "text": [
            "/usr/local/lib/python3.6/dist-packages/lightgbm/engine.py:118: UserWarning: Found `num_iterations` in params. Will use it instead of argument\n",
            "  warnings.warn(\"Found `{}` in params. Will use it instead of argument\".format(alias))\n",
            "/usr/local/lib/python3.6/dist-packages/lightgbm/engine.py:123: UserWarning: Found `early_stopping_round` in params. Will use it instead of argument\n",
            "  warnings.warn(\"Found `{}` in params. Will use it instead of argument\".format(alias))\n",
            "/usr/local/lib/python3.6/dist-packages/lightgbm/basic.py:762: UserWarning: categorical_feature in param dict is overridden.\n",
            "  warnings.warn('categorical_feature in param dict is overridden.')\n"
          ],
          "name": "stderr"
        },
        {
          "output_type": "stream",
          "text": [
            "Training until validation scores don't improve for 500 rounds.\n",
            "[100]\ttraining's rmse: 2.95418\tvalid_1's rmse: 3.06565\n",
            "Did not meet early stopping. Best iteration is:\n",
            "[100]\ttraining's rmse: 2.95418\tvalid_1's rmse: 3.06565\n",
            "Our val mae score is 1.2536081646836899\n",
            "WI_3\n",
            "{'bagging_fraction': 0.5, 'bagging_freq': 5, 'boosting_type': 'gbdt', 'colsample_bytree': 0.75, 'early_stopping_round': 500, 'learning_rate': 0.075, 'metric': 'rmse', 'n_jobs': -1, 'num_iterations': 100, 'objective': 'tweedie', 'seed': 0}\n",
            "(4494582, 44)\n"
          ],
          "name": "stdout"
        },
        {
          "output_type": "stream",
          "text": [
            "/usr/local/lib/python3.6/dist-packages/lightgbm/engine.py:118: UserWarning: Found `num_iterations` in params. Will use it instead of argument\n",
            "  warnings.warn(\"Found `{}` in params. Will use it instead of argument\".format(alias))\n",
            "/usr/local/lib/python3.6/dist-packages/lightgbm/engine.py:123: UserWarning: Found `early_stopping_round` in params. Will use it instead of argument\n",
            "  warnings.warn(\"Found `{}` in params. Will use it instead of argument\".format(alias))\n",
            "/usr/local/lib/python3.6/dist-packages/lightgbm/basic.py:762: UserWarning: categorical_feature in param dict is overridden.\n",
            "  warnings.warn('categorical_feature in param dict is overridden.')\n"
          ],
          "name": "stderr"
        },
        {
          "output_type": "stream",
          "text": [
            "Training until validation scores don't improve for 500 rounds.\n",
            "[100]\ttraining's rmse: 2.64041\tvalid_1's rmse: 2.11714\n",
            "Did not meet early stopping. Best iteration is:\n",
            "[100]\ttraining's rmse: 2.64041\tvalid_1's rmse: 2.11714\n",
            "Our val mae score is 0.9770099161893318\n",
            "CA_1\n",
            "{'bagging_fraction': 0.5, 'bagging_freq': 5, 'boosting_type': 'gbdt', 'colsample_bytree': 0.75, 'early_stopping_round': 500, 'learning_rate': 0.1, 'metric': 'rmse', 'n_jobs': -1, 'num_iterations': 100, 'objective': 'poisson', 'seed': 0}\n",
            "(4510808, 44)\n"
          ],
          "name": "stdout"
        },
        {
          "output_type": "stream",
          "text": [
            "/usr/local/lib/python3.6/dist-packages/lightgbm/engine.py:118: UserWarning: Found `num_iterations` in params. Will use it instead of argument\n",
            "  warnings.warn(\"Found `{}` in params. Will use it instead of argument\".format(alias))\n",
            "/usr/local/lib/python3.6/dist-packages/lightgbm/engine.py:123: UserWarning: Found `early_stopping_round` in params. Will use it instead of argument\n",
            "  warnings.warn(\"Found `{}` in params. Will use it instead of argument\".format(alias))\n",
            "/usr/local/lib/python3.6/dist-packages/lightgbm/basic.py:762: UserWarning: categorical_feature in param dict is overridden.\n",
            "  warnings.warn('categorical_feature in param dict is overridden.')\n"
          ],
          "name": "stderr"
        },
        {
          "output_type": "stream",
          "text": [
            "Training until validation scores don't improve for 500 rounds.\n",
            "[100]\ttraining's rmse: 2.82073\tvalid_1's rmse: 2.25618\n",
            "Did not meet early stopping. Best iteration is:\n",
            "[100]\ttraining's rmse: 2.82073\tvalid_1's rmse: 2.25618\n",
            "Our val mae score is 1.1361513725219863\n",
            "CA_2\n",
            "{'bagging_fraction': 0.5, 'bagging_freq': 5, 'boosting_type': 'gbdt', 'colsample_bytree': 0.75, 'early_stopping_round': 500, 'learning_rate': 0.1, 'metric': 'rmse', 'n_jobs': -1, 'num_iterations': 100, 'objective': 'poisson', 'seed': 0}\n",
            "(4082924, 44)\n"
          ],
          "name": "stdout"
        },
        {
          "output_type": "stream",
          "text": [
            "/usr/local/lib/python3.6/dist-packages/lightgbm/engine.py:118: UserWarning: Found `num_iterations` in params. Will use it instead of argument\n",
            "  warnings.warn(\"Found `{}` in params. Will use it instead of argument\".format(alias))\n",
            "/usr/local/lib/python3.6/dist-packages/lightgbm/engine.py:123: UserWarning: Found `early_stopping_round` in params. Will use it instead of argument\n",
            "  warnings.warn(\"Found `{}` in params. Will use it instead of argument\".format(alias))\n",
            "/usr/local/lib/python3.6/dist-packages/lightgbm/basic.py:762: UserWarning: categorical_feature in param dict is overridden.\n",
            "  warnings.warn('categorical_feature in param dict is overridden.')\n"
          ],
          "name": "stderr"
        },
        {
          "output_type": "stream",
          "text": [
            "Training until validation scores don't improve for 500 rounds.\n",
            "[100]\ttraining's rmse: 2.18304\tvalid_1's rmse: 2.1174\n",
            "Did not meet early stopping. Best iteration is:\n",
            "[100]\ttraining's rmse: 2.18304\tvalid_1's rmse: 2.1174\n",
            "Our val mae score is 1.1349751589286055\n",
            "CA_3\n",
            "{'bagging_fraction': 0.5, 'bagging_freq': 5, 'boosting_type': 'gbdt', 'colsample_bytree': 0.75, 'early_stopping_round': 500, 'learning_rate': 0.1, 'metric': 'rmse', 'n_jobs': -1, 'num_iterations': 100, 'objective': 'poisson', 'seed': 0}\n",
            "(4479854, 44)\n"
          ],
          "name": "stdout"
        },
        {
          "output_type": "stream",
          "text": [
            "/usr/local/lib/python3.6/dist-packages/lightgbm/engine.py:118: UserWarning: Found `num_iterations` in params. Will use it instead of argument\n",
            "  warnings.warn(\"Found `{}` in params. Will use it instead of argument\".format(alias))\n",
            "/usr/local/lib/python3.6/dist-packages/lightgbm/engine.py:123: UserWarning: Found `early_stopping_round` in params. Will use it instead of argument\n",
            "  warnings.warn(\"Found `{}` in params. Will use it instead of argument\".format(alias))\n",
            "/usr/local/lib/python3.6/dist-packages/lightgbm/basic.py:762: UserWarning: categorical_feature in param dict is overridden.\n",
            "  warnings.warn('categorical_feature in param dict is overridden.')\n"
          ],
          "name": "stderr"
        },
        {
          "output_type": "stream",
          "text": [
            "Training until validation scores don't improve for 500 rounds.\n",
            "[100]\ttraining's rmse: 3.97536\tvalid_1's rmse: 2.85414\n",
            "Did not meet early stopping. Best iteration is:\n",
            "[100]\ttraining's rmse: 3.97536\tvalid_1's rmse: 2.85414\n",
            "Our val mae score is 1.4225488194906422\n",
            "CA_4\n",
            "{'bagging_fraction': 0.5, 'bagging_freq': 5, 'boosting_type': 'gbdt', 'colsample_bytree': 0.75, 'early_stopping_round': 500, 'learning_rate': 0.1, 'metric': 'rmse', 'n_jobs': -1, 'num_iterations': 100, 'objective': 'poisson', 'seed': 0}\n",
            "(4375090, 44)\n"
          ],
          "name": "stdout"
        },
        {
          "output_type": "stream",
          "text": [
            "/usr/local/lib/python3.6/dist-packages/lightgbm/engine.py:118: UserWarning: Found `num_iterations` in params. Will use it instead of argument\n",
            "  warnings.warn(\"Found `{}` in params. Will use it instead of argument\".format(alias))\n",
            "/usr/local/lib/python3.6/dist-packages/lightgbm/engine.py:123: UserWarning: Found `early_stopping_round` in params. Will use it instead of argument\n",
            "  warnings.warn(\"Found `{}` in params. Will use it instead of argument\".format(alias))\n",
            "/usr/local/lib/python3.6/dist-packages/lightgbm/basic.py:762: UserWarning: categorical_feature in param dict is overridden.\n",
            "  warnings.warn('categorical_feature in param dict is overridden.')\n"
          ],
          "name": "stderr"
        },
        {
          "output_type": "stream",
          "text": [
            "Training until validation scores don't improve for 500 rounds.\n",
            "[100]\ttraining's rmse: 1.59079\tvalid_1's rmse: 1.42646\n",
            "Did not meet early stopping. Best iteration is:\n",
            "[100]\ttraining's rmse: 1.59079\tvalid_1's rmse: 1.42646\n",
            "Our val mae score is 0.7912223031755499\n",
            "TX_1\n",
            "{'bagging_fraction': 0.5, 'bagging_freq': 5, 'boosting_type': 'gbdt', 'colsample_bytree': 0.75, 'early_stopping_round': 500, 'learning_rate': 0.1, 'metric': 'rmse', 'n_jobs': -1, 'num_iterations': 100, 'objective': 'poisson', 'seed': 0}\n",
            "(4519857, 44)\n"
          ],
          "name": "stdout"
        },
        {
          "output_type": "stream",
          "text": [
            "/usr/local/lib/python3.6/dist-packages/lightgbm/engine.py:118: UserWarning: Found `num_iterations` in params. Will use it instead of argument\n",
            "  warnings.warn(\"Found `{}` in params. Will use it instead of argument\".format(alias))\n",
            "/usr/local/lib/python3.6/dist-packages/lightgbm/engine.py:123: UserWarning: Found `early_stopping_round` in params. Will use it instead of argument\n",
            "  warnings.warn(\"Found `{}` in params. Will use it instead of argument\".format(alias))\n",
            "/usr/local/lib/python3.6/dist-packages/lightgbm/basic.py:762: UserWarning: categorical_feature in param dict is overridden.\n",
            "  warnings.warn('categorical_feature in param dict is overridden.')\n"
          ],
          "name": "stderr"
        },
        {
          "output_type": "stream",
          "text": [
            "Training until validation scores don't improve for 500 rounds.\n",
            "[100]\ttraining's rmse: 2.3372\tvalid_1's rmse: 1.89446\n",
            "Did not meet early stopping. Best iteration is:\n",
            "[99]\ttraining's rmse: 2.3368\tvalid_1's rmse: 1.89467\n",
            "Our val mae score is 0.8944900096545335\n",
            "TX_2\n",
            "{'bagging_fraction': 0.5, 'bagging_freq': 5, 'boosting_type': 'gbdt', 'colsample_bytree': 0.75, 'early_stopping_round': 500, 'learning_rate': 0.1, 'metric': 'rmse', 'n_jobs': -1, 'num_iterations': 100, 'objective': 'poisson', 'seed': 0}\n",
            "(4530422, 44)\n"
          ],
          "name": "stdout"
        },
        {
          "output_type": "stream",
          "text": [
            "/usr/local/lib/python3.6/dist-packages/lightgbm/engine.py:118: UserWarning: Found `num_iterations` in params. Will use it instead of argument\n",
            "  warnings.warn(\"Found `{}` in params. Will use it instead of argument\".format(alias))\n",
            "/usr/local/lib/python3.6/dist-packages/lightgbm/engine.py:123: UserWarning: Found `early_stopping_round` in params. Will use it instead of argument\n",
            "  warnings.warn(\"Found `{}` in params. Will use it instead of argument\".format(alias))\n",
            "/usr/local/lib/python3.6/dist-packages/lightgbm/basic.py:762: UserWarning: categorical_feature in param dict is overridden.\n",
            "  warnings.warn('categorical_feature in param dict is overridden.')\n"
          ],
          "name": "stderr"
        },
        {
          "output_type": "stream",
          "text": [
            "Training until validation scores don't improve for 500 rounds.\n",
            "[100]\ttraining's rmse: 2.83067\tvalid_1's rmse: 2.01371\n",
            "Did not meet early stopping. Best iteration is:\n",
            "[100]\ttraining's rmse: 2.83067\tvalid_1's rmse: 2.01371\n",
            "Our val mae score is 1.0037677635930695\n",
            "TX_3\n",
            "{'bagging_fraction': 0.5, 'bagging_freq': 5, 'boosting_type': 'gbdt', 'colsample_bytree': 0.75, 'early_stopping_round': 500, 'learning_rate': 0.1, 'metric': 'rmse', 'n_jobs': -1, 'num_iterations': 100, 'objective': 'poisson', 'seed': 0}\n",
            "(4459708, 44)\n"
          ],
          "name": "stdout"
        },
        {
          "output_type": "stream",
          "text": [
            "/usr/local/lib/python3.6/dist-packages/lightgbm/engine.py:118: UserWarning: Found `num_iterations` in params. Will use it instead of argument\n",
            "  warnings.warn(\"Found `{}` in params. Will use it instead of argument\".format(alias))\n",
            "/usr/local/lib/python3.6/dist-packages/lightgbm/engine.py:123: UserWarning: Found `early_stopping_round` in params. Will use it instead of argument\n",
            "  warnings.warn(\"Found `{}` in params. Will use it instead of argument\".format(alias))\n",
            "/usr/local/lib/python3.6/dist-packages/lightgbm/basic.py:762: UserWarning: categorical_feature in param dict is overridden.\n",
            "  warnings.warn('categorical_feature in param dict is overridden.')\n"
          ],
          "name": "stderr"
        },
        {
          "output_type": "stream",
          "text": [
            "Training until validation scores don't improve for 500 rounds.\n",
            "[100]\ttraining's rmse: 2.42416\tvalid_1's rmse: 1.96244\n",
            "Did not meet early stopping. Best iteration is:\n",
            "[100]\ttraining's rmse: 2.42416\tvalid_1's rmse: 1.96244\n",
            "Our val mae score is 0.9782255910447216\n",
            "WI_1\n",
            "{'bagging_fraction': 0.5, 'bagging_freq': 5, 'boosting_type': 'gbdt', 'colsample_bytree': 0.75, 'early_stopping_round': 500, 'learning_rate': 0.1, 'metric': 'rmse', 'n_jobs': -1, 'num_iterations': 100, 'objective': 'poisson', 'seed': 0}\n",
            "(4283308, 44)\n"
          ],
          "name": "stdout"
        },
        {
          "output_type": "stream",
          "text": [
            "/usr/local/lib/python3.6/dist-packages/lightgbm/engine.py:118: UserWarning: Found `num_iterations` in params. Will use it instead of argument\n",
            "  warnings.warn(\"Found `{}` in params. Will use it instead of argument\".format(alias))\n",
            "/usr/local/lib/python3.6/dist-packages/lightgbm/engine.py:123: UserWarning: Found `early_stopping_round` in params. Will use it instead of argument\n",
            "  warnings.warn(\"Found `{}` in params. Will use it instead of argument\".format(alias))\n",
            "/usr/local/lib/python3.6/dist-packages/lightgbm/basic.py:762: UserWarning: categorical_feature in param dict is overridden.\n",
            "  warnings.warn('categorical_feature in param dict is overridden.')\n"
          ],
          "name": "stderr"
        },
        {
          "output_type": "stream",
          "text": [
            "Training until validation scores don't improve for 500 rounds.\n",
            "[100]\ttraining's rmse: 1.82293\tvalid_1's rmse: 1.7319\n",
            "Did not meet early stopping. Best iteration is:\n",
            "[100]\ttraining's rmse: 1.82293\tvalid_1's rmse: 1.7319\n",
            "Our val mae score is 0.9817546496836177\n",
            "WI_2\n",
            "{'bagging_fraction': 0.5, 'bagging_freq': 5, 'boosting_type': 'gbdt', 'colsample_bytree': 0.75, 'early_stopping_round': 500, 'learning_rate': 0.1, 'metric': 'rmse', 'n_jobs': -1, 'num_iterations': 100, 'objective': 'poisson', 'seed': 0}\n",
            "(4368755, 44)\n"
          ],
          "name": "stdout"
        },
        {
          "output_type": "stream",
          "text": [
            "/usr/local/lib/python3.6/dist-packages/lightgbm/engine.py:118: UserWarning: Found `num_iterations` in params. Will use it instead of argument\n",
            "  warnings.warn(\"Found `{}` in params. Will use it instead of argument\".format(alias))\n",
            "/usr/local/lib/python3.6/dist-packages/lightgbm/engine.py:123: UserWarning: Found `early_stopping_round` in params. Will use it instead of argument\n",
            "  warnings.warn(\"Found `{}` in params. Will use it instead of argument\".format(alias))\n",
            "/usr/local/lib/python3.6/dist-packages/lightgbm/basic.py:762: UserWarning: categorical_feature in param dict is overridden.\n",
            "  warnings.warn('categorical_feature in param dict is overridden.')\n"
          ],
          "name": "stderr"
        },
        {
          "output_type": "stream",
          "text": [
            "Training until validation scores don't improve for 500 rounds.\n",
            "[100]\ttraining's rmse: 2.93328\tvalid_1's rmse: 2.98406\n",
            "Did not meet early stopping. Best iteration is:\n",
            "[100]\ttraining's rmse: 2.93328\tvalid_1's rmse: 2.98406\n",
            "Our val mae score is 1.2404632164043656\n",
            "WI_3\n",
            "{'bagging_fraction': 0.5, 'bagging_freq': 5, 'boosting_type': 'gbdt', 'colsample_bytree': 0.75, 'early_stopping_round': 500, 'learning_rate': 0.1, 'metric': 'rmse', 'n_jobs': -1, 'num_iterations': 100, 'objective': 'poisson', 'seed': 0}\n",
            "(4494582, 44)\n"
          ],
          "name": "stdout"
        },
        {
          "output_type": "stream",
          "text": [
            "/usr/local/lib/python3.6/dist-packages/lightgbm/engine.py:118: UserWarning: Found `num_iterations` in params. Will use it instead of argument\n",
            "  warnings.warn(\"Found `{}` in params. Will use it instead of argument\".format(alias))\n",
            "/usr/local/lib/python3.6/dist-packages/lightgbm/engine.py:123: UserWarning: Found `early_stopping_round` in params. Will use it instead of argument\n",
            "  warnings.warn(\"Found `{}` in params. Will use it instead of argument\".format(alias))\n",
            "/usr/local/lib/python3.6/dist-packages/lightgbm/basic.py:762: UserWarning: categorical_feature in param dict is overridden.\n",
            "  warnings.warn('categorical_feature in param dict is overridden.')\n"
          ],
          "name": "stderr"
        },
        {
          "output_type": "stream",
          "text": [
            "Training until validation scores don't improve for 500 rounds.\n",
            "[100]\ttraining's rmse: 2.65841\tvalid_1's rmse: 2.15791\n",
            "Did not meet early stopping. Best iteration is:\n",
            "[100]\ttraining's rmse: 2.65841\tvalid_1's rmse: 2.15791\n",
            "Our val mae score is 0.9805745424826048\n",
            "CA_1\n",
            "{'bagging_fraction': 0.5, 'bagging_freq': 5, 'boosting_type': 'gbdt', 'colsample_bytree': 0.75, 'early_stopping_round': 500, 'learning_rate': 0.1, 'metric': 'rmse', 'n_jobs': -1, 'num_iterations': 100, 'objective': 'tweedie', 'seed': 0}\n",
            "(4510808, 44)\n"
          ],
          "name": "stdout"
        },
        {
          "output_type": "stream",
          "text": [
            "/usr/local/lib/python3.6/dist-packages/lightgbm/engine.py:118: UserWarning: Found `num_iterations` in params. Will use it instead of argument\n",
            "  warnings.warn(\"Found `{}` in params. Will use it instead of argument\".format(alias))\n",
            "/usr/local/lib/python3.6/dist-packages/lightgbm/engine.py:123: UserWarning: Found `early_stopping_round` in params. Will use it instead of argument\n",
            "  warnings.warn(\"Found `{}` in params. Will use it instead of argument\".format(alias))\n",
            "/usr/local/lib/python3.6/dist-packages/lightgbm/basic.py:762: UserWarning: categorical_feature in param dict is overridden.\n",
            "  warnings.warn('categorical_feature in param dict is overridden.')\n"
          ],
          "name": "stderr"
        },
        {
          "output_type": "stream",
          "text": [
            "Training until validation scores don't improve for 500 rounds.\n",
            "[100]\ttraining's rmse: 2.73025\tvalid_1's rmse: 2.18689\n",
            "Did not meet early stopping. Best iteration is:\n",
            "[100]\ttraining's rmse: 2.73025\tvalid_1's rmse: 2.18689\n",
            "Our val mae score is 1.1291447728505917\n",
            "CA_2\n",
            "{'bagging_fraction': 0.5, 'bagging_freq': 5, 'boosting_type': 'gbdt', 'colsample_bytree': 0.75, 'early_stopping_round': 500, 'learning_rate': 0.1, 'metric': 'rmse', 'n_jobs': -1, 'num_iterations': 100, 'objective': 'tweedie', 'seed': 0}\n",
            "(4082924, 44)\n"
          ],
          "name": "stdout"
        },
        {
          "output_type": "stream",
          "text": [
            "/usr/local/lib/python3.6/dist-packages/lightgbm/engine.py:118: UserWarning: Found `num_iterations` in params. Will use it instead of argument\n",
            "  warnings.warn(\"Found `{}` in params. Will use it instead of argument\".format(alias))\n",
            "/usr/local/lib/python3.6/dist-packages/lightgbm/engine.py:123: UserWarning: Found `early_stopping_round` in params. Will use it instead of argument\n",
            "  warnings.warn(\"Found `{}` in params. Will use it instead of argument\".format(alias))\n",
            "/usr/local/lib/python3.6/dist-packages/lightgbm/basic.py:762: UserWarning: categorical_feature in param dict is overridden.\n",
            "  warnings.warn('categorical_feature in param dict is overridden.')\n"
          ],
          "name": "stderr"
        },
        {
          "output_type": "stream",
          "text": [
            "Training until validation scores don't improve for 500 rounds.\n",
            "[100]\ttraining's rmse: 2.17589\tvalid_1's rmse: 2.10602\n",
            "Did not meet early stopping. Best iteration is:\n",
            "[100]\ttraining's rmse: 2.17589\tvalid_1's rmse: 2.10602\n",
            "Our val mae score is 1.1342104230786343\n",
            "CA_3\n",
            "{'bagging_fraction': 0.5, 'bagging_freq': 5, 'boosting_type': 'gbdt', 'colsample_bytree': 0.75, 'early_stopping_round': 500, 'learning_rate': 0.1, 'metric': 'rmse', 'n_jobs': -1, 'num_iterations': 100, 'objective': 'tweedie', 'seed': 0}\n",
            "(4479854, 44)\n"
          ],
          "name": "stdout"
        },
        {
          "output_type": "stream",
          "text": [
            "/usr/local/lib/python3.6/dist-packages/lightgbm/engine.py:118: UserWarning: Found `num_iterations` in params. Will use it instead of argument\n",
            "  warnings.warn(\"Found `{}` in params. Will use it instead of argument\".format(alias))\n",
            "/usr/local/lib/python3.6/dist-packages/lightgbm/engine.py:123: UserWarning: Found `early_stopping_round` in params. Will use it instead of argument\n",
            "  warnings.warn(\"Found `{}` in params. Will use it instead of argument\".format(alias))\n",
            "/usr/local/lib/python3.6/dist-packages/lightgbm/basic.py:762: UserWarning: categorical_feature in param dict is overridden.\n",
            "  warnings.warn('categorical_feature in param dict is overridden.')\n"
          ],
          "name": "stderr"
        },
        {
          "output_type": "stream",
          "text": [
            "Training until validation scores don't improve for 500 rounds.\n",
            "[100]\ttraining's rmse: 3.83924\tvalid_1's rmse: 2.80144\n",
            "Did not meet early stopping. Best iteration is:\n",
            "[100]\ttraining's rmse: 3.83924\tvalid_1's rmse: 2.80144\n",
            "Our val mae score is 1.4119715017542596\n",
            "CA_4\n",
            "{'bagging_fraction': 0.5, 'bagging_freq': 5, 'boosting_type': 'gbdt', 'colsample_bytree': 0.75, 'early_stopping_round': 500, 'learning_rate': 0.1, 'metric': 'rmse', 'n_jobs': -1, 'num_iterations': 100, 'objective': 'tweedie', 'seed': 0}\n",
            "(4375090, 44)\n"
          ],
          "name": "stdout"
        },
        {
          "output_type": "stream",
          "text": [
            "/usr/local/lib/python3.6/dist-packages/lightgbm/engine.py:118: UserWarning: Found `num_iterations` in params. Will use it instead of argument\n",
            "  warnings.warn(\"Found `{}` in params. Will use it instead of argument\".format(alias))\n",
            "/usr/local/lib/python3.6/dist-packages/lightgbm/engine.py:123: UserWarning: Found `early_stopping_round` in params. Will use it instead of argument\n",
            "  warnings.warn(\"Found `{}` in params. Will use it instead of argument\".format(alias))\n",
            "/usr/local/lib/python3.6/dist-packages/lightgbm/basic.py:762: UserWarning: categorical_feature in param dict is overridden.\n",
            "  warnings.warn('categorical_feature in param dict is overridden.')\n"
          ],
          "name": "stderr"
        },
        {
          "output_type": "stream",
          "text": [
            "Training until validation scores don't improve for 500 rounds.\n",
            "[100]\ttraining's rmse: 1.58589\tvalid_1's rmse: 1.4159\n",
            "Did not meet early stopping. Best iteration is:\n",
            "[100]\ttraining's rmse: 1.58589\tvalid_1's rmse: 1.4159\n",
            "Our val mae score is 0.7968598605538518\n",
            "TX_1\n",
            "{'bagging_fraction': 0.5, 'bagging_freq': 5, 'boosting_type': 'gbdt', 'colsample_bytree': 0.75, 'early_stopping_round': 500, 'learning_rate': 0.1, 'metric': 'rmse', 'n_jobs': -1, 'num_iterations': 100, 'objective': 'tweedie', 'seed': 0}\n",
            "(4519857, 44)\n"
          ],
          "name": "stdout"
        },
        {
          "output_type": "stream",
          "text": [
            "/usr/local/lib/python3.6/dist-packages/lightgbm/engine.py:118: UserWarning: Found `num_iterations` in params. Will use it instead of argument\n",
            "  warnings.warn(\"Found `{}` in params. Will use it instead of argument\".format(alias))\n",
            "/usr/local/lib/python3.6/dist-packages/lightgbm/engine.py:123: UserWarning: Found `early_stopping_round` in params. Will use it instead of argument\n",
            "  warnings.warn(\"Found `{}` in params. Will use it instead of argument\".format(alias))\n",
            "/usr/local/lib/python3.6/dist-packages/lightgbm/basic.py:762: UserWarning: categorical_feature in param dict is overridden.\n",
            "  warnings.warn('categorical_feature in param dict is overridden.')\n"
          ],
          "name": "stderr"
        },
        {
          "output_type": "stream",
          "text": [
            "Training until validation scores don't improve for 500 rounds.\n",
            "[100]\ttraining's rmse: 2.27311\tvalid_1's rmse: 1.85764\n",
            "Did not meet early stopping. Best iteration is:\n",
            "[100]\ttraining's rmse: 2.27311\tvalid_1's rmse: 1.85764\n",
            "Our val mae score is 0.8887054746070948\n",
            "TX_2\n",
            "{'bagging_fraction': 0.5, 'bagging_freq': 5, 'boosting_type': 'gbdt', 'colsample_bytree': 0.75, 'early_stopping_round': 500, 'learning_rate': 0.1, 'metric': 'rmse', 'n_jobs': -1, 'num_iterations': 100, 'objective': 'tweedie', 'seed': 0}\n",
            "(4530422, 44)\n"
          ],
          "name": "stdout"
        },
        {
          "output_type": "stream",
          "text": [
            "/usr/local/lib/python3.6/dist-packages/lightgbm/engine.py:118: UserWarning: Found `num_iterations` in params. Will use it instead of argument\n",
            "  warnings.warn(\"Found `{}` in params. Will use it instead of argument\".format(alias))\n",
            "/usr/local/lib/python3.6/dist-packages/lightgbm/engine.py:123: UserWarning: Found `early_stopping_round` in params. Will use it instead of argument\n",
            "  warnings.warn(\"Found `{}` in params. Will use it instead of argument\".format(alias))\n",
            "/usr/local/lib/python3.6/dist-packages/lightgbm/basic.py:762: UserWarning: categorical_feature in param dict is overridden.\n",
            "  warnings.warn('categorical_feature in param dict is overridden.')\n"
          ],
          "name": "stderr"
        },
        {
          "output_type": "stream",
          "text": [
            "Training until validation scores don't improve for 500 rounds.\n",
            "[100]\ttraining's rmse: 2.73309\tvalid_1's rmse: 1.93065\n",
            "Did not meet early stopping. Best iteration is:\n",
            "[100]\ttraining's rmse: 2.73309\tvalid_1's rmse: 1.93065\n",
            "Our val mae score is 1.0017237986272882\n",
            "TX_3\n",
            "{'bagging_fraction': 0.5, 'bagging_freq': 5, 'boosting_type': 'gbdt', 'colsample_bytree': 0.75, 'early_stopping_round': 500, 'learning_rate': 0.1, 'metric': 'rmse', 'n_jobs': -1, 'num_iterations': 100, 'objective': 'tweedie', 'seed': 0}\n",
            "(4459708, 44)\n"
          ],
          "name": "stdout"
        },
        {
          "output_type": "stream",
          "text": [
            "/usr/local/lib/python3.6/dist-packages/lightgbm/engine.py:118: UserWarning: Found `num_iterations` in params. Will use it instead of argument\n",
            "  warnings.warn(\"Found `{}` in params. Will use it instead of argument\".format(alias))\n",
            "/usr/local/lib/python3.6/dist-packages/lightgbm/engine.py:123: UserWarning: Found `early_stopping_round` in params. Will use it instead of argument\n",
            "  warnings.warn(\"Found `{}` in params. Will use it instead of argument\".format(alias))\n",
            "/usr/local/lib/python3.6/dist-packages/lightgbm/basic.py:762: UserWarning: categorical_feature in param dict is overridden.\n",
            "  warnings.warn('categorical_feature in param dict is overridden.')\n"
          ],
          "name": "stderr"
        },
        {
          "output_type": "stream",
          "text": [
            "Training until validation scores don't improve for 500 rounds.\n",
            "[100]\ttraining's rmse: 2.36311\tvalid_1's rmse: 1.89398\n",
            "Did not meet early stopping. Best iteration is:\n",
            "[100]\ttraining's rmse: 2.36311\tvalid_1's rmse: 1.89398\n",
            "Our val mae score is 0.9762160689010886\n",
            "WI_1\n",
            "{'bagging_fraction': 0.5, 'bagging_freq': 5, 'boosting_type': 'gbdt', 'colsample_bytree': 0.75, 'early_stopping_round': 500, 'learning_rate': 0.1, 'metric': 'rmse', 'n_jobs': -1, 'num_iterations': 100, 'objective': 'tweedie', 'seed': 0}\n",
            "(4283308, 44)\n"
          ],
          "name": "stdout"
        },
        {
          "output_type": "stream",
          "text": [
            "/usr/local/lib/python3.6/dist-packages/lightgbm/engine.py:118: UserWarning: Found `num_iterations` in params. Will use it instead of argument\n",
            "  warnings.warn(\"Found `{}` in params. Will use it instead of argument\".format(alias))\n",
            "/usr/local/lib/python3.6/dist-packages/lightgbm/engine.py:123: UserWarning: Found `early_stopping_round` in params. Will use it instead of argument\n",
            "  warnings.warn(\"Found `{}` in params. Will use it instead of argument\".format(alias))\n",
            "/usr/local/lib/python3.6/dist-packages/lightgbm/basic.py:762: UserWarning: categorical_feature in param dict is overridden.\n",
            "  warnings.warn('categorical_feature in param dict is overridden.')\n"
          ],
          "name": "stderr"
        },
        {
          "output_type": "stream",
          "text": [
            "Training until validation scores don't improve for 500 rounds.\n",
            "[100]\ttraining's rmse: 1.81508\tvalid_1's rmse: 1.72817\n",
            "Did not meet early stopping. Best iteration is:\n",
            "[100]\ttraining's rmse: 1.81508\tvalid_1's rmse: 1.72817\n",
            "Our val mae score is 0.9963053176705693\n",
            "WI_2\n",
            "{'bagging_fraction': 0.5, 'bagging_freq': 5, 'boosting_type': 'gbdt', 'colsample_bytree': 0.75, 'early_stopping_round': 500, 'learning_rate': 0.1, 'metric': 'rmse', 'n_jobs': -1, 'num_iterations': 100, 'objective': 'tweedie', 'seed': 0}\n",
            "(4368755, 44)\n"
          ],
          "name": "stdout"
        },
        {
          "output_type": "stream",
          "text": [
            "/usr/local/lib/python3.6/dist-packages/lightgbm/engine.py:118: UserWarning: Found `num_iterations` in params. Will use it instead of argument\n",
            "  warnings.warn(\"Found `{}` in params. Will use it instead of argument\".format(alias))\n",
            "/usr/local/lib/python3.6/dist-packages/lightgbm/engine.py:123: UserWarning: Found `early_stopping_round` in params. Will use it instead of argument\n",
            "  warnings.warn(\"Found `{}` in params. Will use it instead of argument\".format(alias))\n",
            "/usr/local/lib/python3.6/dist-packages/lightgbm/basic.py:762: UserWarning: categorical_feature in param dict is overridden.\n",
            "  warnings.warn('categorical_feature in param dict is overridden.')\n"
          ],
          "name": "stderr"
        },
        {
          "output_type": "stream",
          "text": [
            "Training until validation scores don't improve for 500 rounds.\n",
            "[100]\ttraining's rmse: 2.93143\tvalid_1's rmse: 3.06397\n",
            "Did not meet early stopping. Best iteration is:\n",
            "[100]\ttraining's rmse: 2.93143\tvalid_1's rmse: 3.06397\n",
            "Our val mae score is 1.253515371057685\n",
            "WI_3\n",
            "{'bagging_fraction': 0.5, 'bagging_freq': 5, 'boosting_type': 'gbdt', 'colsample_bytree': 0.75, 'early_stopping_round': 500, 'learning_rate': 0.1, 'metric': 'rmse', 'n_jobs': -1, 'num_iterations': 100, 'objective': 'tweedie', 'seed': 0}\n",
            "(4494582, 44)\n"
          ],
          "name": "stdout"
        },
        {
          "output_type": "stream",
          "text": [
            "/usr/local/lib/python3.6/dist-packages/lightgbm/engine.py:118: UserWarning: Found `num_iterations` in params. Will use it instead of argument\n",
            "  warnings.warn(\"Found `{}` in params. Will use it instead of argument\".format(alias))\n",
            "/usr/local/lib/python3.6/dist-packages/lightgbm/engine.py:123: UserWarning: Found `early_stopping_round` in params. Will use it instead of argument\n",
            "  warnings.warn(\"Found `{}` in params. Will use it instead of argument\".format(alias))\n",
            "/usr/local/lib/python3.6/dist-packages/lightgbm/basic.py:762: UserWarning: categorical_feature in param dict is overridden.\n",
            "  warnings.warn('categorical_feature in param dict is overridden.')\n"
          ],
          "name": "stderr"
        },
        {
          "output_type": "stream",
          "text": [
            "Training until validation scores don't improve for 500 rounds.\n",
            "[100]\ttraining's rmse: 2.60295\tvalid_1's rmse: 2.09828\n",
            "Did not meet early stopping. Best iteration is:\n",
            "[100]\ttraining's rmse: 2.60295\tvalid_1's rmse: 2.09828\n",
            "Our val mae score is 0.9737075037273492\n",
            "CA_1\n",
            "{'bagging_fraction': 0.5, 'bagging_freq': 5, 'boosting_type': 'dart', 'colsample_bytree': 0.75, 'early_stopping_round': 500, 'learning_rate': 0.05, 'metric': 'rmse', 'n_jobs': -1, 'num_iterations': 100, 'objective': 'poisson', 'seed': 0}\n",
            "(4510808, 44)\n"
          ],
          "name": "stdout"
        },
        {
          "output_type": "stream",
          "text": [
            "/usr/local/lib/python3.6/dist-packages/lightgbm/engine.py:118: UserWarning: Found `num_iterations` in params. Will use it instead of argument\n",
            "  warnings.warn(\"Found `{}` in params. Will use it instead of argument\".format(alias))\n",
            "/usr/local/lib/python3.6/dist-packages/lightgbm/engine.py:123: UserWarning: Found `early_stopping_round` in params. Will use it instead of argument\n",
            "  warnings.warn(\"Found `{}` in params. Will use it instead of argument\".format(alias))\n",
            "/usr/local/lib/python3.6/dist-packages/lightgbm/basic.py:762: UserWarning: categorical_feature in param dict is overridden.\n",
            "  warnings.warn('categorical_feature in param dict is overridden.')\n",
            "/usr/local/lib/python3.6/dist-packages/lightgbm/callback.py:189: UserWarning: Early stopping is not available in dart mode\n",
            "  warnings.warn('Early stopping is not available in dart mode')\n"
          ],
          "name": "stderr"
        },
        {
          "output_type": "stream",
          "text": [
            "[100]\ttraining's rmse: 3.49176\tvalid_1's rmse: 2.70536\n",
            "Our val mae score is 1.294556115647991\n",
            "CA_2\n",
            "{'bagging_fraction': 0.5, 'bagging_freq': 5, 'boosting_type': 'dart', 'colsample_bytree': 0.75, 'early_stopping_round': 500, 'learning_rate': 0.05, 'metric': 'rmse', 'n_jobs': -1, 'num_iterations': 100, 'objective': 'poisson', 'seed': 0}\n",
            "(4082924, 44)\n"
          ],
          "name": "stdout"
        },
        {
          "output_type": "stream",
          "text": [
            "/usr/local/lib/python3.6/dist-packages/lightgbm/engine.py:118: UserWarning: Found `num_iterations` in params. Will use it instead of argument\n",
            "  warnings.warn(\"Found `{}` in params. Will use it instead of argument\".format(alias))\n",
            "/usr/local/lib/python3.6/dist-packages/lightgbm/engine.py:123: UserWarning: Found `early_stopping_round` in params. Will use it instead of argument\n",
            "  warnings.warn(\"Found `{}` in params. Will use it instead of argument\".format(alias))\n",
            "/usr/local/lib/python3.6/dist-packages/lightgbm/basic.py:762: UserWarning: categorical_feature in param dict is overridden.\n",
            "  warnings.warn('categorical_feature in param dict is overridden.')\n",
            "/usr/local/lib/python3.6/dist-packages/lightgbm/callback.py:189: UserWarning: Early stopping is not available in dart mode\n",
            "  warnings.warn('Early stopping is not available in dart mode')\n"
          ],
          "name": "stderr"
        },
        {
          "output_type": "stream",
          "text": [
            "[100]\ttraining's rmse: 2.55087\tvalid_1's rmse: 2.51557\n",
            "Our val mae score is 1.2698510876473053\n",
            "CA_3\n",
            "{'bagging_fraction': 0.5, 'bagging_freq': 5, 'boosting_type': 'dart', 'colsample_bytree': 0.75, 'early_stopping_round': 500, 'learning_rate': 0.05, 'metric': 'rmse', 'n_jobs': -1, 'num_iterations': 100, 'objective': 'poisson', 'seed': 0}\n",
            "(4479854, 44)\n"
          ],
          "name": "stdout"
        },
        {
          "output_type": "stream",
          "text": [
            "/usr/local/lib/python3.6/dist-packages/lightgbm/engine.py:118: UserWarning: Found `num_iterations` in params. Will use it instead of argument\n",
            "  warnings.warn(\"Found `{}` in params. Will use it instead of argument\".format(alias))\n",
            "/usr/local/lib/python3.6/dist-packages/lightgbm/engine.py:123: UserWarning: Found `early_stopping_round` in params. Will use it instead of argument\n",
            "  warnings.warn(\"Found `{}` in params. Will use it instead of argument\".format(alias))\n",
            "/usr/local/lib/python3.6/dist-packages/lightgbm/basic.py:762: UserWarning: categorical_feature in param dict is overridden.\n",
            "  warnings.warn('categorical_feature in param dict is overridden.')\n",
            "/usr/local/lib/python3.6/dist-packages/lightgbm/callback.py:189: UserWarning: Early stopping is not available in dart mode\n",
            "  warnings.warn('Early stopping is not available in dart mode')\n"
          ],
          "name": "stderr"
        },
        {
          "output_type": "stream",
          "text": [
            "[100]\ttraining's rmse: 5.31276\tvalid_1's rmse: 3.8038\n",
            "Our val mae score is 1.6353394358568074\n",
            "CA_4\n",
            "{'bagging_fraction': 0.5, 'bagging_freq': 5, 'boosting_type': 'dart', 'colsample_bytree': 0.75, 'early_stopping_round': 500, 'learning_rate': 0.05, 'metric': 'rmse', 'n_jobs': -1, 'num_iterations': 100, 'objective': 'poisson', 'seed': 0}\n",
            "(4375090, 44)\n"
          ],
          "name": "stdout"
        },
        {
          "output_type": "stream",
          "text": [
            "/usr/local/lib/python3.6/dist-packages/lightgbm/engine.py:118: UserWarning: Found `num_iterations` in params. Will use it instead of argument\n",
            "  warnings.warn(\"Found `{}` in params. Will use it instead of argument\".format(alias))\n",
            "/usr/local/lib/python3.6/dist-packages/lightgbm/engine.py:123: UserWarning: Found `early_stopping_round` in params. Will use it instead of argument\n",
            "  warnings.warn(\"Found `{}` in params. Will use it instead of argument\".format(alias))\n",
            "/usr/local/lib/python3.6/dist-packages/lightgbm/basic.py:762: UserWarning: categorical_feature in param dict is overridden.\n",
            "  warnings.warn('categorical_feature in param dict is overridden.')\n",
            "/usr/local/lib/python3.6/dist-packages/lightgbm/callback.py:189: UserWarning: Early stopping is not available in dart mode\n",
            "  warnings.warn('Early stopping is not available in dart mode')\n"
          ],
          "name": "stderr"
        },
        {
          "output_type": "stream",
          "text": [
            "[100]\ttraining's rmse: 1.80412\tvalid_1's rmse: 1.5432\n",
            "Our val mae score is 0.9012604242723682\n",
            "TX_1\n",
            "{'bagging_fraction': 0.5, 'bagging_freq': 5, 'boosting_type': 'dart', 'colsample_bytree': 0.75, 'early_stopping_round': 500, 'learning_rate': 0.05, 'metric': 'rmse', 'n_jobs': -1, 'num_iterations': 100, 'objective': 'poisson', 'seed': 0}\n",
            "(4519857, 44)\n"
          ],
          "name": "stdout"
        },
        {
          "output_type": "stream",
          "text": [
            "/usr/local/lib/python3.6/dist-packages/lightgbm/engine.py:118: UserWarning: Found `num_iterations` in params. Will use it instead of argument\n",
            "  warnings.warn(\"Found `{}` in params. Will use it instead of argument\".format(alias))\n",
            "/usr/local/lib/python3.6/dist-packages/lightgbm/engine.py:123: UserWarning: Found `early_stopping_round` in params. Will use it instead of argument\n",
            "  warnings.warn(\"Found `{}` in params. Will use it instead of argument\".format(alias))\n",
            "/usr/local/lib/python3.6/dist-packages/lightgbm/basic.py:762: UserWarning: categorical_feature in param dict is overridden.\n",
            "  warnings.warn('categorical_feature in param dict is overridden.')\n",
            "/usr/local/lib/python3.6/dist-packages/lightgbm/callback.py:189: UserWarning: Early stopping is not available in dart mode\n",
            "  warnings.warn('Early stopping is not available in dart mode')\n"
          ],
          "name": "stderr"
        },
        {
          "output_type": "stream",
          "text": [
            "[100]\ttraining's rmse: 2.85122\tvalid_1's rmse: 2.35899\n",
            "Our val mae score is 1.0658071356379837\n",
            "TX_2\n",
            "{'bagging_fraction': 0.5, 'bagging_freq': 5, 'boosting_type': 'dart', 'colsample_bytree': 0.75, 'early_stopping_round': 500, 'learning_rate': 0.05, 'metric': 'rmse', 'n_jobs': -1, 'num_iterations': 100, 'objective': 'poisson', 'seed': 0}\n",
            "(4530422, 44)\n"
          ],
          "name": "stdout"
        },
        {
          "output_type": "stream",
          "text": [
            "/usr/local/lib/python3.6/dist-packages/lightgbm/engine.py:118: UserWarning: Found `num_iterations` in params. Will use it instead of argument\n",
            "  warnings.warn(\"Found `{}` in params. Will use it instead of argument\".format(alias))\n",
            "/usr/local/lib/python3.6/dist-packages/lightgbm/engine.py:123: UserWarning: Found `early_stopping_round` in params. Will use it instead of argument\n",
            "  warnings.warn(\"Found `{}` in params. Will use it instead of argument\".format(alias))\n",
            "/usr/local/lib/python3.6/dist-packages/lightgbm/basic.py:762: UserWarning: categorical_feature in param dict is overridden.\n",
            "  warnings.warn('categorical_feature in param dict is overridden.')\n",
            "/usr/local/lib/python3.6/dist-packages/lightgbm/callback.py:189: UserWarning: Early stopping is not available in dart mode\n",
            "  warnings.warn('Early stopping is not available in dart mode')\n"
          ],
          "name": "stderr"
        },
        {
          "output_type": "stream",
          "text": [
            "[100]\ttraining's rmse: 3.72474\tvalid_1's rmse: 2.54974\n",
            "Our val mae score is 1.1688641302080958\n",
            "TX_3\n",
            "{'bagging_fraction': 0.5, 'bagging_freq': 5, 'boosting_type': 'dart', 'colsample_bytree': 0.75, 'early_stopping_round': 500, 'learning_rate': 0.05, 'metric': 'rmse', 'n_jobs': -1, 'num_iterations': 100, 'objective': 'poisson', 'seed': 0}\n",
            "(4459708, 44)\n"
          ],
          "name": "stdout"
        },
        {
          "output_type": "stream",
          "text": [
            "/usr/local/lib/python3.6/dist-packages/lightgbm/engine.py:118: UserWarning: Found `num_iterations` in params. Will use it instead of argument\n",
            "  warnings.warn(\"Found `{}` in params. Will use it instead of argument\".format(alias))\n",
            "/usr/local/lib/python3.6/dist-packages/lightgbm/engine.py:123: UserWarning: Found `early_stopping_round` in params. Will use it instead of argument\n",
            "  warnings.warn(\"Found `{}` in params. Will use it instead of argument\".format(alias))\n",
            "/usr/local/lib/python3.6/dist-packages/lightgbm/basic.py:762: UserWarning: categorical_feature in param dict is overridden.\n",
            "  warnings.warn('categorical_feature in param dict is overridden.')\n",
            "/usr/local/lib/python3.6/dist-packages/lightgbm/callback.py:189: UserWarning: Early stopping is not available in dart mode\n",
            "  warnings.warn('Early stopping is not available in dart mode')\n"
          ],
          "name": "stderr"
        },
        {
          "output_type": "stream",
          "text": [
            "[100]\ttraining's rmse: 3.19588\tvalid_1's rmse: 2.41363\n",
            "Our val mae score is 1.1360863590465213\n",
            "WI_1\n",
            "{'bagging_fraction': 0.5, 'bagging_freq': 5, 'boosting_type': 'dart', 'colsample_bytree': 0.75, 'early_stopping_round': 500, 'learning_rate': 0.05, 'metric': 'rmse', 'n_jobs': -1, 'num_iterations': 100, 'objective': 'poisson', 'seed': 0}\n",
            "(4283308, 44)\n"
          ],
          "name": "stdout"
        },
        {
          "output_type": "stream",
          "text": [
            "/usr/local/lib/python3.6/dist-packages/lightgbm/engine.py:118: UserWarning: Found `num_iterations` in params. Will use it instead of argument\n",
            "  warnings.warn(\"Found `{}` in params. Will use it instead of argument\".format(alias))\n",
            "/usr/local/lib/python3.6/dist-packages/lightgbm/engine.py:123: UserWarning: Found `early_stopping_round` in params. Will use it instead of argument\n",
            "  warnings.warn(\"Found `{}` in params. Will use it instead of argument\".format(alias))\n",
            "/usr/local/lib/python3.6/dist-packages/lightgbm/basic.py:762: UserWarning: categorical_feature in param dict is overridden.\n",
            "  warnings.warn('categorical_feature in param dict is overridden.')\n",
            "/usr/local/lib/python3.6/dist-packages/lightgbm/callback.py:189: UserWarning: Early stopping is not available in dart mode\n",
            "  warnings.warn('Early stopping is not available in dart mode')\n"
          ],
          "name": "stderr"
        },
        {
          "output_type": "stream",
          "text": [
            "[100]\ttraining's rmse: 2.15216\tvalid_1's rmse: 2.00138\n",
            "Our val mae score is 1.1039057859902468\n",
            "WI_2\n",
            "{'bagging_fraction': 0.5, 'bagging_freq': 5, 'boosting_type': 'dart', 'colsample_bytree': 0.75, 'early_stopping_round': 500, 'learning_rate': 0.05, 'metric': 'rmse', 'n_jobs': -1, 'num_iterations': 100, 'objective': 'poisson', 'seed': 0}\n",
            "(4368755, 44)\n"
          ],
          "name": "stdout"
        },
        {
          "output_type": "stream",
          "text": [
            "/usr/local/lib/python3.6/dist-packages/lightgbm/engine.py:118: UserWarning: Found `num_iterations` in params. Will use it instead of argument\n",
            "  warnings.warn(\"Found `{}` in params. Will use it instead of argument\".format(alias))\n",
            "/usr/local/lib/python3.6/dist-packages/lightgbm/engine.py:123: UserWarning: Found `early_stopping_round` in params. Will use it instead of argument\n",
            "  warnings.warn(\"Found `{}` in params. Will use it instead of argument\".format(alias))\n",
            "/usr/local/lib/python3.6/dist-packages/lightgbm/basic.py:762: UserWarning: categorical_feature in param dict is overridden.\n",
            "  warnings.warn('categorical_feature in param dict is overridden.')\n",
            "/usr/local/lib/python3.6/dist-packages/lightgbm/callback.py:189: UserWarning: Early stopping is not available in dart mode\n",
            "  warnings.warn('Early stopping is not available in dart mode')\n"
          ],
          "name": "stderr"
        },
        {
          "output_type": "stream",
          "text": [
            "[100]\ttraining's rmse: 3.49165\tvalid_1's rmse: 3.93429\n",
            "Our val mae score is 1.5058243404890477\n",
            "WI_3\n",
            "{'bagging_fraction': 0.5, 'bagging_freq': 5, 'boosting_type': 'dart', 'colsample_bytree': 0.75, 'early_stopping_round': 500, 'learning_rate': 0.05, 'metric': 'rmse', 'n_jobs': -1, 'num_iterations': 100, 'objective': 'poisson', 'seed': 0}\n",
            "(4494582, 44)\n"
          ],
          "name": "stdout"
        },
        {
          "output_type": "stream",
          "text": [
            "/usr/local/lib/python3.6/dist-packages/lightgbm/engine.py:118: UserWarning: Found `num_iterations` in params. Will use it instead of argument\n",
            "  warnings.warn(\"Found `{}` in params. Will use it instead of argument\".format(alias))\n",
            "/usr/local/lib/python3.6/dist-packages/lightgbm/engine.py:123: UserWarning: Found `early_stopping_round` in params. Will use it instead of argument\n",
            "  warnings.warn(\"Found `{}` in params. Will use it instead of argument\".format(alias))\n",
            "/usr/local/lib/python3.6/dist-packages/lightgbm/basic.py:762: UserWarning: categorical_feature in param dict is overridden.\n",
            "  warnings.warn('categorical_feature in param dict is overridden.')\n",
            "/usr/local/lib/python3.6/dist-packages/lightgbm/callback.py:189: UserWarning: Early stopping is not available in dart mode\n",
            "  warnings.warn('Early stopping is not available in dart mode')\n"
          ],
          "name": "stderr"
        },
        {
          "output_type": "stream",
          "text": [
            "[100]\ttraining's rmse: 3.43377\tvalid_1's rmse: 2.90195\n",
            "Our val mae score is 1.1967248343582841\n",
            "CA_1\n",
            "{'bagging_fraction': 0.5, 'bagging_freq': 5, 'boosting_type': 'dart', 'colsample_bytree': 0.75, 'early_stopping_round': 500, 'learning_rate': 0.05, 'metric': 'rmse', 'n_jobs': -1, 'num_iterations': 100, 'objective': 'tweedie', 'seed': 0}\n",
            "(4510808, 44)\n"
          ],
          "name": "stdout"
        },
        {
          "output_type": "stream",
          "text": [
            "/usr/local/lib/python3.6/dist-packages/lightgbm/engine.py:118: UserWarning: Found `num_iterations` in params. Will use it instead of argument\n",
            "  warnings.warn(\"Found `{}` in params. Will use it instead of argument\".format(alias))\n",
            "/usr/local/lib/python3.6/dist-packages/lightgbm/engine.py:123: UserWarning: Found `early_stopping_round` in params. Will use it instead of argument\n",
            "  warnings.warn(\"Found `{}` in params. Will use it instead of argument\".format(alias))\n",
            "/usr/local/lib/python3.6/dist-packages/lightgbm/basic.py:762: UserWarning: categorical_feature in param dict is overridden.\n",
            "  warnings.warn('categorical_feature in param dict is overridden.')\n",
            "/usr/local/lib/python3.6/dist-packages/lightgbm/callback.py:189: UserWarning: Early stopping is not available in dart mode\n",
            "  warnings.warn('Early stopping is not available in dart mode')\n"
          ],
          "name": "stderr"
        },
        {
          "output_type": "stream",
          "text": [
            "[100]\ttraining's rmse: 3.59514\tvalid_1's rmse: 2.6853\n",
            "Our val mae score is 1.2154549497036462\n",
            "CA_2\n",
            "{'bagging_fraction': 0.5, 'bagging_freq': 5, 'boosting_type': 'dart', 'colsample_bytree': 0.75, 'early_stopping_round': 500, 'learning_rate': 0.05, 'metric': 'rmse', 'n_jobs': -1, 'num_iterations': 100, 'objective': 'tweedie', 'seed': 0}\n",
            "(4082924, 44)\n"
          ],
          "name": "stdout"
        },
        {
          "output_type": "stream",
          "text": [
            "/usr/local/lib/python3.6/dist-packages/lightgbm/engine.py:118: UserWarning: Found `num_iterations` in params. Will use it instead of argument\n",
            "  warnings.warn(\"Found `{}` in params. Will use it instead of argument\".format(alias))\n",
            "/usr/local/lib/python3.6/dist-packages/lightgbm/engine.py:123: UserWarning: Found `early_stopping_round` in params. Will use it instead of argument\n",
            "  warnings.warn(\"Found `{}` in params. Will use it instead of argument\".format(alias))\n",
            "/usr/local/lib/python3.6/dist-packages/lightgbm/basic.py:762: UserWarning: categorical_feature in param dict is overridden.\n",
            "  warnings.warn('categorical_feature in param dict is overridden.')\n",
            "/usr/local/lib/python3.6/dist-packages/lightgbm/callback.py:189: UserWarning: Early stopping is not available in dart mode\n",
            "  warnings.warn('Early stopping is not available in dart mode')\n"
          ],
          "name": "stderr"
        },
        {
          "output_type": "stream",
          "text": [
            "[100]\ttraining's rmse: 2.54191\tvalid_1's rmse: 2.50563\n",
            "Our val mae score is 1.20509922873252\n",
            "CA_3\n",
            "{'bagging_fraction': 0.5, 'bagging_freq': 5, 'boosting_type': 'dart', 'colsample_bytree': 0.75, 'early_stopping_round': 500, 'learning_rate': 0.05, 'metric': 'rmse', 'n_jobs': -1, 'num_iterations': 100, 'objective': 'tweedie', 'seed': 0}\n",
            "(4479854, 44)\n"
          ],
          "name": "stdout"
        },
        {
          "output_type": "stream",
          "text": [
            "/usr/local/lib/python3.6/dist-packages/lightgbm/engine.py:118: UserWarning: Found `num_iterations` in params. Will use it instead of argument\n",
            "  warnings.warn(\"Found `{}` in params. Will use it instead of argument\".format(alias))\n",
            "/usr/local/lib/python3.6/dist-packages/lightgbm/engine.py:123: UserWarning: Found `early_stopping_round` in params. Will use it instead of argument\n",
            "  warnings.warn(\"Found `{}` in params. Will use it instead of argument\".format(alias))\n",
            "/usr/local/lib/python3.6/dist-packages/lightgbm/basic.py:762: UserWarning: categorical_feature in param dict is overridden.\n",
            "  warnings.warn('categorical_feature in param dict is overridden.')\n",
            "/usr/local/lib/python3.6/dist-packages/lightgbm/callback.py:189: UserWarning: Early stopping is not available in dart mode\n",
            "  warnings.warn('Early stopping is not available in dart mode')\n"
          ],
          "name": "stderr"
        },
        {
          "output_type": "stream",
          "text": [
            "[100]\ttraining's rmse: 5.66671\tvalid_1's rmse: 3.89332\n",
            "Our val mae score is 1.5576541648393185\n",
            "CA_4\n",
            "{'bagging_fraction': 0.5, 'bagging_freq': 5, 'boosting_type': 'dart', 'colsample_bytree': 0.75, 'early_stopping_round': 500, 'learning_rate': 0.05, 'metric': 'rmse', 'n_jobs': -1, 'num_iterations': 100, 'objective': 'tweedie', 'seed': 0}\n",
            "(4375090, 44)\n"
          ],
          "name": "stdout"
        },
        {
          "output_type": "stream",
          "text": [
            "/usr/local/lib/python3.6/dist-packages/lightgbm/engine.py:118: UserWarning: Found `num_iterations` in params. Will use it instead of argument\n",
            "  warnings.warn(\"Found `{}` in params. Will use it instead of argument\".format(alias))\n",
            "/usr/local/lib/python3.6/dist-packages/lightgbm/engine.py:123: UserWarning: Found `early_stopping_round` in params. Will use it instead of argument\n",
            "  warnings.warn(\"Found `{}` in params. Will use it instead of argument\".format(alias))\n",
            "/usr/local/lib/python3.6/dist-packages/lightgbm/basic.py:762: UserWarning: categorical_feature in param dict is overridden.\n",
            "  warnings.warn('categorical_feature in param dict is overridden.')\n",
            "/usr/local/lib/python3.6/dist-packages/lightgbm/callback.py:189: UserWarning: Early stopping is not available in dart mode\n",
            "  warnings.warn('Early stopping is not available in dart mode')\n"
          ],
          "name": "stderr"
        },
        {
          "output_type": "stream",
          "text": [
            "[100]\ttraining's rmse: 1.78765\tvalid_1's rmse: 1.50812\n",
            "Our val mae score is 0.8217559659967378\n",
            "TX_1\n",
            "{'bagging_fraction': 0.5, 'bagging_freq': 5, 'boosting_type': 'dart', 'colsample_bytree': 0.75, 'early_stopping_round': 500, 'learning_rate': 0.05, 'metric': 'rmse', 'n_jobs': -1, 'num_iterations': 100, 'objective': 'tweedie', 'seed': 0}\n",
            "(4519857, 44)\n"
          ],
          "name": "stdout"
        },
        {
          "output_type": "stream",
          "text": [
            "/usr/local/lib/python3.6/dist-packages/lightgbm/engine.py:118: UserWarning: Found `num_iterations` in params. Will use it instead of argument\n",
            "  warnings.warn(\"Found `{}` in params. Will use it instead of argument\".format(alias))\n",
            "/usr/local/lib/python3.6/dist-packages/lightgbm/engine.py:123: UserWarning: Found `early_stopping_round` in params. Will use it instead of argument\n",
            "  warnings.warn(\"Found `{}` in params. Will use it instead of argument\".format(alias))\n",
            "/usr/local/lib/python3.6/dist-packages/lightgbm/basic.py:762: UserWarning: categorical_feature in param dict is overridden.\n",
            "  warnings.warn('categorical_feature in param dict is overridden.')\n",
            "/usr/local/lib/python3.6/dist-packages/lightgbm/callback.py:189: UserWarning: Early stopping is not available in dart mode\n",
            "  warnings.warn('Early stopping is not available in dart mode')\n"
          ],
          "name": "stderr"
        },
        {
          "output_type": "stream",
          "text": [
            "[100]\ttraining's rmse: 2.93307\tvalid_1's rmse: 2.35244\n",
            "Our val mae score is 0.9708103227665279\n",
            "TX_2\n",
            "{'bagging_fraction': 0.5, 'bagging_freq': 5, 'boosting_type': 'dart', 'colsample_bytree': 0.75, 'early_stopping_round': 500, 'learning_rate': 0.05, 'metric': 'rmse', 'n_jobs': -1, 'num_iterations': 100, 'objective': 'tweedie', 'seed': 0}\n",
            "(4530422, 44)\n"
          ],
          "name": "stdout"
        },
        {
          "output_type": "stream",
          "text": [
            "/usr/local/lib/python3.6/dist-packages/lightgbm/engine.py:118: UserWarning: Found `num_iterations` in params. Will use it instead of argument\n",
            "  warnings.warn(\"Found `{}` in params. Will use it instead of argument\".format(alias))\n",
            "/usr/local/lib/python3.6/dist-packages/lightgbm/engine.py:123: UserWarning: Found `early_stopping_round` in params. Will use it instead of argument\n",
            "  warnings.warn(\"Found `{}` in params. Will use it instead of argument\".format(alias))\n",
            "/usr/local/lib/python3.6/dist-packages/lightgbm/basic.py:762: UserWarning: categorical_feature in param dict is overridden.\n",
            "  warnings.warn('categorical_feature in param dict is overridden.')\n",
            "/usr/local/lib/python3.6/dist-packages/lightgbm/callback.py:189: UserWarning: Early stopping is not available in dart mode\n",
            "  warnings.warn('Early stopping is not available in dart mode')\n"
          ],
          "name": "stderr"
        },
        {
          "output_type": "stream",
          "text": [
            "[100]\ttraining's rmse: 3.93615\tvalid_1's rmse: 2.63498\n",
            "Our val mae score is 1.0880433617393515\n",
            "TX_3\n",
            "{'bagging_fraction': 0.5, 'bagging_freq': 5, 'boosting_type': 'dart', 'colsample_bytree': 0.75, 'early_stopping_round': 500, 'learning_rate': 0.05, 'metric': 'rmse', 'n_jobs': -1, 'num_iterations': 100, 'objective': 'tweedie', 'seed': 0}\n",
            "(4459708, 44)\n"
          ],
          "name": "stdout"
        },
        {
          "output_type": "stream",
          "text": [
            "/usr/local/lib/python3.6/dist-packages/lightgbm/engine.py:118: UserWarning: Found `num_iterations` in params. Will use it instead of argument\n",
            "  warnings.warn(\"Found `{}` in params. Will use it instead of argument\".format(alias))\n",
            "/usr/local/lib/python3.6/dist-packages/lightgbm/engine.py:123: UserWarning: Found `early_stopping_round` in params. Will use it instead of argument\n",
            "  warnings.warn(\"Found `{}` in params. Will use it instead of argument\".format(alias))\n",
            "/usr/local/lib/python3.6/dist-packages/lightgbm/basic.py:762: UserWarning: categorical_feature in param dict is overridden.\n",
            "  warnings.warn('categorical_feature in param dict is overridden.')\n",
            "/usr/local/lib/python3.6/dist-packages/lightgbm/callback.py:189: UserWarning: Early stopping is not available in dart mode\n",
            "  warnings.warn('Early stopping is not available in dart mode')\n"
          ],
          "name": "stderr"
        },
        {
          "output_type": "stream",
          "text": [
            "[100]\ttraining's rmse: 3.34744\tvalid_1's rmse: 2.46584\n",
            "Our val mae score is 1.052913512988985\n",
            "WI_1\n",
            "{'bagging_fraction': 0.5, 'bagging_freq': 5, 'boosting_type': 'dart', 'colsample_bytree': 0.75, 'early_stopping_round': 500, 'learning_rate': 0.05, 'metric': 'rmse', 'n_jobs': -1, 'num_iterations': 100, 'objective': 'tweedie', 'seed': 0}\n",
            "(4283308, 44)\n"
          ],
          "name": "stdout"
        },
        {
          "output_type": "stream",
          "text": [
            "/usr/local/lib/python3.6/dist-packages/lightgbm/engine.py:118: UserWarning: Found `num_iterations` in params. Will use it instead of argument\n",
            "  warnings.warn(\"Found `{}` in params. Will use it instead of argument\".format(alias))\n",
            "/usr/local/lib/python3.6/dist-packages/lightgbm/engine.py:123: UserWarning: Found `early_stopping_round` in params. Will use it instead of argument\n",
            "  warnings.warn(\"Found `{}` in params. Will use it instead of argument\".format(alias))\n",
            "/usr/local/lib/python3.6/dist-packages/lightgbm/basic.py:762: UserWarning: categorical_feature in param dict is overridden.\n",
            "  warnings.warn('categorical_feature in param dict is overridden.')\n",
            "/usr/local/lib/python3.6/dist-packages/lightgbm/callback.py:189: UserWarning: Early stopping is not available in dart mode\n",
            "  warnings.warn('Early stopping is not available in dart mode')\n"
          ],
          "name": "stderr"
        },
        {
          "output_type": "stream",
          "text": [
            "[100]\ttraining's rmse: 2.14302\tvalid_1's rmse: 1.98136\n",
            "Our val mae score is 1.034178957814919\n",
            "WI_2\n",
            "{'bagging_fraction': 0.5, 'bagging_freq': 5, 'boosting_type': 'dart', 'colsample_bytree': 0.75, 'early_stopping_round': 500, 'learning_rate': 0.05, 'metric': 'rmse', 'n_jobs': -1, 'num_iterations': 100, 'objective': 'tweedie', 'seed': 0}\n",
            "(4368755, 44)\n"
          ],
          "name": "stdout"
        },
        {
          "output_type": "stream",
          "text": [
            "/usr/local/lib/python3.6/dist-packages/lightgbm/engine.py:118: UserWarning: Found `num_iterations` in params. Will use it instead of argument\n",
            "  warnings.warn(\"Found `{}` in params. Will use it instead of argument\".format(alias))\n",
            "/usr/local/lib/python3.6/dist-packages/lightgbm/engine.py:123: UserWarning: Found `early_stopping_round` in params. Will use it instead of argument\n",
            "  warnings.warn(\"Found `{}` in params. Will use it instead of argument\".format(alias))\n",
            "/usr/local/lib/python3.6/dist-packages/lightgbm/basic.py:762: UserWarning: categorical_feature in param dict is overridden.\n",
            "  warnings.warn('categorical_feature in param dict is overridden.')\n",
            "/usr/local/lib/python3.6/dist-packages/lightgbm/callback.py:189: UserWarning: Early stopping is not available in dart mode\n",
            "  warnings.warn('Early stopping is not available in dart mode')\n"
          ],
          "name": "stderr"
        },
        {
          "output_type": "stream",
          "text": [
            "[100]\ttraining's rmse: 3.51377\tvalid_1's rmse: 3.98054\n",
            "Our val mae score is 1.4104272956176367\n",
            "WI_3\n",
            "{'bagging_fraction': 0.5, 'bagging_freq': 5, 'boosting_type': 'dart', 'colsample_bytree': 0.75, 'early_stopping_round': 500, 'learning_rate': 0.05, 'metric': 'rmse', 'n_jobs': -1, 'num_iterations': 100, 'objective': 'tweedie', 'seed': 0}\n",
            "(4494582, 44)\n"
          ],
          "name": "stdout"
        },
        {
          "output_type": "stream",
          "text": [
            "/usr/local/lib/python3.6/dist-packages/lightgbm/engine.py:118: UserWarning: Found `num_iterations` in params. Will use it instead of argument\n",
            "  warnings.warn(\"Found `{}` in params. Will use it instead of argument\".format(alias))\n",
            "/usr/local/lib/python3.6/dist-packages/lightgbm/engine.py:123: UserWarning: Found `early_stopping_round` in params. Will use it instead of argument\n",
            "  warnings.warn(\"Found `{}` in params. Will use it instead of argument\".format(alias))\n",
            "/usr/local/lib/python3.6/dist-packages/lightgbm/basic.py:762: UserWarning: categorical_feature in param dict is overridden.\n",
            "  warnings.warn('categorical_feature in param dict is overridden.')\n",
            "/usr/local/lib/python3.6/dist-packages/lightgbm/callback.py:189: UserWarning: Early stopping is not available in dart mode\n",
            "  warnings.warn('Early stopping is not available in dart mode')\n"
          ],
          "name": "stderr"
        },
        {
          "output_type": "stream",
          "text": [
            "[100]\ttraining's rmse: 3.57497\tvalid_1's rmse: 2.96692\n",
            "Our val mae score is 1.0977119996618894\n",
            "CA_1\n",
            "{'bagging_fraction': 0.5, 'bagging_freq': 5, 'boosting_type': 'dart', 'colsample_bytree': 0.75, 'early_stopping_round': 500, 'learning_rate': 0.075, 'metric': 'rmse', 'n_jobs': -1, 'num_iterations': 100, 'objective': 'poisson', 'seed': 0}\n",
            "(4510808, 44)\n"
          ],
          "name": "stdout"
        },
        {
          "output_type": "stream",
          "text": [
            "/usr/local/lib/python3.6/dist-packages/lightgbm/engine.py:118: UserWarning: Found `num_iterations` in params. Will use it instead of argument\n",
            "  warnings.warn(\"Found `{}` in params. Will use it instead of argument\".format(alias))\n",
            "/usr/local/lib/python3.6/dist-packages/lightgbm/engine.py:123: UserWarning: Found `early_stopping_round` in params. Will use it instead of argument\n",
            "  warnings.warn(\"Found `{}` in params. Will use it instead of argument\".format(alias))\n",
            "/usr/local/lib/python3.6/dist-packages/lightgbm/basic.py:762: UserWarning: categorical_feature in param dict is overridden.\n",
            "  warnings.warn('categorical_feature in param dict is overridden.')\n",
            "/usr/local/lib/python3.6/dist-packages/lightgbm/callback.py:189: UserWarning: Early stopping is not available in dart mode\n",
            "  warnings.warn('Early stopping is not available in dart mode')\n"
          ],
          "name": "stderr"
        },
        {
          "output_type": "stream",
          "text": [
            "[100]\ttraining's rmse: 3.27355\tvalid_1's rmse: 2.56591\n",
            "Our val mae score is 1.2347510623987408\n",
            "CA_2\n",
            "{'bagging_fraction': 0.5, 'bagging_freq': 5, 'boosting_type': 'dart', 'colsample_bytree': 0.75, 'early_stopping_round': 500, 'learning_rate': 0.075, 'metric': 'rmse', 'n_jobs': -1, 'num_iterations': 100, 'objective': 'poisson', 'seed': 0}\n",
            "(4082924, 44)\n"
          ],
          "name": "stdout"
        },
        {
          "output_type": "stream",
          "text": [
            "/usr/local/lib/python3.6/dist-packages/lightgbm/engine.py:118: UserWarning: Found `num_iterations` in params. Will use it instead of argument\n",
            "  warnings.warn(\"Found `{}` in params. Will use it instead of argument\".format(alias))\n",
            "/usr/local/lib/python3.6/dist-packages/lightgbm/engine.py:123: UserWarning: Found `early_stopping_round` in params. Will use it instead of argument\n",
            "  warnings.warn(\"Found `{}` in params. Will use it instead of argument\".format(alias))\n",
            "/usr/local/lib/python3.6/dist-packages/lightgbm/basic.py:762: UserWarning: categorical_feature in param dict is overridden.\n",
            "  warnings.warn('categorical_feature in param dict is overridden.')\n",
            "/usr/local/lib/python3.6/dist-packages/lightgbm/callback.py:189: UserWarning: Early stopping is not available in dart mode\n",
            "  warnings.warn('Early stopping is not available in dart mode')\n"
          ],
          "name": "stderr"
        },
        {
          "output_type": "stream",
          "text": [
            "[100]\ttraining's rmse: 2.44013\tvalid_1's rmse: 2.40285\n",
            "Our val mae score is 1.2206214954617405\n",
            "CA_3\n",
            "{'bagging_fraction': 0.5, 'bagging_freq': 5, 'boosting_type': 'dart', 'colsample_bytree': 0.75, 'early_stopping_round': 500, 'learning_rate': 0.075, 'metric': 'rmse', 'n_jobs': -1, 'num_iterations': 100, 'objective': 'poisson', 'seed': 0}\n",
            "(4479854, 44)\n"
          ],
          "name": "stdout"
        },
        {
          "output_type": "stream",
          "text": [
            "/usr/local/lib/python3.6/dist-packages/lightgbm/engine.py:118: UserWarning: Found `num_iterations` in params. Will use it instead of argument\n",
            "  warnings.warn(\"Found `{}` in params. Will use it instead of argument\".format(alias))\n",
            "/usr/local/lib/python3.6/dist-packages/lightgbm/engine.py:123: UserWarning: Found `early_stopping_round` in params. Will use it instead of argument\n",
            "  warnings.warn(\"Found `{}` in params. Will use it instead of argument\".format(alias))\n",
            "/usr/local/lib/python3.6/dist-packages/lightgbm/basic.py:762: UserWarning: categorical_feature in param dict is overridden.\n",
            "  warnings.warn('categorical_feature in param dict is overridden.')\n",
            "/usr/local/lib/python3.6/dist-packages/lightgbm/callback.py:189: UserWarning: Early stopping is not available in dart mode\n",
            "  warnings.warn('Early stopping is not available in dart mode')\n"
          ],
          "name": "stderr"
        },
        {
          "output_type": "stream",
          "text": [
            "[100]\ttraining's rmse: 4.88039\tvalid_1's rmse: 3.52374\n",
            "Our val mae score is 1.5540714656428232\n",
            "CA_4\n",
            "{'bagging_fraction': 0.5, 'bagging_freq': 5, 'boosting_type': 'dart', 'colsample_bytree': 0.75, 'early_stopping_round': 500, 'learning_rate': 0.075, 'metric': 'rmse', 'n_jobs': -1, 'num_iterations': 100, 'objective': 'poisson', 'seed': 0}\n",
            "(4375090, 44)\n"
          ],
          "name": "stdout"
        },
        {
          "output_type": "stream",
          "text": [
            "/usr/local/lib/python3.6/dist-packages/lightgbm/engine.py:118: UserWarning: Found `num_iterations` in params. Will use it instead of argument\n",
            "  warnings.warn(\"Found `{}` in params. Will use it instead of argument\".format(alias))\n",
            "/usr/local/lib/python3.6/dist-packages/lightgbm/engine.py:123: UserWarning: Found `early_stopping_round` in params. Will use it instead of argument\n",
            "  warnings.warn(\"Found `{}` in params. Will use it instead of argument\".format(alias))\n",
            "/usr/local/lib/python3.6/dist-packages/lightgbm/basic.py:762: UserWarning: categorical_feature in param dict is overridden.\n",
            "  warnings.warn('categorical_feature in param dict is overridden.')\n",
            "/usr/local/lib/python3.6/dist-packages/lightgbm/callback.py:189: UserWarning: Early stopping is not available in dart mode\n",
            "  warnings.warn('Early stopping is not available in dart mode')\n"
          ],
          "name": "stderr"
        },
        {
          "output_type": "stream",
          "text": [
            "[100]\ttraining's rmse: 1.73219\tvalid_1's rmse: 1.49779\n",
            "Our val mae score is 0.8607239400857596\n",
            "TX_1\n",
            "{'bagging_fraction': 0.5, 'bagging_freq': 5, 'boosting_type': 'dart', 'colsample_bytree': 0.75, 'early_stopping_round': 500, 'learning_rate': 0.075, 'metric': 'rmse', 'n_jobs': -1, 'num_iterations': 100, 'objective': 'poisson', 'seed': 0}\n",
            "(4519857, 44)\n"
          ],
          "name": "stdout"
        },
        {
          "output_type": "stream",
          "text": [
            "/usr/local/lib/python3.6/dist-packages/lightgbm/engine.py:118: UserWarning: Found `num_iterations` in params. Will use it instead of argument\n",
            "  warnings.warn(\"Found `{}` in params. Will use it instead of argument\".format(alias))\n",
            "/usr/local/lib/python3.6/dist-packages/lightgbm/engine.py:123: UserWarning: Found `early_stopping_round` in params. Will use it instead of argument\n",
            "  warnings.warn(\"Found `{}` in params. Will use it instead of argument\".format(alias))\n",
            "/usr/local/lib/python3.6/dist-packages/lightgbm/basic.py:762: UserWarning: categorical_feature in param dict is overridden.\n",
            "  warnings.warn('categorical_feature in param dict is overridden.')\n",
            "/usr/local/lib/python3.6/dist-packages/lightgbm/callback.py:189: UserWarning: Early stopping is not available in dart mode\n",
            "  warnings.warn('Early stopping is not available in dart mode')\n"
          ],
          "name": "stderr"
        },
        {
          "output_type": "stream",
          "text": [
            "[100]\ttraining's rmse: 2.68136\tvalid_1's rmse: 2.22821\n",
            "Our val mae score is 1.0045512804380068\n",
            "TX_2\n",
            "{'bagging_fraction': 0.5, 'bagging_freq': 5, 'boosting_type': 'dart', 'colsample_bytree': 0.75, 'early_stopping_round': 500, 'learning_rate': 0.075, 'metric': 'rmse', 'n_jobs': -1, 'num_iterations': 100, 'objective': 'poisson', 'seed': 0}\n",
            "(4530422, 44)\n"
          ],
          "name": "stdout"
        },
        {
          "output_type": "stream",
          "text": [
            "/usr/local/lib/python3.6/dist-packages/lightgbm/engine.py:118: UserWarning: Found `num_iterations` in params. Will use it instead of argument\n",
            "  warnings.warn(\"Found `{}` in params. Will use it instead of argument\".format(alias))\n",
            "/usr/local/lib/python3.6/dist-packages/lightgbm/engine.py:123: UserWarning: Found `early_stopping_round` in params. Will use it instead of argument\n",
            "  warnings.warn(\"Found `{}` in params. Will use it instead of argument\".format(alias))\n",
            "/usr/local/lib/python3.6/dist-packages/lightgbm/basic.py:762: UserWarning: categorical_feature in param dict is overridden.\n",
            "  warnings.warn('categorical_feature in param dict is overridden.')\n",
            "/usr/local/lib/python3.6/dist-packages/lightgbm/callback.py:189: UserWarning: Early stopping is not available in dart mode\n",
            "  warnings.warn('Early stopping is not available in dart mode')\n"
          ],
          "name": "stderr"
        },
        {
          "output_type": "stream",
          "text": [
            "[100]\ttraining's rmse: 3.45838\tvalid_1's rmse: 2.36686\n",
            "Our val mae score is 1.1043344452633774\n",
            "TX_3\n",
            "{'bagging_fraction': 0.5, 'bagging_freq': 5, 'boosting_type': 'dart', 'colsample_bytree': 0.75, 'early_stopping_round': 500, 'learning_rate': 0.075, 'metric': 'rmse', 'n_jobs': -1, 'num_iterations': 100, 'objective': 'poisson', 'seed': 0}\n",
            "(4459708, 44)\n"
          ],
          "name": "stdout"
        },
        {
          "output_type": "stream",
          "text": [
            "/usr/local/lib/python3.6/dist-packages/lightgbm/engine.py:118: UserWarning: Found `num_iterations` in params. Will use it instead of argument\n",
            "  warnings.warn(\"Found `{}` in params. Will use it instead of argument\".format(alias))\n",
            "/usr/local/lib/python3.6/dist-packages/lightgbm/engine.py:123: UserWarning: Found `early_stopping_round` in params. Will use it instead of argument\n",
            "  warnings.warn(\"Found `{}` in params. Will use it instead of argument\".format(alias))\n",
            "/usr/local/lib/python3.6/dist-packages/lightgbm/basic.py:762: UserWarning: categorical_feature in param dict is overridden.\n",
            "  warnings.warn('categorical_feature in param dict is overridden.')\n",
            "/usr/local/lib/python3.6/dist-packages/lightgbm/callback.py:189: UserWarning: Early stopping is not available in dart mode\n",
            "  warnings.warn('Early stopping is not available in dart mode')\n"
          ],
          "name": "stderr"
        },
        {
          "output_type": "stream",
          "text": [
            "[100]\ttraining's rmse: 2.97426\tvalid_1's rmse: 2.26097\n",
            "Our val mae score is 1.0740901663950155\n",
            "WI_1\n",
            "{'bagging_fraction': 0.5, 'bagging_freq': 5, 'boosting_type': 'dart', 'colsample_bytree': 0.75, 'early_stopping_round': 500, 'learning_rate': 0.075, 'metric': 'rmse', 'n_jobs': -1, 'num_iterations': 100, 'objective': 'poisson', 'seed': 0}\n",
            "(4283308, 44)\n"
          ],
          "name": "stdout"
        },
        {
          "output_type": "stream",
          "text": [
            "/usr/local/lib/python3.6/dist-packages/lightgbm/engine.py:118: UserWarning: Found `num_iterations` in params. Will use it instead of argument\n",
            "  warnings.warn(\"Found `{}` in params. Will use it instead of argument\".format(alias))\n",
            "/usr/local/lib/python3.6/dist-packages/lightgbm/engine.py:123: UserWarning: Found `early_stopping_round` in params. Will use it instead of argument\n",
            "  warnings.warn(\"Found `{}` in params. Will use it instead of argument\".format(alias))\n",
            "/usr/local/lib/python3.6/dist-packages/lightgbm/basic.py:762: UserWarning: categorical_feature in param dict is overridden.\n",
            "  warnings.warn('categorical_feature in param dict is overridden.')\n",
            "/usr/local/lib/python3.6/dist-packages/lightgbm/callback.py:189: UserWarning: Early stopping is not available in dart mode\n",
            "  warnings.warn('Early stopping is not available in dart mode')\n"
          ],
          "name": "stderr"
        },
        {
          "output_type": "stream",
          "text": [
            "[100]\ttraining's rmse: 2.05146\tvalid_1's rmse: 1.91026\n",
            "Our val mae score is 1.056399973545537\n",
            "WI_2\n",
            "{'bagging_fraction': 0.5, 'bagging_freq': 5, 'boosting_type': 'dart', 'colsample_bytree': 0.75, 'early_stopping_round': 500, 'learning_rate': 0.075, 'metric': 'rmse', 'n_jobs': -1, 'num_iterations': 100, 'objective': 'poisson', 'seed': 0}\n",
            "(4368755, 44)\n"
          ],
          "name": "stdout"
        },
        {
          "output_type": "stream",
          "text": [
            "/usr/local/lib/python3.6/dist-packages/lightgbm/engine.py:118: UserWarning: Found `num_iterations` in params. Will use it instead of argument\n",
            "  warnings.warn(\"Found `{}` in params. Will use it instead of argument\".format(alias))\n",
            "/usr/local/lib/python3.6/dist-packages/lightgbm/engine.py:123: UserWarning: Found `early_stopping_round` in params. Will use it instead of argument\n",
            "  warnings.warn(\"Found `{}` in params. Will use it instead of argument\".format(alias))\n",
            "/usr/local/lib/python3.6/dist-packages/lightgbm/basic.py:762: UserWarning: categorical_feature in param dict is overridden.\n",
            "  warnings.warn('categorical_feature in param dict is overridden.')\n",
            "/usr/local/lib/python3.6/dist-packages/lightgbm/callback.py:189: UserWarning: Early stopping is not available in dart mode\n",
            "  warnings.warn('Early stopping is not available in dart mode')\n"
          ],
          "name": "stderr"
        },
        {
          "output_type": "stream",
          "text": [
            "[100]\ttraining's rmse: 3.33133\tvalid_1's rmse: 3.72504\n",
            "Our val mae score is 1.4215095156015887\n",
            "WI_3\n",
            "{'bagging_fraction': 0.5, 'bagging_freq': 5, 'boosting_type': 'dart', 'colsample_bytree': 0.75, 'early_stopping_round': 500, 'learning_rate': 0.075, 'metric': 'rmse', 'n_jobs': -1, 'num_iterations': 100, 'objective': 'poisson', 'seed': 0}\n",
            "(4494582, 44)\n"
          ],
          "name": "stdout"
        },
        {
          "output_type": "stream",
          "text": [
            "/usr/local/lib/python3.6/dist-packages/lightgbm/engine.py:118: UserWarning: Found `num_iterations` in params. Will use it instead of argument\n",
            "  warnings.warn(\"Found `{}` in params. Will use it instead of argument\".format(alias))\n",
            "/usr/local/lib/python3.6/dist-packages/lightgbm/engine.py:123: UserWarning: Found `early_stopping_round` in params. Will use it instead of argument\n",
            "  warnings.warn(\"Found `{}` in params. Will use it instead of argument\".format(alias))\n",
            "/usr/local/lib/python3.6/dist-packages/lightgbm/basic.py:762: UserWarning: categorical_feature in param dict is overridden.\n",
            "  warnings.warn('categorical_feature in param dict is overridden.')\n",
            "/usr/local/lib/python3.6/dist-packages/lightgbm/callback.py:189: UserWarning: Early stopping is not available in dart mode\n",
            "  warnings.warn('Early stopping is not available in dart mode')\n"
          ],
          "name": "stderr"
        },
        {
          "output_type": "stream",
          "text": [
            "[100]\ttraining's rmse: 3.21328\tvalid_1's rmse: 2.71041\n",
            "Our val mae score is 1.1242284647262093\n",
            "CA_1\n",
            "{'bagging_fraction': 0.5, 'bagging_freq': 5, 'boosting_type': 'dart', 'colsample_bytree': 0.75, 'early_stopping_round': 500, 'learning_rate': 0.075, 'metric': 'rmse', 'n_jobs': -1, 'num_iterations': 100, 'objective': 'tweedie', 'seed': 0}\n",
            "(4510808, 44)\n"
          ],
          "name": "stdout"
        },
        {
          "output_type": "stream",
          "text": [
            "/usr/local/lib/python3.6/dist-packages/lightgbm/engine.py:118: UserWarning: Found `num_iterations` in params. Will use it instead of argument\n",
            "  warnings.warn(\"Found `{}` in params. Will use it instead of argument\".format(alias))\n",
            "/usr/local/lib/python3.6/dist-packages/lightgbm/engine.py:123: UserWarning: Found `early_stopping_round` in params. Will use it instead of argument\n",
            "  warnings.warn(\"Found `{}` in params. Will use it instead of argument\".format(alias))\n",
            "/usr/local/lib/python3.6/dist-packages/lightgbm/basic.py:762: UserWarning: categorical_feature in param dict is overridden.\n",
            "  warnings.warn('categorical_feature in param dict is overridden.')\n",
            "/usr/local/lib/python3.6/dist-packages/lightgbm/callback.py:189: UserWarning: Early stopping is not available in dart mode\n",
            "  warnings.warn('Early stopping is not available in dart mode')\n"
          ],
          "name": "stderr"
        },
        {
          "output_type": "stream",
          "text": [
            "[100]\ttraining's rmse: 3.27105\tvalid_1's rmse: 2.46126\n",
            "Our val mae score is 1.1691018806509457\n",
            "CA_2\n",
            "{'bagging_fraction': 0.5, 'bagging_freq': 5, 'boosting_type': 'dart', 'colsample_bytree': 0.75, 'early_stopping_round': 500, 'learning_rate': 0.075, 'metric': 'rmse', 'n_jobs': -1, 'num_iterations': 100, 'objective': 'tweedie', 'seed': 0}\n",
            "(4082924, 46)\n"
          ],
          "name": "stdout"
        },
        {
          "output_type": "stream",
          "text": [
            "/usr/local/lib/python3.6/dist-packages/lightgbm/engine.py:118: UserWarning: Found `num_iterations` in params. Will use it instead of argument\n",
            "  warnings.warn(\"Found `{}` in params. Will use it instead of argument\".format(alias))\n",
            "/usr/local/lib/python3.6/dist-packages/lightgbm/engine.py:123: UserWarning: Found `early_stopping_round` in params. Will use it instead of argument\n",
            "  warnings.warn(\"Found `{}` in params. Will use it instead of argument\".format(alias))\n",
            "/usr/local/lib/python3.6/dist-packages/lightgbm/basic.py:762: UserWarning: categorical_feature in param dict is overridden.\n",
            "  warnings.warn('categorical_feature in param dict is overridden.')\n",
            "/usr/local/lib/python3.6/dist-packages/lightgbm/callback.py:189: UserWarning: Early stopping is not available in dart mode\n",
            "  warnings.warn('Early stopping is not available in dart mode')\n"
          ],
          "name": "stderr"
        }
      ]
    },
    {
      "cell_type": "code",
      "metadata": {
        "id": "IPa-ZAxwDjZ1",
        "colab_type": "code",
        "colab": {
          "base_uri": "https://localhost:8080/",
          "height": 36
        },
        "outputId": "4989e9b4-a6b0-443a-d69f-de4af42b846b"
      },
      "source": [
        "np.sqrt(np.mean((pred_true['pred'] - pred_true['true'])**2) )"
      ],
      "execution_count": 27,
      "outputs": [
        {
          "output_type": "execute_result",
          "data": {
            "text/plain": [
              "2.1865670163093953"
            ]
          },
          "metadata": {
            "tags": []
          },
          "execution_count": 27
        }
      ]
    },
    {
      "cell_type": "code",
      "metadata": {
        "id": "uVWVgCSsDT1t",
        "colab_type": "code",
        "colab": {
          "base_uri": "https://localhost:8080/",
          "height": 36
        },
        "outputId": "67bcf5a6-469d-4e4c-8420-52f2ce4a076d"
      },
      "source": [
        "np.mean(np.abs(pred_true['pred'] - pred_true['true']) )"
      ],
      "execution_count": 24,
      "outputs": [
        {
          "output_type": "execute_result",
          "data": {
            "text/plain": [
              "1.0556048913351244"
            ]
          },
          "metadata": {
            "tags": []
          },
          "execution_count": 24
        }
      ]
    },
    {
      "cell_type": "code",
      "metadata": {
        "id": "mVr0NRqYYSjD",
        "colab_type": "code",
        "colab": {}
      },
      "source": [
        "validation = validation.set_index('id')\n",
        "validation = validation.reindex(index=validation_csv['id'])\n",
        "validation = validation.reset_index()"
      ],
      "execution_count": 0,
      "outputs": []
    },
    {
      "cell_type": "code",
      "metadata": {
        "id": "_6HOyj95YSjK",
        "colab_type": "code",
        "outputId": "994df053-565a-4c1b-ddc0-76583b4c0b10",
        "colab": {
          "base_uri": "https://localhost:8080/",
          "height": 443
        }
      },
      "source": [
        "validation"
      ],
      "execution_count": 12,
      "outputs": [
        {
          "output_type": "execute_result",
          "data": {
            "text/html": [
              "<div>\n",
              "<style scoped>\n",
              "    .dataframe tbody tr th:only-of-type {\n",
              "        vertical-align: middle;\n",
              "    }\n",
              "\n",
              "    .dataframe tbody tr th {\n",
              "        vertical-align: top;\n",
              "    }\n",
              "\n",
              "    .dataframe thead th {\n",
              "        text-align: right;\n",
              "    }\n",
              "</style>\n",
              "<table border=\"1\" class=\"dataframe\">\n",
              "  <thead>\n",
              "    <tr style=\"text-align: right;\">\n",
              "      <th></th>\n",
              "      <th>id</th>\n",
              "      <th>F1</th>\n",
              "      <th>F2</th>\n",
              "      <th>F3</th>\n",
              "      <th>F4</th>\n",
              "      <th>F5</th>\n",
              "      <th>F6</th>\n",
              "      <th>F7</th>\n",
              "      <th>F8</th>\n",
              "      <th>F9</th>\n",
              "      <th>F10</th>\n",
              "      <th>F11</th>\n",
              "      <th>F12</th>\n",
              "      <th>F13</th>\n",
              "      <th>F14</th>\n",
              "      <th>F15</th>\n",
              "      <th>F16</th>\n",
              "      <th>F17</th>\n",
              "      <th>F18</th>\n",
              "      <th>F19</th>\n",
              "      <th>F20</th>\n",
              "      <th>F21</th>\n",
              "      <th>F22</th>\n",
              "      <th>F23</th>\n",
              "      <th>F24</th>\n",
              "      <th>F25</th>\n",
              "      <th>F26</th>\n",
              "      <th>F27</th>\n",
              "      <th>F28</th>\n",
              "    </tr>\n",
              "  </thead>\n",
              "  <tbody>\n",
              "    <tr>\n",
              "      <th>0</th>\n",
              "      <td>HOBBIES_1_001_CA_1_validation</td>\n",
              "      <td>0.707403</td>\n",
              "      <td>0.778371</td>\n",
              "      <td>0.593790</td>\n",
              "      <td>0.456425</td>\n",
              "      <td>0.626791</td>\n",
              "      <td>0.703639</td>\n",
              "      <td>0.602513</td>\n",
              "      <td>0.460977</td>\n",
              "      <td>0.668885</td>\n",
              "      <td>0.618535</td>\n",
              "      <td>0.639019</td>\n",
              "      <td>0.803799</td>\n",
              "      <td>1.161904</td>\n",
              "      <td>0.944817</td>\n",
              "      <td>0.798482</td>\n",
              "      <td>0.864328</td>\n",
              "      <td>0.591014</td>\n",
              "      <td>0.567763</td>\n",
              "      <td>0.663576</td>\n",
              "      <td>1.116052</td>\n",
              "      <td>0.814979</td>\n",
              "      <td>0.601054</td>\n",
              "      <td>0.725357</td>\n",
              "      <td>0.654348</td>\n",
              "      <td>0.678919</td>\n",
              "      <td>0.825208</td>\n",
              "      <td>1.131731</td>\n",
              "      <td>0.845007</td>\n",
              "    </tr>\n",
              "    <tr>\n",
              "      <th>1</th>\n",
              "      <td>HOBBIES_1_002_CA_1_validation</td>\n",
              "      <td>0.316021</td>\n",
              "      <td>0.323793</td>\n",
              "      <td>0.352226</td>\n",
              "      <td>0.380675</td>\n",
              "      <td>0.383175</td>\n",
              "      <td>0.411728</td>\n",
              "      <td>0.299425</td>\n",
              "      <td>0.200208</td>\n",
              "      <td>0.182671</td>\n",
              "      <td>0.195781</td>\n",
              "      <td>0.198145</td>\n",
              "      <td>0.209061</td>\n",
              "      <td>0.244914</td>\n",
              "      <td>0.198030</td>\n",
              "      <td>0.182671</td>\n",
              "      <td>0.182671</td>\n",
              "      <td>0.197098</td>\n",
              "      <td>0.202863</td>\n",
              "      <td>0.210986</td>\n",
              "      <td>0.246257</td>\n",
              "      <td>0.214940</td>\n",
              "      <td>0.183899</td>\n",
              "      <td>0.183899</td>\n",
              "      <td>0.263589</td>\n",
              "      <td>0.273050</td>\n",
              "      <td>0.289828</td>\n",
              "      <td>0.342081</td>\n",
              "      <td>0.284620</td>\n",
              "    </tr>\n",
              "    <tr>\n",
              "      <th>2</th>\n",
              "      <td>HOBBIES_1_003_CA_1_validation</td>\n",
              "      <td>0.315624</td>\n",
              "      <td>0.306150</td>\n",
              "      <td>0.320101</td>\n",
              "      <td>0.338020</td>\n",
              "      <td>0.378747</td>\n",
              "      <td>0.347340</td>\n",
              "      <td>0.306777</td>\n",
              "      <td>0.292556</td>\n",
              "      <td>0.289072</td>\n",
              "      <td>0.279680</td>\n",
              "      <td>0.333299</td>\n",
              "      <td>0.388020</td>\n",
              "      <td>0.640442</td>\n",
              "      <td>0.330636</td>\n",
              "      <td>0.282370</td>\n",
              "      <td>0.292425</td>\n",
              "      <td>0.315269</td>\n",
              "      <td>0.405163</td>\n",
              "      <td>0.448954</td>\n",
              "      <td>0.770122</td>\n",
              "      <td>0.523203</td>\n",
              "      <td>0.468318</td>\n",
              "      <td>0.467286</td>\n",
              "      <td>0.494236</td>\n",
              "      <td>0.507160</td>\n",
              "      <td>0.555128</td>\n",
              "      <td>0.832543</td>\n",
              "      <td>0.513696</td>\n",
              "    </tr>\n",
              "    <tr>\n",
              "      <th>3</th>\n",
              "      <td>HOBBIES_1_004_CA_1_validation</td>\n",
              "      <td>2.012819</td>\n",
              "      <td>1.589135</td>\n",
              "      <td>1.470378</td>\n",
              "      <td>1.539739</td>\n",
              "      <td>1.601337</td>\n",
              "      <td>2.064468</td>\n",
              "      <td>2.354625</td>\n",
              "      <td>1.243190</td>\n",
              "      <td>1.152885</td>\n",
              "      <td>1.147753</td>\n",
              "      <td>1.333391</td>\n",
              "      <td>1.477234</td>\n",
              "      <td>2.480738</td>\n",
              "      <td>2.848146</td>\n",
              "      <td>1.809254</td>\n",
              "      <td>1.497564</td>\n",
              "      <td>1.540723</td>\n",
              "      <td>1.672484</td>\n",
              "      <td>1.683169</td>\n",
              "      <td>2.152572</td>\n",
              "      <td>2.650333</td>\n",
              "      <td>1.614948</td>\n",
              "      <td>1.439450</td>\n",
              "      <td>1.263546</td>\n",
              "      <td>1.407295</td>\n",
              "      <td>1.637714</td>\n",
              "      <td>2.855996</td>\n",
              "      <td>3.286810</td>\n",
              "    </tr>\n",
              "    <tr>\n",
              "      <th>4</th>\n",
              "      <td>HOBBIES_1_005_CA_1_validation</td>\n",
              "      <td>0.887128</td>\n",
              "      <td>0.820169</td>\n",
              "      <td>0.930010</td>\n",
              "      <td>1.033608</td>\n",
              "      <td>1.112851</td>\n",
              "      <td>1.413475</td>\n",
              "      <td>1.622516</td>\n",
              "      <td>1.246557</td>\n",
              "      <td>1.194341</td>\n",
              "      <td>1.195186</td>\n",
              "      <td>1.016760</td>\n",
              "      <td>0.982402</td>\n",
              "      <td>1.450273</td>\n",
              "      <td>1.161164</td>\n",
              "      <td>0.883201</td>\n",
              "      <td>0.819446</td>\n",
              "      <td>0.908448</td>\n",
              "      <td>0.941478</td>\n",
              "      <td>1.053298</td>\n",
              "      <td>1.582011</td>\n",
              "      <td>1.472831</td>\n",
              "      <td>0.968174</td>\n",
              "      <td>0.851733</td>\n",
              "      <td>0.971658</td>\n",
              "      <td>1.004830</td>\n",
              "      <td>1.155752</td>\n",
              "      <td>1.647235</td>\n",
              "      <td>1.677827</td>\n",
              "    </tr>\n",
              "    <tr>\n",
              "      <th>...</th>\n",
              "      <td>...</td>\n",
              "      <td>...</td>\n",
              "      <td>...</td>\n",
              "      <td>...</td>\n",
              "      <td>...</td>\n",
              "      <td>...</td>\n",
              "      <td>...</td>\n",
              "      <td>...</td>\n",
              "      <td>...</td>\n",
              "      <td>...</td>\n",
              "      <td>...</td>\n",
              "      <td>...</td>\n",
              "      <td>...</td>\n",
              "      <td>...</td>\n",
              "      <td>...</td>\n",
              "      <td>...</td>\n",
              "      <td>...</td>\n",
              "      <td>...</td>\n",
              "      <td>...</td>\n",
              "      <td>...</td>\n",
              "      <td>...</td>\n",
              "      <td>...</td>\n",
              "      <td>...</td>\n",
              "      <td>...</td>\n",
              "      <td>...</td>\n",
              "      <td>...</td>\n",
              "      <td>...</td>\n",
              "      <td>...</td>\n",
              "      <td>...</td>\n",
              "    </tr>\n",
              "    <tr>\n",
              "      <th>30485</th>\n",
              "      <td>FOODS_3_823_WI_3_validation</td>\n",
              "      <td>0.279038</td>\n",
              "      <td>0.229139</td>\n",
              "      <td>0.243871</td>\n",
              "      <td>0.215726</td>\n",
              "      <td>0.252780</td>\n",
              "      <td>0.300002</td>\n",
              "      <td>0.351593</td>\n",
              "      <td>0.293106</td>\n",
              "      <td>0.255480</td>\n",
              "      <td>0.243871</td>\n",
              "      <td>0.242320</td>\n",
              "      <td>0.269741</td>\n",
              "      <td>0.315626</td>\n",
              "      <td>0.351510</td>\n",
              "      <td>0.474787</td>\n",
              "      <td>0.338837</td>\n",
              "      <td>0.451999</td>\n",
              "      <td>0.348555</td>\n",
              "      <td>0.463227</td>\n",
              "      <td>0.522267</td>\n",
              "      <td>0.592744</td>\n",
              "      <td>0.470733</td>\n",
              "      <td>0.299586</td>\n",
              "      <td>0.353508</td>\n",
              "      <td>0.365595</td>\n",
              "      <td>0.396779</td>\n",
              "      <td>0.386759</td>\n",
              "      <td>0.486415</td>\n",
              "    </tr>\n",
              "    <tr>\n",
              "      <th>30486</th>\n",
              "      <td>FOODS_3_824_WI_3_validation</td>\n",
              "      <td>0.241716</td>\n",
              "      <td>0.223359</td>\n",
              "      <td>0.229032</td>\n",
              "      <td>0.226612</td>\n",
              "      <td>0.279657</td>\n",
              "      <td>0.350886</td>\n",
              "      <td>0.409190</td>\n",
              "      <td>0.488290</td>\n",
              "      <td>0.470240</td>\n",
              "      <td>0.424102</td>\n",
              "      <td>0.432911</td>\n",
              "      <td>0.418971</td>\n",
              "      <td>0.485819</td>\n",
              "      <td>0.535718</td>\n",
              "      <td>0.511448</td>\n",
              "      <td>0.426144</td>\n",
              "      <td>0.471741</td>\n",
              "      <td>0.456332</td>\n",
              "      <td>0.416480</td>\n",
              "      <td>0.423140</td>\n",
              "      <td>0.433380</td>\n",
              "      <td>0.383933</td>\n",
              "      <td>0.249070</td>\n",
              "      <td>0.229032</td>\n",
              "      <td>0.226612</td>\n",
              "      <td>0.279657</td>\n",
              "      <td>0.350886</td>\n",
              "      <td>0.385731</td>\n",
              "    </tr>\n",
              "    <tr>\n",
              "      <th>30487</th>\n",
              "      <td>FOODS_3_825_WI_3_validation</td>\n",
              "      <td>0.812388</td>\n",
              "      <td>0.668772</td>\n",
              "      <td>0.641803</td>\n",
              "      <td>0.540163</td>\n",
              "      <td>0.704668</td>\n",
              "      <td>0.830977</td>\n",
              "      <td>0.816040</td>\n",
              "      <td>0.861878</td>\n",
              "      <td>0.836141</td>\n",
              "      <td>0.841839</td>\n",
              "      <td>0.972350</td>\n",
              "      <td>1.011688</td>\n",
              "      <td>1.299377</td>\n",
              "      <td>1.311430</td>\n",
              "      <td>1.439858</td>\n",
              "      <td>0.959416</td>\n",
              "      <td>0.963124</td>\n",
              "      <td>0.818955</td>\n",
              "      <td>0.986815</td>\n",
              "      <td>1.371101</td>\n",
              "      <td>1.252650</td>\n",
              "      <td>0.872561</td>\n",
              "      <td>0.707059</td>\n",
              "      <td>0.714272</td>\n",
              "      <td>0.632937</td>\n",
              "      <td>0.811150</td>\n",
              "      <td>0.923961</td>\n",
              "      <td>0.837245</td>\n",
              "    </tr>\n",
              "    <tr>\n",
              "      <th>30488</th>\n",
              "      <td>FOODS_3_826_WI_3_validation</td>\n",
              "      <td>1.101860</td>\n",
              "      <td>1.077503</td>\n",
              "      <td>1.043995</td>\n",
              "      <td>0.836861</td>\n",
              "      <td>0.840419</td>\n",
              "      <td>1.068974</td>\n",
              "      <td>1.036571</td>\n",
              "      <td>0.759211</td>\n",
              "      <td>0.877082</td>\n",
              "      <td>0.676111</td>\n",
              "      <td>0.743221</td>\n",
              "      <td>0.822997</td>\n",
              "      <td>1.044233</td>\n",
              "      <td>1.385063</td>\n",
              "      <td>0.949027</td>\n",
              "      <td>0.921681</td>\n",
              "      <td>0.767653</td>\n",
              "      <td>0.873922</td>\n",
              "      <td>0.807876</td>\n",
              "      <td>1.017214</td>\n",
              "      <td>1.181225</td>\n",
              "      <td>0.710651</td>\n",
              "      <td>0.771827</td>\n",
              "      <td>0.644880</td>\n",
              "      <td>0.612079</td>\n",
              "      <td>0.677224</td>\n",
              "      <td>0.979613</td>\n",
              "      <td>1.286847</td>\n",
              "    </tr>\n",
              "    <tr>\n",
              "      <th>30489</th>\n",
              "      <td>FOODS_3_827_WI_3_validation</td>\n",
              "      <td>2.373876</td>\n",
              "      <td>2.601707</td>\n",
              "      <td>2.136537</td>\n",
              "      <td>1.961843</td>\n",
              "      <td>2.376566</td>\n",
              "      <td>3.014150</td>\n",
              "      <td>2.758154</td>\n",
              "      <td>2.332835</td>\n",
              "      <td>2.412865</td>\n",
              "      <td>1.780392</td>\n",
              "      <td>1.871682</td>\n",
              "      <td>1.829199</td>\n",
              "      <td>2.003156</td>\n",
              "      <td>1.604018</td>\n",
              "      <td>1.456287</td>\n",
              "      <td>1.420251</td>\n",
              "      <td>1.222970</td>\n",
              "      <td>1.090867</td>\n",
              "      <td>1.195662</td>\n",
              "      <td>1.543727</td>\n",
              "      <td>1.355041</td>\n",
              "      <td>1.121037</td>\n",
              "      <td>1.304927</td>\n",
              "      <td>1.124094</td>\n",
              "      <td>0.974792</td>\n",
              "      <td>1.182184</td>\n",
              "      <td>1.511905</td>\n",
              "      <td>1.295590</td>\n",
              "    </tr>\n",
              "  </tbody>\n",
              "</table>\n",
              "<p>30490 rows × 29 columns</p>\n",
              "</div>"
            ],
            "text/plain": [
              "                                  id        F1  ...       F27       F28\n",
              "0      HOBBIES_1_001_CA_1_validation  0.707403  ...  1.131731  0.845007\n",
              "1      HOBBIES_1_002_CA_1_validation  0.316021  ...  0.342081  0.284620\n",
              "2      HOBBIES_1_003_CA_1_validation  0.315624  ...  0.832543  0.513696\n",
              "3      HOBBIES_1_004_CA_1_validation  2.012819  ...  2.855996  3.286810\n",
              "4      HOBBIES_1_005_CA_1_validation  0.887128  ...  1.647235  1.677827\n",
              "...                              ...       ...  ...       ...       ...\n",
              "30485    FOODS_3_823_WI_3_validation  0.279038  ...  0.386759  0.486415\n",
              "30486    FOODS_3_824_WI_3_validation  0.241716  ...  0.350886  0.385731\n",
              "30487    FOODS_3_825_WI_3_validation  0.812388  ...  0.923961  0.837245\n",
              "30488    FOODS_3_826_WI_3_validation  1.101860  ...  0.979613  1.286847\n",
              "30489    FOODS_3_827_WI_3_validation  2.373876  ...  1.511905  1.295590\n",
              "\n",
              "[30490 rows x 29 columns]"
            ]
          },
          "metadata": {
            "tags": []
          },
          "execution_count": 12
        }
      ]
    },
    {
      "cell_type": "code",
      "metadata": {
        "id": "76_9Dc93YSjQ",
        "colab_type": "code",
        "colab": {}
      },
      "source": [
        "final = pd.concat([validation, evaluation])"
      ],
      "execution_count": 0,
      "outputs": []
    },
    {
      "cell_type": "code",
      "metadata": {
        "id": "uwXWKZlaYSj0",
        "colab_type": "code",
        "colab": {}
      },
      "source": [
        "submission_folder = '/content/drive/My Drive/Kaggle_M5/04_submissions/'\n",
        "final.to_csv(submission_folder  + 'submission-by_store.csv', index = False)"
      ],
      "execution_count": 0,
      "outputs": []
    },
    {
      "cell_type": "code",
      "metadata": {
        "id": "Ar8YLi5uvc0R",
        "colab_type": "code",
        "colab": {}
      },
      "source": [
        ""
      ],
      "execution_count": 0,
      "outputs": []
    }
  ]
}