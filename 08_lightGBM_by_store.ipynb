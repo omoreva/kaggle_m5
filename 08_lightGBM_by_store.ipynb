{
  "nbformat": 4,
  "nbformat_minor": 0,
  "metadata": {
    "kernelspec": {
      "display_name": "Python 3",
      "language": "python",
      "name": "python3"
    },
    "language_info": {
      "codemirror_mode": {
        "name": "ipython",
        "version": 3
      },
      "file_extension": ".py",
      "mimetype": "text/x-python",
      "name": "python",
      "nbconvert_exporter": "python",
      "pygments_lexer": "ipython3",
      "version": "3.7.4"
    },
    "colab": {
      "name": "07_lightGBM_demand_type.ipynb",
      "provenance": []
    }
  },
  "cells": [
    {
      "cell_type": "code",
      "metadata": {
        "id": "jW8-zNCCabFC",
        "colab_type": "code",
        "outputId": "7c300f47-27b4-42b1-db72-69d2738d32fa",
        "colab": {
          "base_uri": "https://localhost:8080/",
          "height": 1000
        }
      },
      "source": [
        "!pip install mlflow"
      ],
      "execution_count": 1,
      "outputs": [
        {
          "output_type": "stream",
          "text": [
            "Collecting mlflow\n",
            "\u001b[?25l  Downloading https://files.pythonhosted.org/packages/9e/a7/40679fdb5ac44ad922902b560818682038be169f88c23ad719b9d1f82090/mlflow-1.8.0-py3-none-any.whl (10.4MB)\n",
            "\u001b[K     |████████████████████████████████| 10.4MB 2.6MB/s \n",
            "\u001b[?25hCollecting docker>=4.0.0\n",
            "\u001b[?25l  Downloading https://files.pythonhosted.org/packages/58/74/379a9d30b1620def158c40b88c43e01c1936a287ebb97afab0699c601c57/docker-4.2.0-py2.py3-none-any.whl (143kB)\n",
            "\u001b[K     |████████████████████████████████| 153kB 42.6MB/s \n",
            "\u001b[?25hRequirement already satisfied: Flask in /usr/local/lib/python3.6/dist-packages (from mlflow) (1.1.2)\n",
            "Requirement already satisfied: sqlparse in /usr/local/lib/python3.6/dist-packages (from mlflow) (0.3.1)\n",
            "Collecting alembic\n",
            "\u001b[?25l  Downloading https://files.pythonhosted.org/packages/60/1e/cabc75a189de0fbb2841d0975243e59bde8b7822bacbb95008ac6fe9ad47/alembic-1.4.2.tar.gz (1.1MB)\n",
            "\u001b[K     |████████████████████████████████| 1.1MB 50.3MB/s \n",
            "\u001b[?25h  Installing build dependencies ... \u001b[?25l\u001b[?25hdone\n",
            "  Getting requirements to build wheel ... \u001b[?25l\u001b[?25hdone\n",
            "    Preparing wheel metadata ... \u001b[?25l\u001b[?25hdone\n",
            "Collecting gorilla\n",
            "  Downloading https://files.pythonhosted.org/packages/e3/56/5a683944cbfc77e429c6f03c636ca50504a785f60ffae91ddd7f5f7bb520/gorilla-0.3.0-py2.py3-none-any.whl\n",
            "Requirement already satisfied: python-dateutil in /usr/local/lib/python3.6/dist-packages (from mlflow) (2.8.1)\n",
            "Collecting prometheus-flask-exporter\n",
            "  Downloading https://files.pythonhosted.org/packages/74/72/167af24b6df90e1c9db21d4d3a1d67573f35a4ec2376eaebd1ac4e1bbf03/prometheus_flask_exporter-0.13.0.tar.gz\n",
            "Requirement already satisfied: protobuf>=3.6.0 in /usr/local/lib/python3.6/dist-packages (from mlflow) (3.10.0)\n",
            "Collecting sqlalchemy<=1.3.13\n",
            "\u001b[?25l  Downloading https://files.pythonhosted.org/packages/af/47/35edeb0f86c0b44934c05d961c893e223ef27e79e1f53b5e6f14820ff553/SQLAlchemy-1.3.13.tar.gz (6.0MB)\n",
            "\u001b[K     |████████████████████████████████| 6.0MB 42.2MB/s \n",
            "\u001b[?25hRequirement already satisfied: requests>=2.17.3 in /usr/local/lib/python3.6/dist-packages (from mlflow) (2.23.0)\n",
            "Collecting gunicorn; platform_system != \"Windows\"\n",
            "\u001b[?25l  Downloading https://files.pythonhosted.org/packages/69/ca/926f7cd3a2014b16870086b2d0fdc84a9e49473c68a8dff8b57f7c156f43/gunicorn-20.0.4-py2.py3-none-any.whl (77kB)\n",
            "\u001b[K     |████████████████████████████████| 81kB 10.0MB/s \n",
            "\u001b[?25hCollecting simplejson\n",
            "\u001b[?25l  Downloading https://files.pythonhosted.org/packages/98/87/a7b98aa9256c8843f92878966dc3d8d914c14aad97e2c5ce4798d5743e07/simplejson-3.17.0.tar.gz (83kB)\n",
            "\u001b[K     |████████████████████████████████| 92kB 11.1MB/s \n",
            "\u001b[?25hRequirement already satisfied: cloudpickle in /usr/local/lib/python3.6/dist-packages (from mlflow) (1.3.0)\n",
            "Collecting databricks-cli>=0.8.7\n",
            "\u001b[?25l  Downloading https://files.pythonhosted.org/packages/49/d1/fe0ba3d5c2b4b76ec035aa243bbc2fd0d60607a391f192ebe1656e17a4e2/databricks-cli-0.10.0.tar.gz (45kB)\n",
            "\u001b[K     |████████████████████████████████| 51kB 6.9MB/s \n",
            "\u001b[?25hRequirement already satisfied: entrypoints in /usr/local/lib/python3.6/dist-packages (from mlflow) (0.3)\n",
            "Collecting gitpython>=2.1.0\n",
            "\u001b[?25l  Downloading https://files.pythonhosted.org/packages/44/33/917e6fde1cad13daa7053f39b7c8af3be287314f75f1b1ea8d3fe37a8571/GitPython-3.1.2-py3-none-any.whl (451kB)\n",
            "\u001b[K     |████████████████████████████████| 460kB 46.0MB/s \n",
            "\u001b[?25hRequirement already satisfied: pandas in /usr/local/lib/python3.6/dist-packages (from mlflow) (1.0.3)\n",
            "Requirement already satisfied: six>=1.10.0 in /usr/local/lib/python3.6/dist-packages (from mlflow) (1.12.0)\n",
            "Requirement already satisfied: pyyaml in /usr/local/lib/python3.6/dist-packages (from mlflow) (3.13)\n",
            "Requirement already satisfied: numpy in /usr/local/lib/python3.6/dist-packages (from mlflow) (1.18.3)\n",
            "Collecting querystring-parser\n",
            "  Downloading https://files.pythonhosted.org/packages/4a/fa/f54f5662e0eababf0c49e92fd94bf178888562c0e7b677c8941bbbcd1bd6/querystring_parser-1.2.4.tar.gz\n",
            "Requirement already satisfied: click>=7.0 in /usr/local/lib/python3.6/dist-packages (from mlflow) (7.1.2)\n",
            "Collecting websocket-client>=0.32.0\n",
            "\u001b[?25l  Downloading https://files.pythonhosted.org/packages/4c/5f/f61b420143ed1c8dc69f9eaec5ff1ac36109d52c80de49d66e0c36c3dfdf/websocket_client-0.57.0-py2.py3-none-any.whl (200kB)\n",
            "\u001b[K     |████████████████████████████████| 204kB 44.1MB/s \n",
            "\u001b[?25hRequirement already satisfied: itsdangerous>=0.24 in /usr/local/lib/python3.6/dist-packages (from Flask->mlflow) (1.1.0)\n",
            "Requirement already satisfied: Jinja2>=2.10.1 in /usr/local/lib/python3.6/dist-packages (from Flask->mlflow) (2.11.2)\n",
            "Requirement already satisfied: Werkzeug>=0.15 in /usr/local/lib/python3.6/dist-packages (from Flask->mlflow) (1.0.1)\n",
            "Collecting python-editor>=0.3\n",
            "  Downloading https://files.pythonhosted.org/packages/c6/d3/201fc3abe391bbae6606e6f1d598c15d367033332bd54352b12f35513717/python_editor-1.0.4-py3-none-any.whl\n",
            "Collecting Mako\n",
            "\u001b[?25l  Downloading https://files.pythonhosted.org/packages/50/78/f6ade1e18aebda570eed33b7c534378d9659351cadce2fcbc7b31be5f615/Mako-1.1.2-py2.py3-none-any.whl (75kB)\n",
            "\u001b[K     |████████████████████████████████| 81kB 10.6MB/s \n",
            "\u001b[?25hRequirement already satisfied: prometheus_client in /usr/local/lib/python3.6/dist-packages (from prometheus-flask-exporter->mlflow) (0.7.1)\n",
            "Requirement already satisfied: setuptools in /usr/local/lib/python3.6/dist-packages (from protobuf>=3.6.0->mlflow) (46.1.3)\n",
            "Requirement already satisfied: idna<3,>=2.5 in /usr/local/lib/python3.6/dist-packages (from requests>=2.17.3->mlflow) (2.9)\n",
            "Requirement already satisfied: urllib3!=1.25.0,!=1.25.1,<1.26,>=1.21.1 in /usr/local/lib/python3.6/dist-packages (from requests>=2.17.3->mlflow) (1.24.3)\n",
            "Requirement already satisfied: certifi>=2017.4.17 in /usr/local/lib/python3.6/dist-packages (from requests>=2.17.3->mlflow) (2020.4.5.1)\n",
            "Requirement already satisfied: chardet<4,>=3.0.2 in /usr/local/lib/python3.6/dist-packages (from requests>=2.17.3->mlflow) (3.0.4)\n",
            "Requirement already satisfied: tabulate>=0.7.7 in /usr/local/lib/python3.6/dist-packages (from databricks-cli>=0.8.7->mlflow) (0.8.7)\n",
            "Collecting configparser>=0.3.5\n",
            "  Downloading https://files.pythonhosted.org/packages/4b/6b/01baa293090240cf0562cc5eccb69c6f5006282127f2b846fad011305c79/configparser-5.0.0-py3-none-any.whl\n",
            "Collecting gitdb<5,>=4.0.1\n",
            "\u001b[?25l  Downloading https://files.pythonhosted.org/packages/48/11/d1800bca0a3bae820b84b7d813ad1eff15a48a64caea9c823fc8c1b119e8/gitdb-4.0.5-py3-none-any.whl (63kB)\n",
            "\u001b[K     |████████████████████████████████| 71kB 9.8MB/s \n",
            "\u001b[?25hRequirement already satisfied: pytz>=2017.2 in /usr/local/lib/python3.6/dist-packages (from pandas->mlflow) (2018.9)\n",
            "Requirement already satisfied: MarkupSafe>=0.23 in /usr/local/lib/python3.6/dist-packages (from Jinja2>=2.10.1->Flask->mlflow) (1.1.1)\n",
            "Collecting smmap<4,>=3.0.1\n",
            "  Downloading https://files.pythonhosted.org/packages/b0/9a/4d409a6234eb940e6a78dfdfc66156e7522262f5f2fecca07dc55915952d/smmap-3.0.4-py2.py3-none-any.whl\n",
            "Building wheels for collected packages: alembic\n",
            "  Building wheel for alembic (PEP 517) ... \u001b[?25l\u001b[?25hdone\n",
            "  Created wheel for alembic: filename=alembic-1.4.2-cp36-none-any.whl size=159543 sha256=eaad9b682b2c776daae29bda33e9fa7f063ed55c30de0481b461aa5df1acf2f5\n",
            "  Stored in directory: /root/.cache/pip/wheels/1f/04/83/76023f7a4c14688c0b5c2682a96392cfdd3ee4449eaaa287ef\n",
            "Successfully built alembic\n",
            "Building wheels for collected packages: prometheus-flask-exporter, sqlalchemy, simplejson, databricks-cli, querystring-parser\n",
            "  Building wheel for prometheus-flask-exporter (setup.py) ... \u001b[?25l\u001b[?25hdone\n",
            "  Created wheel for prometheus-flask-exporter: filename=prometheus_flask_exporter-0.13.0-cp36-none-any.whl size=14946 sha256=594870efe381029f30e7e19402dd8d721f595b0871e21fdee40352e48883af7f\n",
            "  Stored in directory: /root/.cache/pip/wheels/c8/2f/a3/c81e6aa99897467c82d523858738fb8c94d1d43e500da45dc2\n",
            "  Building wheel for sqlalchemy (setup.py) ... \u001b[?25l\u001b[?25hdone\n",
            "  Created wheel for sqlalchemy: filename=SQLAlchemy-1.3.13-cp36-cp36m-linux_x86_64.whl size=1217161 sha256=d5bb6e290b099ac0cf3b37157f28aae98ca62adc3109233d3a1c8603dcbde062\n",
            "  Stored in directory: /root/.cache/pip/wheels/b3/35/98/4c9cb3fd63d21d5606b972dd70643769745adf60e622467b71\n",
            "  Building wheel for simplejson (setup.py) ... \u001b[?25l\u001b[?25hdone\n",
            "  Created wheel for simplejson: filename=simplejson-3.17.0-cp36-cp36m-linux_x86_64.whl size=114204 sha256=7cb6b14be79aa417a5aad33fcf51365ce9ed4adcf973f6d768af1285e72b833d\n",
            "  Stored in directory: /root/.cache/pip/wheels/86/c0/83/dcd0339abb2640544bb8e0938aab2d069cef55e5647ce6e097\n",
            "  Building wheel for databricks-cli (setup.py) ... \u001b[?25l\u001b[?25hdone\n",
            "  Created wheel for databricks-cli: filename=databricks_cli-0.10.0-cp36-none-any.whl size=84285 sha256=36fc66628697e7f3100b17cfa0daa5ff690826807b879903c1929a6a5bb95c2e\n",
            "  Stored in directory: /root/.cache/pip/wheels/1e/e5/2d/a19c0bfd38005176063f130d72de17cb3d2d32c0ee384e7493\n",
            "  Building wheel for querystring-parser (setup.py) ... \u001b[?25l\u001b[?25hdone\n",
            "  Created wheel for querystring-parser: filename=querystring_parser-1.2.4-cp36-none-any.whl size=7079 sha256=8b9043d0d06086f298750cb7abd451a6eb5bb811125c96a25e6f65976b12ee38\n",
            "  Stored in directory: /root/.cache/pip/wheels/1e/41/34/23ebf5d1089a9aed847951e0ee375426eb4ad0a7079d88d41e\n",
            "Successfully built prometheus-flask-exporter sqlalchemy simplejson databricks-cli querystring-parser\n",
            "Installing collected packages: websocket-client, docker, python-editor, Mako, sqlalchemy, alembic, gorilla, prometheus-flask-exporter, gunicorn, simplejson, configparser, databricks-cli, smmap, gitdb, gitpython, querystring-parser, mlflow\n",
            "  Found existing installation: SQLAlchemy 1.3.16\n",
            "    Uninstalling SQLAlchemy-1.3.16:\n",
            "      Successfully uninstalled SQLAlchemy-1.3.16\n",
            "Successfully installed Mako-1.1.2 alembic-1.4.2 configparser-5.0.0 databricks-cli-0.10.0 docker-4.2.0 gitdb-4.0.5 gitpython-3.1.2 gorilla-0.3.0 gunicorn-20.0.4 mlflow-1.8.0 prometheus-flask-exporter-0.13.0 python-editor-1.0.4 querystring-parser-1.2.4 simplejson-3.17.0 smmap-3.0.4 sqlalchemy-1.3.13 websocket-client-0.57.0\n"
          ],
          "name": "stdout"
        }
      ]
    },
    {
      "cell_type": "code",
      "metadata": {
        "id": "RU5EEyZHYShR",
        "colab_type": "code",
        "colab": {
          "base_uri": "https://localhost:8080/",
          "height": 54
        },
        "outputId": "4f871344-b491-446b-fc9b-20b0ec38356a"
      },
      "source": [
        "import pandas as pd\n",
        "import numpy as np\n",
        "from datetime  import datetime  \n",
        "from datetime import timedelta  \n",
        "import lightgbm as lgb\n",
        "from sklearn import preprocessing, metrics\n",
        "from sklearn.model_selection import ParameterGrid\n",
        "import matplotlib.pyplot as plt\n",
        "import seaborn as sns\n",
        "import mlflow\n",
        "import mlflow.lightgbm\n",
        "import seaborn as sns"
      ],
      "execution_count": 2,
      "outputs": [
        {
          "output_type": "stream",
          "text": [
            "/usr/local/lib/python3.6/dist-packages/statsmodels/tools/_testing.py:19: FutureWarning: pandas.util.testing is deprecated. Use the functions in the public API at pandas.testing instead.\n",
            "  import pandas.util.testing as tm\n"
          ],
          "name": "stderr"
        }
      ]
    },
    {
      "cell_type": "code",
      "metadata": {
        "id": "jIh3bs2K3m7R",
        "colab_type": "code",
        "colab": {}
      },
      "source": [
        "np.random.seed(0)"
      ],
      "execution_count": 0,
      "outputs": []
    },
    {
      "cell_type": "code",
      "metadata": {
        "id": "wNYc5HsO6o7q",
        "colab_type": "code",
        "colab": {}
      },
      "source": [
        "from google.colab import drive\n",
        "drive.mount('/content/drive')"
      ],
      "execution_count": 0,
      "outputs": []
    },
    {
      "cell_type": "code",
      "metadata": {
        "id": "oGmPdLayYShf",
        "colab_type": "code",
        "colab": {}
      },
      "source": [
        "data_folder = '/content/drive/My Drive/Kaggle_M5/00_data/'\n",
        "submission = pd.read_csv(data_folder + 'sample_submission.csv')"
      ],
      "execution_count": 0,
      "outputs": []
    },
    {
      "cell_type": "code",
      "metadata": {
        "id": "sajf_2UrYShr",
        "colab_type": "code",
        "colab": {}
      },
      "source": [
        "params = {\n",
        "        'boosting_type': 'gbdt',\n",
        "        'metric': 'rmse',\n",
        "        'objective':  'tweedie',\n",
        "        'n_jobs': -1,\n",
        "        'seed': 0,\n",
        "        'learning_rate': 0.05, \n",
        "        'bagging_fraction': 0.9,\n",
        "        'bagging_freq': 1, \n",
        "        'colsample_bytree': 0.75,\n",
        "        'num_iterations': 5000,\n",
        "        'early_stopping_round': 500,\n",
        "        'max_bin': 100,\n",
        "        'boost_from_average': False}"
      ],
      "execution_count": 0,
      "outputs": []
    },
    {
      "cell_type": "code",
      "metadata": {
        "id": "cfv8X1jUa8UO",
        "colab_type": "code",
        "colab": {}
      },
      "source": [
        "params = {'bagging_fraction': 0.5, \n",
        "          'bagging_freq': 10, \n",
        "          'boosting_type': 'gbdt', \n",
        "          'colsample_bytree': 0.75, \n",
        "          'early_stopping_round': 500, \n",
        "          'learning_rate': 0.05, \n",
        "          'metric': 'rmse', \n",
        "          'n_jobs': -1, \n",
        "          'num_iterations': 5000, \n",
        "          'early_stopping_round': 500,         \n",
        "          'objective': 'tweedie', \n",
        "          'seed': 0}"
      ],
      "execution_count": 0,
      "outputs": []
    },
    {
      "cell_type": "code",
      "metadata": {
        "id": "Iw6qv9FaYSh9",
        "colab_type": "code",
        "colab": {}
      },
      "source": [
        "evaluation_rows = [row for row in submission['id'] if 'evaluation' in row] \n",
        "evaluation = submission[submission['id'].isin(evaluation_rows)]\n",
        "\n",
        "validation_rows = [row for row in submission['id'] if 'validation' in row] \n",
        "validation_csv = submission[submission['id'].isin(validation_rows)]\n"
      ],
      "execution_count": 0,
      "outputs": []
    },
    {
      "cell_type": "code",
      "metadata": {
        "id": "blDaEKjmcZTm",
        "colab_type": "code",
        "colab": {}
      },
      "source": [
        "not_features = ['d', 'id', 'item_id', 'store_id', 'demand', 'date', 'start_date']"
      ],
      "execution_count": 0,
      "outputs": []
    },
    {
      "cell_type": "code",
      "metadata": {
        "id": "U_LDEPjdYSiY",
        "colab_type": "code",
        "colab": {}
      },
      "source": [
        "validation = pd.DataFrame(columns=submission.columns)\n",
        "data_folder = '/content/drive/My Drive/Kaggle_M5/01_preprocessed_data/'\n",
        "\n",
        "overall_rmse = 0\n",
        "pred_true = pd.DataFrame(columns=['pred', 'true'])\n",
        "rmse_score = []\n",
        "mae_score = []\n",
        "j = 0\n",
        "for i in ['CA_1', 'CA_2', 'CA_3', 'CA_4', 'TX_1', 'TX_2', 'TX_3', 'WI_1', 'WI_2', 'WI_3']:\n",
        "  print(i)\n",
        "  X_val = pd.read_pickle(data_folder + \"X_val_{}.pkl\".format(i))\n",
        "  X_test = pd.read_pickle(data_folder + \"X_test_{}.pkl\".format(i))\n",
        "  X_train = pd.read_pickle(data_folder + \"X_train_{}.pkl\".format(i))\n",
        "  y_train = X_train['demand']\n",
        "  y_val = X_val['demand']\n",
        "  print(X_train.shape)\n",
        "  features = X_train.columns[~X_train.columns.isin(not_features) ]\n",
        "\n",
        "  train_set = lgb.Dataset(X_train[features],y_train)\n",
        "  val_set = lgb.Dataset(X_val[features], y_val)\n",
        "  model = lgb.train(params, train_set, valid_sets = [train_set, val_set], verbose_eval = 100)\n",
        "  \n",
        "  val_pred = model.predict(X_val[features])\n",
        "  val_score = metrics.mean_absolute_error(val_pred, y_val)\n",
        "\n",
        "  temp = pd.DataFrame({'pred':val_pred, 'true':y_val})\n",
        "  pred_true =pred_true.append(temp)\n",
        "  print(f'Our val mae score is {val_score}')\n",
        "\n",
        "  y_test = model.predict(X_test[features])\n",
        "  X_test['demand'] = y_test\n",
        "  predictions = X_test[['id', 'days_from_start', 'demand']]\n",
        "  predictions = pd.pivot(predictions, index = 'id', columns = 'days_from_start', values = 'demand').reset_index()\n",
        "  predictions.columns = ['id'] + ['F' + str(j + 1) for j in range(28)]\n",
        "  validation = validation.append(predictions)\n",
        "\n",
        "rmse = np.sqrt(np.mean((pred_true['pred'] - pred_true['true'])**2) )\n",
        "print(rmse)\n",
        "print(np.mean(np.abs(pred_true['pred'] - pred_true['true']) ))\n",
        "    "
      ],
      "execution_count": 0,
      "outputs": []
    },
    {
      "cell_type": "code",
      "metadata": {
        "id": "IPa-ZAxwDjZ1",
        "colab_type": "code",
        "colab": {}
      },
      "source": [
        "np.sqrt(np.mean((pred_true['pred'] - pred_true['true'])**2) )"
      ],
      "execution_count": 0,
      "outputs": []
    },
    {
      "cell_type": "code",
      "metadata": {
        "id": "uVWVgCSsDT1t",
        "colab_type": "code",
        "colab": {}
      },
      "source": [
        "np.mean(np.abs(pred_true['pred'] - pred_true['true']) )"
      ],
      "execution_count": 0,
      "outputs": []
    },
    {
      "cell_type": "code",
      "metadata": {
        "id": "mVr0NRqYYSjD",
        "colab_type": "code",
        "colab": {}
      },
      "source": [
        "validation = validation.set_index('id')\n",
        "validation = validation.reindex(index=validation_csv['id'])\n",
        "validation = validation.reset_index()"
      ],
      "execution_count": 0,
      "outputs": []
    },
    {
      "cell_type": "code",
      "metadata": {
        "id": "_6HOyj95YSjK",
        "colab_type": "code",
        "colab": {}
      },
      "source": [
        "validation"
      ],
      "execution_count": 0,
      "outputs": []
    },
    {
      "cell_type": "code",
      "metadata": {
        "id": "76_9Dc93YSjQ",
        "colab_type": "code",
        "colab": {}
      },
      "source": [
        "final = pd.concat([validation, evaluation])"
      ],
      "execution_count": 0,
      "outputs": []
    },
    {
      "cell_type": "code",
      "metadata": {
        "id": "uwXWKZlaYSj0",
        "colab_type": "code",
        "colab": {}
      },
      "source": [
        "submission_folder = '/content/drive/My Drive/Kaggle_M5/04_submissions/'\n",
        "final.to_csv(submission_folder  + 'submission-by_store.csv', index = False)"
      ],
      "execution_count": 0,
      "outputs": []
    },
    {
      "cell_type": "code",
      "metadata": {
        "id": "Ar8YLi5uvc0R",
        "colab_type": "code",
        "colab": {}
      },
      "source": [
        ""
      ],
      "execution_count": 0,
      "outputs": []
    }
  ]
}