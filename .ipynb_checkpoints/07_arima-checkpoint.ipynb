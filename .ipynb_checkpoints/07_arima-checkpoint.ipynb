{
 "cells": [
  {
   "cell_type": "code",
   "execution_count": 1,
   "metadata": {},
   "outputs": [
    {
     "name": "stderr",
     "output_type": "stream",
     "text": [
      "C:\\Users\\omore\\Anaconda3\\lib\\site-packages\\patsy\\constraint.py:13: DeprecationWarning: Using or importing the ABCs from 'collections' instead of from 'collections.abc' is deprecated, and in 3.8 it will stop working\n",
      "  from collections import Mapping\n"
     ]
    }
   ],
   "source": [
    "import pandas as pd\n",
    "import numpy as np\n",
    "from datetime  import datetime  \n",
    "from datetime import timedelta  \n",
    "import lightgbm as lgb\n",
    "from sklearn import preprocessing, metrics\n",
    "from sklearn.model_selection import ParameterGrid\n",
    "import matplotlib.pyplot as plt\n",
    "import seaborn as sns\n",
    "import mlflow\n",
    "import mlflow.lightgbm\n",
    "from pandas.plotting import autocorrelation_plot\n",
    "from statsmodels.tsa.arima_model import ARIMA\n",
    "from statsmodels.graphics.tsaplots import plot_acf, plot_pacf\n",
    "import pmdarima as pm"
   ]
  },
  {
   "cell_type": "code",
   "execution_count": 2,
   "metadata": {},
   "outputs": [],
   "source": [
    "data_location = '../00_data/sample_submission.csv'\n",
    "submission = pd.read_csv(data_location)"
   ]
  },
  {
   "cell_type": "code",
   "execution_count": 3,
   "metadata": {},
   "outputs": [],
   "source": [
    "data_location = '../04_submissions/best_submission_day1-5.csv'\n",
    "best_submission = pd.read_csv(data_location)"
   ]
  },
  {
   "cell_type": "code",
   "execution_count": 4,
   "metadata": {},
   "outputs": [],
   "source": [
    "X_train = pd.read_pickle('../01_preprocessed_data/X_1_train.pkl')\n",
    "y_train = pd.read_pickle('../01_preprocessed_data/y_1_train.pkl')\n",
    "X_val = pd.read_pickle('../01_preprocessed_data/X_val_pred_lgbm.pkl')\n",
    "y_val = pd.read_pickle('../01_preprocessed_data/y_1_val.pkl')\n",
    "X_test = pd.read_pickle('../01_preprocessed_data/X_1_test.pkl')"
   ]
  },
  {
   "cell_type": "code",
   "execution_count": 5,
   "metadata": {},
   "outputs": [
    {
     "data": {
      "text/html": [
       "<div>\n",
       "<style scoped>\n",
       "    .dataframe tbody tr th:only-of-type {\n",
       "        vertical-align: middle;\n",
       "    }\n",
       "\n",
       "    .dataframe tbody tr th {\n",
       "        vertical-align: top;\n",
       "    }\n",
       "\n",
       "    .dataframe thead tr th {\n",
       "        text-align: left;\n",
       "    }\n",
       "</style>\n",
       "<table border=\"1\" class=\"dataframe\">\n",
       "  <thead>\n",
       "    <tr>\n",
       "      <th></th>\n",
       "      <th>demand_type</th>\n",
       "      <th>demand</th>\n",
       "    </tr>\n",
       "    <tr>\n",
       "      <th></th>\n",
       "      <th></th>\n",
       "      <th>mean</th>\n",
       "    </tr>\n",
       "  </thead>\n",
       "  <tbody>\n",
       "    <tr>\n",
       "      <td>0</td>\n",
       "      <td>erratic</td>\n",
       "      <td>6.358116</td>\n",
       "    </tr>\n",
       "    <tr>\n",
       "      <td>1</td>\n",
       "      <td>intermittent</td>\n",
       "      <td>0.672480</td>\n",
       "    </tr>\n",
       "    <tr>\n",
       "      <td>2</td>\n",
       "      <td>lumpy</td>\n",
       "      <td>1.704040</td>\n",
       "    </tr>\n",
       "    <tr>\n",
       "      <td>3</td>\n",
       "      <td>smooth</td>\n",
       "      <td>6.247199</td>\n",
       "    </tr>\n",
       "  </tbody>\n",
       "</table>\n",
       "</div>"
      ],
      "text/plain": [
       "    demand_type    demand\n",
       "                     mean\n",
       "0       erratic  6.358116\n",
       "1  intermittent  0.672480\n",
       "2         lumpy  1.704040\n",
       "3        smooth  6.247199"
      ]
     },
     "execution_count": 5,
     "metadata": {},
     "output_type": "execute_result"
    }
   ],
   "source": [
    "X_train.groupby(['demand_type'])['demand_type', 'demand'].agg(['mean']).reset_index()"
   ]
  },
  {
   "cell_type": "code",
   "execution_count": 6,
   "metadata": {},
   "outputs": [
    {
     "data": {
      "text/html": [
       "<div>\n",
       "<style scoped>\n",
       "    .dataframe tbody tr th:only-of-type {\n",
       "        vertical-align: middle;\n",
       "    }\n",
       "\n",
       "    .dataframe tbody tr th {\n",
       "        vertical-align: top;\n",
       "    }\n",
       "\n",
       "    .dataframe thead th {\n",
       "        text-align: right;\n",
       "    }\n",
       "</style>\n",
       "<table border=\"1\" class=\"dataframe\">\n",
       "  <thead>\n",
       "    <tr style=\"text-align: right;\">\n",
       "      <th></th>\n",
       "      <th>id</th>\n",
       "      <th>item_id</th>\n",
       "      <th>dept_id</th>\n",
       "      <th>cat_id</th>\n",
       "      <th>store_id</th>\n",
       "      <th>state_id</th>\n",
       "      <th>d</th>\n",
       "      <th>demand</th>\n",
       "      <th>date</th>\n",
       "      <th>weekday</th>\n",
       "      <th>...</th>\n",
       "      <th>rmean_5_30</th>\n",
       "      <th>rmean_6_30</th>\n",
       "      <th>rmean_7_30</th>\n",
       "      <th>rmean_1_31</th>\n",
       "      <th>rmean_2_31</th>\n",
       "      <th>rmean_3_31</th>\n",
       "      <th>rmean_4_31</th>\n",
       "      <th>rmean_5_31</th>\n",
       "      <th>rmean_6_31</th>\n",
       "      <th>rmean_7_31</th>\n",
       "    </tr>\n",
       "  </thead>\n",
       "  <tbody>\n",
       "    <tr>\n",
       "      <td>6567028</td>\n",
       "      <td>FOODS_3_120_CA_3_validation</td>\n",
       "      <td>FOODS_3_120</td>\n",
       "      <td>FOODS_3</td>\n",
       "      <td>FOODS</td>\n",
       "      <td>CA_3</td>\n",
       "      <td>CA</td>\n",
       "      <td>d_421</td>\n",
       "      <td>40</td>\n",
       "      <td>2012-03-24</td>\n",
       "      <td>Saturday</td>\n",
       "      <td>...</td>\n",
       "      <td>NaN</td>\n",
       "      <td>NaN</td>\n",
       "      <td>NaN</td>\n",
       "      <td>NaN</td>\n",
       "      <td>NaN</td>\n",
       "      <td>NaN</td>\n",
       "      <td>NaN</td>\n",
       "      <td>NaN</td>\n",
       "      <td>NaN</td>\n",
       "      <td>NaN</td>\n",
       "    </tr>\n",
       "    <tr>\n",
       "      <td>6585489</td>\n",
       "      <td>FOODS_3_120_CA_3_validation</td>\n",
       "      <td>FOODS_3_120</td>\n",
       "      <td>FOODS_3</td>\n",
       "      <td>FOODS</td>\n",
       "      <td>CA_3</td>\n",
       "      <td>CA</td>\n",
       "      <td>d_422</td>\n",
       "      <td>59</td>\n",
       "      <td>2012-03-25</td>\n",
       "      <td>Sunday</td>\n",
       "      <td>...</td>\n",
       "      <td>NaN</td>\n",
       "      <td>NaN</td>\n",
       "      <td>NaN</td>\n",
       "      <td>NaN</td>\n",
       "      <td>NaN</td>\n",
       "      <td>NaN</td>\n",
       "      <td>NaN</td>\n",
       "      <td>NaN</td>\n",
       "      <td>NaN</td>\n",
       "      <td>NaN</td>\n",
       "    </tr>\n",
       "    <tr>\n",
       "      <td>6603950</td>\n",
       "      <td>FOODS_3_120_CA_3_validation</td>\n",
       "      <td>FOODS_3_120</td>\n",
       "      <td>FOODS_3</td>\n",
       "      <td>FOODS</td>\n",
       "      <td>CA_3</td>\n",
       "      <td>CA</td>\n",
       "      <td>d_423</td>\n",
       "      <td>62</td>\n",
       "      <td>2012-03-26</td>\n",
       "      <td>Monday</td>\n",
       "      <td>...</td>\n",
       "      <td>NaN</td>\n",
       "      <td>NaN</td>\n",
       "      <td>NaN</td>\n",
       "      <td>NaN</td>\n",
       "      <td>NaN</td>\n",
       "      <td>NaN</td>\n",
       "      <td>NaN</td>\n",
       "      <td>NaN</td>\n",
       "      <td>NaN</td>\n",
       "      <td>NaN</td>\n",
       "    </tr>\n",
       "    <tr>\n",
       "      <td>6622411</td>\n",
       "      <td>FOODS_3_120_CA_3_validation</td>\n",
       "      <td>FOODS_3_120</td>\n",
       "      <td>FOODS_3</td>\n",
       "      <td>FOODS</td>\n",
       "      <td>CA_3</td>\n",
       "      <td>CA</td>\n",
       "      <td>d_424</td>\n",
       "      <td>44</td>\n",
       "      <td>2012-03-27</td>\n",
       "      <td>Tuesday</td>\n",
       "      <td>...</td>\n",
       "      <td>NaN</td>\n",
       "      <td>NaN</td>\n",
       "      <td>NaN</td>\n",
       "      <td>NaN</td>\n",
       "      <td>NaN</td>\n",
       "      <td>NaN</td>\n",
       "      <td>NaN</td>\n",
       "      <td>NaN</td>\n",
       "      <td>NaN</td>\n",
       "      <td>NaN</td>\n",
       "    </tr>\n",
       "    <tr>\n",
       "      <td>6640872</td>\n",
       "      <td>FOODS_3_120_CA_3_validation</td>\n",
       "      <td>FOODS_3_120</td>\n",
       "      <td>FOODS_3</td>\n",
       "      <td>FOODS</td>\n",
       "      <td>CA_3</td>\n",
       "      <td>CA</td>\n",
       "      <td>d_425</td>\n",
       "      <td>44</td>\n",
       "      <td>2012-03-28</td>\n",
       "      <td>Wednesday</td>\n",
       "      <td>...</td>\n",
       "      <td>NaN</td>\n",
       "      <td>NaN</td>\n",
       "      <td>NaN</td>\n",
       "      <td>NaN</td>\n",
       "      <td>NaN</td>\n",
       "      <td>NaN</td>\n",
       "      <td>NaN</td>\n",
       "      <td>NaN</td>\n",
       "      <td>NaN</td>\n",
       "      <td>NaN</td>\n",
       "    </tr>\n",
       "    <tr>\n",
       "      <td>...</td>\n",
       "      <td>...</td>\n",
       "      <td>...</td>\n",
       "      <td>...</td>\n",
       "      <td>...</td>\n",
       "      <td>...</td>\n",
       "      <td>...</td>\n",
       "      <td>...</td>\n",
       "      <td>...</td>\n",
       "      <td>...</td>\n",
       "      <td>...</td>\n",
       "      <td>...</td>\n",
       "      <td>...</td>\n",
       "      <td>...</td>\n",
       "      <td>...</td>\n",
       "      <td>...</td>\n",
       "      <td>...</td>\n",
       "      <td>...</td>\n",
       "      <td>...</td>\n",
       "      <td>...</td>\n",
       "      <td>...</td>\n",
       "      <td>...</td>\n",
       "    </tr>\n",
       "    <tr>\n",
       "      <td>45030229</td>\n",
       "      <td>FOODS_3_120_CA_3_validation</td>\n",
       "      <td>FOODS_3_120</td>\n",
       "      <td>FOODS_3</td>\n",
       "      <td>FOODS</td>\n",
       "      <td>CA_3</td>\n",
       "      <td>CA</td>\n",
       "      <td>d_1881</td>\n",
       "      <td>58</td>\n",
       "      <td>2016-03-23</td>\n",
       "      <td>Wednesday</td>\n",
       "      <td>...</td>\n",
       "      <td>28.166667</td>\n",
       "      <td>28.533333</td>\n",
       "      <td>28.600000</td>\n",
       "      <td>30.870968</td>\n",
       "      <td>31.741935</td>\n",
       "      <td>30.032258</td>\n",
       "      <td>29.838710</td>\n",
       "      <td>29.483871</td>\n",
       "      <td>29.387097</td>\n",
       "      <td>30.129032</td>\n",
       "    </tr>\n",
       "    <tr>\n",
       "      <td>45060719</td>\n",
       "      <td>FOODS_3_120_CA_3_validation</td>\n",
       "      <td>FOODS_3_120</td>\n",
       "      <td>FOODS_3</td>\n",
       "      <td>FOODS</td>\n",
       "      <td>CA_3</td>\n",
       "      <td>CA</td>\n",
       "      <td>d_1882</td>\n",
       "      <td>55</td>\n",
       "      <td>2016-03-24</td>\n",
       "      <td>Thursday</td>\n",
       "      <td>...</td>\n",
       "      <td>29.000000</td>\n",
       "      <td>28.166667</td>\n",
       "      <td>28.533333</td>\n",
       "      <td>30.483871</td>\n",
       "      <td>30.870968</td>\n",
       "      <td>31.741935</td>\n",
       "      <td>30.032258</td>\n",
       "      <td>29.838710</td>\n",
       "      <td>29.483871</td>\n",
       "      <td>29.387097</td>\n",
       "    </tr>\n",
       "    <tr>\n",
       "      <td>45091209</td>\n",
       "      <td>FOODS_3_120_CA_3_validation</td>\n",
       "      <td>FOODS_3_120</td>\n",
       "      <td>FOODS_3</td>\n",
       "      <td>FOODS</td>\n",
       "      <td>CA_3</td>\n",
       "      <td>CA</td>\n",
       "      <td>d_1883</td>\n",
       "      <td>64</td>\n",
       "      <td>2016-03-25</td>\n",
       "      <td>Friday</td>\n",
       "      <td>...</td>\n",
       "      <td>29.466667</td>\n",
       "      <td>29.000000</td>\n",
       "      <td>28.166667</td>\n",
       "      <td>29.935484</td>\n",
       "      <td>30.483871</td>\n",
       "      <td>30.870968</td>\n",
       "      <td>31.741935</td>\n",
       "      <td>30.032258</td>\n",
       "      <td>29.838710</td>\n",
       "      <td>29.483871</td>\n",
       "    </tr>\n",
       "    <tr>\n",
       "      <td>45121699</td>\n",
       "      <td>FOODS_3_120_CA_3_validation</td>\n",
       "      <td>FOODS_3_120</td>\n",
       "      <td>FOODS_3</td>\n",
       "      <td>FOODS</td>\n",
       "      <td>CA_3</td>\n",
       "      <td>CA</td>\n",
       "      <td>d_1884</td>\n",
       "      <td>78</td>\n",
       "      <td>2016-03-26</td>\n",
       "      <td>Saturday</td>\n",
       "      <td>...</td>\n",
       "      <td>29.900000</td>\n",
       "      <td>29.466667</td>\n",
       "      <td>29.000000</td>\n",
       "      <td>30.161290</td>\n",
       "      <td>29.935484</td>\n",
       "      <td>30.483871</td>\n",
       "      <td>30.870968</td>\n",
       "      <td>31.741935</td>\n",
       "      <td>30.032258</td>\n",
       "      <td>29.838710</td>\n",
       "    </tr>\n",
       "    <tr>\n",
       "      <td>45152189</td>\n",
       "      <td>FOODS_3_120_CA_3_validation</td>\n",
       "      <td>FOODS_3_120</td>\n",
       "      <td>FOODS_3</td>\n",
       "      <td>FOODS</td>\n",
       "      <td>CA_3</td>\n",
       "      <td>CA</td>\n",
       "      <td>d_1885</td>\n",
       "      <td>71</td>\n",
       "      <td>2016-03-27</td>\n",
       "      <td>Sunday</td>\n",
       "      <td>...</td>\n",
       "      <td>29.566667</td>\n",
       "      <td>29.900000</td>\n",
       "      <td>29.466667</td>\n",
       "      <td>30.903226</td>\n",
       "      <td>30.161290</td>\n",
       "      <td>29.935484</td>\n",
       "      <td>30.483871</td>\n",
       "      <td>30.870968</td>\n",
       "      <td>31.741935</td>\n",
       "      <td>30.032258</td>\n",
       "    </tr>\n",
       "  </tbody>\n",
       "</table>\n",
       "<p>1465 rows × 73 columns</p>\n",
       "</div>"
      ],
      "text/plain": [
       "                                   id      item_id  dept_id cat_id store_id  \\\n",
       "6567028   FOODS_3_120_CA_3_validation  FOODS_3_120  FOODS_3  FOODS     CA_3   \n",
       "6585489   FOODS_3_120_CA_3_validation  FOODS_3_120  FOODS_3  FOODS     CA_3   \n",
       "6603950   FOODS_3_120_CA_3_validation  FOODS_3_120  FOODS_3  FOODS     CA_3   \n",
       "6622411   FOODS_3_120_CA_3_validation  FOODS_3_120  FOODS_3  FOODS     CA_3   \n",
       "6640872   FOODS_3_120_CA_3_validation  FOODS_3_120  FOODS_3  FOODS     CA_3   \n",
       "...                               ...          ...      ...    ...      ...   \n",
       "45030229  FOODS_3_120_CA_3_validation  FOODS_3_120  FOODS_3  FOODS     CA_3   \n",
       "45060719  FOODS_3_120_CA_3_validation  FOODS_3_120  FOODS_3  FOODS     CA_3   \n",
       "45091209  FOODS_3_120_CA_3_validation  FOODS_3_120  FOODS_3  FOODS     CA_3   \n",
       "45121699  FOODS_3_120_CA_3_validation  FOODS_3_120  FOODS_3  FOODS     CA_3   \n",
       "45152189  FOODS_3_120_CA_3_validation  FOODS_3_120  FOODS_3  FOODS     CA_3   \n",
       "\n",
       "         state_id       d  demand       date    weekday  ...  rmean_5_30  \\\n",
       "6567028        CA   d_421      40 2012-03-24   Saturday  ...         NaN   \n",
       "6585489        CA   d_422      59 2012-03-25     Sunday  ...         NaN   \n",
       "6603950        CA   d_423      62 2012-03-26     Monday  ...         NaN   \n",
       "6622411        CA   d_424      44 2012-03-27    Tuesday  ...         NaN   \n",
       "6640872        CA   d_425      44 2012-03-28  Wednesday  ...         NaN   \n",
       "...           ...     ...     ...        ...        ...  ...         ...   \n",
       "45030229       CA  d_1881      58 2016-03-23  Wednesday  ...   28.166667   \n",
       "45060719       CA  d_1882      55 2016-03-24   Thursday  ...   29.000000   \n",
       "45091209       CA  d_1883      64 2016-03-25     Friday  ...   29.466667   \n",
       "45121699       CA  d_1884      78 2016-03-26   Saturday  ...   29.900000   \n",
       "45152189       CA  d_1885      71 2016-03-27     Sunday  ...   29.566667   \n",
       "\n",
       "         rmean_6_30 rmean_7_30  rmean_1_31 rmean_2_31 rmean_3_31  rmean_4_31  \\\n",
       "6567028         NaN        NaN         NaN        NaN        NaN         NaN   \n",
       "6585489         NaN        NaN         NaN        NaN        NaN         NaN   \n",
       "6603950         NaN        NaN         NaN        NaN        NaN         NaN   \n",
       "6622411         NaN        NaN         NaN        NaN        NaN         NaN   \n",
       "6640872         NaN        NaN         NaN        NaN        NaN         NaN   \n",
       "...             ...        ...         ...        ...        ...         ...   \n",
       "45030229  28.533333  28.600000   30.870968  31.741935  30.032258   29.838710   \n",
       "45060719  28.166667  28.533333   30.483871  30.870968  31.741935   30.032258   \n",
       "45091209  29.000000  28.166667   29.935484  30.483871  30.870968   31.741935   \n",
       "45121699  29.466667  29.000000   30.161290  29.935484  30.483871   30.870968   \n",
       "45152189  29.900000  29.466667   30.903226  30.161290  29.935484   30.483871   \n",
       "\n",
       "          rmean_5_31  rmean_6_31 rmean_7_31  \n",
       "6567028          NaN         NaN        NaN  \n",
       "6585489          NaN         NaN        NaN  \n",
       "6603950          NaN         NaN        NaN  \n",
       "6622411          NaN         NaN        NaN  \n",
       "6640872          NaN         NaN        NaN  \n",
       "...              ...         ...        ...  \n",
       "45030229   29.483871   29.387097  30.129032  \n",
       "45060719   29.838710   29.483871  29.387097  \n",
       "45091209   30.032258   29.838710  29.483871  \n",
       "45121699   31.741935   30.032258  29.838710  \n",
       "45152189   30.870968   31.741935  30.032258  \n",
       "\n",
       "[1465 rows x 73 columns]"
      ]
     },
     "execution_count": 6,
     "metadata": {},
     "output_type": "execute_result"
    }
   ],
   "source": [
    "X_train[X_train['id'] == 'FOODS_3_120_CA_3_validation']"
   ]
  },
  {
   "cell_type": "code",
   "execution_count": 7,
   "metadata": {},
   "outputs": [
    {
     "name": "stderr",
     "output_type": "stream",
     "text": [
      "C:\\Users\\omore\\Anaconda3\\lib\\site-packages\\pandas\\plotting\\_matplotlib\\converter.py:103: FutureWarning: Using an implicitly registered datetime converter for a matplotlib plotting method. The converter was registered by pandas on import. Future versions of pandas will require you to explicitly register matplotlib converters.\n",
      "\n",
      "To register the converters:\n",
      "\t>>> from pandas.plotting import register_matplotlib_converters\n",
      "\t>>> register_matplotlib_converters()\n",
      "  warnings.warn(msg, FutureWarning)\n"
     ]
    },
    {
     "data": {
      "text/plain": [
       "<matplotlib.axes._subplots.AxesSubplot at 0x24307a96208>"
      ]
     },
     "execution_count": 7,
     "metadata": {},
     "output_type": "execute_result"
    },
    {
     "data": {
      "image/png": "[encoded data removed]",
      "text/plain": [
       "<Figure size 432x288 with 1 Axes>"
      ]
     },
     "metadata": {
      "needs_background": "light"
     },
     "output_type": "display_data"
    }
   ],
   "source": [
    "food = X_train.loc[X_train['id'] == 'FOODS_3_120_CA_3_validation', ['date', 'demand']]\n",
    "sns.lineplot(x=\"date\", y=\"demand\", data=food)"
   ]
  },
  {
   "cell_type": "code",
   "execution_count": 9,
   "metadata": {},
   "outputs": [
    {
     "data": {
      "text/plain": [
       "<matplotlib.axes._subplots.AxesSubplot at 0x24307e09748>"
      ]
     },
     "execution_count": 9,
     "metadata": {},
     "output_type": "execute_result"
    },
    {
     "data": {
      "image/png": "[encoded data removed]",
      "text/plain": [
       "<Figure size 432x288 with 1 Axes>"
      ]
     },
     "metadata": {
      "needs_background": "light"
     },
     "output_type": "display_data"
    }
   ],
   "source": [
    "series = food['demand']\n",
    "sns.lineplot(x = food.loc[1000:,'date'], y = series.diff()[1000:])"
   ]
  },
  {
   "cell_type": "code",
   "execution_count": 10,
   "metadata": {},
   "outputs": [
    {
     "data": {
      "image/png": "[encoded data removed]",
      "text/plain": [
       "<Figure size 432x288 with 1 Axes>"
      ]
     },
     "execution_count": 10,
     "metadata": {},
     "output_type": "execute_result"
    },
    {
     "data": {
      "image/png": "[encoded data removed]",
      "text/plain": [
       "<Figure size 432x288 with 1 Axes>"
      ]
     },
     "metadata": {
      "needs_background": "light"
     },
     "output_type": "display_data"
    }
   ],
   "source": [
    "series = food['demand']\n",
    "plot_acf(series.diff().dropna())"
   ]
  },
  {
   "cell_type": "code",
   "execution_count": 11,
   "metadata": {},
   "outputs": [
    {
     "data": {
      "text/plain": [
       "6567028      NaN\n",
       "6585489     19.0\n",
       "6603950      3.0\n",
       "6622411    -18.0\n",
       "6640872      0.0\n",
       "            ... \n",
       "45030229    -2.0\n",
       "45060719    -3.0\n",
       "45091209     9.0\n",
       "45121699    14.0\n",
       "45152189    -7.0\n",
       "Name: demand, Length: 1465, dtype: float64"
      ]
     },
     "execution_count": 11,
     "metadata": {},
     "output_type": "execute_result"
    }
   ],
   "source": [
    "series.diff()"
   ]
  },
  {
   "cell_type": "code",
   "execution_count": 12,
   "metadata": {},
   "outputs": [
    {
     "data": {
      "image/png": "[encoded data removed]",
      "text/plain": [
       "<Figure size 432x288 with 1 Axes>"
      ]
     },
     "execution_count": 12,
     "metadata": {},
     "output_type": "execute_result"
    },
    {
     "data": {
      "image/png": "[encoded data removed]",
      "text/plain": [
       "<Figure size 432x288 with 1 Axes>"
      ]
     },
     "metadata": {
      "needs_background": "light"
     },
     "output_type": "display_data"
    }
   ],
   "source": [
    "plot_pacf(series.diff().dropna())"
   ]
  },
  {
   "cell_type": "code",
   "execution_count": 13,
   "metadata": {},
   "outputs": [
    {
     "name": "stderr",
     "output_type": "stream",
     "text": [
      "C:\\Users\\omore\\Anaconda3\\lib\\site-packages\\statsmodels\\tsa\\base\\tsa_model.py:214: ValueWarning: An unsupported index was provided and will be ignored when e.g. forecasting.\n",
      "  ' ignored when e.g. forecasting.', ValueWarning)\n",
      "C:\\Users\\omore\\Anaconda3\\lib\\site-packages\\statsmodels\\tsa\\base\\tsa_model.py:214: ValueWarning: An unsupported index was provided and will be ignored when e.g. forecasting.\n",
      "  ' ignored when e.g. forecasting.', ValueWarning)\n"
     ]
    },
    {
     "name": "stdout",
     "output_type": "stream",
     "text": [
      "                             ARIMA Model Results                              \n",
      "==============================================================================\n",
      "Dep. Variable:               D.demand   No. Observations:                  464\n",
      "Model:                 ARIMA(9, 1, 2)   Log Likelihood               -2117.843\n",
      "Method:                       css-mle   S.D. of innovations             23.189\n",
      "Date:                Tue, 14 Apr 2020   AIC                           4261.686\n",
      "Time:                        19:49:05   BIC                           4315.505\n",
      "Sample:                             1   HQIC                          4282.871\n",
      "                                                                              \n",
      "==================================================================================\n",
      "                     coef    std err          z      P>|z|      [0.025      0.975]\n",
      "----------------------------------------------------------------------------------\n",
      "const             -0.0205      0.143     -0.143      0.886      -0.301       0.260\n",
      "ar.L1.D.demand     0.5668      0.226      2.504      0.012       0.123       1.011\n",
      "ar.L2.D.demand     0.0392      0.106      0.370      0.711      -0.168       0.246\n",
      "ar.L3.D.demand     0.0054      0.058      0.093      0.926      -0.109       0.120\n",
      "ar.L4.D.demand    -0.0558      0.054     -1.041      0.298      -0.161       0.049\n",
      "ar.L5.D.demand    -0.0581      0.054     -1.079      0.281      -0.164       0.047\n",
      "ar.L6.D.demand     0.1093      0.054      2.010      0.044       0.003       0.216\n",
      "ar.L7.D.demand     0.1891      0.059      3.210      0.001       0.074       0.305\n",
      "ar.L8.D.demand    -0.0039      0.071     -0.055      0.956      -0.144       0.136\n",
      "ar.L9.D.demand    -0.1261      0.048     -2.616      0.009      -0.221      -0.032\n",
      "ma.L1.D.demand    -1.1372      0.225     -5.046      0.000      -1.579      -0.696\n",
      "ma.L2.D.demand     0.1800      0.218      0.827      0.408      -0.247       0.607\n",
      "                                    Roots                                    \n",
      "=============================================================================\n",
      "                  Real          Imaginary           Modulus         Frequency\n",
      "-----------------------------------------------------------------------------\n",
      "AR.1            0.7298           -0.8538j            1.1232           -0.1374\n",
      "AR.2            0.7298           +0.8538j            1.1232            0.1374\n",
      "AR.3            1.2644           -0.1549j            1.2739           -0.0194\n",
      "AR.4            1.2644           +0.1549j            1.2739            0.0194\n",
      "AR.5           -0.2156           -1.1808j            1.2003           -0.2787\n",
      "AR.6           -0.2156           +1.1808j            1.2003            0.2787\n",
      "AR.7           -1.0824           -0.8462j            1.3739           -0.3944\n",
      "AR.8           -1.0824           +0.8462j            1.3739            0.3944\n",
      "AR.9           -1.4237           -0.0000j            1.4237           -0.5000\n",
      "MA.1            1.0558           +0.0000j            1.0558            0.0000\n",
      "MA.2            5.2605           +0.0000j            5.2605            0.0000\n",
      "-----------------------------------------------------------------------------\n"
     ]
    }
   ],
   "source": [
    "model = ARIMA(series[1000:, ], order=(9, 1, 2))\n",
    "model_fit = model.fit(disp=0)\n",
    "print(model_fit.summary())"
   ]
  },
  {
   "cell_type": "code",
   "execution_count": 14,
   "metadata": {},
   "outputs": [
    {
     "data": {
      "image/png": "[encoded data removed]",
      "text/plain": [
       "<Figure size 432x288 with 1 Axes>"
      ]
     },
     "metadata": {
      "needs_background": "light"
     },
     "output_type": "display_data"
    },
    {
     "data": {
      "image/png": "[encoded data removed]",
      "text/plain": [
       "<Figure size 432x288 with 1 Axes>"
      ]
     },
     "metadata": {
      "needs_background": "light"
     },
     "output_type": "display_data"
    },
    {
     "name": "stdout",
     "output_type": "stream",
     "text": [
      "                0\n",
      "count  464.000000\n",
      "mean     0.050013\n",
      "std     23.233536\n",
      "min    -93.766740\n",
      "25%    -12.751472\n",
      "50%     -1.236203\n",
      "75%     13.029631\n",
      "max    100.518236\n"
     ]
    }
   ],
   "source": [
    "residuals = pd.DataFrame(model_fit.resid)\n",
    "residuals.plot()\n",
    "plt.show()\n",
    "residuals.plot(kind='kde')\n",
    "plt.show()\n",
    "print(residuals.describe())"
   ]
  },
  {
   "cell_type": "code",
   "execution_count": 15,
   "metadata": {},
   "outputs": [
    {
     "data": {
      "text/plain": [
       "0    7945.15428\n",
       "dtype: float64"
      ]
     },
     "execution_count": 15,
     "metadata": {},
     "output_type": "execute_result"
    }
   ],
   "source": [
    "abs(residuals).sum()"
   ]
  },
  {
   "cell_type": "code",
   "execution_count": 16,
   "metadata": {},
   "outputs": [
    {
     "data": {
      "text/html": [
       "<div>\n",
       "<style scoped>\n",
       "    .dataframe tbody tr th:only-of-type {\n",
       "        vertical-align: middle;\n",
       "    }\n",
       "\n",
       "    .dataframe tbody tr th {\n",
       "        vertical-align: top;\n",
       "    }\n",
       "\n",
       "    .dataframe thead th {\n",
       "        text-align: right;\n",
       "    }\n",
       "</style>\n",
       "<table border=\"1\" class=\"dataframe\">\n",
       "  <thead>\n",
       "    <tr style=\"text-align: right;\">\n",
       "      <th></th>\n",
       "      <th>0</th>\n",
       "    </tr>\n",
       "  </thead>\n",
       "  <tbody>\n",
       "    <tr>\n",
       "      <td>31145771</td>\n",
       "      <td>-2.979484</td>\n",
       "    </tr>\n",
       "    <tr>\n",
       "      <td>31175270</td>\n",
       "      <td>-3.940793</td>\n",
       "    </tr>\n",
       "    <tr>\n",
       "      <td>31204769</td>\n",
       "      <td>4.316670</td>\n",
       "    </tr>\n",
       "    <tr>\n",
       "      <td>31234268</td>\n",
       "      <td>-2.661741</td>\n",
       "    </tr>\n",
       "    <tr>\n",
       "      <td>31263767</td>\n",
       "      <td>-23.124727</td>\n",
       "    </tr>\n",
       "    <tr>\n",
       "      <td>...</td>\n",
       "      <td>...</td>\n",
       "    </tr>\n",
       "    <tr>\n",
       "      <td>45030229</td>\n",
       "      <td>-0.525227</td>\n",
       "    </tr>\n",
       "    <tr>\n",
       "      <td>45060719</td>\n",
       "      <td>2.470004</td>\n",
       "    </tr>\n",
       "    <tr>\n",
       "      <td>45091209</td>\n",
       "      <td>12.100045</td>\n",
       "    </tr>\n",
       "    <tr>\n",
       "      <td>45121699</td>\n",
       "      <td>19.181548</td>\n",
       "    </tr>\n",
       "    <tr>\n",
       "      <td>45152189</td>\n",
       "      <td>1.983353</td>\n",
       "    </tr>\n",
       "  </tbody>\n",
       "</table>\n",
       "<p>464 rows × 1 columns</p>\n",
       "</div>"
      ],
      "text/plain": [
       "                  0\n",
       "31145771  -2.979484\n",
       "31175270  -3.940793\n",
       "31204769   4.316670\n",
       "31234268  -2.661741\n",
       "31263767 -23.124727\n",
       "...             ...\n",
       "45030229  -0.525227\n",
       "45060719   2.470004\n",
       "45091209  12.100045\n",
       "45121699  19.181548\n",
       "45152189   1.983353\n",
       "\n",
       "[464 rows x 1 columns]"
      ]
     },
     "execution_count": 16,
     "metadata": {},
     "output_type": "execute_result"
    }
   ],
   "source": [
    "residuals"
   ]
  },
  {
   "cell_type": "code",
   "execution_count": 26,
   "metadata": {},
   "outputs": [
    {
     "name": "stderr",
     "output_type": "stream",
     "text": [
      "C:\\Users\\omore\\Anaconda3\\lib\\site-packages\\statsmodels\\tsa\\statespace\\sarimax.py:975: UserWarning: Non-invertible starting MA parameters found. Using zeros as starting parameters.\n",
      "  warn('Non-invertible starting MA parameters found.'\n"
     ]
    }
   ],
   "source": [
    "model = pm.auto_arima(series[1000:], \n",
    "                      seasonal=True   # No Seasonality\n",
    "                      )\n"
   ]
  },
  {
   "cell_type": "code",
   "execution_count": 27,
   "metadata": {},
   "outputs": [
    {
     "data": {
      "text/plain": [
       "\"ARIMA(maxiter=50, method='lbfgs', order=(1, 1, 1), out_of_sample_size=0,\\n      scoring='mse', scoring_args=None, seasonal_order=(0, 0, 0, 0),\\n      start_params=None, suppress_warnings=False, trend=None,\\n      with_intercept=True)\""
      ]
     },
     "execution_count": 27,
     "metadata": {},
     "output_type": "execute_result"
    }
   ],
   "source": [
    "str(model)"
   ]
  },
  {
   "cell_type": "code",
   "execution_count": 28,
   "metadata": {},
   "outputs": [
    {
     "data": {
      "image/png": "[encoded data removed]",
      "text/plain": [
       "<Figure size 504x360 with 4 Axes>"
      ]
     },
     "metadata": {
      "needs_background": "light"
     },
     "output_type": "display_data"
    }
   ],
   "source": [
    "model.plot_diagnostics(figsize=(7,5))\n",
    "plt.show()"
   ]
  },
  {
   "cell_type": "markdown",
   "metadata": {},
   "source": [
    "model.resid()"
   ]
  },
  {
   "cell_type": "code",
   "execution_count": 30,
   "metadata": {},
   "outputs": [
    {
     "data": {
      "text/plain": [
       "8458.368146962974"
      ]
     },
     "execution_count": 30,
     "metadata": {},
     "output_type": "execute_result"
    }
   ],
   "source": [
    "abs(model.resid()).sum()"
   ]
  },
  {
   "cell_type": "code",
   "execution_count": 40,
   "metadata": {},
   "outputs": [
    {
     "ename": "ValueError",
     "evalue": "Length of values does not match length of index",
     "output_type": "error",
     "traceback": [
      "\u001b[1;31m---------------------------------------------------------------------------\u001b[0m",
      "\u001b[1;31mValueError\u001b[0m                                Traceback (most recent call last)",
      "\u001b[1;32m<ipython-input-40-6e3d2e09093f>\u001b[0m in \u001b[0;36m<module>\u001b[1;34m\u001b[0m\n\u001b[1;32m----> 1\u001b[1;33m \u001b[0mX_val\u001b[0m\u001b[1;33m[\u001b[0m\u001b[1;34m'arima'\u001b[0m\u001b[1;33m]\u001b[0m \u001b[1;33m=\u001b[0m \u001b[0mmodel\u001b[0m\u001b[1;33m.\u001b[0m\u001b[0mpredict\u001b[0m\u001b[1;33m(\u001b[0m\u001b[1;36m28\u001b[0m\u001b[1;33m)\u001b[0m\u001b[1;33m\u001b[0m\u001b[1;33m\u001b[0m\u001b[0m\n\u001b[0m",
      "\u001b[1;32m~\\Anaconda3\\lib\\site-packages\\pandas\\core\\frame.py\u001b[0m in \u001b[0;36m__setitem__\u001b[1;34m(self, key, value)\u001b[0m\n\u001b[0;32m   3470\u001b[0m         \u001b[1;32melse\u001b[0m\u001b[1;33m:\u001b[0m\u001b[1;33m\u001b[0m\u001b[1;33m\u001b[0m\u001b[0m\n\u001b[0;32m   3471\u001b[0m             \u001b[1;31m# set column\u001b[0m\u001b[1;33m\u001b[0m\u001b[1;33m\u001b[0m\u001b[1;33m\u001b[0m\u001b[0m\n\u001b[1;32m-> 3472\u001b[1;33m             \u001b[0mself\u001b[0m\u001b[1;33m.\u001b[0m\u001b[0m_set_item\u001b[0m\u001b[1;33m(\u001b[0m\u001b[0mkey\u001b[0m\u001b[1;33m,\u001b[0m \u001b[0mvalue\u001b[0m\u001b[1;33m)\u001b[0m\u001b[1;33m\u001b[0m\u001b[1;33m\u001b[0m\u001b[0m\n\u001b[0m\u001b[0;32m   3473\u001b[0m \u001b[1;33m\u001b[0m\u001b[0m\n\u001b[0;32m   3474\u001b[0m     \u001b[1;32mdef\u001b[0m \u001b[0m_setitem_slice\u001b[0m\u001b[1;33m(\u001b[0m\u001b[0mself\u001b[0m\u001b[1;33m,\u001b[0m \u001b[0mkey\u001b[0m\u001b[1;33m,\u001b[0m \u001b[0mvalue\u001b[0m\u001b[1;33m)\u001b[0m\u001b[1;33m:\u001b[0m\u001b[1;33m\u001b[0m\u001b[1;33m\u001b[0m\u001b[0m\n",
      "\u001b[1;32m~\\Anaconda3\\lib\\site-packages\\pandas\\core\\frame.py\u001b[0m in \u001b[0;36m_set_item\u001b[1;34m(self, key, value)\u001b[0m\n\u001b[0;32m   3547\u001b[0m \u001b[1;33m\u001b[0m\u001b[0m\n\u001b[0;32m   3548\u001b[0m         \u001b[0mself\u001b[0m\u001b[1;33m.\u001b[0m\u001b[0m_ensure_valid_index\u001b[0m\u001b[1;33m(\u001b[0m\u001b[0mvalue\u001b[0m\u001b[1;33m)\u001b[0m\u001b[1;33m\u001b[0m\u001b[1;33m\u001b[0m\u001b[0m\n\u001b[1;32m-> 3549\u001b[1;33m         \u001b[0mvalue\u001b[0m \u001b[1;33m=\u001b[0m \u001b[0mself\u001b[0m\u001b[1;33m.\u001b[0m\u001b[0m_sanitize_column\u001b[0m\u001b[1;33m(\u001b[0m\u001b[0mkey\u001b[0m\u001b[1;33m,\u001b[0m \u001b[0mvalue\u001b[0m\u001b[1;33m)\u001b[0m\u001b[1;33m\u001b[0m\u001b[1;33m\u001b[0m\u001b[0m\n\u001b[0m\u001b[0;32m   3550\u001b[0m         \u001b[0mNDFrame\u001b[0m\u001b[1;33m.\u001b[0m\u001b[0m_set_item\u001b[0m\u001b[1;33m(\u001b[0m\u001b[0mself\u001b[0m\u001b[1;33m,\u001b[0m \u001b[0mkey\u001b[0m\u001b[1;33m,\u001b[0m \u001b[0mvalue\u001b[0m\u001b[1;33m)\u001b[0m\u001b[1;33m\u001b[0m\u001b[1;33m\u001b[0m\u001b[0m\n\u001b[0;32m   3551\u001b[0m \u001b[1;33m\u001b[0m\u001b[0m\n",
      "\u001b[1;32m~\\Anaconda3\\lib\\site-packages\\pandas\\core\\frame.py\u001b[0m in \u001b[0;36m_sanitize_column\u001b[1;34m(self, key, value, broadcast)\u001b[0m\n\u001b[0;32m   3732\u001b[0m \u001b[1;33m\u001b[0m\u001b[0m\n\u001b[0;32m   3733\u001b[0m             \u001b[1;31m# turn me into an ndarray\u001b[0m\u001b[1;33m\u001b[0m\u001b[1;33m\u001b[0m\u001b[1;33m\u001b[0m\u001b[0m\n\u001b[1;32m-> 3734\u001b[1;33m             \u001b[0mvalue\u001b[0m \u001b[1;33m=\u001b[0m \u001b[0msanitize_index\u001b[0m\u001b[1;33m(\u001b[0m\u001b[0mvalue\u001b[0m\u001b[1;33m,\u001b[0m \u001b[0mself\u001b[0m\u001b[1;33m.\u001b[0m\u001b[0mindex\u001b[0m\u001b[1;33m,\u001b[0m \u001b[0mcopy\u001b[0m\u001b[1;33m=\u001b[0m\u001b[1;32mFalse\u001b[0m\u001b[1;33m)\u001b[0m\u001b[1;33m\u001b[0m\u001b[1;33m\u001b[0m\u001b[0m\n\u001b[0m\u001b[0;32m   3735\u001b[0m             \u001b[1;32mif\u001b[0m \u001b[1;32mnot\u001b[0m \u001b[0misinstance\u001b[0m\u001b[1;33m(\u001b[0m\u001b[0mvalue\u001b[0m\u001b[1;33m,\u001b[0m \u001b[1;33m(\u001b[0m\u001b[0mnp\u001b[0m\u001b[1;33m.\u001b[0m\u001b[0mndarray\u001b[0m\u001b[1;33m,\u001b[0m \u001b[0mIndex\u001b[0m\u001b[1;33m)\u001b[0m\u001b[1;33m)\u001b[0m\u001b[1;33m:\u001b[0m\u001b[1;33m\u001b[0m\u001b[1;33m\u001b[0m\u001b[0m\n\u001b[0;32m   3736\u001b[0m                 \u001b[1;32mif\u001b[0m \u001b[0misinstance\u001b[0m\u001b[1;33m(\u001b[0m\u001b[0mvalue\u001b[0m\u001b[1;33m,\u001b[0m \u001b[0mlist\u001b[0m\u001b[1;33m)\u001b[0m \u001b[1;32mand\u001b[0m \u001b[0mlen\u001b[0m\u001b[1;33m(\u001b[0m\u001b[0mvalue\u001b[0m\u001b[1;33m)\u001b[0m \u001b[1;33m>\u001b[0m \u001b[1;36m0\u001b[0m\u001b[1;33m:\u001b[0m\u001b[1;33m\u001b[0m\u001b[1;33m\u001b[0m\u001b[0m\n",
      "\u001b[1;32m~\\Anaconda3\\lib\\site-packages\\pandas\\core\\internals\\construction.py\u001b[0m in \u001b[0;36msanitize_index\u001b[1;34m(data, index, copy)\u001b[0m\n\u001b[0;32m    610\u001b[0m \u001b[1;33m\u001b[0m\u001b[0m\n\u001b[0;32m    611\u001b[0m     \u001b[1;32mif\u001b[0m \u001b[0mlen\u001b[0m\u001b[1;33m(\u001b[0m\u001b[0mdata\u001b[0m\u001b[1;33m)\u001b[0m \u001b[1;33m!=\u001b[0m \u001b[0mlen\u001b[0m\u001b[1;33m(\u001b[0m\u001b[0mindex\u001b[0m\u001b[1;33m)\u001b[0m\u001b[1;33m:\u001b[0m\u001b[1;33m\u001b[0m\u001b[1;33m\u001b[0m\u001b[0m\n\u001b[1;32m--> 612\u001b[1;33m         \u001b[1;32mraise\u001b[0m \u001b[0mValueError\u001b[0m\u001b[1;33m(\u001b[0m\u001b[1;34m\"Length of values does not match length of index\"\u001b[0m\u001b[1;33m)\u001b[0m\u001b[1;33m\u001b[0m\u001b[1;33m\u001b[0m\u001b[0m\n\u001b[0m\u001b[0;32m    613\u001b[0m \u001b[1;33m\u001b[0m\u001b[0m\n\u001b[0;32m    614\u001b[0m     \u001b[1;32mif\u001b[0m \u001b[0misinstance\u001b[0m\u001b[1;33m(\u001b[0m\u001b[0mdata\u001b[0m\u001b[1;33m,\u001b[0m \u001b[0mABCIndexClass\u001b[0m\u001b[1;33m)\u001b[0m \u001b[1;32mand\u001b[0m \u001b[1;32mnot\u001b[0m \u001b[0mcopy\u001b[0m\u001b[1;33m:\u001b[0m\u001b[1;33m\u001b[0m\u001b[1;33m\u001b[0m\u001b[0m\n",
      "\u001b[1;31mValueError\u001b[0m: Length of values does not match length of index"
     ]
    }
   ],
   "source": []
  },
  {
   "cell_type": "code",
   "execution_count": 42,
   "metadata": {},
   "outputs": [],
   "source": [
    "food = X_val.loc[X_val['id'] == 'FOODS_3_120_CA_3_validation', ['date', 'demand_pred', 'demand']]"
   ]
  },
  {
   "cell_type": "code",
   "execution_count": 32,
   "metadata": {},
   "outputs": [
    {
     "data": {
      "text/html": [
       "<div>\n",
       "<style scoped>\n",
       "    .dataframe tbody tr th:only-of-type {\n",
       "        vertical-align: middle;\n",
       "    }\n",
       "\n",
       "    .dataframe tbody tr th {\n",
       "        vertical-align: top;\n",
       "    }\n",
       "\n",
       "    .dataframe thead th {\n",
       "        text-align: right;\n",
       "    }\n",
       "</style>\n",
       "<table border=\"1\" class=\"dataframe\">\n",
       "  <thead>\n",
       "    <tr style=\"text-align: right;\">\n",
       "      <th></th>\n",
       "      <th>date</th>\n",
       "      <th>demand</th>\n",
       "    </tr>\n",
       "  </thead>\n",
       "  <tbody>\n",
       "    <tr>\n",
       "      <td>45182679</td>\n",
       "      <td>2016-03-28</td>\n",
       "      <td>46</td>\n",
       "    </tr>\n",
       "    <tr>\n",
       "      <td>45213169</td>\n",
       "      <td>2016-03-29</td>\n",
       "      <td>58</td>\n",
       "    </tr>\n",
       "    <tr>\n",
       "      <td>45243659</td>\n",
       "      <td>2016-03-30</td>\n",
       "      <td>56</td>\n",
       "    </tr>\n",
       "    <tr>\n",
       "      <td>45274149</td>\n",
       "      <td>2016-03-31</td>\n",
       "      <td>36</td>\n",
       "    </tr>\n",
       "    <tr>\n",
       "      <td>45304639</td>\n",
       "      <td>2016-04-01</td>\n",
       "      <td>56</td>\n",
       "    </tr>\n",
       "    <tr>\n",
       "      <td>45335129</td>\n",
       "      <td>2016-04-02</td>\n",
       "      <td>61</td>\n",
       "    </tr>\n",
       "    <tr>\n",
       "      <td>45365619</td>\n",
       "      <td>2016-04-03</td>\n",
       "      <td>59</td>\n",
       "    </tr>\n",
       "    <tr>\n",
       "      <td>45396109</td>\n",
       "      <td>2016-04-04</td>\n",
       "      <td>71</td>\n",
       "    </tr>\n",
       "    <tr>\n",
       "      <td>45426599</td>\n",
       "      <td>2016-04-05</td>\n",
       "      <td>73</td>\n",
       "    </tr>\n",
       "    <tr>\n",
       "      <td>45457089</td>\n",
       "      <td>2016-04-06</td>\n",
       "      <td>63</td>\n",
       "    </tr>\n",
       "    <tr>\n",
       "      <td>45487579</td>\n",
       "      <td>2016-04-07</td>\n",
       "      <td>43</td>\n",
       "    </tr>\n",
       "    <tr>\n",
       "      <td>45518069</td>\n",
       "      <td>2016-04-08</td>\n",
       "      <td>47</td>\n",
       "    </tr>\n",
       "    <tr>\n",
       "      <td>45548559</td>\n",
       "      <td>2016-04-09</td>\n",
       "      <td>61</td>\n",
       "    </tr>\n",
       "    <tr>\n",
       "      <td>45579049</td>\n",
       "      <td>2016-04-10</td>\n",
       "      <td>84</td>\n",
       "    </tr>\n",
       "    <tr>\n",
       "      <td>45609539</td>\n",
       "      <td>2016-04-11</td>\n",
       "      <td>57</td>\n",
       "    </tr>\n",
       "    <tr>\n",
       "      <td>45640029</td>\n",
       "      <td>2016-04-12</td>\n",
       "      <td>86</td>\n",
       "    </tr>\n",
       "    <tr>\n",
       "      <td>45670519</td>\n",
       "      <td>2016-04-13</td>\n",
       "      <td>89</td>\n",
       "    </tr>\n",
       "    <tr>\n",
       "      <td>45701009</td>\n",
       "      <td>2016-04-14</td>\n",
       "      <td>142</td>\n",
       "    </tr>\n",
       "    <tr>\n",
       "      <td>45731499</td>\n",
       "      <td>2016-04-15</td>\n",
       "      <td>46</td>\n",
       "    </tr>\n",
       "    <tr>\n",
       "      <td>45761989</td>\n",
       "      <td>2016-04-16</td>\n",
       "      <td>66</td>\n",
       "    </tr>\n",
       "    <tr>\n",
       "      <td>45792479</td>\n",
       "      <td>2016-04-17</td>\n",
       "      <td>72</td>\n",
       "    </tr>\n",
       "    <tr>\n",
       "      <td>45822969</td>\n",
       "      <td>2016-04-18</td>\n",
       "      <td>77</td>\n",
       "    </tr>\n",
       "    <tr>\n",
       "      <td>45853459</td>\n",
       "      <td>2016-04-19</td>\n",
       "      <td>71</td>\n",
       "    </tr>\n",
       "    <tr>\n",
       "      <td>45883949</td>\n",
       "      <td>2016-04-20</td>\n",
       "      <td>69</td>\n",
       "    </tr>\n",
       "    <tr>\n",
       "      <td>45914439</td>\n",
       "      <td>2016-04-21</td>\n",
       "      <td>66</td>\n",
       "    </tr>\n",
       "    <tr>\n",
       "      <td>45944929</td>\n",
       "      <td>2016-04-22</td>\n",
       "      <td>43</td>\n",
       "    </tr>\n",
       "    <tr>\n",
       "      <td>45975419</td>\n",
       "      <td>2016-04-23</td>\n",
       "      <td>81</td>\n",
       "    </tr>\n",
       "    <tr>\n",
       "      <td>46005909</td>\n",
       "      <td>2016-04-24</td>\n",
       "      <td>98</td>\n",
       "    </tr>\n",
       "  </tbody>\n",
       "</table>\n",
       "</div>"
      ],
      "text/plain": [
       "               date  demand\n",
       "45182679 2016-03-28      46\n",
       "45213169 2016-03-29      58\n",
       "45243659 2016-03-30      56\n",
       "45274149 2016-03-31      36\n",
       "45304639 2016-04-01      56\n",
       "45335129 2016-04-02      61\n",
       "45365619 2016-04-03      59\n",
       "45396109 2016-04-04      71\n",
       "45426599 2016-04-05      73\n",
       "45457089 2016-04-06      63\n",
       "45487579 2016-04-07      43\n",
       "45518069 2016-04-08      47\n",
       "45548559 2016-04-09      61\n",
       "45579049 2016-04-10      84\n",
       "45609539 2016-04-11      57\n",
       "45640029 2016-04-12      86\n",
       "45670519 2016-04-13      89\n",
       "45701009 2016-04-14     142\n",
       "45731499 2016-04-15      46\n",
       "45761989 2016-04-16      66\n",
       "45792479 2016-04-17      72\n",
       "45822969 2016-04-18      77\n",
       "45853459 2016-04-19      71\n",
       "45883949 2016-04-20      69\n",
       "45914439 2016-04-21      66\n",
       "45944929 2016-04-22      43\n",
       "45975419 2016-04-23      81\n",
       "46005909 2016-04-24      98"
      ]
     },
     "execution_count": 32,
     "metadata": {},
     "output_type": "execute_result"
    }
   ],
   "source": [
    "food['arima'] = "
   ]
  },
  {
   "cell_type": "code",
   "execution_count": null,
   "metadata": {},
   "outputs": [],
   "source": []
  }
 ],
 "metadata": {
  "kernelspec": {
   "display_name": "Python 3",
   "language": "python",
   "name": "python3"
  },
  "language_info": {
   "codemirror_mode": {
    "name": "ipython",
    "version": 3
   },
   "file_extension": ".py",
   "mimetype": "text/x-python",
   "name": "python",
   "nbconvert_exporter": "python",
   "pygments_lexer": "ipython3",
   "version": "3.7.4"
  }
 },
 "nbformat": 4,
 "nbformat_minor": 2
}
