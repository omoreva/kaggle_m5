{
  "nbformat": 4,
  "nbformat_minor": 0,
  "metadata": {
    "kernelspec": {
      "display_name": "Python 3",
      "language": "python",
      "name": "python3"
    },
    "language_info": {
      "codemirror_mode": {
        "name": "ipython",
        "version": 3
      },
      "file_extension": ".py",
      "mimetype": "text/x-python",
      "name": "python",
      "nbconvert_exporter": "python",
      "pygments_lexer": "ipython3",
      "version": "3.7.4"
    },
    "colab": {
      "name": "07_lightGBM_demand_type.ipynb",
      "provenance": []
    }
  },
  "cells": [
    {
      "cell_type": "code",
      "metadata": {
        "id": "RU5EEyZHYShR",
        "colab_type": "code",
        "colab": {}
      },
      "source": [
        "import pandas as pd\n",
        "import numpy as np\n",
        "from datetime  import datetime  \n",
        "from datetime import timedelta  \n",
        "import lightgbm as lgb\n",
        "from sklearn import preprocessing, metrics\n",
        "from sklearn.model_selection import ParameterGrid\n",
        "import matplotlib.pyplot as plt\n",
        "import seaborn as sns\n",
        "#import mlflow\n",
        "#import mlflow.lightgbm\n",
        "import seaborn as sns"
      ],
      "execution_count": 0,
      "outputs": []
    },
    {
      "cell_type": "code",
      "metadata": {
        "id": "ZEUa6bvixU8V",
        "colab_type": "code",
        "outputId": "bd32f96e-3431-43af-abc2-579a30c95223",
        "colab": {
          "base_uri": "https://localhost:8080/",
          "height": 131
        }
      },
      "source": [
        "from google.colab import drive\n",
        "drive.mount('/content/drive')"
      ],
      "execution_count": 5,
      "outputs": [
        {
          "output_type": "stream",
          "text": [
            "Go to this URL in a browser: https://accounts.google.com/o/oauth2/auth?client_id=947318989803-6bn6qk8qdgf4n4g3pfee6491hc0brc4i.apps.googleusercontent.com&redirect_uri=urn%3aietf%3awg%3aoauth%3a2.0%3aoob&response_type=code&scope=email%20https%3a%2f%2fwww.googleapis.com%2fauth%2fdocs.test%20https%3a%2f%2fwww.googleapis.com%2fauth%2fdrive%20https%3a%2f%2fwww.googleapis.com%2fauth%2fdrive.photos.readonly%20https%3a%2f%2fwww.googleapis.com%2fauth%2fpeopleapi.readonly\n",
            "\n",
            "Enter your authorization code:\n",
            "··········\n",
            "Mounted at /content/drive\n"
          ],
          "name": "stdout"
        }
      ]
    },
    {
      "cell_type": "code",
      "metadata": {
        "id": "sajf_2UrYShr",
        "colab_type": "code",
        "colab": {}
      },
      "source": [
        "params = {\n",
        "        'boosting_type': 'gbdt',\n",
        "        'metric': 'rmse',\n",
        "        'objective':  'poisson',\n",
        "        'n_jobs': -1,\n",
        "        'seed': 15,\n",
        "        'learning_rate': 0.05, \n",
        "        'bagging_fraction': 0.9,\n",
        "        'bagging_freq': 10, \n",
        "        'colsample_bytree': 0.75,\n",
        "        'num_iterations':  50000,\n",
        "        'early_stopping_round': 500}"
      ],
      "execution_count": 0,
      "outputs": []
    },
    {
      "cell_type": "code",
      "metadata": {
        "id": "VtT3KEPwYSh2",
        "colab_type": "code",
        "colab": {}
      },
      "source": [
        "data_folder = '/content/drive/My Drive/Kaggle_M5/00_data/'\n",
        "submission = pd.read_csv(data_folder + 'sample_submission.csv')"
      ],
      "execution_count": 0,
      "outputs": []
    },
    {
      "cell_type": "code",
      "metadata": {
        "id": "Iw6qv9FaYSh9",
        "colab_type": "code",
        "colab": {}
      },
      "source": [
        "evaluation_rows = [row for row in submission['id'] if 'evaluation' in row] \n",
        "evaluation = submission[submission['id'].isin(evaluation_rows)]\n",
        "\n",
        "validation_rows = [row for row in submission['id'] if 'validation' in row] \n",
        "validation_csv = submission[submission['id'].isin(validation_rows)]\n"
      ],
      "execution_count": 0,
      "outputs": []
    },
    {
      "cell_type": "code",
      "metadata": {
        "id": "4_1CbjmHYSiG",
        "colab_type": "code",
        "outputId": "789f2791-7501-489e-90b2-ec3cf9c990b8",
        "colab": {
          "base_uri": "https://localhost:8080/",
          "height": 279
        }
      },
      "source": [
        "data_folder = '/content/drive/My Drive/Kaggle_M5/01_preprocessed_data/'\n",
        "\n",
        "i = 'smooth'\n",
        "X_val = pd.read_pickle(data_folder +  \"X_val_{}.pkl\".format(i))\n",
        "X_val.columns\n",
        "\n",
        "not_features = ['id', 'd', 'date', 'start_date', 'demand_type', 'demand']\n",
        "X_val.columns[~X_val.columns.isin(not_features) ]"
      ],
      "execution_count": 9,
      "outputs": [
        {
          "output_type": "execute_result",
          "data": {
            "text/plain": [
              "Index(['item_id', 'dept_id', 'cat_id', 'store_id', 'state_id', 'weekday',\n",
              "       'month', 'event_name_1', 'event_type_1', 'year', 'event_name_2',\n",
              "       'event_type_2', 'snap_CA', 'snap_TX', 'snap_WI', 'days_from_start',\n",
              "       'start_date_from_start', 'sell_price', 'lag_28', 'lag_29', 'lag_30',\n",
              "       'lag_31', 'lag_32', 'lag_33', 'lag_34', 'lag_35', 'rmean_28_3',\n",
              "       'rmean_28_7', 'ADI', 'CV2',\n",
              "       'demand__agg_autocorrelation__f_agg_\"mean\"__maxlag_40',\n",
              "       'demand__agg_autocorrelation__f_agg_\"median\"__maxlag_40',\n",
              "       'demand__agg_autocorrelation__f_agg_\"var\"__maxlag_40',\n",
              "       'demand__ar_coefficient__k_10__coeff_3', 'avg_price', 'avg_demand',\n",
              "       'max_demand', 'std_demand', 'non_zero_seq_len', 'zero_seq_len',\n",
              "       'avg_weekday_demand', 'quantile025_week', 'max_weekday_demand',\n",
              "       'cheaper_than_usual'],\n",
              "      dtype='object')"
            ]
          },
          "metadata": {
            "tags": []
          },
          "execution_count": 9
        }
      ]
    },
    {
      "cell_type": "code",
      "metadata": {
        "id": "aH6qETQ6YSiO",
        "colab_type": "code",
        "outputId": "6a116ffd-3cbc-4b17-83e8-a41624d63377",
        "colab": {
          "base_uri": "https://localhost:8080/",
          "height": 36
        }
      },
      "source": [
        "len(X_val.columns[~X_val.columns.isin(not_features) ])"
      ],
      "execution_count": 10,
      "outputs": [
        {
          "output_type": "execute_result",
          "data": {
            "text/plain": [
              "44"
            ]
          },
          "metadata": {
            "tags": []
          },
          "execution_count": 10
        }
      ]
    },
    {
      "cell_type": "code",
      "metadata": {
        "id": "EfC3YFd_YSiU",
        "colab_type": "code",
        "colab": {}
      },
      "source": [
        ""
      ],
      "execution_count": 0,
      "outputs": []
    },
    {
      "cell_type": "code",
      "metadata": {
        "id": "U_LDEPjdYSiY",
        "colab_type": "code",
        "outputId": "f6df785a-fc63-45e7-b091-6c5ef0e46151",
        "colab": {
          "base_uri": "https://localhost:8080/",
          "height": 54
        }
      },
      "source": [
        "model_folder = '/content/drive/My Drive/Kaggle_M5/05_models/'\n",
        "\n",
        "validation = pd.DataFrame(columns=submission.columns)\n",
        "val_score = {'smooth':0, 'erratic':0, 'lumpy':0, 'intermittent':0}\n",
        "for i in ['intermittent', 'smooth', 'erratic', 'lumpy']:\n",
        "    print(i)\n",
        "    X_val = pd.read_pickle(data_folder + \"X_val_{}.pkl\".format(i))\n",
        "    X_test = pd.read_pickle(data_folder + \"X_test_{}.pkl\".format(i))\n",
        "    X_train = pd.read_pickle(data_folder + \"X_train_{}.pkl\".format(i))\n",
        "    y_train = X_train['demand']\n",
        "    y_val = X_val['demand']\n",
        "    print(X_train.shape)\n",
        "    if i == 'intermittent':\n",
        "        X_train = X_train[X_train['date'] >= '2014-06-01']\n",
        "        y_train = X_train[X_train['date'] >= '2014-06-01']['demand']\n",
        "    features = X_train.columns[~X_train.columns.isin(not_features) ]\n",
        "\n",
        "    train_set = lgb.Dataset(X_train[features],y_train)\n",
        "    val_set = lgb.Dataset(X_val[features], y_val)\n",
        "    model = lgb.train(params, train_set, valid_sets = [train_set, val_set], verbose_eval = 100)\n",
        "    model.save_model(model_folder + 'lgb_' + i + '.txt', num_iteration=model.best_iteration) \n",
        "\n",
        "\n",
        "    val_pred = model.predict(X_val[features])\n",
        "    val_score[i] = np.sqrt(metrics.mean_squared_error(val_pred, y_val))\n",
        "    print(f'Our val rmse score is {val_score[i]}')\n",
        "\n",
        "    y_test = model.predict(X_test[features])\n",
        "    X_test['demand'] = y_test\n",
        "    predictions = X_test[['id', 'days_from_start', 'demand']]\n",
        "    predictions = pd.pivot(predictions, index = 'id', columns = 'days_from_start', values = 'demand').reset_index()\n",
        "    predictions.columns = ['id'] + ['F' + str(j + 1) for j in range(28)]\n",
        "    validation = validation.append(submission[['id']].merge(predictions, on = 'id'))\n",
        "\n",
        "    "
      ],
      "execution_count": 0,
      "outputs": [
        {
          "output_type": "stream",
          "text": [
            "intermittent\n",
            "(32061790, 50)\n"
          ],
          "name": "stdout"
        }
      ]
    },
    {
      "cell_type": "code",
      "metadata": {
        "id": "9hDwZQzIYSig",
        "colab_type": "code",
        "colab": {}
      },
      "source": [
        "val_score"
      ],
      "execution_count": 0,
      "outputs": []
    },
    {
      "cell_type": "code",
      "metadata": {
        "id": "mVr0NRqYYSjD",
        "colab_type": "code",
        "colab": {}
      },
      "source": [
        "validation = validation.set_index('id')\n",
        "validation = validation.reindex(index=validation_csv['id'])\n",
        "validation = validation.reset_index()"
      ],
      "execution_count": 0,
      "outputs": []
    },
    {
      "cell_type": "code",
      "metadata": {
        "id": "_6HOyj95YSjK",
        "colab_type": "code",
        "colab": {}
      },
      "source": [
        "validation"
      ],
      "execution_count": 0,
      "outputs": []
    },
    {
      "cell_type": "code",
      "metadata": {
        "id": "76_9Dc93YSjQ",
        "colab_type": "code",
        "colab": {}
      },
      "source": [
        "final = pd.concat([validation, evaluation])"
      ],
      "execution_count": 0,
      "outputs": []
    },
    {
      "cell_type": "code",
      "metadata": {
        "id": "uwXWKZlaYSj0",
        "colab_type": "code",
        "colab": {}
      },
      "source": [
        "data_folder = '/content/drive/My Drive/Kaggle_M5/04_submissions/'\n",
        "final.to_csv(data_folder + 'submission-by_demand_type_poisson.csv', index = False)"
      ],
      "execution_count": 0,
      "outputs": []
    }
  ]
}