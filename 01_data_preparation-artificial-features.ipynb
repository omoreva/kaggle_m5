{
  "nbformat": 4,
  "nbformat_minor": 0,
  "metadata": {
    "kernelspec": {
      "display_name": "Python 3",
      "language": "python",
      "name": "python3"
    },
    "language_info": {
      "codemirror_mode": {
        "name": "ipython",
        "version": 3
      },
      "file_extension": ".py",
      "mimetype": "text/x-python",
      "name": "python",
      "nbconvert_exporter": "python",
      "pygments_lexer": "ipython3",
      "version": "3.7.4"
    },
    "colab": {
      "name": "01_data_preparation-artificial-features.ipynb",
      "provenance": [],
      "toc_visible": true,
      "machine_shape": "hm"
    }
  },
  "cells": [
    {
      "cell_type": "markdown",
      "metadata": {
        "id": "b_9Xq49SLngE",
        "colab_type": "text"
      },
      "source": [
        "# Data preparation"
      ]
    },
    {
      "cell_type": "markdown",
      "metadata": {
        "id": "6k8kBHWTLngF",
        "colab_type": "text"
      },
      "source": [
        "In this notebook we preprocess our data for ML algorithms and create new features."
      ]
    },
    {
      "cell_type": "markdown",
      "metadata": {
        "id": "HqiG1pXULngH",
        "colab_type": "text"
      },
      "source": [
        "## Load and reshape data"
      ]
    },
    {
      "cell_type": "markdown",
      "metadata": {
        "id": "CAYFa8zkLngJ",
        "colab_type": "text"
      },
      "source": [
        "Import libraries"
      ]
    },
    {
      "cell_type": "code",
      "metadata": {
        "id": "ZlhptmTuLngK",
        "colab_type": "code",
        "colab": {}
      },
      "source": [
        "import pandas as pd\n",
        "import numpy as np\n",
        "from datetime import datetime  \n",
        "from datetime import timedelta  \n",
        "import gc\n",
        "import pickle\n",
        "from sklearn import preprocessing, metrics\n",
        "import pandas as pd\n",
        "import matplotlib.pyplot as plt\n",
        "#from sagemaker import get_execution_role\n",
        "#import boto3\n",
        "import seaborn as sns\n",
        "import itertools,operator\n"
      ],
      "execution_count": 0,
      "outputs": []
    },
    {
      "cell_type": "code",
      "metadata": {
        "id": "IAxSKDruLsBa",
        "colab_type": "code",
        "outputId": "f002ec22-5101-41dd-fea7-54b5bfaa97d5",
        "colab": {
          "base_uri": "https://localhost:8080/",
          "height": 55
        }
      },
      "source": [
        "from google.colab import drive\n",
        "drive.mount('/content/drive')"
      ],
      "execution_count": 47,
      "outputs": [
        {
          "output_type": "stream",
          "text": [
            "Drive already mounted at /content/drive; to attempt to forcibly remount, call drive.mount(\"/content/drive\", force_remount=True).\n"
          ],
          "name": "stdout"
        }
      ]
    },
    {
      "cell_type": "markdown",
      "metadata": {
        "id": "SbNZDYW7LngR",
        "colab_type": "text"
      },
      "source": [
        "Helper functions"
      ]
    },
    {
      "cell_type": "code",
      "metadata": {
        "id": "O2AOa1R5LngS",
        "colab_type": "code",
        "colab": {}
      },
      "source": [
        "# this function is taken from https://www.kaggle.com/ragnar123/very-fst-model\n",
        "def reduce_mem_usage(df, verbose=True):\n",
        "    '''Reduce memory usage of dataframe by converting ints and floats \n",
        "    Args:\n",
        "        df: dataframe\n",
        "            \n",
        "    Returns:\n",
        "        dataframe with converted columns\n",
        "    '''\n",
        "    numerics = ['int16', 'int32', 'int64', 'float16', 'float32', 'float64']\n",
        "    start_mem = df.memory_usage().sum() / 1024**2    \n",
        "    for col in df.columns:\n",
        "        col_type = df[col].dtypes\n",
        "        if col_type in numerics:\n",
        "            c_min = df[col].min()\n",
        "            c_max = df[col].max()\n",
        "            if str(col_type)[:3] == 'int':\n",
        "                if c_min > np.iinfo(np.int8).min and c_max < np.iinfo(np.int8).max:\n",
        "                    df[col] = df[col].astype(np.int8)\n",
        "                elif c_min > np.iinfo(np.int16).min and c_max < np.iinfo(np.int16).max:\n",
        "                    df[col] = df[col].astype(np.int16)\n",
        "                elif c_min > np.iinfo(np.int32).min and c_max < np.iinfo(np.int32).max:\n",
        "                    df[col] = df[col].astype(np.int32)\n",
        "                elif c_min > np.iinfo(np.int64).min and c_max < np.iinfo(np.int64).max:\n",
        "                    df[col] = df[col].astype(np.int64)  \n",
        "            else:\n",
        "                if c_min > np.finfo(np.float16).min and c_max < np.finfo(np.float16).max:\n",
        "                    df[col] = df[col].astype(np.float16)\n",
        "                elif c_min > np.finfo(np.float32).min and c_max < np.finfo(np.float32).max:\n",
        "                    df[col] = df[col].astype(np.float32)\n",
        "                else:\n",
        "                    df[col] = df[col].astype(np.float64)    \n",
        "    end_mem = df.memory_usage().sum() / 1024**2\n",
        "    if verbose: print('Mem. usage decreased to {:5.2f} Mb ({:.1f}% reduction)'.format(end_mem, 100 * (start_mem - end_mem) / start_mem))\n",
        "    return df\n"
      ],
      "execution_count": 0,
      "outputs": []
    },
    {
      "cell_type": "markdown",
      "metadata": {
        "id": "jN3KQraWLngX",
        "colab_type": "text"
      },
      "source": [
        "Read data."
      ]
    },
    {
      "cell_type": "code",
      "metadata": {
        "id": "v3ekYfU5LngY",
        "colab_type": "code",
        "outputId": "c78c8d5e-0abb-4ce5-8cc5-da3a22e8bb2f",
        "colab": {
          "base_uri": "https://localhost:8080/",
          "height": 35
        }
      },
      "source": [
        "print('Reading files...')\n",
        "#data_location = 's3://{}/{}/{}'.format(bucket, prefix, 'calendar.csv')\n",
        "data_folder = '/content/drive/My Drive/Kaggle_M5/01_preprocessed_data/'\n",
        "X = pd.read_pickle(data_folder + 'X.pkl')"
      ],
      "execution_count": 49,
      "outputs": [
        {
          "output_type": "stream",
          "text": [
            "Reading files...\n"
          ],
          "name": "stdout"
        }
      ]
    },
    {
      "cell_type": "code",
      "metadata": {
        "id": "gPrmQBEtLnge",
        "colab_type": "code",
        "outputId": "d2fbf503-d011-4fc4-f1c2-b598d6528e06",
        "colab": {
          "base_uri": "https://localhost:8080/",
          "height": 226
        }
      },
      "source": [
        "X.tail()"
      ],
      "execution_count": 50,
      "outputs": [
        {
          "output_type": "execute_result",
          "data": {
            "text/html": [
              "<div>\n",
              "<style scoped>\n",
              "    .dataframe tbody tr th:only-of-type {\n",
              "        vertical-align: middle;\n",
              "    }\n",
              "\n",
              "    .dataframe tbody tr th {\n",
              "        vertical-align: top;\n",
              "    }\n",
              "\n",
              "    .dataframe thead th {\n",
              "        text-align: right;\n",
              "    }\n",
              "</style>\n",
              "<table border=\"1\" class=\"dataframe\">\n",
              "  <thead>\n",
              "    <tr style=\"text-align: right;\">\n",
              "      <th></th>\n",
              "      <th>id</th>\n",
              "      <th>item_id</th>\n",
              "      <th>dept_id</th>\n",
              "      <th>cat_id</th>\n",
              "      <th>store_id</th>\n",
              "      <th>state_id</th>\n",
              "      <th>d</th>\n",
              "      <th>demand</th>\n",
              "      <th>date</th>\n",
              "      <th>wm_yr_wk</th>\n",
              "      <th>weekday</th>\n",
              "      <th>month</th>\n",
              "      <th>event_name_1</th>\n",
              "      <th>event_type_1</th>\n",
              "      <th>year</th>\n",
              "      <th>event_name_2</th>\n",
              "      <th>event_type_2</th>\n",
              "      <th>snap_CA</th>\n",
              "      <th>snap_TX</th>\n",
              "      <th>snap_WI</th>\n",
              "      <th>start_date</th>\n",
              "      <th>days_from_start</th>\n",
              "      <th>start_date_from_start</th>\n",
              "      <th>sell_price</th>\n",
              "    </tr>\n",
              "  </thead>\n",
              "  <tbody>\n",
              "    <tr>\n",
              "      <th>46881672</th>\n",
              "      <td>FOODS_3_823_WI_3_validation</td>\n",
              "      <td>FOODS_3_823</td>\n",
              "      <td>FOODS_3</td>\n",
              "      <td>FOODS</td>\n",
              "      <td>WI_3</td>\n",
              "      <td>WI</td>\n",
              "      <td>d_1941</td>\n",
              "      <td>0</td>\n",
              "      <td>2016-05-22</td>\n",
              "      <td>11617</td>\n",
              "      <td>Sunday</td>\n",
              "      <td>5</td>\n",
              "      <td>no event</td>\n",
              "      <td>no event</td>\n",
              "      <td>2016</td>\n",
              "      <td>no event</td>\n",
              "      <td>no event</td>\n",
              "      <td>0</td>\n",
              "      <td>0</td>\n",
              "      <td>0</td>\n",
              "      <td>2011-01-29</td>\n",
              "      <td>1940</td>\n",
              "      <td>0</td>\n",
              "      <td>2.980469</td>\n",
              "    </tr>\n",
              "    <tr>\n",
              "      <th>46881673</th>\n",
              "      <td>FOODS_3_824_WI_3_validation</td>\n",
              "      <td>FOODS_3_824</td>\n",
              "      <td>FOODS_3</td>\n",
              "      <td>FOODS</td>\n",
              "      <td>WI_3</td>\n",
              "      <td>WI</td>\n",
              "      <td>d_1941</td>\n",
              "      <td>0</td>\n",
              "      <td>2016-05-22</td>\n",
              "      <td>11617</td>\n",
              "      <td>Sunday</td>\n",
              "      <td>5</td>\n",
              "      <td>no event</td>\n",
              "      <td>no event</td>\n",
              "      <td>2016</td>\n",
              "      <td>no event</td>\n",
              "      <td>no event</td>\n",
              "      <td>0</td>\n",
              "      <td>0</td>\n",
              "      <td>0</td>\n",
              "      <td>2011-01-29</td>\n",
              "      <td>1940</td>\n",
              "      <td>0</td>\n",
              "      <td>2.480469</td>\n",
              "    </tr>\n",
              "    <tr>\n",
              "      <th>46881674</th>\n",
              "      <td>FOODS_3_825_WI_3_validation</td>\n",
              "      <td>FOODS_3_825</td>\n",
              "      <td>FOODS_3</td>\n",
              "      <td>FOODS</td>\n",
              "      <td>WI_3</td>\n",
              "      <td>WI</td>\n",
              "      <td>d_1941</td>\n",
              "      <td>0</td>\n",
              "      <td>2016-05-22</td>\n",
              "      <td>11617</td>\n",
              "      <td>Sunday</td>\n",
              "      <td>5</td>\n",
              "      <td>no event</td>\n",
              "      <td>no event</td>\n",
              "      <td>2016</td>\n",
              "      <td>no event</td>\n",
              "      <td>no event</td>\n",
              "      <td>0</td>\n",
              "      <td>0</td>\n",
              "      <td>0</td>\n",
              "      <td>2011-01-29</td>\n",
              "      <td>1940</td>\n",
              "      <td>0</td>\n",
              "      <td>3.980469</td>\n",
              "    </tr>\n",
              "    <tr>\n",
              "      <th>46881675</th>\n",
              "      <td>FOODS_3_826_WI_3_validation</td>\n",
              "      <td>FOODS_3_826</td>\n",
              "      <td>FOODS_3</td>\n",
              "      <td>FOODS</td>\n",
              "      <td>WI_3</td>\n",
              "      <td>WI</td>\n",
              "      <td>d_1941</td>\n",
              "      <td>0</td>\n",
              "      <td>2016-05-22</td>\n",
              "      <td>11617</td>\n",
              "      <td>Sunday</td>\n",
              "      <td>5</td>\n",
              "      <td>no event</td>\n",
              "      <td>no event</td>\n",
              "      <td>2016</td>\n",
              "      <td>no event</td>\n",
              "      <td>no event</td>\n",
              "      <td>0</td>\n",
              "      <td>0</td>\n",
              "      <td>0</td>\n",
              "      <td>2013-08-24</td>\n",
              "      <td>1940</td>\n",
              "      <td>938</td>\n",
              "      <td>1.280273</td>\n",
              "    </tr>\n",
              "    <tr>\n",
              "      <th>46881676</th>\n",
              "      <td>FOODS_3_827_WI_3_validation</td>\n",
              "      <td>FOODS_3_827</td>\n",
              "      <td>FOODS_3</td>\n",
              "      <td>FOODS</td>\n",
              "      <td>WI_3</td>\n",
              "      <td>WI</td>\n",
              "      <td>d_1941</td>\n",
              "      <td>0</td>\n",
              "      <td>2016-05-22</td>\n",
              "      <td>11617</td>\n",
              "      <td>Sunday</td>\n",
              "      <td>5</td>\n",
              "      <td>no event</td>\n",
              "      <td>no event</td>\n",
              "      <td>2016</td>\n",
              "      <td>no event</td>\n",
              "      <td>no event</td>\n",
              "      <td>0</td>\n",
              "      <td>0</td>\n",
              "      <td>0</td>\n",
              "      <td>2014-03-01</td>\n",
              "      <td>1940</td>\n",
              "      <td>1127</td>\n",
              "      <td>1.000000</td>\n",
              "    </tr>\n",
              "  </tbody>\n",
              "</table>\n",
              "</div>"
            ],
            "text/plain": [
              "                                   id  ... sell_price\n",
              "46881672  FOODS_3_823_WI_3_validation  ...   2.980469\n",
              "46881673  FOODS_3_824_WI_3_validation  ...   2.480469\n",
              "46881674  FOODS_3_825_WI_3_validation  ...   3.980469\n",
              "46881675  FOODS_3_826_WI_3_validation  ...   1.280273\n",
              "46881676  FOODS_3_827_WI_3_validation  ...   1.000000\n",
              "\n",
              "[5 rows x 24 columns]"
            ]
          },
          "metadata": {
            "tags": []
          },
          "execution_count": 50
        }
      ]
    },
    {
      "cell_type": "markdown",
      "metadata": {
        "id": "eZ1ApnGoLngj",
        "colab_type": "text"
      },
      "source": [
        "## Lag features"
      ]
    },
    {
      "cell_type": "code",
      "metadata": {
        "id": "i9p434u8Lngj",
        "colab_type": "code",
        "outputId": "695dab54-f222-495c-fa5d-0f3456d3a92a",
        "colab": {
          "base_uri": "https://localhost:8080/",
          "height": 239
        }
      },
      "source": [
        "lags = [x for x in range(28, 28+8)]\n",
        "windows = [3, 7]\n",
        "\n",
        "lag_cols = [f\"lag_{lag}\" for lag in lags ]\n",
        "for lag, lag_col in zip(lags, lag_cols):\n",
        "    print('Lag {}'.format(lag))\n",
        "    X[lag_col] = X.groupby(\"id\")[\"demand\"].shift(lag)\n",
        "\n",
        "X = reduce_mem_usage(X)\n",
        "lags = [28]\n",
        "for window in windows:\n",
        "    for lag,lag_col in zip(lags, lag_cols):\n",
        "        print(\"Lag {}, window {}\".format(lag, window))\n",
        "        X[f\"rmean_{lag}_{window}\"] = X[[\"id\", lag_col]].groupby(\"id\")[lag_col].\\\n",
        "        transform(lambda x : x.rolling(window).mean())\n",
        "X = reduce_mem_usage(X)\n",
        "# For each id drop early rows for which lag cannot be calculated \n",
        "    \n",
        "#X = X.dropna()\n"
      ],
      "execution_count": 51,
      "outputs": [
        {
          "output_type": "stream",
          "text": [
            "Lag 28\n",
            "Lag 29\n",
            "Lag 30\n",
            "Lag 31\n",
            "Lag 32\n",
            "Lag 33\n",
            "Lag 34\n",
            "Lag 35\n",
            "Mem. usage decreased to 3444.25 Mb (43.8% reduction)\n",
            "Lag 28, window 3\n",
            "Lag 28, window 7\n",
            "Mem. usage decreased to 3623.09 Mb (0.0% reduction)\n"
          ],
          "name": "stdout"
        }
      ]
    },
    {
      "cell_type": "code",
      "metadata": {
        "id": "Efn1n-WDLngn",
        "colab_type": "code",
        "outputId": "12d73892-35b1-4cdb-e3dc-f3e9409bdf44",
        "colab": {
          "base_uri": "https://localhost:8080/",
          "height": 165
        }
      },
      "source": [
        "X.columns"
      ],
      "execution_count": 52,
      "outputs": [
        {
          "output_type": "execute_result",
          "data": {
            "text/plain": [
              "Index(['id', 'item_id', 'dept_id', 'cat_id', 'store_id', 'state_id', 'd',\n",
              "       'demand', 'date', 'wm_yr_wk', 'weekday', 'month', 'event_name_1',\n",
              "       'event_type_1', 'year', 'event_name_2', 'event_type_2', 'snap_CA',\n",
              "       'snap_TX', 'snap_WI', 'start_date', 'days_from_start',\n",
              "       'start_date_from_start', 'sell_price', 'lag_28', 'lag_29', 'lag_30',\n",
              "       'lag_31', 'lag_32', 'lag_33', 'lag_34', 'lag_35', 'rmean_28_3',\n",
              "       'rmean_28_7'],\n",
              "      dtype='object')"
            ]
          },
          "metadata": {
            "tags": []
          },
          "execution_count": 52
        }
      ]
    },
    {
      "cell_type": "code",
      "metadata": {
        "id": "q3fchWCeLngr",
        "colab_type": "code",
        "colab": {}
      },
      "source": [
        "X = X.dropna()"
      ],
      "execution_count": 0,
      "outputs": []
    },
    {
      "cell_type": "code",
      "metadata": {
        "id": "JPB38sqPLngz",
        "colab_type": "code",
        "colab": {}
      },
      "source": [
        "X.to_pickle(data_folder + 'X_lags.pkl')"
      ],
      "execution_count": 0,
      "outputs": []
    },
    {
      "cell_type": "code",
      "metadata": {
        "id": "V5VIOXxELng4",
        "colab_type": "code",
        "colab": {}
      },
      "source": [
        "#X = pd.read_pickle(\"../01_preprocessed_data/X_lags.pkl\")"
      ],
      "execution_count": 0,
      "outputs": []
    },
    {
      "cell_type": "markdown",
      "metadata": {
        "id": "deV73-zwLng8",
        "colab_type": "text"
      },
      "source": [
        "# From train, validation, and test datasets"
      ]
    },
    {
      "cell_type": "markdown",
      "metadata": {
        "id": "zYuZtIjiLng9",
        "colab_type": "text"
      },
      "source": [
        "Split X into X_train and X_val"
      ]
    },
    {
      "cell_type": "code",
      "metadata": {
        "id": "2KFcgFPZLng9",
        "colab_type": "code",
        "colab": {}
      },
      "source": [
        "first_day = pd.Timestamp(X['date'].values.min())\n",
        "last_day =  pd.Timestamp(X['date'].values.max())\n",
        "n_val_days = 28# round(n_days*val_size)\n",
        "n_test_days = 28# round(n_days*val_size)\n",
        "\n",
        "first_val_day  =  last_day - timedelta(days = (n_test_days + n_val_days  -1 ))\n",
        "first_test_day =  last_day - timedelta(days = n_test_days - 1)\n"
      ],
      "execution_count": 0,
      "outputs": []
    },
    {
      "cell_type": "code",
      "metadata": {
        "id": "4q8SH17MLnhB",
        "colab_type": "code",
        "outputId": "989f3be2-1842-4e9c-d3ad-d3f922e2d7db",
        "colab": {
          "base_uri": "https://localhost:8080/",
          "height": 54
        }
      },
      "source": [
        "print(\"first_val_day {}\".format(first_val_day))\n",
        "print(\"first_test_day {}\".format(first_test_day))\n"
      ],
      "execution_count": 57,
      "outputs": [
        {
          "output_type": "stream",
          "text": [
            "first_val_day 2016-03-28 00:00:00\n",
            "first_test_day 2016-04-25 00:00:00\n"
          ],
          "name": "stdout"
        }
      ]
    },
    {
      "cell_type": "code",
      "metadata": {
        "id": "kFjCQtt4LnhF",
        "colab_type": "code",
        "colab": {}
      },
      "source": [
        "X_train = X[X['date'] < first_val_day]\n",
        "y_train = X_train[['demand']]\n",
        "X_val = X[(X['date'] >= first_val_day) & (X['date'] < first_test_day)]\n",
        "y_val = X_val[['demand']]\n",
        "X_test = X[X['date'] >= first_test_day]\n",
        "#X_test = reduce_mem_usage(X_test)\n",
        "#X_train = reduce_mem_usage(X_train)\n",
        "#X_val = reduce_mem_usage(X_val)\n",
        "#X = reduce_mem_usage(X)"
      ],
      "execution_count": 0,
      "outputs": []
    },
    {
      "cell_type": "code",
      "metadata": {
        "id": "IYlWJPlcLnhI",
        "colab_type": "code",
        "colab": {}
      },
      "source": [
        ""
      ],
      "execution_count": 0,
      "outputs": []
    },
    {
      "cell_type": "code",
      "metadata": {
        "id": "RibzBjX4LnhM",
        "colab_type": "code",
        "outputId": "5db0df5c-397a-477b-8079-39b278adc7ae",
        "colab": {
          "base_uri": "https://localhost:8080/",
          "height": 312
        }
      },
      "source": [
        "print(\"X dates:\")\n",
        "print(X['date'].values.min())\n",
        "print(X['date'].values.max())\n",
        "print((X['date'].values.max() - X['date'].values.min())/np.timedelta64(1, 'D'))\n",
        "\n",
        "print(\"X_train dates:\")\n",
        "print(X_train['date'].values.min())\n",
        "print(X_train['date'].values.max())\n",
        "print((X_train['date'].values.max() - X_train['date'].values.min())/np.timedelta64(1, 'D'))\n",
        "\n",
        "print(\"X_val dates:\")\n",
        "print(X_val['date'].values.min())\n",
        "print(X_val['date'].values.max())\n",
        "print((X_val['date'].values.max() - X_val['date'].values.min())/np.timedelta64(1, 'D'))\n",
        "\n",
        "print(\"X_test dates:\")\n",
        "print(X_test['date'].values.min())\n",
        "print(X_test['date'].values.max())\n",
        "print((X_test['date'].values.max() - X_test['date'].values.min())/np.timedelta64(1, 'D'))"
      ],
      "execution_count": 59,
      "outputs": [
        {
          "output_type": "stream",
          "text": [
            "X dates:\n",
            "2011-03-05T00:00:00.000000000\n",
            "2016-05-22T00:00:00.000000000\n",
            "1905.0\n",
            "X_train dates:\n",
            "2011-03-05T00:00:00.000000000\n",
            "2016-03-27T00:00:00.000000000\n",
            "1849.0\n",
            "X_val dates:\n",
            "2016-03-28T00:00:00.000000000\n",
            "2016-04-24T00:00:00.000000000\n",
            "27.0\n",
            "X_test dates:\n",
            "2016-04-25T00:00:00.000000000\n",
            "2016-05-22T00:00:00.000000000\n",
            "27.0\n"
          ],
          "name": "stdout"
        }
      ]
    },
    {
      "cell_type": "code",
      "metadata": {
        "id": "D85W0RkcLnhV",
        "colab_type": "code",
        "colab": {}
      },
      "source": [
        "del X"
      ],
      "execution_count": 0,
      "outputs": []
    },
    {
      "cell_type": "markdown",
      "metadata": {
        "id": "o6C4g9kZLnhb",
        "colab_type": "text"
      },
      "source": [
        "### Sales pattern"
      ]
    },
    {
      "cell_type": "markdown",
      "metadata": {
        "id": "-T5uJw_PLnhb",
        "colab_type": "text"
      },
      "source": [
        "In this part we determine demand_type of the time series, as it was done at https://github.com/Mcompetitions/M5-methods"
      ]
    },
    {
      "cell_type": "markdown",
      "metadata": {
        "id": "mDgTvuroLnhc",
        "colab_type": "text"
      },
      "source": [
        "Determine average demand interval."
      ]
    },
    {
      "cell_type": "code",
      "metadata": {
        "id": "8nXkrqlQLnhc",
        "colab_type": "code",
        "outputId": "8055de90-c5b3-4660-a158-e585dc87ee30",
        "colab": {
          "base_uri": "https://localhost:8080/",
          "height": 128
        }
      },
      "source": [
        "temp = X_train.groupby(['id'])['demand'].sum() \n",
        "temp[temp == 0]"
      ],
      "execution_count": 61,
      "outputs": [
        {
          "output_type": "execute_result",
          "data": {
            "text/plain": [
              "id\n",
              "FOODS_3_135_WI_2_validation        0.0\n",
              "HOUSEHOLD_1_032_TX_1_validation    0.0\n",
              "HOUSEHOLD_1_400_CA_4_validation    0.0\n",
              "HOUSEHOLD_1_518_CA_2_validation    0.0\n",
              "Name: demand, dtype: float64"
            ]
          },
          "metadata": {
            "tags": []
          },
          "execution_count": 61
        }
      ]
    },
    {
      "cell_type": "code",
      "metadata": {
        "id": "V1LfwTYYLnhg",
        "colab_type": "code",
        "colab": {}
      },
      "source": [
        "X_train['ADI'] = X_train.groupby(['id'])['demand'].transform(lambda x:  0 if (sum(x) == 0) else len(x)/sum(x > 0))"
      ],
      "execution_count": 0,
      "outputs": []
    },
    {
      "cell_type": "markdown",
      "metadata": {
        "id": "V9_jRYB1Lnhi",
        "colab_type": "text"
      },
      "source": [
        "Compute square of the Coefficient of Variation (CV²)."
      ]
    },
    {
      "cell_type": "code",
      "metadata": {
        "id": "Bl16eELWLnhj",
        "colab_type": "code",
        "colab": {}
      },
      "source": [
        "X_train['CV2'] = X_train.groupby(['id'])['demand'].transform(lambda x: (np.std(x[x>0])/np.mean(x[x>0]))**2)"
      ],
      "execution_count": 0,
      "outputs": []
    },
    {
      "cell_type": "markdown",
      "metadata": {
        "id": "mk4Yn6wGLnhl",
        "colab_type": "text"
      },
      "source": [
        "Calculate demand_type."
      ]
    },
    {
      "cell_type": "code",
      "metadata": {
        "id": "Ur3la0bOLnhm",
        "colab_type": "code",
        "colab": {}
      },
      "source": [
        "X_train['demand_type'] = ((X_train['ADI'] <= 1.32) & (X_train['CV2'] < 0.5))*1 + \\\n",
        "    ((X_train['ADI'] > 1.32) & (X_train['CV2'] < 0.5))*10 + \\\n",
        "    ((X_train['ADI'] <= 1.32) & (X_train['CV2'] >= 0.5))*100 + \\\n",
        "    ((X_train['ADI'] > 1.32) & (X_train['CV2'] > 0.5))*1000 \n",
        "X_train['demand_type'] = X_train['demand_type'].replace({1:'smooth', 10:'intermittent', 100:'erratic', 1000:'lumpy'})"
      ],
      "execution_count": 0,
      "outputs": []
    },
    {
      "cell_type": "code",
      "metadata": {
        "id": "ya6l5oUkLnho",
        "colab_type": "code",
        "colab": {}
      },
      "source": [
        "c = 'demand_type'\n",
        "col_type = X_train[c].dtype\n",
        "if col_type == 'object' or col_type.name == 'category':\n",
        "    X_train[c] = X_train[c].astype('category')\n"
      ],
      "execution_count": 0,
      "outputs": []
    },
    {
      "cell_type": "code",
      "metadata": {
        "id": "46AtvzEnLnhs",
        "colab_type": "code",
        "colab": {}
      },
      "source": [
        "temp = X_train[['id', 'ADI', 'CV2', 'demand_type']].drop_duplicates()"
      ],
      "execution_count": 0,
      "outputs": []
    },
    {
      "cell_type": "code",
      "metadata": {
        "id": "_N2TD9ywLnhu",
        "colab_type": "code",
        "colab": {}
      },
      "source": [
        "X_val = X_val.merge(temp, on = ['id'], how = 'left')\n",
        "X_test = X_test.merge(temp, on = ['id'], how = 'left')\n",
        "del temp"
      ],
      "execution_count": 0,
      "outputs": []
    },
    {
      "cell_type": "markdown",
      "metadata": {
        "id": "Bx7qmd1ULnhz",
        "colab_type": "text"
      },
      "source": [
        "### Aggregations"
      ]
    },
    {
      "cell_type": "markdown",
      "metadata": {
        "id": "VN8-FeQLLnhz",
        "colab_type": "text"
      },
      "source": [
        "Add average sales per week per item, per month per item and simply average sales per item. Add maximum items sold."
      ]
    },
    {
      "cell_type": "code",
      "metadata": {
        "id": "dPpCozFyLnh0",
        "colab_type": "code",
        "colab": {}
      },
      "source": [
        "\n",
        "X_train['avg_weekday_demand'] = X_train.groupby(['id', 'weekday'])['demand'].transform('mean') \n",
        "X_train['avg_demand'] =  X_train.groupby(['id'])['demand'].transform('mean') \n",
        "X_train['max_demand'] =  X_train.groupby(['id'])['demand'].transform('max') \n",
        "X_train['std_demand'] =  X_train.groupby(['id'])['demand'].transform('std') \n",
        "X_train['zero_seq_len'] = X_train.groupby(['id'])['demand'].transform(lambda x: \n",
        "                          max(len(list(y)) for (c,y) in itertools.groupby(x) if c==0))\n",
        "X_train['non_zero_seq_len'] = X_train.groupby(['id'])['demand'].transform(lambda x: \n",
        "  0 if sum(x)== 0 else  max(len(list(y)) for (c,y) in itertools.groupby([1 if z>0 else 0 for z in x ]) if c > 0))\n"
      ],
      "execution_count": 0,
      "outputs": []
    },
    {
      "cell_type": "code",
      "metadata": {
        "id": "RATYst9sB1a_",
        "colab_type": "code",
        "colab": {}
      },
      "source": [
        ""
      ],
      "execution_count": 0,
      "outputs": []
    },
    {
      "cell_type": "code",
      "metadata": {
        "id": "9fO2KhAzLnh2",
        "colab_type": "code",
        "colab": {}
      },
      "source": [
        "X_train['quantile025_week'] = X_train.groupby(['id', 'weekday'])['demand'].transform(lambda x: x.quantile(0.25))"
      ],
      "execution_count": 0,
      "outputs": []
    },
    {
      "cell_type": "code",
      "metadata": {
        "id": "R7rNhlxYLnh3",
        "colab_type": "code",
        "colab": {}
      },
      "source": [
        "X_train['max_weekday_demand'] = X_train.groupby(['id', 'weekday'])['demand'].transform('max') "
      ],
      "execution_count": 0,
      "outputs": []
    },
    {
      "cell_type": "markdown",
      "metadata": {
        "id": "NYLiXKaALnh6",
        "colab_type": "text"
      },
      "source": [
        "Add average price per item"
      ]
    },
    {
      "cell_type": "code",
      "metadata": {
        "id": "U0Q4qvy9Lnh6",
        "colab_type": "code",
        "colab": {}
      },
      "source": [
        "X_train['avg_price'] = X_train.groupby(['id'])['sell_price'].transform('mean') "
      ],
      "execution_count": 0,
      "outputs": []
    },
    {
      "cell_type": "code",
      "metadata": {
        "id": "uApMSQyxLnh9",
        "colab_type": "code",
        "colab": {}
      },
      "source": [
        "temp = X_train[['id', 'avg_price', 'avg_demand', 'max_demand', 'std_demand',\n",
        "                'non_zero_seq_len', 'zero_seq_len']].drop_duplicates()"
      ],
      "execution_count": 0,
      "outputs": []
    },
    {
      "cell_type": "code",
      "metadata": {
        "id": "QuDxce3iLniA",
        "colab_type": "code",
        "colab": {}
      },
      "source": [
        "X_val = X_val.merge(temp, on = ['id'], how = 'left')\n",
        "X_test = X_test.merge(temp, on = ['id'], how = 'left')\n"
      ],
      "execution_count": 0,
      "outputs": []
    },
    {
      "cell_type": "code",
      "metadata": {
        "id": "0R_fxetGLniC",
        "colab_type": "code",
        "colab": {}
      },
      "source": [
        "temp = X_train[['id', 'weekday', 'avg_weekday_demand', 'quantile025_week', \n",
        "                'max_weekday_demand']].drop_duplicates()"
      ],
      "execution_count": 0,
      "outputs": []
    },
    {
      "cell_type": "code",
      "metadata": {
        "id": "vKYRg-_wLniD",
        "colab_type": "code",
        "colab": {}
      },
      "source": [
        "X_val = X_val.merge(temp, on = ['id', 'weekday'], how = 'left')\n",
        "X_test = X_test.merge(temp, on = ['id', 'weekday'], how = 'left')\n"
      ],
      "execution_count": 0,
      "outputs": []
    },
    {
      "cell_type": "code",
      "metadata": {
        "id": "15mAg_TiLniH",
        "colab_type": "code",
        "colab": {}
      },
      "source": [
        "X_train['cheaper_than_usual'] = (X_train['sell_price'] < X_train['avg_price'])\n",
        "X_val['cheaper_than_usual'] = (X_val['sell_price'] < X_val['avg_price'])\n",
        "X_test['cheaper_than_usual'] = (X_test['sell_price'] < X_test['avg_price'])"
      ],
      "execution_count": 0,
      "outputs": []
    },
    {
      "cell_type": "code",
      "metadata": {
        "id": "06OLDjMYLniJ",
        "colab_type": "code",
        "colab": {}
      },
      "source": [
        "X_train = X_train.drop(columns = ['wm_yr_wk'])\n",
        "X_val = X_val.drop(columns = ['wm_yr_wk'])\n",
        "X_test = X_test.drop(columns = ['wm_yr_wk'])"
      ],
      "execution_count": 0,
      "outputs": []
    },
    {
      "cell_type": "code",
      "metadata": {
        "id": "SOAg7hqcdhJ6",
        "colab_type": "code",
        "outputId": "82005de3-5cf6-4d37-e4c6-63dd8487eb12",
        "colab": {
          "base_uri": "https://localhost:8080/",
          "height": 72
        }
      },
      "source": [
        "X_train = reduce_mem_usage(X_train)\n",
        "X_val = reduce_mem_usage(X_val)\n",
        "X_test = reduce_mem_usage(X_test)\n"
      ],
      "execution_count": 78,
      "outputs": [
        {
          "output_type": "stream",
          "text": [
            "Mem. usage decreased to 4334.16 Mb (25.9% reduction)\n",
            "Mem. usage decreased to 85.45 Mb (25.5% reduction)\n",
            "Mem. usage decreased to 84.63 Mb (26.3% reduction)\n"
          ],
          "name": "stdout"
        }
      ]
    },
    {
      "cell_type": "code",
      "metadata": {
        "id": "iFVFrOyqLniL",
        "colab_type": "code",
        "colab": {}
      },
      "source": [
        "X_val.to_pickle(data_folder + \"X_val.pkl\")\n",
        "X_test.to_pickle(data_folder + \"X_test.pkl\")\n",
        "X_train.to_pickle(data_folder + \"X_train.pkl\")\n"
      ],
      "execution_count": 0,
      "outputs": []
    },
    {
      "cell_type": "code",
      "metadata": {
        "id": "qUXtDY0BLniN",
        "colab_type": "code",
        "colab": {}
      },
      "source": [
        "#del X_test\n",
        "#del X_val, y_val\n",
        "#del X_train, y_train"
      ],
      "execution_count": 0,
      "outputs": []
    },
    {
      "cell_type": "code",
      "metadata": {
        "id": "ey3JM1w5LniP",
        "colab_type": "code",
        "outputId": "a6466144-cb66-4072-9b80-a77ea4c49732",
        "colab": {
          "base_uri": "https://localhost:8080/",
          "height": 202
        }
      },
      "source": [
        "X_val.columns"
      ],
      "execution_count": 81,
      "outputs": [
        {
          "output_type": "execute_result",
          "data": {
            "text/plain": [
              "Index(['id', 'item_id', 'dept_id', 'cat_id', 'store_id', 'state_id', 'd',\n",
              "       'demand', 'date', 'weekday', 'month', 'event_name_1', 'event_type_1',\n",
              "       'year', 'event_name_2', 'event_type_2', 'snap_CA', 'snap_TX', 'snap_WI',\n",
              "       'start_date', 'days_from_start', 'start_date_from_start', 'sell_price',\n",
              "       'lag_28', 'lag_29', 'lag_30', 'lag_31', 'lag_32', 'lag_33', 'lag_34',\n",
              "       'lag_35', 'rmean_28_3', 'rmean_28_7', 'ADI', 'CV2', 'demand_type',\n",
              "       'avg_price', 'avg_demand', 'max_demand', 'std_demand',\n",
              "       'non_zero_seq_len', 'zero_seq_len', 'avg_weekday_demand',\n",
              "       'quantile025_week', 'max_weekday_demand', 'cheaper_than_usual'],\n",
              "      dtype='object')"
            ]
          },
          "metadata": {
            "tags": []
          },
          "execution_count": 81
        }
      ]
    },
    {
      "cell_type": "markdown",
      "metadata": {
        "id": "Nfx443snLniR",
        "colab_type": "text"
      },
      "source": [
        "## Correlations with demand"
      ]
    },
    {
      "cell_type": "code",
      "metadata": {
        "id": "valSZIuWLniR",
        "colab_type": "code",
        "outputId": "792092a7-c829-4e1b-82e7-90328ab591f4",
        "colab": {
          "base_uri": "https://localhost:8080/",
          "height": 202
        }
      },
      "source": [
        "X_train.columns"
      ],
      "execution_count": 82,
      "outputs": [
        {
          "output_type": "execute_result",
          "data": {
            "text/plain": [
              "Index(['id', 'item_id', 'dept_id', 'cat_id', 'store_id', 'state_id', 'd',\n",
              "       'demand', 'date', 'weekday', 'month', 'event_name_1', 'event_type_1',\n",
              "       'year', 'event_name_2', 'event_type_2', 'snap_CA', 'snap_TX', 'snap_WI',\n",
              "       'start_date', 'days_from_start', 'start_date_from_start', 'sell_price',\n",
              "       'lag_28', 'lag_29', 'lag_30', 'lag_31', 'lag_32', 'lag_33', 'lag_34',\n",
              "       'lag_35', 'rmean_28_3', 'rmean_28_7', 'ADI', 'CV2', 'demand_type',\n",
              "       'avg_weekday_demand', 'avg_demand', 'max_demand', 'std_demand',\n",
              "       'zero_seq_len', 'non_zero_seq_len', 'quantile025_week',\n",
              "       'max_weekday_demand', 'avg_price', 'cheaper_than_usual'],\n",
              "      dtype='object')"
            ]
          },
          "metadata": {
            "tags": []
          },
          "execution_count": 82
        }
      ]
    },
    {
      "cell_type": "code",
      "metadata": {
        "id": "J7xs9aqmLniV",
        "colab_type": "code",
        "outputId": "bd6d2386-1796-4f51-c440-4b52fe3ad3ca",
        "colab": {
          "base_uri": "https://localhost:8080/",
          "height": 386
        }
      },
      "source": [
        "numerical_features = ['days_from_start', 'sell_price',\n",
        "       'lag_28', 'lag_29', 'lag_30', 'lag_31', 'lag_32', 'lag_33', 'lag_34',\n",
        "       'rmean_28_7', 'rmean_28_3',\n",
        "       'ADI', 'CV2', 'avg_weekday_demand', 'avg_demand', 'max_demand',\n",
        "       'std_demand', 'quantile025_week', 'max_weekday_demand', 'avg_price']\n",
        "for feature in numerical_features:\n",
        "    print(\"{}: {}\".format(feature, X_train[feature].corr(X_train['demand'])))"
      ],
      "execution_count": 83,
      "outputs": [
        {
          "output_type": "stream",
          "text": [
            "days_from_start: -0.03996247651158752\n",
            "sell_price: -0.1513283127030617\n",
            "lag_28: 0.668002419750039\n",
            "lag_29: 0.6527569517440468\n",
            "lag_30: 0.634829192352799\n",
            "lag_31: 0.6247735505052979\n",
            "lag_32: 0.6209171779489195\n",
            "lag_33: 0.6268593469844339\n",
            "lag_34: 0.6413506181185805\n",
            "rmean_28_7: 0.7322895290054409\n",
            "rmean_28_3: 0.7144788129636607\n",
            "ADI: -0.14116904656842705\n",
            "CV2: 0.04408657325472014\n",
            "avg_weekday_demand: 0.7378555158643114\n",
            "avg_demand: 0.7247737532318004\n",
            "max_demand: 0.5382724257803655\n",
            "std_demand: 0.65335088072252\n",
            "quantile025_week: 0.617229443522539\n",
            "max_weekday_demand: 0.5922586124354491\n",
            "avg_price: -0.15094942769833902\n"
          ],
          "name": "stdout"
        }
      ]
    },
    {
      "cell_type": "code",
      "metadata": {
        "id": "yabnxL0TLniX",
        "colab_type": "code",
        "outputId": "0a121528-4d9d-47dc-f9aa-2283a3e15c4a",
        "colab": {
          "base_uri": "https://localhost:8080/",
          "height": 331
        }
      },
      "source": [
        "numerical_features = ['lag_28', 'lag_29', 'lag_30', 'lag_31', 'lag_32', 'lag_33', 'lag_34',\n",
        "       'rmean_28_7', 'rmean_28_3']\n",
        "X_train[numerical_features].corr()\n"
      ],
      "execution_count": 84,
      "outputs": [
        {
          "output_type": "execute_result",
          "data": {
            "text/html": [
              "<div>\n",
              "<style scoped>\n",
              "    .dataframe tbody tr th:only-of-type {\n",
              "        vertical-align: middle;\n",
              "    }\n",
              "\n",
              "    .dataframe tbody tr th {\n",
              "        vertical-align: top;\n",
              "    }\n",
              "\n",
              "    .dataframe thead th {\n",
              "        text-align: right;\n",
              "    }\n",
              "</style>\n",
              "<table border=\"1\" class=\"dataframe\">\n",
              "  <thead>\n",
              "    <tr style=\"text-align: right;\">\n",
              "      <th></th>\n",
              "      <th>lag_28</th>\n",
              "      <th>lag_29</th>\n",
              "      <th>lag_30</th>\n",
              "      <th>lag_31</th>\n",
              "      <th>lag_32</th>\n",
              "      <th>lag_33</th>\n",
              "      <th>lag_34</th>\n",
              "      <th>rmean_28_7</th>\n",
              "      <th>rmean_28_3</th>\n",
              "    </tr>\n",
              "  </thead>\n",
              "  <tbody>\n",
              "    <tr>\n",
              "      <th>lag_28</th>\n",
              "      <td>1.000000</td>\n",
              "      <td>0.763601</td>\n",
              "      <td>0.718587</td>\n",
              "      <td>0.698114</td>\n",
              "      <td>0.690188</td>\n",
              "      <td>0.691977</td>\n",
              "      <td>0.704690</td>\n",
              "      <td>0.862954</td>\n",
              "      <td>0.906853</td>\n",
              "    </tr>\n",
              "    <tr>\n",
              "      <th>lag_29</th>\n",
              "      <td>0.763601</td>\n",
              "      <td>1.000000</td>\n",
              "      <td>0.763601</td>\n",
              "      <td>0.718518</td>\n",
              "      <td>0.698127</td>\n",
              "      <td>0.690134</td>\n",
              "      <td>0.691982</td>\n",
              "      <td>0.872596</td>\n",
              "      <td>0.923324</td>\n",
              "    </tr>\n",
              "    <tr>\n",
              "      <th>lag_30</th>\n",
              "      <td>0.718587</td>\n",
              "      <td>0.763601</td>\n",
              "      <td>1.000000</td>\n",
              "      <td>0.763567</td>\n",
              "      <td>0.718560</td>\n",
              "      <td>0.698142</td>\n",
              "      <td>0.690186</td>\n",
              "      <td>0.876978</td>\n",
              "      <td>0.906897</td>\n",
              "    </tr>\n",
              "    <tr>\n",
              "      <th>lag_31</th>\n",
              "      <td>0.698114</td>\n",
              "      <td>0.718518</td>\n",
              "      <td>0.763567</td>\n",
              "      <td>1.000000</td>\n",
              "      <td>0.763560</td>\n",
              "      <td>0.718557</td>\n",
              "      <td>0.698114</td>\n",
              "      <td>0.878264</td>\n",
              "      <td>0.796548</td>\n",
              "    </tr>\n",
              "    <tr>\n",
              "      <th>lag_32</th>\n",
              "      <td>0.690188</td>\n",
              "      <td>0.698127</td>\n",
              "      <td>0.718560</td>\n",
              "      <td>0.763560</td>\n",
              "      <td>1.000000</td>\n",
              "      <td>0.763536</td>\n",
              "      <td>0.718575</td>\n",
              "      <td>0.876988</td>\n",
              "      <td>0.769756</td>\n",
              "    </tr>\n",
              "    <tr>\n",
              "      <th>lag_33</th>\n",
              "      <td>0.691977</td>\n",
              "      <td>0.690134</td>\n",
              "      <td>0.698142</td>\n",
              "      <td>0.718557</td>\n",
              "      <td>0.763536</td>\n",
              "      <td>1.000000</td>\n",
              "      <td>0.763513</td>\n",
              "      <td>0.872627</td>\n",
              "      <td>0.760028</td>\n",
              "    </tr>\n",
              "    <tr>\n",
              "      <th>lag_34</th>\n",
              "      <td>0.704690</td>\n",
              "      <td>0.691982</td>\n",
              "      <td>0.690186</td>\n",
              "      <td>0.698114</td>\n",
              "      <td>0.718575</td>\n",
              "      <td>0.763513</td>\n",
              "      <td>1.000000</td>\n",
              "      <td>0.863007</td>\n",
              "      <td>0.762439</td>\n",
              "    </tr>\n",
              "    <tr>\n",
              "      <th>rmean_28_7</th>\n",
              "      <td>0.862954</td>\n",
              "      <td>0.872596</td>\n",
              "      <td>0.876978</td>\n",
              "      <td>0.878264</td>\n",
              "      <td>0.876988</td>\n",
              "      <td>0.872627</td>\n",
              "      <td>0.863007</td>\n",
              "      <td>1.000000</td>\n",
              "      <td>0.954497</td>\n",
              "    </tr>\n",
              "    <tr>\n",
              "      <th>rmean_28_3</th>\n",
              "      <td>0.906853</td>\n",
              "      <td>0.923324</td>\n",
              "      <td>0.906897</td>\n",
              "      <td>0.796548</td>\n",
              "      <td>0.769756</td>\n",
              "      <td>0.760028</td>\n",
              "      <td>0.762439</td>\n",
              "      <td>0.954497</td>\n",
              "      <td>1.000000</td>\n",
              "    </tr>\n",
              "  </tbody>\n",
              "</table>\n",
              "</div>"
            ],
            "text/plain": [
              "              lag_28    lag_29    lag_30  ...    lag_34  rmean_28_7  rmean_28_3\n",
              "lag_28      1.000000  0.763601  0.718587  ...  0.704690    0.862954    0.906853\n",
              "lag_29      0.763601  1.000000  0.763601  ...  0.691982    0.872596    0.923324\n",
              "lag_30      0.718587  0.763601  1.000000  ...  0.690186    0.876978    0.906897\n",
              "lag_31      0.698114  0.718518  0.763567  ...  0.698114    0.878264    0.796548\n",
              "lag_32      0.690188  0.698127  0.718560  ...  0.718575    0.876988    0.769756\n",
              "lag_33      0.691977  0.690134  0.698142  ...  0.763513    0.872627    0.760028\n",
              "lag_34      0.704690  0.691982  0.690186  ...  1.000000    0.863007    0.762439\n",
              "rmean_28_7  0.862954  0.872596  0.876978  ...  0.863007    1.000000    0.954497\n",
              "rmean_28_3  0.906853  0.923324  0.906897  ...  0.762439    0.954497    1.000000\n",
              "\n",
              "[9 rows x 9 columns]"
            ]
          },
          "metadata": {
            "tags": []
          },
          "execution_count": 84
        }
      ]
    },
    {
      "cell_type": "markdown",
      "metadata": {
        "id": "BJ4hzfmpLniZ",
        "colab_type": "text"
      },
      "source": [
        "### Save by demand type"
      ]
    },
    {
      "cell_type": "code",
      "metadata": {
        "id": "Shi1BvXOLnib",
        "colab_type": "code",
        "outputId": "c33c5a58-4ad3-4b12-9667-0a7b50cafe7c",
        "colab": {
          "base_uri": "https://localhost:8080/",
          "height": 165
        }
      },
      "source": [
        "X_train = X_train.dropna()\n",
        "for i in ['smooth', 'erratic', 'lumpy', 'intermittent']:\n",
        "    print(i)\n",
        "    X_val[X_val['demand_type'] == i].to_pickle(data_folder + \"X_val_{}.pkl\".format(i))\n",
        "    X_train[X_train['demand_type'] == i].to_pickle(data_folder + \"X_train_{}.pkl\".format(i))\n",
        "    X_test[X_test['demand_type'] == i].to_pickle(data_folder + \"X_test_{}.pkl\".format(i))\n",
        "    print()"
      ],
      "execution_count": 85,
      "outputs": [
        {
          "output_type": "stream",
          "text": [
            "smooth\n",
            "\n",
            "erratic\n",
            "\n",
            "lumpy\n",
            "\n",
            "intermittent\n",
            "\n"
          ],
          "name": "stdout"
        }
      ]
    },
    {
      "cell_type": "code",
      "metadata": {
        "id": "Mev-KSKLLnie",
        "colab_type": "code",
        "outputId": "268eeb88-2373-41c3-cdf8-89b3089dbd6b",
        "colab": {
          "base_uri": "https://localhost:8080/",
          "height": 202
        }
      },
      "source": [
        "X_test.columns"
      ],
      "execution_count": 86,
      "outputs": [
        {
          "output_type": "execute_result",
          "data": {
            "text/plain": [
              "Index(['id', 'item_id', 'dept_id', 'cat_id', 'store_id', 'state_id', 'd',\n",
              "       'demand', 'date', 'weekday', 'month', 'event_name_1', 'event_type_1',\n",
              "       'year', 'event_name_2', 'event_type_2', 'snap_CA', 'snap_TX', 'snap_WI',\n",
              "       'start_date', 'days_from_start', 'start_date_from_start', 'sell_price',\n",
              "       'lag_28', 'lag_29', 'lag_30', 'lag_31', 'lag_32', 'lag_33', 'lag_34',\n",
              "       'lag_35', 'rmean_28_3', 'rmean_28_7', 'ADI', 'CV2', 'demand_type',\n",
              "       'avg_price', 'avg_demand', 'max_demand', 'std_demand',\n",
              "       'non_zero_seq_len', 'zero_seq_len', 'avg_weekday_demand',\n",
              "       'quantile025_week', 'max_weekday_demand', 'cheaper_than_usual'],\n",
              "      dtype='object')"
            ]
          },
          "metadata": {
            "tags": []
          },
          "execution_count": 86
        }
      ]
    },
    {
      "cell_type": "code",
      "metadata": {
        "id": "EVrbmcnMLnig",
        "colab_type": "code",
        "colab": {}
      },
      "source": [
        ""
      ],
      "execution_count": 0,
      "outputs": []
    },
    {
      "cell_type": "markdown",
      "metadata": {
        "id": "FQyODSM9ETql",
        "colab_type": "text"
      },
      "source": [
        "## Save by store_id"
      ]
    },
    {
      "cell_type": "code",
      "metadata": {
        "id": "_sKu9ZnOEkX4",
        "colab_type": "code",
        "colab": {}
      },
      "source": [
        "stores = X_test['store_id'].values.unique()"
      ],
      "execution_count": 0,
      "outputs": []
    },
    {
      "cell_type": "code",
      "metadata": {
        "id": "j7JuYukAUj_q",
        "colab_type": "code",
        "outputId": "d024aef8-50e3-4b8a-b7f4-c4013c507207",
        "colab": {
          "base_uri": "https://localhost:8080/",
          "height": 54
        }
      },
      "source": [
        "stores"
      ],
      "execution_count": 88,
      "outputs": [
        {
          "output_type": "execute_result",
          "data": {
            "text/plain": [
              "[CA_1, CA_2, CA_3, CA_4, TX_1, TX_2, TX_3, WI_1, WI_2, WI_3]\n",
              "Categories (10, object): [CA_1, CA_2, CA_3, CA_4, ..., TX_3, WI_1, WI_2, WI_3]"
            ]
          },
          "metadata": {
            "tags": []
          },
          "execution_count": 88
        }
      ]
    },
    {
      "cell_type": "code",
      "metadata": {
        "id": "JyFW98iIEdWh",
        "colab_type": "code",
        "outputId": "1b3a6e2e-1d9e-4e84-a790-0a32cca67f17",
        "colab": {
          "base_uri": "https://localhost:8080/",
          "height": 386
        }
      },
      "source": [
        "\n",
        "for i in stores:\n",
        "    print(i)\n",
        "    X_val[X_val['store_id'] == i].to_pickle(data_folder + \"X_val_{}.pkl\".format(i))\n",
        "    X_train[X_train['store_id'] == i].to_pickle(data_folder + \"X_train_{}.pkl\".format(i))\n",
        "    X_test[X_test['store_id'] == i].to_pickle(data_folder + \"X_test_{}.pkl\".format(i))\n",
        "    print()"
      ],
      "execution_count": 89,
      "outputs": [
        {
          "output_type": "stream",
          "text": [
            "CA_1\n",
            "\n",
            "CA_2\n",
            "\n",
            "CA_3\n",
            "\n",
            "CA_4\n",
            "\n",
            "TX_1\n",
            "\n",
            "TX_2\n",
            "\n",
            "TX_3\n",
            "\n",
            "WI_1\n",
            "\n",
            "WI_2\n",
            "\n",
            "WI_3\n",
            "\n"
          ],
          "name": "stdout"
        }
      ]
    },
    {
      "cell_type": "code",
      "metadata": {
        "id": "kVnjvBXwL93p",
        "colab_type": "code",
        "colab": {
          "base_uri": "https://localhost:8080/",
          "height": 202
        },
        "outputId": "ff4b08ba-3512-497b-bea9-6acd7dc76f66"
      },
      "source": [
        "X_val.columns"
      ],
      "execution_count": 90,
      "outputs": [
        {
          "output_type": "execute_result",
          "data": {
            "text/plain": [
              "Index(['id', 'item_id', 'dept_id', 'cat_id', 'store_id', 'state_id', 'd',\n",
              "       'demand', 'date', 'weekday', 'month', 'event_name_1', 'event_type_1',\n",
              "       'year', 'event_name_2', 'event_type_2', 'snap_CA', 'snap_TX', 'snap_WI',\n",
              "       'start_date', 'days_from_start', 'start_date_from_start', 'sell_price',\n",
              "       'lag_28', 'lag_29', 'lag_30', 'lag_31', 'lag_32', 'lag_33', 'lag_34',\n",
              "       'lag_35', 'rmean_28_3', 'rmean_28_7', 'ADI', 'CV2', 'demand_type',\n",
              "       'avg_price', 'avg_demand', 'max_demand', 'std_demand',\n",
              "       'non_zero_seq_len', 'zero_seq_len', 'avg_weekday_demand',\n",
              "       'quantile025_week', 'max_weekday_demand', 'cheaper_than_usual'],\n",
              "      dtype='object')"
            ]
          },
          "metadata": {
            "tags": []
          },
          "execution_count": 90
        }
      ]
    }
  ]
}