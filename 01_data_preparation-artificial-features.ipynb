{
  "nbformat": 4,
  "nbformat_minor": 0,
  "metadata": {
    "kernelspec": {
      "display_name": "Python 3",
      "language": "python",
      "name": "python3"
    },
    "language_info": {
      "codemirror_mode": {
        "name": "ipython",
        "version": 3
      },
      "file_extension": ".py",
      "mimetype": "text/x-python",
      "name": "python",
      "nbconvert_exporter": "python",
      "pygments_lexer": "ipython3",
      "version": "3.7.4"
    },
    "colab": {
      "name": "01_data_preparation-artificial-features.ipynb",
      "provenance": [],
      "toc_visible": true,
      "machine_shape": "hm"
    }
  },
  "cells": [
    {
      "cell_type": "markdown",
      "metadata": {
        "id": "b_9Xq49SLngE",
        "colab_type": "text"
      },
      "source": [
        "# Data preparation"
      ]
    },
    {
      "cell_type": "markdown",
      "metadata": {
        "id": "6k8kBHWTLngF",
        "colab_type": "text"
      },
      "source": [
        "In this notebook we preprocess our data for ML algorithms and create new features."
      ]
    },
    {
      "cell_type": "markdown",
      "metadata": {
        "id": "HqiG1pXULngH",
        "colab_type": "text"
      },
      "source": [
        "## Load and reshape data"
      ]
    },
    {
      "cell_type": "markdown",
      "metadata": {
        "id": "CAYFa8zkLngJ",
        "colab_type": "text"
      },
      "source": [
        "Import libraries"
      ]
    },
    {
      "cell_type": "code",
      "metadata": {
        "id": "4dyTymU_i7VO",
        "colab_type": "code",
        "outputId": "dbde242c-5839-4796-9295-fd00b2388307",
        "colab": {
          "base_uri": "https://localhost:8080/",
          "height": 654
        }
      },
      "source": [
        "!pip install tsfresh"
      ],
      "execution_count": 51,
      "outputs": [
        {
          "output_type": "stream",
          "text": [
            "Requirement already satisfied: tsfresh in /usr/local/lib/python3.6/dist-packages (0.15.1)\n",
            "Requirement already satisfied: tqdm>=4.10.0 in /usr/local/lib/python3.6/dist-packages (from tsfresh) (4.41.1)\n",
            "Requirement already satisfied: scikit-learn>=0.19.0 in /usr/local/lib/python3.6/dist-packages (from tsfresh) (0.22.2.post1)\n",
            "Requirement already satisfied: pandas!=0.24.*,>=0.20.3 in /usr/local/lib/python3.6/dist-packages (from tsfresh) (1.0.3)\n",
            "Requirement already satisfied: patsy>=0.4.1 in /usr/local/lib/python3.6/dist-packages (from tsfresh) (0.5.1)\n",
            "Requirement already satisfied: distributed>=1.18.3 in /usr/local/lib/python3.6/dist-packages (from tsfresh) (1.25.3)\n",
            "Requirement already satisfied: statsmodels>=0.8.0 in /usr/local/lib/python3.6/dist-packages (from tsfresh) (0.10.2)\n",
            "Requirement already satisfied: requests>=2.9.1 in /usr/local/lib/python3.6/dist-packages (from tsfresh) (2.23.0)\n",
            "Requirement already satisfied: numpy>=1.12.0 in /usr/local/lib/python3.6/dist-packages (from tsfresh) (1.18.4)\n",
            "Requirement already satisfied: dask[dataframe]>=0.15.2 in /usr/local/lib/python3.6/dist-packages (from tsfresh) (2.12.0)\n",
            "Requirement already satisfied: scipy>=1.2.0 in /usr/local/lib/python3.6/dist-packages (from tsfresh) (1.4.1)\n",
            "Requirement already satisfied: joblib>=0.11 in /usr/local/lib/python3.6/dist-packages (from scikit-learn>=0.19.0->tsfresh) (0.14.1)\n",
            "Requirement already satisfied: pytz>=2017.2 in /usr/local/lib/python3.6/dist-packages (from pandas!=0.24.*,>=0.20.3->tsfresh) (2018.9)\n",
            "Requirement already satisfied: python-dateutil>=2.6.1 in /usr/local/lib/python3.6/dist-packages (from pandas!=0.24.*,>=0.20.3->tsfresh) (2.8.1)\n",
            "Requirement already satisfied: six in /usr/local/lib/python3.6/dist-packages (from patsy>=0.4.1->tsfresh) (1.12.0)\n",
            "Requirement already satisfied: tblib in /usr/local/lib/python3.6/dist-packages (from distributed>=1.18.3->tsfresh) (1.6.0)\n",
            "Requirement already satisfied: zict>=0.1.3 in /usr/local/lib/python3.6/dist-packages (from distributed>=1.18.3->tsfresh) (2.0.0)\n",
            "Requirement already satisfied: pyyaml in /usr/local/lib/python3.6/dist-packages (from distributed>=1.18.3->tsfresh) (3.13)\n",
            "Requirement already satisfied: tornado>=4.5.1 in /usr/local/lib/python3.6/dist-packages (from distributed>=1.18.3->tsfresh) (4.5.3)\n",
            "Requirement already satisfied: msgpack in /usr/local/lib/python3.6/dist-packages (from distributed>=1.18.3->tsfresh) (1.0.0)\n",
            "Requirement already satisfied: toolz>=0.7.4 in /usr/local/lib/python3.6/dist-packages (from distributed>=1.18.3->tsfresh) (0.10.0)\n",
            "Requirement already satisfied: click>=6.6 in /usr/local/lib/python3.6/dist-packages (from distributed>=1.18.3->tsfresh) (7.1.2)\n",
            "Requirement already satisfied: sortedcontainers!=2.0.0,!=2.0.1 in /usr/local/lib/python3.6/dist-packages (from distributed>=1.18.3->tsfresh) (2.1.0)\n",
            "Requirement already satisfied: cloudpickle>=0.2.2 in /usr/local/lib/python3.6/dist-packages (from distributed>=1.18.3->tsfresh) (1.3.0)\n",
            "Requirement already satisfied: psutil>=5.0 in /usr/local/lib/python3.6/dist-packages (from distributed>=1.18.3->tsfresh) (5.4.8)\n",
            "Requirement already satisfied: idna<3,>=2.5 in /usr/local/lib/python3.6/dist-packages (from requests>=2.9.1->tsfresh) (2.9)\n",
            "Requirement already satisfied: urllib3!=1.25.0,!=1.25.1,<1.26,>=1.21.1 in /usr/local/lib/python3.6/dist-packages (from requests>=2.9.1->tsfresh) (1.24.3)\n",
            "Requirement already satisfied: certifi>=2017.4.17 in /usr/local/lib/python3.6/dist-packages (from requests>=2.9.1->tsfresh) (2020.4.5.1)\n",
            "Requirement already satisfied: chardet<4,>=3.0.2 in /usr/local/lib/python3.6/dist-packages (from requests>=2.9.1->tsfresh) (3.0.4)\n",
            "Requirement already satisfied: fsspec>=0.6.0; extra == \"dataframe\" in /usr/local/lib/python3.6/dist-packages (from dask[dataframe]>=0.15.2->tsfresh) (0.7.3)\n",
            "Requirement already satisfied: partd>=0.3.10; extra == \"dataframe\" in /usr/local/lib/python3.6/dist-packages (from dask[dataframe]>=0.15.2->tsfresh) (1.1.0)\n",
            "Requirement already satisfied: heapdict in /usr/local/lib/python3.6/dist-packages (from zict>=0.1.3->distributed>=1.18.3->tsfresh) (1.0.1)\n",
            "Requirement already satisfied: locket in /usr/local/lib/python3.6/dist-packages (from partd>=0.3.10; extra == \"dataframe\"->dask[dataframe]>=0.15.2->tsfresh) (0.2.0)\n"
          ],
          "name": "stdout"
        }
      ]
    },
    {
      "cell_type": "code",
      "metadata": {
        "id": "ZlhptmTuLngK",
        "colab_type": "code",
        "colab": {}
      },
      "source": [
        "import pandas as pd\n",
        "import numpy as np\n",
        "from datetime import datetime  \n",
        "from datetime import timedelta  \n",
        "import gc\n",
        "import pickle\n",
        "from sklearn import preprocessing, metrics\n",
        "import pandas as pd\n",
        "import matplotlib.pyplot as plt\n",
        "#from sagemaker import get_execution_role\n",
        "#import boto3\n",
        "import seaborn as sns\n",
        "import itertools,operator\n",
        "from tsfresh.examples.robot_execution_failures import download_robot_execution_failures, load_robot_execution_failures\n",
        "from tsfresh import extract_features, extract_relevant_features, select_features\n",
        "from tsfresh.utilities.dataframe_functions import impute\n",
        "from tsfresh.feature_extraction import ComprehensiveFCParameters\n",
        "from tsfresh.feature_extraction import EfficientFCParameters, MinimalFCParameters, ComprehensiveFCParameters\n",
        "from sklearn.model_selection import train_test_split"
      ],
      "execution_count": 0,
      "outputs": []
    },
    {
      "cell_type": "code",
      "metadata": {
        "id": "IAxSKDruLsBa",
        "colab_type": "code",
        "outputId": "b28faa2d-5252-4148-b745-ee7ba6ca63c3",
        "colab": {
          "base_uri": "https://localhost:8080/",
          "height": 56
        }
      },
      "source": [
        "from google.colab import drive\n",
        "drive.mount('/content/drive')"
      ],
      "execution_count": 53,
      "outputs": [
        {
          "output_type": "stream",
          "text": [
            "Drive already mounted at /content/drive; to attempt to forcibly remount, call drive.mount(\"/content/drive\", force_remount=True).\n"
          ],
          "name": "stdout"
        }
      ]
    },
    {
      "cell_type": "markdown",
      "metadata": {
        "id": "SbNZDYW7LngR",
        "colab_type": "text"
      },
      "source": [
        "Helper functions"
      ]
    },
    {
      "cell_type": "code",
      "metadata": {
        "id": "O2AOa1R5LngS",
        "colab_type": "code",
        "colab": {}
      },
      "source": [
        "# this function is taken from https://www.kaggle.com/ragnar123/very-fst-model\n",
        "def reduce_mem_usage(df, verbose=True):\n",
        "    '''Reduce memory usage of dataframe by converting ints and floats \n",
        "    Args:\n",
        "        df: dataframe\n",
        "            \n",
        "    Returns:\n",
        "        dataframe with converted columns\n",
        "    '''\n",
        "    numerics = ['int16', 'int32', 'int64', 'float16', 'float32', 'float64']\n",
        "    start_mem = df.memory_usage().sum() / 1024**2    \n",
        "    for col in df.columns:\n",
        "        col_type = df[col].dtypes\n",
        "        if col_type in numerics:\n",
        "            c_min = df[col].min()\n",
        "            c_max = df[col].max()\n",
        "            if str(col_type)[:3] == 'int':\n",
        "                if c_min > np.iinfo(np.int8).min and c_max < np.iinfo(np.int8).max:\n",
        "                    df[col] = df[col].astype(np.int8)\n",
        "                elif c_min > np.iinfo(np.int16).min and c_max < np.iinfo(np.int16).max:\n",
        "                    df[col] = df[col].astype(np.int16)\n",
        "                elif c_min > np.iinfo(np.int32).min and c_max < np.iinfo(np.int32).max:\n",
        "                    df[col] = df[col].astype(np.int32)\n",
        "                elif c_min > np.iinfo(np.int64).min and c_max < np.iinfo(np.int64).max:\n",
        "                    df[col] = df[col].astype(np.int64)  \n",
        "            else:\n",
        "                if c_min > np.finfo(np.float16).min and c_max < np.finfo(np.float16).max:\n",
        "                    df[col] = df[col].astype(np.float16)\n",
        "                elif c_min > np.finfo(np.float32).min and c_max < np.finfo(np.float32).max:\n",
        "                    df[col] = df[col].astype(np.float32)\n",
        "                else:\n",
        "                    df[col] = df[col].astype(np.float64)    \n",
        "    end_mem = df.memory_usage().sum() / 1024**2\n",
        "    if verbose: print('Mem. usage decreased to {:5.2f} Mb ({:.1f}% reduction)'.format(end_mem, 100 * (start_mem - end_mem) / start_mem))\n",
        "    return df\n"
      ],
      "execution_count": 0,
      "outputs": []
    },
    {
      "cell_type": "markdown",
      "metadata": {
        "id": "jN3KQraWLngX",
        "colab_type": "text"
      },
      "source": [
        "Read data."
      ]
    },
    {
      "cell_type": "code",
      "metadata": {
        "id": "v3ekYfU5LngY",
        "colab_type": "code",
        "outputId": "7cb19973-7f91-41ab-e1f7-8e0c1086b29d",
        "colab": {
          "base_uri": "https://localhost:8080/",
          "height": 36
        }
      },
      "source": [
        "print('Reading files...')\n",
        "#data_location = 's3://{}/{}/{}'.format(bucket, prefix, 'calendar.csv')\n",
        "data_folder = '/content/drive/My Drive/Kaggle_M5/01_preprocessed_data/'\n",
        "X = pd.read_pickle(data_folder + 'X.pkl')"
      ],
      "execution_count": 55,
      "outputs": [
        {
          "output_type": "stream",
          "text": [
            "Reading files...\n"
          ],
          "name": "stdout"
        }
      ]
    },
    {
      "cell_type": "code",
      "metadata": {
        "id": "gPrmQBEtLnge",
        "colab_type": "code",
        "outputId": "7ff7ad2f-bf48-46ac-d6ad-741ce35dea8c",
        "colab": {
          "base_uri": "https://localhost:8080/",
          "height": 226
        }
      },
      "source": [
        "X.tail()"
      ],
      "execution_count": 56,
      "outputs": [
        {
          "output_type": "execute_result",
          "data": {
            "text/html": [
              "<div>\n",
              "<style scoped>\n",
              "    .dataframe tbody tr th:only-of-type {\n",
              "        vertical-align: middle;\n",
              "    }\n",
              "\n",
              "    .dataframe tbody tr th {\n",
              "        vertical-align: top;\n",
              "    }\n",
              "\n",
              "    .dataframe thead th {\n",
              "        text-align: right;\n",
              "    }\n",
              "</style>\n",
              "<table border=\"1\" class=\"dataframe\">\n",
              "  <thead>\n",
              "    <tr style=\"text-align: right;\">\n",
              "      <th></th>\n",
              "      <th>id</th>\n",
              "      <th>item_id</th>\n",
              "      <th>dept_id</th>\n",
              "      <th>cat_id</th>\n",
              "      <th>store_id</th>\n",
              "      <th>state_id</th>\n",
              "      <th>d</th>\n",
              "      <th>demand</th>\n",
              "      <th>date</th>\n",
              "      <th>wm_yr_wk</th>\n",
              "      <th>weekday</th>\n",
              "      <th>month</th>\n",
              "      <th>event_name_1</th>\n",
              "      <th>event_type_1</th>\n",
              "      <th>year</th>\n",
              "      <th>event_name_2</th>\n",
              "      <th>event_type_2</th>\n",
              "      <th>snap_CA</th>\n",
              "      <th>snap_TX</th>\n",
              "      <th>snap_WI</th>\n",
              "      <th>start_date</th>\n",
              "      <th>days_from_start</th>\n",
              "      <th>start_date_from_start</th>\n",
              "      <th>sell_price</th>\n",
              "    </tr>\n",
              "  </thead>\n",
              "  <tbody>\n",
              "    <tr>\n",
              "      <th>46881672</th>\n",
              "      <td>FOODS_3_823_WI_3_validation</td>\n",
              "      <td>FOODS_3_823</td>\n",
              "      <td>FOODS_3</td>\n",
              "      <td>FOODS</td>\n",
              "      <td>WI_3</td>\n",
              "      <td>WI</td>\n",
              "      <td>d_1941</td>\n",
              "      <td>0</td>\n",
              "      <td>2016-05-22</td>\n",
              "      <td>11617</td>\n",
              "      <td>Sunday</td>\n",
              "      <td>5</td>\n",
              "      <td>no event</td>\n",
              "      <td>no event</td>\n",
              "      <td>2016</td>\n",
              "      <td>no event</td>\n",
              "      <td>no event</td>\n",
              "      <td>0</td>\n",
              "      <td>0</td>\n",
              "      <td>0</td>\n",
              "      <td>2011-01-29</td>\n",
              "      <td>1940</td>\n",
              "      <td>0</td>\n",
              "      <td>2.980469</td>\n",
              "    </tr>\n",
              "    <tr>\n",
              "      <th>46881673</th>\n",
              "      <td>FOODS_3_824_WI_3_validation</td>\n",
              "      <td>FOODS_3_824</td>\n",
              "      <td>FOODS_3</td>\n",
              "      <td>FOODS</td>\n",
              "      <td>WI_3</td>\n",
              "      <td>WI</td>\n",
              "      <td>d_1941</td>\n",
              "      <td>0</td>\n",
              "      <td>2016-05-22</td>\n",
              "      <td>11617</td>\n",
              "      <td>Sunday</td>\n",
              "      <td>5</td>\n",
              "      <td>no event</td>\n",
              "      <td>no event</td>\n",
              "      <td>2016</td>\n",
              "      <td>no event</td>\n",
              "      <td>no event</td>\n",
              "      <td>0</td>\n",
              "      <td>0</td>\n",
              "      <td>0</td>\n",
              "      <td>2011-01-29</td>\n",
              "      <td>1940</td>\n",
              "      <td>0</td>\n",
              "      <td>2.480469</td>\n",
              "    </tr>\n",
              "    <tr>\n",
              "      <th>46881674</th>\n",
              "      <td>FOODS_3_825_WI_3_validation</td>\n",
              "      <td>FOODS_3_825</td>\n",
              "      <td>FOODS_3</td>\n",
              "      <td>FOODS</td>\n",
              "      <td>WI_3</td>\n",
              "      <td>WI</td>\n",
              "      <td>d_1941</td>\n",
              "      <td>0</td>\n",
              "      <td>2016-05-22</td>\n",
              "      <td>11617</td>\n",
              "      <td>Sunday</td>\n",
              "      <td>5</td>\n",
              "      <td>no event</td>\n",
              "      <td>no event</td>\n",
              "      <td>2016</td>\n",
              "      <td>no event</td>\n",
              "      <td>no event</td>\n",
              "      <td>0</td>\n",
              "      <td>0</td>\n",
              "      <td>0</td>\n",
              "      <td>2011-01-29</td>\n",
              "      <td>1940</td>\n",
              "      <td>0</td>\n",
              "      <td>3.980469</td>\n",
              "    </tr>\n",
              "    <tr>\n",
              "      <th>46881675</th>\n",
              "      <td>FOODS_3_826_WI_3_validation</td>\n",
              "      <td>FOODS_3_826</td>\n",
              "      <td>FOODS_3</td>\n",
              "      <td>FOODS</td>\n",
              "      <td>WI_3</td>\n",
              "      <td>WI</td>\n",
              "      <td>d_1941</td>\n",
              "      <td>0</td>\n",
              "      <td>2016-05-22</td>\n",
              "      <td>11617</td>\n",
              "      <td>Sunday</td>\n",
              "      <td>5</td>\n",
              "      <td>no event</td>\n",
              "      <td>no event</td>\n",
              "      <td>2016</td>\n",
              "      <td>no event</td>\n",
              "      <td>no event</td>\n",
              "      <td>0</td>\n",
              "      <td>0</td>\n",
              "      <td>0</td>\n",
              "      <td>2013-08-24</td>\n",
              "      <td>1940</td>\n",
              "      <td>938</td>\n",
              "      <td>1.280273</td>\n",
              "    </tr>\n",
              "    <tr>\n",
              "      <th>46881676</th>\n",
              "      <td>FOODS_3_827_WI_3_validation</td>\n",
              "      <td>FOODS_3_827</td>\n",
              "      <td>FOODS_3</td>\n",
              "      <td>FOODS</td>\n",
              "      <td>WI_3</td>\n",
              "      <td>WI</td>\n",
              "      <td>d_1941</td>\n",
              "      <td>0</td>\n",
              "      <td>2016-05-22</td>\n",
              "      <td>11617</td>\n",
              "      <td>Sunday</td>\n",
              "      <td>5</td>\n",
              "      <td>no event</td>\n",
              "      <td>no event</td>\n",
              "      <td>2016</td>\n",
              "      <td>no event</td>\n",
              "      <td>no event</td>\n",
              "      <td>0</td>\n",
              "      <td>0</td>\n",
              "      <td>0</td>\n",
              "      <td>2014-03-01</td>\n",
              "      <td>1940</td>\n",
              "      <td>1127</td>\n",
              "      <td>1.000000</td>\n",
              "    </tr>\n",
              "  </tbody>\n",
              "</table>\n",
              "</div>"
            ],
            "text/plain": [
              "                                   id  ... sell_price\n",
              "46881672  FOODS_3_823_WI_3_validation  ...   2.980469\n",
              "46881673  FOODS_3_824_WI_3_validation  ...   2.480469\n",
              "46881674  FOODS_3_825_WI_3_validation  ...   3.980469\n",
              "46881675  FOODS_3_826_WI_3_validation  ...   1.280273\n",
              "46881676  FOODS_3_827_WI_3_validation  ...   1.000000\n",
              "\n",
              "[5 rows x 24 columns]"
            ]
          },
          "metadata": {
            "tags": []
          },
          "execution_count": 56
        }
      ]
    },
    {
      "cell_type": "markdown",
      "metadata": {
        "id": "eZ1ApnGoLngj",
        "colab_type": "text"
      },
      "source": [
        "## Lag features"
      ]
    },
    {
      "cell_type": "code",
      "metadata": {
        "id": "i9p434u8Lngj",
        "colab_type": "code",
        "outputId": "cf28c47c-ad7d-4f80-e0fc-1c5bac97a9b1",
        "colab": {
          "base_uri": "https://localhost:8080/",
          "height": 241
        }
      },
      "source": [
        "lags = [x for x in range(28, 28+8)]\n",
        "windows = [3, 7]\n",
        "\n",
        "lag_cols = [f\"lag_{lag}\" for lag in lags ]\n",
        "for lag, lag_col in zip(lags, lag_cols):\n",
        "    print('Lag {}'.format(lag))\n",
        "    X[lag_col] = X.groupby(\"id\")[\"demand\"].shift(lag)\n",
        "\n",
        "X = reduce_mem_usage(X)\n",
        "lags = [28]\n",
        "for window in windows:\n",
        "    for lag,lag_col in zip(lags, lag_cols):\n",
        "        print(\"Lag {}, window {}\".format(lag, window))\n",
        "        X[f\"rmean_{lag}_{window}\"] = X[[\"id\", lag_col]].groupby(\"id\")[lag_col].\\\n",
        "        transform(lambda x : x.rolling(window).mean())\n",
        "X = reduce_mem_usage(X)\n",
        "# For each id drop early rows for which lag cannot be calculated \n",
        "    \n",
        "#X = X.dropna()\n"
      ],
      "execution_count": 57,
      "outputs": [
        {
          "output_type": "stream",
          "text": [
            "Lag 28\n",
            "Lag 29\n",
            "Lag 30\n",
            "Lag 31\n",
            "Lag 32\n",
            "Lag 33\n",
            "Lag 34\n",
            "Lag 35\n",
            "Mem. usage decreased to 3444.25 Mb (43.8% reduction)\n",
            "Lag 28, window 3\n",
            "Lag 28, window 7\n",
            "Mem. usage decreased to 3623.09 Mb (0.0% reduction)\n"
          ],
          "name": "stdout"
        }
      ]
    },
    {
      "cell_type": "code",
      "metadata": {
        "id": "Efn1n-WDLngn",
        "colab_type": "code",
        "outputId": "1a17265e-209a-4cf4-ab1f-019c6510b480",
        "colab": {
          "base_uri": "https://localhost:8080/",
          "height": 167
        }
      },
      "source": [
        "X.columns"
      ],
      "execution_count": 58,
      "outputs": [
        {
          "output_type": "execute_result",
          "data": {
            "text/plain": [
              "Index(['id', 'item_id', 'dept_id', 'cat_id', 'store_id', 'state_id', 'd',\n",
              "       'demand', 'date', 'wm_yr_wk', 'weekday', 'month', 'event_name_1',\n",
              "       'event_type_1', 'year', 'event_name_2', 'event_type_2', 'snap_CA',\n",
              "       'snap_TX', 'snap_WI', 'start_date', 'days_from_start',\n",
              "       'start_date_from_start', 'sell_price', 'lag_28', 'lag_29', 'lag_30',\n",
              "       'lag_31', 'lag_32', 'lag_33', 'lag_34', 'lag_35', 'rmean_28_3',\n",
              "       'rmean_28_7'],\n",
              "      dtype='object')"
            ]
          },
          "metadata": {
            "tags": []
          },
          "execution_count": 58
        }
      ]
    },
    {
      "cell_type": "code",
      "metadata": {
        "id": "q3fchWCeLngr",
        "colab_type": "code",
        "colab": {}
      },
      "source": [
        "X = X.dropna()"
      ],
      "execution_count": 0,
      "outputs": []
    },
    {
      "cell_type": "code",
      "metadata": {
        "id": "JPB38sqPLngz",
        "colab_type": "code",
        "colab": {}
      },
      "source": [
        "X.to_pickle(data_folder + 'X_lags.pkl')"
      ],
      "execution_count": 0,
      "outputs": []
    },
    {
      "cell_type": "code",
      "metadata": {
        "id": "V5VIOXxELng4",
        "colab_type": "code",
        "colab": {}
      },
      "source": [
        "#X = pd.read_pickle(data_folder + \"X_lags.pkl\")"
      ],
      "execution_count": 0,
      "outputs": []
    },
    {
      "cell_type": "markdown",
      "metadata": {
        "id": "deV73-zwLng8",
        "colab_type": "text"
      },
      "source": [
        "# From train, validation, and test datasets"
      ]
    },
    {
      "cell_type": "markdown",
      "metadata": {
        "id": "zYuZtIjiLng9",
        "colab_type": "text"
      },
      "source": [
        "Split X into X_train and X_val"
      ]
    },
    {
      "cell_type": "code",
      "metadata": {
        "id": "2KFcgFPZLng9",
        "colab_type": "code",
        "colab": {}
      },
      "source": [
        "first_day = pd.Timestamp(X['date'].values.min())\n",
        "last_day =  pd.Timestamp(X['date'].values.max())\n",
        "n_val_days = 28# round(n_days*val_size)\n",
        "n_test_days = 28# round(n_days*val_size)\n",
        "\n",
        "first_val_day  =  last_day - timedelta(days = (n_test_days + n_val_days  -1 ))\n",
        "first_test_day =  last_day - timedelta(days = n_test_days - 1)\n"
      ],
      "execution_count": 0,
      "outputs": []
    },
    {
      "cell_type": "code",
      "metadata": {
        "id": "4q8SH17MLnhB",
        "colab_type": "code",
        "outputId": "75c12fbb-280c-4798-d49f-395f19ff7b6d",
        "colab": {
          "base_uri": "https://localhost:8080/",
          "height": 54
        }
      },
      "source": [
        "print(\"first_val_day {}\".format(first_val_day))\n",
        "print(\"first_test_day {}\".format(first_test_day))\n"
      ],
      "execution_count": 63,
      "outputs": [
        {
          "output_type": "stream",
          "text": [
            "first_val_day 2016-03-28 00:00:00\n",
            "first_test_day 2016-04-25 00:00:00\n"
          ],
          "name": "stdout"
        }
      ]
    },
    {
      "cell_type": "code",
      "metadata": {
        "id": "kFjCQtt4LnhF",
        "colab_type": "code",
        "colab": {}
      },
      "source": [
        "X_test = X[X['date'] >= first_test_day]\n",
        "#X_test = reduce_mem_usage(X_test)\n",
        "#X_train = reduce_mem_usage(X_train)\n",
        "#X_val = reduce_mem_usage(X_val)\n",
        "#X = reduce_mem_usage(X)"
      ],
      "execution_count": 0,
      "outputs": []
    },
    {
      "cell_type": "code",
      "metadata": {
        "id": "IYlWJPlcLnhI",
        "colab_type": "code",
        "colab": {}
      },
      "source": [
        "#X_train = X[X['date'] < first_val_day]\n",
        "#X_val = X[(X['date'] >= first_val_day) & (X['date'] < first_test_day)]\n",
        "\n",
        "X =  X[X['date'] < first_test_day]\n",
        "y = X['demand']\n",
        "X_train, X_val, y_train, y_val = train_test_split(X, y, test_size=0.1, \n",
        "                                                    random_state=0)"
      ],
      "execution_count": 0,
      "outputs": []
    },
    {
      "cell_type": "code",
      "metadata": {
        "id": "D85W0RkcLnhV",
        "colab_type": "code",
        "colab": {}
      },
      "source": [
        "del X"
      ],
      "execution_count": 0,
      "outputs": []
    },
    {
      "cell_type": "markdown",
      "metadata": {
        "id": "o6C4g9kZLnhb",
        "colab_type": "text"
      },
      "source": [
        "### Sales pattern"
      ]
    },
    {
      "cell_type": "markdown",
      "metadata": {
        "id": "-T5uJw_PLnhb",
        "colab_type": "text"
      },
      "source": [
        "In this part we determine demand_type of the time series, as it was done at https://github.com/Mcompetitions/M5-methods"
      ]
    },
    {
      "cell_type": "markdown",
      "metadata": {
        "id": "mDgTvuroLnhc",
        "colab_type": "text"
      },
      "source": [
        "Determine average demand interval."
      ]
    },
    {
      "cell_type": "code",
      "metadata": {
        "id": "8nXkrqlQLnhc",
        "colab_type": "code",
        "outputId": "ecf7e0ee-387e-434a-e5cb-5532a59b109c",
        "colab": {
          "base_uri": "https://localhost:8080/",
          "height": 36
        }
      },
      "source": [
        "temp = X_train.groupby(['id'])['demand'].sum() \n",
        "temp[temp == 0]"
      ],
      "execution_count": 67,
      "outputs": [
        {
          "output_type": "execute_result",
          "data": {
            "text/plain": [
              "Series([], Name: demand, dtype: float64)"
            ]
          },
          "metadata": {
            "tags": []
          },
          "execution_count": 67
        }
      ]
    },
    {
      "cell_type": "code",
      "metadata": {
        "id": "V1LfwTYYLnhg",
        "colab_type": "code",
        "colab": {}
      },
      "source": [
        "X_train['ADI'] = X_train.groupby(['id'])['demand'].transform(lambda x:  0 if (sum(x) == 0) else len(x)/sum(x > 0))"
      ],
      "execution_count": 0,
      "outputs": []
    },
    {
      "cell_type": "markdown",
      "metadata": {
        "id": "V9_jRYB1Lnhi",
        "colab_type": "text"
      },
      "source": [
        "Compute square of the Coefficient of Variation (CV²)."
      ]
    },
    {
      "cell_type": "code",
      "metadata": {
        "id": "Bl16eELWLnhj",
        "colab_type": "code",
        "colab": {}
      },
      "source": [
        "X_train['CV2'] = X_train.groupby(['id'])['demand'].transform(lambda x: (np.std(x[x>0])/np.mean(x[x>0]))**2)"
      ],
      "execution_count": 0,
      "outputs": []
    },
    {
      "cell_type": "markdown",
      "metadata": {
        "id": "mk4Yn6wGLnhl",
        "colab_type": "text"
      },
      "source": [
        "Calculate demand_type."
      ]
    },
    {
      "cell_type": "code",
      "metadata": {
        "id": "Ur3la0bOLnhm",
        "colab_type": "code",
        "colab": {}
      },
      "source": [
        "X_train['demand_type'] = ((X_train['ADI'] <= 1.32) & (X_train['CV2'] < 0.5))*1 + \\\n",
        "    ((X_train['ADI'] > 1.32) & (X_train['CV2'] < 0.5))*10 + \\\n",
        "    ((X_train['ADI'] <= 1.32) & (X_train['CV2'] >= 0.5))*100 + \\\n",
        "    ((X_train['ADI'] > 1.32) & (X_train['CV2'] > 0.5))*1000 \n",
        "X_train['demand_type'] = X_train['demand_type'].replace({1:'smooth', 10:'intermittent', 100:'erratic', 1000:'lumpy'})"
      ],
      "execution_count": 0,
      "outputs": []
    },
    {
      "cell_type": "code",
      "metadata": {
        "id": "ya6l5oUkLnho",
        "colab_type": "code",
        "colab": {}
      },
      "source": [
        "c = 'demand_type'\n",
        "col_type = X_train[c].dtype\n",
        "if col_type == 'object' or col_type.name == 'category':\n",
        "    X_train[c] = X_train[c].astype('category')\n"
      ],
      "execution_count": 0,
      "outputs": []
    },
    {
      "cell_type": "code",
      "metadata": {
        "id": "46AtvzEnLnhs",
        "colab_type": "code",
        "colab": {}
      },
      "source": [
        "temp = X_train[['id', 'ADI', 'CV2', 'demand_type']].drop_duplicates()"
      ],
      "execution_count": 0,
      "outputs": []
    },
    {
      "cell_type": "code",
      "metadata": {
        "id": "_N2TD9ywLnhu",
        "colab_type": "code",
        "colab": {}
      },
      "source": [
        "X_val = X_val.merge(temp, on = ['id'], how = 'left')\n",
        "X_test = X_test.merge(temp, on = ['id'], how = 'left')\n",
        "del temp"
      ],
      "execution_count": 0,
      "outputs": []
    },
    {
      "cell_type": "markdown",
      "metadata": {
        "id": "Bx7qmd1ULnhz",
        "colab_type": "text"
      },
      "source": [
        "### Aggregations"
      ]
    },
    {
      "cell_type": "markdown",
      "metadata": {
        "id": "VN8-FeQLLnhz",
        "colab_type": "text"
      },
      "source": [
        "Add average sales per week per item, per month per item and simply average sales per item. Add maximum items sold."
      ]
    },
    {
      "cell_type": "code",
      "metadata": {
        "id": "dPpCozFyLnh0",
        "colab_type": "code",
        "colab": {}
      },
      "source": [
        "\n",
        "X_train['avg_weekday_demand'] = X_train.groupby(['id', 'weekday'])['demand'].transform('mean') \n",
        "X_train['avg_demand'] =  X_train.groupby(['id'])['demand'].transform('mean') \n",
        "X_train['max_demand'] =  X_train.groupby(['id'])['demand'].transform('max') \n",
        "X_train['std_demand'] =  X_train.groupby(['id'])['demand'].transform('std') \n",
        "X_train['zero_seq_len'] = X_train.groupby(['id'])['demand'].transform(lambda x: \n",
        "                          max(len(list(y)) for (c,y) in itertools.groupby(x) if c==0))\n",
        "X_train['non_zero_seq_len'] = X_train.groupby(['id'])['demand'].transform(lambda x: \n",
        "  0 if sum(x)== 0 else  max(len(list(y)) for (c,y) in itertools.groupby([1 if z>0 else 0 for z in x ]) if c > 0))\n"
      ],
      "execution_count": 0,
      "outputs": []
    },
    {
      "cell_type": "code",
      "metadata": {
        "id": "0ydE5sG2jd6c",
        "colab_type": "code",
        "colab": {}
      },
      "source": [
        "my_parameters = {\n",
        " 'agg_autocorrelation': [{'f_agg': 'mean', 'maxlag': 40},\n",
        "  {'f_agg': 'median', 'maxlag': 40},\n",
        "  {'f_agg': 'var', 'maxlag': 40}],\n",
        "  'ar_coefficient': [{'coeff': 3, 'k': 10}],\n",
        "}"
      ],
      "execution_count": 0,
      "outputs": []
    },
    {
      "cell_type": "code",
      "metadata": {
        "id": "EUsBed6ajQAO",
        "colab_type": "code",
        "outputId": "5252961e-c49b-4789-d8b6-a46d720ccd09",
        "colab": {
          "base_uri": "https://localhost:8080/",
          "height": 36
        }
      },
      "source": [
        "demand_ts = X_train[['item_id', 'date', 'demand']]\n",
        "demand_ts_fe = extract_features(demand_ts, \n",
        "                     column_id='item_id', column_sort='date',\n",
        "                     default_fc_parameters=my_parameters)"
      ],
      "execution_count": 76,
      "outputs": [
        {
          "output_type": "stream",
          "text": [
            "Feature Extraction: 100%|██████████| 10/10 [01:27<00:00,  8.78s/it]\n"
          ],
          "name": "stderr"
        }
      ]
    },
    {
      "cell_type": "code",
      "metadata": {
        "id": "RATYst9sB1a_",
        "colab_type": "code",
        "colab": {}
      },
      "source": [
        "demand_ts_fe = demand_ts_fe.reset_index()\n",
        "demand_ts_fe = demand_ts_fe.rename(columns={\"id\": \"item_id\"})"
      ],
      "execution_count": 0,
      "outputs": []
    },
    {
      "cell_type": "code",
      "metadata": {
        "id": "xp_Y4kH3lwi3",
        "colab_type": "code",
        "colab": {}
      },
      "source": [
        "X_train = X_train.merge(demand_ts_fe, on = ['item_id'], how = 'left')\n",
        "X_val = X_val.merge(demand_ts_fe, on = ['item_id'], how = 'left')\n",
        "X_test = X_test.merge(demand_ts_fe, on = ['item_id'], how = 'left')\n"
      ],
      "execution_count": 0,
      "outputs": []
    },
    {
      "cell_type": "code",
      "metadata": {
        "id": "9fO2KhAzLnh2",
        "colab_type": "code",
        "colab": {}
      },
      "source": [
        "X_train['quantile025_week'] = X_train.groupby(['id', 'weekday'])['demand'].transform(lambda x: x.quantile(0.25))"
      ],
      "execution_count": 0,
      "outputs": []
    },
    {
      "cell_type": "code",
      "metadata": {
        "id": "R7rNhlxYLnh3",
        "colab_type": "code",
        "colab": {}
      },
      "source": [
        "X_train['max_weekday_demand'] = X_train.groupby(['id', 'weekday'])['demand'].transform('max') "
      ],
      "execution_count": 0,
      "outputs": []
    },
    {
      "cell_type": "markdown",
      "metadata": {
        "id": "NYLiXKaALnh6",
        "colab_type": "text"
      },
      "source": [
        "Add average price per item"
      ]
    },
    {
      "cell_type": "code",
      "metadata": {
        "id": "U0Q4qvy9Lnh6",
        "colab_type": "code",
        "colab": {}
      },
      "source": [
        "X_train['avg_price'] = X_train.groupby(['id'])['sell_price'].transform('mean') "
      ],
      "execution_count": 0,
      "outputs": []
    },
    {
      "cell_type": "code",
      "metadata": {
        "id": "uApMSQyxLnh9",
        "colab_type": "code",
        "colab": {}
      },
      "source": [
        "temp = X_train[['id', 'avg_price', 'avg_demand', 'max_demand', 'std_demand',\n",
        "                'non_zero_seq_len', 'zero_seq_len']].drop_duplicates()"
      ],
      "execution_count": 0,
      "outputs": []
    },
    {
      "cell_type": "code",
      "metadata": {
        "id": "QuDxce3iLniA",
        "colab_type": "code",
        "colab": {}
      },
      "source": [
        "X_val = X_val.merge(temp, on = ['id'], how = 'left')\n",
        "X_test = X_test.merge(temp, on = ['id'], how = 'left')\n"
      ],
      "execution_count": 0,
      "outputs": []
    },
    {
      "cell_type": "code",
      "metadata": {
        "id": "0R_fxetGLniC",
        "colab_type": "code",
        "colab": {}
      },
      "source": [
        "temp = X_train[['id', 'weekday', 'avg_weekday_demand', 'quantile025_week', \n",
        "                'max_weekday_demand']].drop_duplicates()"
      ],
      "execution_count": 0,
      "outputs": []
    },
    {
      "cell_type": "code",
      "metadata": {
        "id": "vKYRg-_wLniD",
        "colab_type": "code",
        "colab": {}
      },
      "source": [
        "X_val = X_val.merge(temp, on = ['id', 'weekday'], how = 'left')\n",
        "X_test = X_test.merge(temp, on = ['id', 'weekday'], how = 'left')\n"
      ],
      "execution_count": 0,
      "outputs": []
    },
    {
      "cell_type": "code",
      "metadata": {
        "id": "15mAg_TiLniH",
        "colab_type": "code",
        "colab": {}
      },
      "source": [
        "X_train['cheaper_than_usual'] = (X_train['sell_price'] < X_train['avg_price'])\n",
        "X_val['cheaper_than_usual'] = (X_val['sell_price'] < X_val['avg_price'])\n",
        "X_test['cheaper_than_usual'] = (X_test['sell_price'] < X_test['avg_price'])"
      ],
      "execution_count": 0,
      "outputs": []
    },
    {
      "cell_type": "code",
      "metadata": {
        "id": "06OLDjMYLniJ",
        "colab_type": "code",
        "colab": {}
      },
      "source": [
        "X_train = X_train.drop(columns = ['wm_yr_wk'])\n",
        "X_val = X_val.drop(columns = ['wm_yr_wk'])\n",
        "X_test = X_test.drop(columns = ['wm_yr_wk'])"
      ],
      "execution_count": 0,
      "outputs": []
    },
    {
      "cell_type": "code",
      "metadata": {
        "id": "SOAg7hqcdhJ6",
        "colab_type": "code",
        "outputId": "27a135e0-0e03-49e0-9fbf-543db3324449",
        "colab": {
          "base_uri": "https://localhost:8080/",
          "height": 73
        }
      },
      "source": [
        "X_train = reduce_mem_usage(X_train)\n",
        "X_val = reduce_mem_usage(X_val)\n",
        "X_test = reduce_mem_usage(X_test)\n"
      ],
      "execution_count": 88,
      "outputs": [
        {
          "output_type": "stream",
          "text": [
            "Mem. usage decreased to 4285.10 Mb (35.1% reduction)\n",
            "Mem. usage decreased to 477.53 Mb (35.0% reduction)\n",
            "Mem. usage decreased to 91.15 Mb (35.3% reduction)\n"
          ],
          "name": "stdout"
        }
      ]
    },
    {
      "cell_type": "code",
      "metadata": {
        "id": "iFVFrOyqLniL",
        "colab_type": "code",
        "colab": {}
      },
      "source": [
        "X_val.to_pickle(data_folder + \"X_val.pkl\")\n",
        "X_test.to_pickle(data_folder + \"X_test.pkl\")\n",
        "X_train.to_pickle(data_folder + \"X_train.pkl\")\n"
      ],
      "execution_count": 0,
      "outputs": []
    },
    {
      "cell_type": "code",
      "metadata": {
        "id": "qUXtDY0BLniN",
        "colab_type": "code",
        "colab": {}
      },
      "source": [
        "#del X_test\n",
        "#del X_val, y_val\n",
        "#del X_train, y_train"
      ],
      "execution_count": 0,
      "outputs": []
    },
    {
      "cell_type": "code",
      "metadata": {
        "id": "ey3JM1w5LniP",
        "colab_type": "code",
        "outputId": "6e4b6bf4-e9d4-4b40-f14e-37d2d7d6465a",
        "colab": {
          "base_uri": "https://localhost:8080/",
          "height": 279
        }
      },
      "source": [
        "X_val.columns"
      ],
      "execution_count": 91,
      "outputs": [
        {
          "output_type": "execute_result",
          "data": {
            "text/plain": [
              "Index(['id', 'item_id', 'dept_id', 'cat_id', 'store_id', 'state_id', 'd',\n",
              "       'demand', 'date', 'weekday', 'month', 'event_name_1', 'event_type_1',\n",
              "       'year', 'event_name_2', 'event_type_2', 'snap_CA', 'snap_TX', 'snap_WI',\n",
              "       'start_date', 'days_from_start', 'start_date_from_start', 'sell_price',\n",
              "       'lag_28', 'lag_29', 'lag_30', 'lag_31', 'lag_32', 'lag_33', 'lag_34',\n",
              "       'lag_35', 'rmean_28_3', 'rmean_28_7', 'ADI', 'CV2', 'demand_type',\n",
              "       'demand__agg_autocorrelation__f_agg_\"mean\"__maxlag_40',\n",
              "       'demand__agg_autocorrelation__f_agg_\"median\"__maxlag_40',\n",
              "       'demand__agg_autocorrelation__f_agg_\"var\"__maxlag_40',\n",
              "       'demand__ar_coefficient__k_10__coeff_3', 'avg_price', 'avg_demand',\n",
              "       'max_demand', 'std_demand', 'non_zero_seq_len', 'zero_seq_len',\n",
              "       'avg_weekday_demand', 'quantile025_week', 'max_weekday_demand',\n",
              "       'cheaper_than_usual'],\n",
              "      dtype='object')"
            ]
          },
          "metadata": {
            "tags": []
          },
          "execution_count": 91
        }
      ]
    },
    {
      "cell_type": "markdown",
      "metadata": {
        "id": "Nfx443snLniR",
        "colab_type": "text"
      },
      "source": [
        "## Correlations with demand"
      ]
    },
    {
      "cell_type": "code",
      "metadata": {
        "id": "valSZIuWLniR",
        "colab_type": "code",
        "outputId": "f3347ab6-727e-4c24-f34e-fd167ae4d169",
        "colab": {
          "base_uri": "https://localhost:8080/",
          "height": 279
        }
      },
      "source": [
        "X_train.columns"
      ],
      "execution_count": 92,
      "outputs": [
        {
          "output_type": "execute_result",
          "data": {
            "text/plain": [
              "Index(['id', 'item_id', 'dept_id', 'cat_id', 'store_id', 'state_id', 'd',\n",
              "       'demand', 'date', 'weekday', 'month', 'event_name_1', 'event_type_1',\n",
              "       'year', 'event_name_2', 'event_type_2', 'snap_CA', 'snap_TX', 'snap_WI',\n",
              "       'start_date', 'days_from_start', 'start_date_from_start', 'sell_price',\n",
              "       'lag_28', 'lag_29', 'lag_30', 'lag_31', 'lag_32', 'lag_33', 'lag_34',\n",
              "       'lag_35', 'rmean_28_3', 'rmean_28_7', 'ADI', 'CV2', 'demand_type',\n",
              "       'avg_weekday_demand', 'avg_demand', 'max_demand', 'std_demand',\n",
              "       'zero_seq_len', 'non_zero_seq_len',\n",
              "       'demand__agg_autocorrelation__f_agg_\"mean\"__maxlag_40',\n",
              "       'demand__agg_autocorrelation__f_agg_\"median\"__maxlag_40',\n",
              "       'demand__agg_autocorrelation__f_agg_\"var\"__maxlag_40',\n",
              "       'demand__ar_coefficient__k_10__coeff_3', 'quantile025_week',\n",
              "       'max_weekday_demand', 'avg_price', 'cheaper_than_usual'],\n",
              "      dtype='object')"
            ]
          },
          "metadata": {
            "tags": []
          },
          "execution_count": 92
        }
      ]
    },
    {
      "cell_type": "code",
      "metadata": {
        "id": "J7xs9aqmLniV",
        "colab_type": "code",
        "outputId": "9871d294-433b-4ab9-c479-d9bc6f167d0d",
        "colab": {
          "base_uri": "https://localhost:8080/",
          "height": 503
        }
      },
      "source": [
        "numerical_features = ['days_from_start', 'sell_price',\n",
        "       'lag_28', 'lag_29', 'lag_30', 'lag_31', 'lag_32', 'lag_33', 'lag_34',\n",
        "       'rmean_28_7', 'rmean_28_3',\n",
        "       'ADI', 'CV2', 'avg_weekday_demand', 'avg_demand', 'max_demand',\n",
        "       'std_demand', 'quantile025_week', 'max_weekday_demand', 'avg_price',\n",
        "       'zero_seq_len', 'non_zero_seq_len',\n",
        "       'demand__agg_autocorrelation__f_agg_\"mean\"__maxlag_40',\n",
        "       'demand__agg_autocorrelation__f_agg_\"median\"__maxlag_40',\n",
        "       'demand__agg_autocorrelation__f_agg_\"var\"__maxlag_40',\n",
        "       'demand__ar_coefficient__k_10__coeff_3']\n",
        "for feature in numerical_features:\n",
        "    print(\"{}: {}\".format(feature, X_train[feature].corr(X_train['demand'])))"
      ],
      "execution_count": 93,
      "outputs": [
        {
          "output_type": "stream",
          "text": [
            "days_from_start: -0.039088845383678926\n",
            "sell_price: -0.1509362592859059\n",
            "lag_28: 0.6687550713484481\n",
            "lag_29: 0.6534962864187146\n",
            "lag_30: 0.6350529443308878\n",
            "lag_31: 0.6255229518346647\n",
            "lag_32: 0.6210457103902222\n",
            "lag_33: 0.6269959235956014\n",
            "lag_34: 0.6415382894718832\n",
            "rmean_28_7: 0.7327379454945125\n",
            "rmean_28_3: 0.7151138837080677\n",
            "ADI: -0.16675246624883425\n",
            "CV2: 0.043985059154978134\n",
            "avg_weekday_demand: 0.738317765304354\n",
            "avg_demand: 0.7251148415310436\n",
            "max_demand: 0.5384981373588549\n",
            "std_demand: 0.6539784221973316\n",
            "quantile025_week: 0.6279370164291999\n",
            "max_weekday_demand: 0.5936516398543138\n",
            "avg_price: -0.15054975248927407\n",
            "zero_seq_len: -0.19974976320164614\n",
            "non_zero_seq_len: 0.41529306730841725\n",
            "demand__agg_autocorrelation__f_agg_\"mean\"__maxlag_40: 0.16872360808726058\n",
            "demand__agg_autocorrelation__f_agg_\"median\"__maxlag_40: 0.16356799504885677\n",
            "demand__agg_autocorrelation__f_agg_\"var\"__maxlag_40: 0.15456161932890905\n",
            "demand__ar_coefficient__k_10__coeff_3: 0.13876906920987217\n"
          ],
          "name": "stdout"
        }
      ]
    },
    {
      "cell_type": "markdown",
      "metadata": {
        "id": "BJ4hzfmpLniZ",
        "colab_type": "text"
      },
      "source": [
        "### Save by demand type"
      ]
    },
    {
      "cell_type": "code",
      "metadata": {
        "id": "Shi1BvXOLnib",
        "colab_type": "code",
        "outputId": "18671e65-08db-4df6-fe9a-cda083283e12",
        "colab": {
          "base_uri": "https://localhost:8080/",
          "height": 167
        }
      },
      "source": [
        "X_train = X_train.dropna()\n",
        "for i in ['smooth', 'erratic', 'lumpy', 'intermittent']:\n",
        "    print(i)\n",
        "    X_val[X_val['demand_type'] == i].to_pickle(data_folder + \"X_val_{}.pkl\".format(i))\n",
        "    X_train[X_train['demand_type'] == i].to_pickle(data_folder + \"X_train_{}.pkl\".format(i))\n",
        "    X_test[X_test['demand_type'] == i].to_pickle(data_folder + \"X_test_{}.pkl\".format(i))\n",
        "    print()"
      ],
      "execution_count": 94,
      "outputs": [
        {
          "output_type": "stream",
          "text": [
            "smooth\n",
            "\n",
            "erratic\n",
            "\n",
            "lumpy\n",
            "\n",
            "intermittent\n",
            "\n"
          ],
          "name": "stdout"
        }
      ]
    },
    {
      "cell_type": "code",
      "metadata": {
        "id": "Mev-KSKLLnie",
        "colab_type": "code",
        "outputId": "0e7339e6-e593-482c-85ec-98c002a425a9",
        "colab": {
          "base_uri": "https://localhost:8080/",
          "height": 279
        }
      },
      "source": [
        "X_test.columns"
      ],
      "execution_count": 95,
      "outputs": [
        {
          "output_type": "execute_result",
          "data": {
            "text/plain": [
              "Index(['id', 'item_id', 'dept_id', 'cat_id', 'store_id', 'state_id', 'd',\n",
              "       'demand', 'date', 'weekday', 'month', 'event_name_1', 'event_type_1',\n",
              "       'year', 'event_name_2', 'event_type_2', 'snap_CA', 'snap_TX', 'snap_WI',\n",
              "       'start_date', 'days_from_start', 'start_date_from_start', 'sell_price',\n",
              "       'lag_28', 'lag_29', 'lag_30', 'lag_31', 'lag_32', 'lag_33', 'lag_34',\n",
              "       'lag_35', 'rmean_28_3', 'rmean_28_7', 'ADI', 'CV2', 'demand_type',\n",
              "       'demand__agg_autocorrelation__f_agg_\"mean\"__maxlag_40',\n",
              "       'demand__agg_autocorrelation__f_agg_\"median\"__maxlag_40',\n",
              "       'demand__agg_autocorrelation__f_agg_\"var\"__maxlag_40',\n",
              "       'demand__ar_coefficient__k_10__coeff_3', 'avg_price', 'avg_demand',\n",
              "       'max_demand', 'std_demand', 'non_zero_seq_len', 'zero_seq_len',\n",
              "       'avg_weekday_demand', 'quantile025_week', 'max_weekday_demand',\n",
              "       'cheaper_than_usual'],\n",
              "      dtype='object')"
            ]
          },
          "metadata": {
            "tags": []
          },
          "execution_count": 95
        }
      ]
    },
    {
      "cell_type": "code",
      "metadata": {
        "id": "EVrbmcnMLnig",
        "colab_type": "code",
        "colab": {}
      },
      "source": [
        ""
      ],
      "execution_count": 0,
      "outputs": []
    },
    {
      "cell_type": "markdown",
      "metadata": {
        "id": "FQyODSM9ETql",
        "colab_type": "text"
      },
      "source": [
        "## Save by store_id"
      ]
    },
    {
      "cell_type": "code",
      "metadata": {
        "id": "_sKu9ZnOEkX4",
        "colab_type": "code",
        "colab": {}
      },
      "source": [
        "stores = X_test['store_id'].values.unique()"
      ],
      "execution_count": 0,
      "outputs": []
    },
    {
      "cell_type": "code",
      "metadata": {
        "id": "j7JuYukAUj_q",
        "colab_type": "code",
        "outputId": "3d513c9f-83cd-4caa-a6f1-60151ac3ba23",
        "colab": {
          "base_uri": "https://localhost:8080/",
          "height": 54
        }
      },
      "source": [
        "stores"
      ],
      "execution_count": 97,
      "outputs": [
        {
          "output_type": "execute_result",
          "data": {
            "text/plain": [
              "[CA_1, CA_2, CA_3, CA_4, TX_1, TX_2, TX_3, WI_1, WI_2, WI_3]\n",
              "Categories (10, object): [CA_1, CA_2, CA_3, CA_4, ..., TX_3, WI_1, WI_2, WI_3]"
            ]
          },
          "metadata": {
            "tags": []
          },
          "execution_count": 97
        }
      ]
    },
    {
      "cell_type": "code",
      "metadata": {
        "id": "JyFW98iIEdWh",
        "colab_type": "code",
        "outputId": "89b3e721-83d8-4d76-af42-1d60790e9db5",
        "colab": {
          "base_uri": "https://localhost:8080/",
          "height": 391
        }
      },
      "source": [
        "\n",
        "for i in stores:\n",
        "    print(i)\n",
        "    X_val[X_val['store_id'] == i].to_pickle(data_folder + \"X_val_{}.pkl\".format(i))\n",
        "    X_train[X_train['store_id'] == i].to_pickle(data_folder + \"X_train_{}.pkl\".format(i))\n",
        "    X_test[X_test['store_id'] == i].to_pickle(data_folder + \"X_test_{}.pkl\".format(i))\n",
        "    print()"
      ],
      "execution_count": 98,
      "outputs": [
        {
          "output_type": "stream",
          "text": [
            "CA_1\n",
            "\n",
            "CA_2\n",
            "\n",
            "CA_3\n",
            "\n",
            "CA_4\n",
            "\n",
            "TX_1\n",
            "\n",
            "TX_2\n",
            "\n",
            "TX_3\n",
            "\n",
            "WI_1\n",
            "\n",
            "WI_2\n",
            "\n",
            "WI_3\n",
            "\n"
          ],
          "name": "stdout"
        }
      ]
    },
    {
      "cell_type": "code",
      "metadata": {
        "id": "kVnjvBXwL93p",
        "colab_type": "code",
        "outputId": "0ac6a95e-03ba-4047-bc0e-7f697e5991ae",
        "colab": {
          "base_uri": "https://localhost:8080/",
          "height": 279
        }
      },
      "source": [
        "X_val.columns"
      ],
      "execution_count": 99,
      "outputs": [
        {
          "output_type": "execute_result",
          "data": {
            "text/plain": [
              "Index(['id', 'item_id', 'dept_id', 'cat_id', 'store_id', 'state_id', 'd',\n",
              "       'demand', 'date', 'weekday', 'month', 'event_name_1', 'event_type_1',\n",
              "       'year', 'event_name_2', 'event_type_2', 'snap_CA', 'snap_TX', 'snap_WI',\n",
              "       'start_date', 'days_from_start', 'start_date_from_start', 'sell_price',\n",
              "       'lag_28', 'lag_29', 'lag_30', 'lag_31', 'lag_32', 'lag_33', 'lag_34',\n",
              "       'lag_35', 'rmean_28_3', 'rmean_28_7', 'ADI', 'CV2', 'demand_type',\n",
              "       'demand__agg_autocorrelation__f_agg_\"mean\"__maxlag_40',\n",
              "       'demand__agg_autocorrelation__f_agg_\"median\"__maxlag_40',\n",
              "       'demand__agg_autocorrelation__f_agg_\"var\"__maxlag_40',\n",
              "       'demand__ar_coefficient__k_10__coeff_3', 'avg_price', 'avg_demand',\n",
              "       'max_demand', 'std_demand', 'non_zero_seq_len', 'zero_seq_len',\n",
              "       'avg_weekday_demand', 'quantile025_week', 'max_weekday_demand',\n",
              "       'cheaper_than_usual'],\n",
              "      dtype='object')"
            ]
          },
          "metadata": {
            "tags": []
          },
          "execution_count": 99
        }
      ]
    }
  ]
}