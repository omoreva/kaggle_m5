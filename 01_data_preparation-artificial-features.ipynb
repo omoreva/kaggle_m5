{
 "cells": [
  {
   "cell_type": "markdown",
   "metadata": {},
   "source": [
    "# Data preparation"
   ]
  },
  {
   "cell_type": "markdown",
   "metadata": {},
   "source": [
    "In this notebook we preprocess our data for ML algorithms and create new features."
   ]
  },
  {
   "cell_type": "markdown",
   "metadata": {},
   "source": [
    "## Load and reshape data"
   ]
  },
  {
   "cell_type": "markdown",
   "metadata": {},
   "source": [
    "Import libraries"
   ]
  },
  {
   "cell_type": "code",
   "execution_count": 1,
   "metadata": {},
   "outputs": [],
   "source": [
    "import pandas as pd\n",
    "import numpy as np\n",
    "from datetime import datetime  \n",
    "from datetime import timedelta  \n",
    "import gc\n",
    "import pickle\n",
    "from sklearn import preprocessing, metrics\n",
    "import pandas as pd\n",
    "import matplotlib.pyplot as plt\n",
    "#from sagemaker import get_execution_role\n",
    "#import boto3\n",
    "import seaborn as sns"
   ]
  },
  {
   "cell_type": "markdown",
   "metadata": {},
   "source": [
    "Helper functions"
   ]
  },
  {
   "cell_type": "code",
   "execution_count": 2,
   "metadata": {},
   "outputs": [],
   "source": [
    "# this function is taken from https://www.kaggle.com/ragnar123/very-fst-model\n",
    "def reduce_mem_usage(df, verbose=True):\n",
    "    '''Reduce memory usage of dataframe by converting ints and floats \n",
    "    Args:\n",
    "        df: dataframe\n",
    "            \n",
    "    Returns:\n",
    "        dataframe with converted columns\n",
    "    '''\n",
    "    numerics = ['int16', 'int32', 'int64', 'float16', 'float32', 'float64']\n",
    "    start_mem = df.memory_usage().sum() / 1024**2    \n",
    "    for col in df.columns:\n",
    "        col_type = df[col].dtypes\n",
    "        if col_type in numerics:\n",
    "            c_min = df[col].min()\n",
    "            c_max = df[col].max()\n",
    "            if str(col_type)[:3] == 'int':\n",
    "                if c_min > np.iinfo(np.int8).min and c_max < np.iinfo(np.int8).max:\n",
    "                    df[col] = df[col].astype(np.int8)\n",
    "                elif c_min > np.iinfo(np.int16).min and c_max < np.iinfo(np.int16).max:\n",
    "                    df[col] = df[col].astype(np.int16)\n",
    "                elif c_min > np.iinfo(np.int32).min and c_max < np.iinfo(np.int32).max:\n",
    "                    df[col] = df[col].astype(np.int32)\n",
    "                elif c_min > np.iinfo(np.int64).min and c_max < np.iinfo(np.int64).max:\n",
    "                    df[col] = df[col].astype(np.int64)  \n",
    "            else:\n",
    "                if c_min > np.finfo(np.float16).min and c_max < np.finfo(np.float16).max:\n",
    "                    df[col] = df[col].astype(np.float16)\n",
    "                elif c_min > np.finfo(np.float32).min and c_max < np.finfo(np.float32).max:\n",
    "                    df[col] = df[col].astype(np.float32)\n",
    "                else:\n",
    "                    df[col] = df[col].astype(np.float64)    \n",
    "    end_mem = df.memory_usage().sum() / 1024**2\n",
    "    if verbose: print('Mem. usage decreased to {:5.2f} Mb ({:.1f}% reduction)'.format(end_mem, 100 * (start_mem - end_mem) / start_mem))\n",
    "    return df\n"
   ]
  },
  {
   "cell_type": "markdown",
   "metadata": {},
   "source": [
    "Read data."
   ]
  },
  {
   "cell_type": "code",
   "execution_count": 3,
   "metadata": {},
   "outputs": [
    {
     "name": "stdout",
     "output_type": "stream",
     "text": [
      "Reading files...\n"
     ]
    }
   ],
   "source": [
    "print('Reading files...')\n",
    "#data_location = 's3://{}/{}/{}'.format(bucket, prefix, 'calendar.csv')\n",
    "data_location = \"../01_preprocessed_data/X.pkl\"\n",
    "X = pd.read_pickle(data_location)"
   ]
  },
  {
   "cell_type": "code",
   "execution_count": 4,
   "metadata": {},
   "outputs": [
    {
     "data": {
      "text/html": [
       "<div>\n",
       "<style scoped>\n",
       "    .dataframe tbody tr th:only-of-type {\n",
       "        vertical-align: middle;\n",
       "    }\n",
       "\n",
       "    .dataframe tbody tr th {\n",
       "        vertical-align: top;\n",
       "    }\n",
       "\n",
       "    .dataframe thead th {\n",
       "        text-align: right;\n",
       "    }\n",
       "</style>\n",
       "<table border=\"1\" class=\"dataframe\">\n",
       "  <thead>\n",
       "    <tr style=\"text-align: right;\">\n",
       "      <th></th>\n",
       "      <th>id</th>\n",
       "      <th>item_id</th>\n",
       "      <th>dept_id</th>\n",
       "      <th>cat_id</th>\n",
       "      <th>store_id</th>\n",
       "      <th>state_id</th>\n",
       "      <th>d</th>\n",
       "      <th>demand</th>\n",
       "      <th>date</th>\n",
       "      <th>wm_yr_wk</th>\n",
       "      <th>...</th>\n",
       "      <th>year</th>\n",
       "      <th>event_name_2</th>\n",
       "      <th>event_type_2</th>\n",
       "      <th>snap_CA</th>\n",
       "      <th>snap_TX</th>\n",
       "      <th>snap_WI</th>\n",
       "      <th>start_date</th>\n",
       "      <th>days_from_start</th>\n",
       "      <th>start_date_from_start</th>\n",
       "      <th>sell_price</th>\n",
       "    </tr>\n",
       "  </thead>\n",
       "  <tbody>\n",
       "    <tr>\n",
       "      <td>46881672</td>\n",
       "      <td>FOODS_3_823_WI_3_validation</td>\n",
       "      <td>FOODS_3_823</td>\n",
       "      <td>FOODS_3</td>\n",
       "      <td>FOODS</td>\n",
       "      <td>WI_3</td>\n",
       "      <td>WI</td>\n",
       "      <td>d_1941</td>\n",
       "      <td>0</td>\n",
       "      <td>2016-05-22</td>\n",
       "      <td>11617</td>\n",
       "      <td>...</td>\n",
       "      <td>2016</td>\n",
       "      <td>no event</td>\n",
       "      <td>no event</td>\n",
       "      <td>0</td>\n",
       "      <td>0</td>\n",
       "      <td>0</td>\n",
       "      <td>2011-01-29</td>\n",
       "      <td>1940</td>\n",
       "      <td>0</td>\n",
       "      <td>2.980469</td>\n",
       "    </tr>\n",
       "    <tr>\n",
       "      <td>46881673</td>\n",
       "      <td>FOODS_3_824_WI_3_validation</td>\n",
       "      <td>FOODS_3_824</td>\n",
       "      <td>FOODS_3</td>\n",
       "      <td>FOODS</td>\n",
       "      <td>WI_3</td>\n",
       "      <td>WI</td>\n",
       "      <td>d_1941</td>\n",
       "      <td>0</td>\n",
       "      <td>2016-05-22</td>\n",
       "      <td>11617</td>\n",
       "      <td>...</td>\n",
       "      <td>2016</td>\n",
       "      <td>no event</td>\n",
       "      <td>no event</td>\n",
       "      <td>0</td>\n",
       "      <td>0</td>\n",
       "      <td>0</td>\n",
       "      <td>2011-01-29</td>\n",
       "      <td>1940</td>\n",
       "      <td>0</td>\n",
       "      <td>2.480469</td>\n",
       "    </tr>\n",
       "    <tr>\n",
       "      <td>46881674</td>\n",
       "      <td>FOODS_3_825_WI_3_validation</td>\n",
       "      <td>FOODS_3_825</td>\n",
       "      <td>FOODS_3</td>\n",
       "      <td>FOODS</td>\n",
       "      <td>WI_3</td>\n",
       "      <td>WI</td>\n",
       "      <td>d_1941</td>\n",
       "      <td>0</td>\n",
       "      <td>2016-05-22</td>\n",
       "      <td>11617</td>\n",
       "      <td>...</td>\n",
       "      <td>2016</td>\n",
       "      <td>no event</td>\n",
       "      <td>no event</td>\n",
       "      <td>0</td>\n",
       "      <td>0</td>\n",
       "      <td>0</td>\n",
       "      <td>2011-01-29</td>\n",
       "      <td>1940</td>\n",
       "      <td>0</td>\n",
       "      <td>3.980469</td>\n",
       "    </tr>\n",
       "    <tr>\n",
       "      <td>46881675</td>\n",
       "      <td>FOODS_3_826_WI_3_validation</td>\n",
       "      <td>FOODS_3_826</td>\n",
       "      <td>FOODS_3</td>\n",
       "      <td>FOODS</td>\n",
       "      <td>WI_3</td>\n",
       "      <td>WI</td>\n",
       "      <td>d_1941</td>\n",
       "      <td>0</td>\n",
       "      <td>2016-05-22</td>\n",
       "      <td>11617</td>\n",
       "      <td>...</td>\n",
       "      <td>2016</td>\n",
       "      <td>no event</td>\n",
       "      <td>no event</td>\n",
       "      <td>0</td>\n",
       "      <td>0</td>\n",
       "      <td>0</td>\n",
       "      <td>2013-08-24</td>\n",
       "      <td>1940</td>\n",
       "      <td>938</td>\n",
       "      <td>1.280273</td>\n",
       "    </tr>\n",
       "    <tr>\n",
       "      <td>46881676</td>\n",
       "      <td>FOODS_3_827_WI_3_validation</td>\n",
       "      <td>FOODS_3_827</td>\n",
       "      <td>FOODS_3</td>\n",
       "      <td>FOODS</td>\n",
       "      <td>WI_3</td>\n",
       "      <td>WI</td>\n",
       "      <td>d_1941</td>\n",
       "      <td>0</td>\n",
       "      <td>2016-05-22</td>\n",
       "      <td>11617</td>\n",
       "      <td>...</td>\n",
       "      <td>2016</td>\n",
       "      <td>no event</td>\n",
       "      <td>no event</td>\n",
       "      <td>0</td>\n",
       "      <td>0</td>\n",
       "      <td>0</td>\n",
       "      <td>2014-03-01</td>\n",
       "      <td>1940</td>\n",
       "      <td>1127</td>\n",
       "      <td>1.000000</td>\n",
       "    </tr>\n",
       "  </tbody>\n",
       "</table>\n",
       "<p>5 rows × 24 columns</p>\n",
       "</div>"
      ],
      "text/plain": [
       "                                   id      item_id  dept_id cat_id store_id  \\\n",
       "46881672  FOODS_3_823_WI_3_validation  FOODS_3_823  FOODS_3  FOODS     WI_3   \n",
       "46881673  FOODS_3_824_WI_3_validation  FOODS_3_824  FOODS_3  FOODS     WI_3   \n",
       "46881674  FOODS_3_825_WI_3_validation  FOODS_3_825  FOODS_3  FOODS     WI_3   \n",
       "46881675  FOODS_3_826_WI_3_validation  FOODS_3_826  FOODS_3  FOODS     WI_3   \n",
       "46881676  FOODS_3_827_WI_3_validation  FOODS_3_827  FOODS_3  FOODS     WI_3   \n",
       "\n",
       "         state_id       d  demand       date  wm_yr_wk  ...  year  \\\n",
       "46881672       WI  d_1941       0 2016-05-22     11617  ...  2016   \n",
       "46881673       WI  d_1941       0 2016-05-22     11617  ...  2016   \n",
       "46881674       WI  d_1941       0 2016-05-22     11617  ...  2016   \n",
       "46881675       WI  d_1941       0 2016-05-22     11617  ...  2016   \n",
       "46881676       WI  d_1941       0 2016-05-22     11617  ...  2016   \n",
       "\n",
       "          event_name_2 event_type_2 snap_CA  snap_TX snap_WI start_date  \\\n",
       "46881672      no event     no event       0        0       0 2011-01-29   \n",
       "46881673      no event     no event       0        0       0 2011-01-29   \n",
       "46881674      no event     no event       0        0       0 2011-01-29   \n",
       "46881675      no event     no event       0        0       0 2013-08-24   \n",
       "46881676      no event     no event       0        0       0 2014-03-01   \n",
       "\n",
       "          days_from_start  start_date_from_start  sell_price  \n",
       "46881672             1940                      0    2.980469  \n",
       "46881673             1940                      0    2.480469  \n",
       "46881674             1940                      0    3.980469  \n",
       "46881675             1940                    938    1.280273  \n",
       "46881676             1940                   1127    1.000000  \n",
       "\n",
       "[5 rows x 24 columns]"
      ]
     },
     "execution_count": 4,
     "metadata": {},
     "output_type": "execute_result"
    }
   ],
   "source": [
    "X.tail()"
   ]
  },
  {
   "cell_type": "markdown",
   "metadata": {},
   "source": [
    "## Lag features"
   ]
  },
  {
   "cell_type": "code",
   "execution_count": 5,
   "metadata": {},
   "outputs": [
    {
     "name": "stdout",
     "output_type": "stream",
     "text": [
      "Lag 28\n",
      "Lag 29\n",
      "Lag 30\n",
      "Lag 31\n",
      "Lag 32\n",
      "Lag 33\n",
      "Lag 34\n",
      "Lag 35\n",
      "Mem. usage decreased to 3444.25 Mb (46.1% reduction)\n",
      "Lag 28, window 3\n",
      "Lag 28, window 7\n",
      "Mem. usage decreased to 3623.09 Mb (0.0% reduction)\n"
     ]
    }
   ],
   "source": [
    "lags = [x for x in range(28, 28+8)]\n",
    "windows = [3, 7]\n",
    "\n",
    "lag_cols = [f\"lag_{lag}\" for lag in lags ]\n",
    "for lag, lag_col in zip(lags, lag_cols):\n",
    "    print('Lag {}'.format(lag))\n",
    "    X[lag_col] = X.groupby(\"id\")[\"demand\"].shift(lag)\n",
    "\n",
    "X = reduce_mem_usage(X)\n",
    "lags = [28]\n",
    "for window in windows:\n",
    "    for lag,lag_col in zip(lags, lag_cols):\n",
    "        print(\"Lag {}, window {}\".format(lag, window))\n",
    "        X[f\"rmean_{lag}_{window}\"] = X[[\"id\", lag_col]].groupby(\"id\")[lag_col].\\\n",
    "        transform(lambda x : x.rolling(window).mean())\n",
    "X = reduce_mem_usage(X)\n",
    "# For each id drop early rows for which lag cannot be calculated \n",
    "    \n",
    "#X = X.dropna()\n"
   ]
  },
  {
   "cell_type": "code",
   "execution_count": 6,
   "metadata": {},
   "outputs": [
    {
     "data": {
      "text/plain": [
       "Index(['id', 'item_id', 'dept_id', 'cat_id', 'store_id', 'state_id', 'd',\n",
       "       'demand', 'date', 'wm_yr_wk', 'weekday', 'month', 'event_name_1',\n",
       "       'event_type_1', 'year', 'event_name_2', 'event_type_2', 'snap_CA',\n",
       "       'snap_TX', 'snap_WI', 'start_date', 'days_from_start',\n",
       "       'start_date_from_start', 'sell_price', 'lag_28', 'lag_29', 'lag_30',\n",
       "       'lag_31', 'lag_32', 'lag_33', 'lag_34', 'lag_35', 'rmean_28_3',\n",
       "       'rmean_28_7'],\n",
       "      dtype='object')"
      ]
     },
     "execution_count": 6,
     "metadata": {},
     "output_type": "execute_result"
    }
   ],
   "source": [
    "X.columns"
   ]
  },
  {
   "cell_type": "code",
   "execution_count": 7,
   "metadata": {},
   "outputs": [],
   "source": [
    "X = X.dropna()"
   ]
  },
  {
   "cell_type": "code",
   "execution_count": 10,
   "metadata": {},
   "outputs": [
    {
     "data": {
      "text/html": [
       "<div>\n",
       "<style scoped>\n",
       "    .dataframe tbody tr th:only-of-type {\n",
       "        vertical-align: middle;\n",
       "    }\n",
       "\n",
       "    .dataframe tbody tr th {\n",
       "        vertical-align: top;\n",
       "    }\n",
       "\n",
       "    .dataframe thead th {\n",
       "        text-align: right;\n",
       "    }\n",
       "</style>\n",
       "<table border=\"1\" class=\"dataframe\">\n",
       "  <thead>\n",
       "    <tr style=\"text-align: right;\">\n",
       "      <th></th>\n",
       "      <th>id</th>\n",
       "      <th>item_id</th>\n",
       "      <th>dept_id</th>\n",
       "      <th>cat_id</th>\n",
       "      <th>store_id</th>\n",
       "      <th>state_id</th>\n",
       "      <th>d</th>\n",
       "      <th>demand</th>\n",
       "      <th>date</th>\n",
       "      <th>wm_yr_wk</th>\n",
       "      <th>...</th>\n",
       "      <th>lag_28</th>\n",
       "      <th>lag_29</th>\n",
       "      <th>lag_30</th>\n",
       "      <th>lag_31</th>\n",
       "      <th>lag_32</th>\n",
       "      <th>lag_33</th>\n",
       "      <th>lag_34</th>\n",
       "      <th>lag_35</th>\n",
       "      <th>rmean_28_3</th>\n",
       "      <th>rmean_28_7</th>\n",
       "    </tr>\n",
       "  </thead>\n",
       "  <tbody>\n",
       "    <tr>\n",
       "      <td>34086222</td>\n",
       "      <td>FOODS_3_135_WI_2_validation</td>\n",
       "      <td>FOODS_3_135</td>\n",
       "      <td>FOODS_3</td>\n",
       "      <td>FOODS</td>\n",
       "      <td>WI_2</td>\n",
       "      <td>WI</td>\n",
       "      <td>d_1520</td>\n",
       "      <td>0</td>\n",
       "      <td>2015-03-28</td>\n",
       "      <td>11509</td>\n",
       "      <td>...</td>\n",
       "      <td>4.0</td>\n",
       "      <td>0.0</td>\n",
       "      <td>1.0</td>\n",
       "      <td>2.0</td>\n",
       "      <td>0.0</td>\n",
       "      <td>0.0</td>\n",
       "      <td>0.0</td>\n",
       "      <td>0.0</td>\n",
       "      <td>1.666992</td>\n",
       "      <td>1.000000</td>\n",
       "    </tr>\n",
       "    <tr>\n",
       "      <td>34116217</td>\n",
       "      <td>FOODS_3_135_WI_2_validation</td>\n",
       "      <td>FOODS_3_135</td>\n",
       "      <td>FOODS_3</td>\n",
       "      <td>FOODS</td>\n",
       "      <td>WI_2</td>\n",
       "      <td>WI</td>\n",
       "      <td>d_1521</td>\n",
       "      <td>0</td>\n",
       "      <td>2015-03-29</td>\n",
       "      <td>11509</td>\n",
       "      <td>...</td>\n",
       "      <td>0.0</td>\n",
       "      <td>4.0</td>\n",
       "      <td>0.0</td>\n",
       "      <td>1.0</td>\n",
       "      <td>2.0</td>\n",
       "      <td>0.0</td>\n",
       "      <td>0.0</td>\n",
       "      <td>0.0</td>\n",
       "      <td>1.333008</td>\n",
       "      <td>1.000000</td>\n",
       "    </tr>\n",
       "    <tr>\n",
       "      <td>34146212</td>\n",
       "      <td>FOODS_3_135_WI_2_validation</td>\n",
       "      <td>FOODS_3_135</td>\n",
       "      <td>FOODS_3</td>\n",
       "      <td>FOODS</td>\n",
       "      <td>WI_2</td>\n",
       "      <td>WI</td>\n",
       "      <td>d_1522</td>\n",
       "      <td>0</td>\n",
       "      <td>2015-03-30</td>\n",
       "      <td>11509</td>\n",
       "      <td>...</td>\n",
       "      <td>1.0</td>\n",
       "      <td>0.0</td>\n",
       "      <td>4.0</td>\n",
       "      <td>0.0</td>\n",
       "      <td>1.0</td>\n",
       "      <td>2.0</td>\n",
       "      <td>0.0</td>\n",
       "      <td>0.0</td>\n",
       "      <td>1.666992</td>\n",
       "      <td>1.142578</td>\n",
       "    </tr>\n",
       "    <tr>\n",
       "      <td>34176207</td>\n",
       "      <td>FOODS_3_135_WI_2_validation</td>\n",
       "      <td>FOODS_3_135</td>\n",
       "      <td>FOODS_3</td>\n",
       "      <td>FOODS</td>\n",
       "      <td>WI_2</td>\n",
       "      <td>WI</td>\n",
       "      <td>d_1523</td>\n",
       "      <td>0</td>\n",
       "      <td>2015-03-31</td>\n",
       "      <td>11509</td>\n",
       "      <td>...</td>\n",
       "      <td>1.0</td>\n",
       "      <td>1.0</td>\n",
       "      <td>0.0</td>\n",
       "      <td>4.0</td>\n",
       "      <td>0.0</td>\n",
       "      <td>1.0</td>\n",
       "      <td>2.0</td>\n",
       "      <td>0.0</td>\n",
       "      <td>0.666504</td>\n",
       "      <td>1.286133</td>\n",
       "    </tr>\n",
       "    <tr>\n",
       "      <td>34206202</td>\n",
       "      <td>FOODS_3_135_WI_2_validation</td>\n",
       "      <td>FOODS_3_135</td>\n",
       "      <td>FOODS_3</td>\n",
       "      <td>FOODS</td>\n",
       "      <td>WI_2</td>\n",
       "      <td>WI</td>\n",
       "      <td>d_1524</td>\n",
       "      <td>0</td>\n",
       "      <td>2015-04-01</td>\n",
       "      <td>11509</td>\n",
       "      <td>...</td>\n",
       "      <td>4.0</td>\n",
       "      <td>1.0</td>\n",
       "      <td>1.0</td>\n",
       "      <td>0.0</td>\n",
       "      <td>4.0</td>\n",
       "      <td>0.0</td>\n",
       "      <td>1.0</td>\n",
       "      <td>2.0</td>\n",
       "      <td>2.000000</td>\n",
       "      <td>1.571289</td>\n",
       "    </tr>\n",
       "    <tr>\n",
       "      <td>...</td>\n",
       "      <td>...</td>\n",
       "      <td>...</td>\n",
       "      <td>...</td>\n",
       "      <td>...</td>\n",
       "      <td>...</td>\n",
       "      <td>...</td>\n",
       "      <td>...</td>\n",
       "      <td>...</td>\n",
       "      <td>...</td>\n",
       "      <td>...</td>\n",
       "      <td>...</td>\n",
       "      <td>...</td>\n",
       "      <td>...</td>\n",
       "      <td>...</td>\n",
       "      <td>...</td>\n",
       "      <td>...</td>\n",
       "      <td>...</td>\n",
       "      <td>...</td>\n",
       "      <td>...</td>\n",
       "      <td>...</td>\n",
       "      <td>...</td>\n",
       "    </tr>\n",
       "    <tr>\n",
       "      <td>46755978</td>\n",
       "      <td>FOODS_3_135_WI_2_validation</td>\n",
       "      <td>FOODS_3_135</td>\n",
       "      <td>FOODS_3</td>\n",
       "      <td>FOODS</td>\n",
       "      <td>WI_2</td>\n",
       "      <td>WI</td>\n",
       "      <td>d_1937</td>\n",
       "      <td>0</td>\n",
       "      <td>2016-05-18</td>\n",
       "      <td>11616</td>\n",
       "      <td>...</td>\n",
       "      <td>0.0</td>\n",
       "      <td>0.0</td>\n",
       "      <td>0.0</td>\n",
       "      <td>0.0</td>\n",
       "      <td>1.0</td>\n",
       "      <td>3.0</td>\n",
       "      <td>1.0</td>\n",
       "      <td>0.0</td>\n",
       "      <td>0.000000</td>\n",
       "      <td>0.714355</td>\n",
       "    </tr>\n",
       "    <tr>\n",
       "      <td>46786468</td>\n",
       "      <td>FOODS_3_135_WI_2_validation</td>\n",
       "      <td>FOODS_3_135</td>\n",
       "      <td>FOODS_3</td>\n",
       "      <td>FOODS</td>\n",
       "      <td>WI_2</td>\n",
       "      <td>WI</td>\n",
       "      <td>d_1938</td>\n",
       "      <td>0</td>\n",
       "      <td>2016-05-19</td>\n",
       "      <td>11616</td>\n",
       "      <td>...</td>\n",
       "      <td>0.0</td>\n",
       "      <td>0.0</td>\n",
       "      <td>0.0</td>\n",
       "      <td>0.0</td>\n",
       "      <td>0.0</td>\n",
       "      <td>1.0</td>\n",
       "      <td>3.0</td>\n",
       "      <td>1.0</td>\n",
       "      <td>0.000000</td>\n",
       "      <td>0.571289</td>\n",
       "    </tr>\n",
       "    <tr>\n",
       "      <td>46816958</td>\n",
       "      <td>FOODS_3_135_WI_2_validation</td>\n",
       "      <td>FOODS_3_135</td>\n",
       "      <td>FOODS_3</td>\n",
       "      <td>FOODS</td>\n",
       "      <td>WI_2</td>\n",
       "      <td>WI</td>\n",
       "      <td>d_1939</td>\n",
       "      <td>0</td>\n",
       "      <td>2016-05-20</td>\n",
       "      <td>11616</td>\n",
       "      <td>...</td>\n",
       "      <td>0.0</td>\n",
       "      <td>0.0</td>\n",
       "      <td>0.0</td>\n",
       "      <td>0.0</td>\n",
       "      <td>0.0</td>\n",
       "      <td>0.0</td>\n",
       "      <td>1.0</td>\n",
       "      <td>3.0</td>\n",
       "      <td>0.000000</td>\n",
       "      <td>0.142822</td>\n",
       "    </tr>\n",
       "    <tr>\n",
       "      <td>46847448</td>\n",
       "      <td>FOODS_3_135_WI_2_validation</td>\n",
       "      <td>FOODS_3_135</td>\n",
       "      <td>FOODS_3</td>\n",
       "      <td>FOODS</td>\n",
       "      <td>WI_2</td>\n",
       "      <td>WI</td>\n",
       "      <td>d_1940</td>\n",
       "      <td>0</td>\n",
       "      <td>2016-05-21</td>\n",
       "      <td>11617</td>\n",
       "      <td>...</td>\n",
       "      <td>2.0</td>\n",
       "      <td>0.0</td>\n",
       "      <td>0.0</td>\n",
       "      <td>0.0</td>\n",
       "      <td>0.0</td>\n",
       "      <td>0.0</td>\n",
       "      <td>0.0</td>\n",
       "      <td>1.0</td>\n",
       "      <td>0.666504</td>\n",
       "      <td>0.285645</td>\n",
       "    </tr>\n",
       "    <tr>\n",
       "      <td>46877938</td>\n",
       "      <td>FOODS_3_135_WI_2_validation</td>\n",
       "      <td>FOODS_3_135</td>\n",
       "      <td>FOODS_3</td>\n",
       "      <td>FOODS</td>\n",
       "      <td>WI_2</td>\n",
       "      <td>WI</td>\n",
       "      <td>d_1941</td>\n",
       "      <td>0</td>\n",
       "      <td>2016-05-22</td>\n",
       "      <td>11617</td>\n",
       "      <td>...</td>\n",
       "      <td>0.0</td>\n",
       "      <td>2.0</td>\n",
       "      <td>0.0</td>\n",
       "      <td>0.0</td>\n",
       "      <td>0.0</td>\n",
       "      <td>0.0</td>\n",
       "      <td>0.0</td>\n",
       "      <td>0.0</td>\n",
       "      <td>0.666504</td>\n",
       "      <td>0.285645</td>\n",
       "    </tr>\n",
       "  </tbody>\n",
       "</table>\n",
       "<p>422 rows × 34 columns</p>\n",
       "</div>"
      ],
      "text/plain": [
       "                                   id      item_id  dept_id cat_id store_id  \\\n",
       "34086222  FOODS_3_135_WI_2_validation  FOODS_3_135  FOODS_3  FOODS     WI_2   \n",
       "34116217  FOODS_3_135_WI_2_validation  FOODS_3_135  FOODS_3  FOODS     WI_2   \n",
       "34146212  FOODS_3_135_WI_2_validation  FOODS_3_135  FOODS_3  FOODS     WI_2   \n",
       "34176207  FOODS_3_135_WI_2_validation  FOODS_3_135  FOODS_3  FOODS     WI_2   \n",
       "34206202  FOODS_3_135_WI_2_validation  FOODS_3_135  FOODS_3  FOODS     WI_2   \n",
       "...                               ...          ...      ...    ...      ...   \n",
       "46755978  FOODS_3_135_WI_2_validation  FOODS_3_135  FOODS_3  FOODS     WI_2   \n",
       "46786468  FOODS_3_135_WI_2_validation  FOODS_3_135  FOODS_3  FOODS     WI_2   \n",
       "46816958  FOODS_3_135_WI_2_validation  FOODS_3_135  FOODS_3  FOODS     WI_2   \n",
       "46847448  FOODS_3_135_WI_2_validation  FOODS_3_135  FOODS_3  FOODS     WI_2   \n",
       "46877938  FOODS_3_135_WI_2_validation  FOODS_3_135  FOODS_3  FOODS     WI_2   \n",
       "\n",
       "         state_id       d  demand       date  wm_yr_wk  ... lag_28  lag_29  \\\n",
       "34086222       WI  d_1520       0 2015-03-28     11509  ...    4.0     0.0   \n",
       "34116217       WI  d_1521       0 2015-03-29     11509  ...    0.0     4.0   \n",
       "34146212       WI  d_1522       0 2015-03-30     11509  ...    1.0     0.0   \n",
       "34176207       WI  d_1523       0 2015-03-31     11509  ...    1.0     1.0   \n",
       "34206202       WI  d_1524       0 2015-04-01     11509  ...    4.0     1.0   \n",
       "...           ...     ...     ...        ...       ...  ...    ...     ...   \n",
       "46755978       WI  d_1937       0 2016-05-18     11616  ...    0.0     0.0   \n",
       "46786468       WI  d_1938       0 2016-05-19     11616  ...    0.0     0.0   \n",
       "46816958       WI  d_1939       0 2016-05-20     11616  ...    0.0     0.0   \n",
       "46847448       WI  d_1940       0 2016-05-21     11617  ...    2.0     0.0   \n",
       "46877938       WI  d_1941       0 2016-05-22     11617  ...    0.0     2.0   \n",
       "\n",
       "         lag_30 lag_31  lag_32 lag_33 lag_34  lag_35  rmean_28_3  rmean_28_7  \n",
       "34086222    1.0    2.0     0.0    0.0    0.0     0.0    1.666992    1.000000  \n",
       "34116217    0.0    1.0     2.0    0.0    0.0     0.0    1.333008    1.000000  \n",
       "34146212    4.0    0.0     1.0    2.0    0.0     0.0    1.666992    1.142578  \n",
       "34176207    0.0    4.0     0.0    1.0    2.0     0.0    0.666504    1.286133  \n",
       "34206202    1.0    0.0     4.0    0.0    1.0     2.0    2.000000    1.571289  \n",
       "...         ...    ...     ...    ...    ...     ...         ...         ...  \n",
       "46755978    0.0    0.0     1.0    3.0    1.0     0.0    0.000000    0.714355  \n",
       "46786468    0.0    0.0     0.0    1.0    3.0     1.0    0.000000    0.571289  \n",
       "46816958    0.0    0.0     0.0    0.0    1.0     3.0    0.000000    0.142822  \n",
       "46847448    0.0    0.0     0.0    0.0    0.0     1.0    0.666504    0.285645  \n",
       "46877938    0.0    0.0     0.0    0.0    0.0     0.0    0.666504    0.285645  \n",
       "\n",
       "[422 rows x 34 columns]"
      ]
     },
     "execution_count": 10,
     "metadata": {},
     "output_type": "execute_result"
    }
   ],
   "source": [
    "X[X['id'] == 'FOODS_3_135_WI_2_validation']"
   ]
  },
  {
   "cell_type": "code",
   "execution_count": 9,
   "metadata": {},
   "outputs": [],
   "source": [
    "X.to_pickle(\"../01_preprocessed_data/X_lags.pkl\")"
   ]
  },
  {
   "cell_type": "code",
   "execution_count": 4,
   "metadata": {},
   "outputs": [],
   "source": [
    "#X = pd.read_pickle(\"../01_preprocessed_data/X_lags.pkl\")"
   ]
  },
  {
   "cell_type": "markdown",
   "metadata": {},
   "source": [
    "# From train, validation, and test datasets"
   ]
  },
  {
   "cell_type": "markdown",
   "metadata": {},
   "source": [
    "Split X into X_train and X_val"
   ]
  },
  {
   "cell_type": "code",
   "execution_count": 11,
   "metadata": {},
   "outputs": [],
   "source": [
    "first_day = pd.Timestamp(X['date'].values.min())\n",
    "last_day =  pd.Timestamp(X['date'].values.max())\n",
    "n_val_days = 28# round(n_days*val_size)\n",
    "n_test_days = 28# round(n_days*val_size)\n",
    "\n",
    "first_val_day  =  last_day - timedelta(days = (n_test_days + n_val_days  -1 ))\n",
    "first_test_day =  last_day - timedelta(days = n_test_days - 1)\n"
   ]
  },
  {
   "cell_type": "code",
   "execution_count": 12,
   "metadata": {},
   "outputs": [
    {
     "name": "stdout",
     "output_type": "stream",
     "text": [
      "first_val_day 2016-03-28 00:00:00\n",
      "first_test_day 2016-04-25 00:00:00\n"
     ]
    }
   ],
   "source": [
    "print(\"first_val_day {}\".format(first_val_day))\n",
    "print(\"first_test_day {}\".format(first_test_day))\n"
   ]
  },
  {
   "cell_type": "code",
   "execution_count": 13,
   "metadata": {},
   "outputs": [],
   "source": [
    "X_train = X[X['date'] < first_val_day]\n",
    "y_train = X_train[['demand']]\n",
    "X_val = X[(X['date'] >= first_val_day) & (X['date'] < first_test_day)]\n",
    "y_val = X_val[['demand']]\n",
    "X_test = X[X['date'] >= first_test_day]\n",
    "#X_test = reduce_mem_usage(X_test)\n",
    "#X_train = reduce_mem_usage(X_train)\n",
    "#X_val = reduce_mem_usage(X_val)\n",
    "#X = reduce_mem_usage(X)"
   ]
  },
  {
   "cell_type": "code",
   "execution_count": null,
   "metadata": {},
   "outputs": [],
   "source": []
  },
  {
   "cell_type": "code",
   "execution_count": 15,
   "metadata": {},
   "outputs": [
    {
     "name": "stdout",
     "output_type": "stream",
     "text": [
      "X dates:\n",
      "2011-03-05T00:00:00.000000000\n",
      "2016-05-22T00:00:00.000000000\n",
      "1905.0\n",
      "X_train dates:\n",
      "2011-03-05T00:00:00.000000000\n",
      "2016-03-27T00:00:00.000000000\n",
      "1849.0\n",
      "X_val dates:\n",
      "2016-03-28T00:00:00.000000000\n",
      "2016-04-24T00:00:00.000000000\n",
      "27.0\n",
      "X_test dates:\n",
      "2016-04-25T00:00:00.000000000\n",
      "2016-05-22T00:00:00.000000000\n",
      "27.0\n"
     ]
    }
   ],
   "source": [
    "print(\"X dates:\")\n",
    "print(X['date'].values.min())\n",
    "print(X['date'].values.max())\n",
    "print((X['date'].values.max() - X['date'].values.min())/np.timedelta64(1, 'D'))\n",
    "\n",
    "print(\"X_train dates:\")\n",
    "print(X_train['date'].values.min())\n",
    "print(X_train['date'].values.max())\n",
    "print((X_train['date'].values.max() - X_train['date'].values.min())/np.timedelta64(1, 'D'))\n",
    "\n",
    "print(\"X_val dates:\")\n",
    "print(X_val['date'].values.min())\n",
    "print(X_val['date'].values.max())\n",
    "print((X_val['date'].values.max() - X_val['date'].values.min())/np.timedelta64(1, 'D'))\n",
    "\n",
    "print(\"X_test dates:\")\n",
    "print(X_test['date'].values.min())\n",
    "print(X_test['date'].values.max())\n",
    "print((X_test['date'].values.max() - X_test['date'].values.min())/np.timedelta64(1, 'D'))"
   ]
  },
  {
   "cell_type": "code",
   "execution_count": 16,
   "metadata": {},
   "outputs": [],
   "source": [
    "del X"
   ]
  },
  {
   "cell_type": "code",
   "execution_count": 17,
   "metadata": {},
   "outputs": [
    {
     "data": {
      "text/html": [
       "<div>\n",
       "<style scoped>\n",
       "    .dataframe tbody tr th:only-of-type {\n",
       "        vertical-align: middle;\n",
       "    }\n",
       "\n",
       "    .dataframe tbody tr th {\n",
       "        vertical-align: top;\n",
       "    }\n",
       "\n",
       "    .dataframe thead th {\n",
       "        text-align: right;\n",
       "    }\n",
       "</style>\n",
       "<table border=\"1\" class=\"dataframe\">\n",
       "  <thead>\n",
       "    <tr style=\"text-align: right;\">\n",
       "      <th></th>\n",
       "      <th>id</th>\n",
       "      <th>item_id</th>\n",
       "      <th>dept_id</th>\n",
       "      <th>cat_id</th>\n",
       "      <th>store_id</th>\n",
       "      <th>state_id</th>\n",
       "      <th>d</th>\n",
       "      <th>demand</th>\n",
       "      <th>date</th>\n",
       "      <th>wm_yr_wk</th>\n",
       "      <th>...</th>\n",
       "      <th>lag_28</th>\n",
       "      <th>lag_29</th>\n",
       "      <th>lag_30</th>\n",
       "      <th>lag_31</th>\n",
       "      <th>lag_32</th>\n",
       "      <th>lag_33</th>\n",
       "      <th>lag_34</th>\n",
       "      <th>lag_35</th>\n",
       "      <th>rmean_28_3</th>\n",
       "      <th>rmean_28_7</th>\n",
       "    </tr>\n",
       "  </thead>\n",
       "  <tbody>\n",
       "    <tr>\n",
       "      <td>34086222</td>\n",
       "      <td>FOODS_3_135_WI_2_validation</td>\n",
       "      <td>FOODS_3_135</td>\n",
       "      <td>FOODS_3</td>\n",
       "      <td>FOODS</td>\n",
       "      <td>WI_2</td>\n",
       "      <td>WI</td>\n",
       "      <td>d_1520</td>\n",
       "      <td>0</td>\n",
       "      <td>2015-03-28</td>\n",
       "      <td>11509</td>\n",
       "      <td>...</td>\n",
       "      <td>4.0</td>\n",
       "      <td>0.0</td>\n",
       "      <td>1.0</td>\n",
       "      <td>2.0</td>\n",
       "      <td>0.0</td>\n",
       "      <td>0.0</td>\n",
       "      <td>0.0</td>\n",
       "      <td>0.0</td>\n",
       "      <td>1.666992</td>\n",
       "      <td>1.000000</td>\n",
       "    </tr>\n",
       "    <tr>\n",
       "      <td>34116217</td>\n",
       "      <td>FOODS_3_135_WI_2_validation</td>\n",
       "      <td>FOODS_3_135</td>\n",
       "      <td>FOODS_3</td>\n",
       "      <td>FOODS</td>\n",
       "      <td>WI_2</td>\n",
       "      <td>WI</td>\n",
       "      <td>d_1521</td>\n",
       "      <td>0</td>\n",
       "      <td>2015-03-29</td>\n",
       "      <td>11509</td>\n",
       "      <td>...</td>\n",
       "      <td>0.0</td>\n",
       "      <td>4.0</td>\n",
       "      <td>0.0</td>\n",
       "      <td>1.0</td>\n",
       "      <td>2.0</td>\n",
       "      <td>0.0</td>\n",
       "      <td>0.0</td>\n",
       "      <td>0.0</td>\n",
       "      <td>1.333008</td>\n",
       "      <td>1.000000</td>\n",
       "    </tr>\n",
       "    <tr>\n",
       "      <td>34146212</td>\n",
       "      <td>FOODS_3_135_WI_2_validation</td>\n",
       "      <td>FOODS_3_135</td>\n",
       "      <td>FOODS_3</td>\n",
       "      <td>FOODS</td>\n",
       "      <td>WI_2</td>\n",
       "      <td>WI</td>\n",
       "      <td>d_1522</td>\n",
       "      <td>0</td>\n",
       "      <td>2015-03-30</td>\n",
       "      <td>11509</td>\n",
       "      <td>...</td>\n",
       "      <td>1.0</td>\n",
       "      <td>0.0</td>\n",
       "      <td>4.0</td>\n",
       "      <td>0.0</td>\n",
       "      <td>1.0</td>\n",
       "      <td>2.0</td>\n",
       "      <td>0.0</td>\n",
       "      <td>0.0</td>\n",
       "      <td>1.666992</td>\n",
       "      <td>1.142578</td>\n",
       "    </tr>\n",
       "    <tr>\n",
       "      <td>34176207</td>\n",
       "      <td>FOODS_3_135_WI_2_validation</td>\n",
       "      <td>FOODS_3_135</td>\n",
       "      <td>FOODS_3</td>\n",
       "      <td>FOODS</td>\n",
       "      <td>WI_2</td>\n",
       "      <td>WI</td>\n",
       "      <td>d_1523</td>\n",
       "      <td>0</td>\n",
       "      <td>2015-03-31</td>\n",
       "      <td>11509</td>\n",
       "      <td>...</td>\n",
       "      <td>1.0</td>\n",
       "      <td>1.0</td>\n",
       "      <td>0.0</td>\n",
       "      <td>4.0</td>\n",
       "      <td>0.0</td>\n",
       "      <td>1.0</td>\n",
       "      <td>2.0</td>\n",
       "      <td>0.0</td>\n",
       "      <td>0.666504</td>\n",
       "      <td>1.286133</td>\n",
       "    </tr>\n",
       "    <tr>\n",
       "      <td>34206202</td>\n",
       "      <td>FOODS_3_135_WI_2_validation</td>\n",
       "      <td>FOODS_3_135</td>\n",
       "      <td>FOODS_3</td>\n",
       "      <td>FOODS</td>\n",
       "      <td>WI_2</td>\n",
       "      <td>WI</td>\n",
       "      <td>d_1524</td>\n",
       "      <td>0</td>\n",
       "      <td>2015-04-01</td>\n",
       "      <td>11509</td>\n",
       "      <td>...</td>\n",
       "      <td>4.0</td>\n",
       "      <td>1.0</td>\n",
       "      <td>1.0</td>\n",
       "      <td>0.0</td>\n",
       "      <td>4.0</td>\n",
       "      <td>0.0</td>\n",
       "      <td>1.0</td>\n",
       "      <td>2.0</td>\n",
       "      <td>2.000000</td>\n",
       "      <td>1.571289</td>\n",
       "    </tr>\n",
       "    <tr>\n",
       "      <td>...</td>\n",
       "      <td>...</td>\n",
       "      <td>...</td>\n",
       "      <td>...</td>\n",
       "      <td>...</td>\n",
       "      <td>...</td>\n",
       "      <td>...</td>\n",
       "      <td>...</td>\n",
       "      <td>...</td>\n",
       "      <td>...</td>\n",
       "      <td>...</td>\n",
       "      <td>...</td>\n",
       "      <td>...</td>\n",
       "      <td>...</td>\n",
       "      <td>...</td>\n",
       "      <td>...</td>\n",
       "      <td>...</td>\n",
       "      <td>...</td>\n",
       "      <td>...</td>\n",
       "      <td>...</td>\n",
       "      <td>...</td>\n",
       "      <td>...</td>\n",
       "    </tr>\n",
       "    <tr>\n",
       "      <td>45048538</td>\n",
       "      <td>FOODS_3_135_WI_2_validation</td>\n",
       "      <td>FOODS_3_135</td>\n",
       "      <td>FOODS_3</td>\n",
       "      <td>FOODS</td>\n",
       "      <td>WI_2</td>\n",
       "      <td>WI</td>\n",
       "      <td>d_1881</td>\n",
       "      <td>0</td>\n",
       "      <td>2016-03-23</td>\n",
       "      <td>11608</td>\n",
       "      <td>...</td>\n",
       "      <td>0.0</td>\n",
       "      <td>0.0</td>\n",
       "      <td>0.0</td>\n",
       "      <td>0.0</td>\n",
       "      <td>0.0</td>\n",
       "      <td>0.0</td>\n",
       "      <td>0.0</td>\n",
       "      <td>0.0</td>\n",
       "      <td>0.000000</td>\n",
       "      <td>0.000000</td>\n",
       "    </tr>\n",
       "    <tr>\n",
       "      <td>45079028</td>\n",
       "      <td>FOODS_3_135_WI_2_validation</td>\n",
       "      <td>FOODS_3_135</td>\n",
       "      <td>FOODS_3</td>\n",
       "      <td>FOODS</td>\n",
       "      <td>WI_2</td>\n",
       "      <td>WI</td>\n",
       "      <td>d_1882</td>\n",
       "      <td>0</td>\n",
       "      <td>2016-03-24</td>\n",
       "      <td>11608</td>\n",
       "      <td>...</td>\n",
       "      <td>0.0</td>\n",
       "      <td>0.0</td>\n",
       "      <td>0.0</td>\n",
       "      <td>0.0</td>\n",
       "      <td>0.0</td>\n",
       "      <td>0.0</td>\n",
       "      <td>0.0</td>\n",
       "      <td>0.0</td>\n",
       "      <td>0.000000</td>\n",
       "      <td>0.000000</td>\n",
       "    </tr>\n",
       "    <tr>\n",
       "      <td>45109518</td>\n",
       "      <td>FOODS_3_135_WI_2_validation</td>\n",
       "      <td>FOODS_3_135</td>\n",
       "      <td>FOODS_3</td>\n",
       "      <td>FOODS</td>\n",
       "      <td>WI_2</td>\n",
       "      <td>WI</td>\n",
       "      <td>d_1883</td>\n",
       "      <td>0</td>\n",
       "      <td>2016-03-25</td>\n",
       "      <td>11608</td>\n",
       "      <td>...</td>\n",
       "      <td>0.0</td>\n",
       "      <td>0.0</td>\n",
       "      <td>0.0</td>\n",
       "      <td>0.0</td>\n",
       "      <td>0.0</td>\n",
       "      <td>0.0</td>\n",
       "      <td>0.0</td>\n",
       "      <td>0.0</td>\n",
       "      <td>0.000000</td>\n",
       "      <td>0.000000</td>\n",
       "    </tr>\n",
       "    <tr>\n",
       "      <td>45140008</td>\n",
       "      <td>FOODS_3_135_WI_2_validation</td>\n",
       "      <td>FOODS_3_135</td>\n",
       "      <td>FOODS_3</td>\n",
       "      <td>FOODS</td>\n",
       "      <td>WI_2</td>\n",
       "      <td>WI</td>\n",
       "      <td>d_1884</td>\n",
       "      <td>0</td>\n",
       "      <td>2016-03-26</td>\n",
       "      <td>11609</td>\n",
       "      <td>...</td>\n",
       "      <td>0.0</td>\n",
       "      <td>0.0</td>\n",
       "      <td>0.0</td>\n",
       "      <td>0.0</td>\n",
       "      <td>0.0</td>\n",
       "      <td>0.0</td>\n",
       "      <td>0.0</td>\n",
       "      <td>0.0</td>\n",
       "      <td>0.000000</td>\n",
       "      <td>0.000000</td>\n",
       "    </tr>\n",
       "    <tr>\n",
       "      <td>45170498</td>\n",
       "      <td>FOODS_3_135_WI_2_validation</td>\n",
       "      <td>FOODS_3_135</td>\n",
       "      <td>FOODS_3</td>\n",
       "      <td>FOODS</td>\n",
       "      <td>WI_2</td>\n",
       "      <td>WI</td>\n",
       "      <td>d_1885</td>\n",
       "      <td>0</td>\n",
       "      <td>2016-03-27</td>\n",
       "      <td>11609</td>\n",
       "      <td>...</td>\n",
       "      <td>0.0</td>\n",
       "      <td>0.0</td>\n",
       "      <td>0.0</td>\n",
       "      <td>0.0</td>\n",
       "      <td>0.0</td>\n",
       "      <td>0.0</td>\n",
       "      <td>0.0</td>\n",
       "      <td>0.0</td>\n",
       "      <td>0.000000</td>\n",
       "      <td>0.000000</td>\n",
       "    </tr>\n",
       "  </tbody>\n",
       "</table>\n",
       "<p>366 rows × 34 columns</p>\n",
       "</div>"
      ],
      "text/plain": [
       "                                   id      item_id  dept_id cat_id store_id  \\\n",
       "34086222  FOODS_3_135_WI_2_validation  FOODS_3_135  FOODS_3  FOODS     WI_2   \n",
       "34116217  FOODS_3_135_WI_2_validation  FOODS_3_135  FOODS_3  FOODS     WI_2   \n",
       "34146212  FOODS_3_135_WI_2_validation  FOODS_3_135  FOODS_3  FOODS     WI_2   \n",
       "34176207  FOODS_3_135_WI_2_validation  FOODS_3_135  FOODS_3  FOODS     WI_2   \n",
       "34206202  FOODS_3_135_WI_2_validation  FOODS_3_135  FOODS_3  FOODS     WI_2   \n",
       "...                               ...          ...      ...    ...      ...   \n",
       "45048538  FOODS_3_135_WI_2_validation  FOODS_3_135  FOODS_3  FOODS     WI_2   \n",
       "45079028  FOODS_3_135_WI_2_validation  FOODS_3_135  FOODS_3  FOODS     WI_2   \n",
       "45109518  FOODS_3_135_WI_2_validation  FOODS_3_135  FOODS_3  FOODS     WI_2   \n",
       "45140008  FOODS_3_135_WI_2_validation  FOODS_3_135  FOODS_3  FOODS     WI_2   \n",
       "45170498  FOODS_3_135_WI_2_validation  FOODS_3_135  FOODS_3  FOODS     WI_2   \n",
       "\n",
       "         state_id       d  demand       date  wm_yr_wk  ... lag_28  lag_29  \\\n",
       "34086222       WI  d_1520       0 2015-03-28     11509  ...    4.0     0.0   \n",
       "34116217       WI  d_1521       0 2015-03-29     11509  ...    0.0     4.0   \n",
       "34146212       WI  d_1522       0 2015-03-30     11509  ...    1.0     0.0   \n",
       "34176207       WI  d_1523       0 2015-03-31     11509  ...    1.0     1.0   \n",
       "34206202       WI  d_1524       0 2015-04-01     11509  ...    4.0     1.0   \n",
       "...           ...     ...     ...        ...       ...  ...    ...     ...   \n",
       "45048538       WI  d_1881       0 2016-03-23     11608  ...    0.0     0.0   \n",
       "45079028       WI  d_1882       0 2016-03-24     11608  ...    0.0     0.0   \n",
       "45109518       WI  d_1883       0 2016-03-25     11608  ...    0.0     0.0   \n",
       "45140008       WI  d_1884       0 2016-03-26     11609  ...    0.0     0.0   \n",
       "45170498       WI  d_1885       0 2016-03-27     11609  ...    0.0     0.0   \n",
       "\n",
       "         lag_30 lag_31  lag_32 lag_33 lag_34  lag_35  rmean_28_3  rmean_28_7  \n",
       "34086222    1.0    2.0     0.0    0.0    0.0     0.0    1.666992    1.000000  \n",
       "34116217    0.0    1.0     2.0    0.0    0.0     0.0    1.333008    1.000000  \n",
       "34146212    4.0    0.0     1.0    2.0    0.0     0.0    1.666992    1.142578  \n",
       "34176207    0.0    4.0     0.0    1.0    2.0     0.0    0.666504    1.286133  \n",
       "34206202    1.0    0.0     4.0    0.0    1.0     2.0    2.000000    1.571289  \n",
       "...         ...    ...     ...    ...    ...     ...         ...         ...  \n",
       "45048538    0.0    0.0     0.0    0.0    0.0     0.0    0.000000    0.000000  \n",
       "45079028    0.0    0.0     0.0    0.0    0.0     0.0    0.000000    0.000000  \n",
       "45109518    0.0    0.0     0.0    0.0    0.0     0.0    0.000000    0.000000  \n",
       "45140008    0.0    0.0     0.0    0.0    0.0     0.0    0.000000    0.000000  \n",
       "45170498    0.0    0.0     0.0    0.0    0.0     0.0    0.000000    0.000000  \n",
       "\n",
       "[366 rows x 34 columns]"
      ]
     },
     "execution_count": 17,
     "metadata": {},
     "output_type": "execute_result"
    }
   ],
   "source": [
    "X_train[X_train['id'] == 'FOODS_3_135_WI_2_validation']"
   ]
  },
  {
   "cell_type": "markdown",
   "metadata": {},
   "source": [
    "### Sales pattern"
   ]
  },
  {
   "cell_type": "markdown",
   "metadata": {},
   "source": [
    "In this part we determine demand_type of the time series, as it was done at https://github.com/Mcompetitions/M5-methods"
   ]
  },
  {
   "cell_type": "markdown",
   "metadata": {},
   "source": [
    "Determine average demand interval."
   ]
  },
  {
   "cell_type": "code",
   "execution_count": 18,
   "metadata": {},
   "outputs": [
    {
     "data": {
      "text/plain": [
       "id\n",
       "FOODS_3_135_WI_2_validation        0.0\n",
       "HOUSEHOLD_1_032_TX_1_validation    0.0\n",
       "HOUSEHOLD_1_400_CA_4_validation    0.0\n",
       "HOUSEHOLD_1_518_CA_2_validation    0.0\n",
       "Name: demand, dtype: float64"
      ]
     },
     "execution_count": 18,
     "metadata": {},
     "output_type": "execute_result"
    }
   ],
   "source": [
    "temp = X_train.groupby(['id'])['demand'].sum() \n",
    "temp[temp == 0]"
   ]
  },
  {
   "cell_type": "code",
   "execution_count": 19,
   "metadata": {},
   "outputs": [],
   "source": [
    "X_train['ADI'] = X_train.groupby(['id'])['demand'].transform(lambda x:  0 if (sum(x) == 0) else len(x)/sum(x > 0))"
   ]
  },
  {
   "cell_type": "markdown",
   "metadata": {},
   "source": [
    "Compute square of the Coefficient of Variation (CV²)."
   ]
  },
  {
   "cell_type": "code",
   "execution_count": 20,
   "metadata": {},
   "outputs": [],
   "source": [
    "X_train['CV2'] = X_train.groupby(['id'])['demand'].transform(lambda x: (np.std(x[x>0])/np.mean(x[x>0]))**2)"
   ]
  },
  {
   "cell_type": "markdown",
   "metadata": {},
   "source": [
    "Calculate demand_type."
   ]
  },
  {
   "cell_type": "code",
   "execution_count": 21,
   "metadata": {},
   "outputs": [],
   "source": [
    "X_train['demand_type'] = ((X_train['ADI'] <= 1.32) & (X_train['CV2'] < 0.5))*1 + \\\n",
    "    ((X_train['ADI'] > 1.32) & (X_train['CV2'] < 0.5))*10 + \\\n",
    "    ((X_train['ADI'] <= 1.32) & (X_train['CV2'] >= 0.5))*100 + \\\n",
    "    ((X_train['ADI'] > 1.32) & (X_train['CV2'] > 0.5))*1000 \n",
    "X_train['demand_type'] = X_train['demand_type'].replace({1:'smooth', 10:'intermittent', 100:'erratic', 1000:'lumpy'})"
   ]
  },
  {
   "cell_type": "code",
   "execution_count": 22,
   "metadata": {},
   "outputs": [],
   "source": [
    "c = 'demand_type'\n",
    "col_type = X_train[c].dtype\n",
    "if col_type == 'object' or col_type.name == 'category':\n",
    "    X_train[c] = X_train[c].astype('category')\n"
   ]
  },
  {
   "cell_type": "code",
   "execution_count": 23,
   "metadata": {},
   "outputs": [],
   "source": [
    "temp = X_train[['id', 'ADI', 'CV2', 'demand_type']].drop_duplicates()"
   ]
  },
  {
   "cell_type": "code",
   "execution_count": 24,
   "metadata": {},
   "outputs": [],
   "source": [
    "X_val = X_val.merge(temp, on = ['id'], how = 'left')\n",
    "X_test = X_test.merge(temp, on = ['id'], how = 'left')\n"
   ]
  },
  {
   "cell_type": "markdown",
   "metadata": {},
   "source": [
    "### Aggregations"
   ]
  },
  {
   "cell_type": "markdown",
   "metadata": {},
   "source": [
    "Add average sales per week per item, per month per item and simply average sales per item. Add maximum items sold."
   ]
  },
  {
   "cell_type": "code",
   "execution_count": 25,
   "metadata": {},
   "outputs": [],
   "source": [
    "X_train['avg_weekday_demand'] = X_train.groupby(['id', 'weekday'])['demand'].transform('mean') \n",
    "X_train['avg_demand'] =  X_train.groupby(['id'])['demand'].transform('mean') \n",
    "X_train['max_demand'] =  X_train.groupby(['id'])['demand'].transform('max') \n",
    "X_train['std_demand'] =  X_train.groupby(['id'])['demand'].transform('std') \n"
   ]
  },
  {
   "cell_type": "code",
   "execution_count": 26,
   "metadata": {},
   "outputs": [],
   "source": [
    "X_train['quantile025_week'] = X_train.groupby(['id', 'weekday'])['demand'].transform(lambda x: x.quantile(0.25))"
   ]
  },
  {
   "cell_type": "code",
   "execution_count": 27,
   "metadata": {},
   "outputs": [],
   "source": [
    "X_train['max_weekday_demand'] = X_train.groupby(['id', 'weekday'])['demand'].transform('max') "
   ]
  },
  {
   "cell_type": "markdown",
   "metadata": {},
   "source": [
    "Add average price per item"
   ]
  },
  {
   "cell_type": "code",
   "execution_count": 28,
   "metadata": {},
   "outputs": [],
   "source": [
    "X_train['avg_price'] = X_train.groupby(['id'])['sell_price'].transform('mean') "
   ]
  },
  {
   "cell_type": "code",
   "execution_count": 29,
   "metadata": {},
   "outputs": [],
   "source": [
    "temp = X_train[['id', 'avg_price', 'avg_demand', 'max_demand', 'std_demand']].drop_duplicates()"
   ]
  },
  {
   "cell_type": "code",
   "execution_count": 30,
   "metadata": {},
   "outputs": [],
   "source": [
    "X_val = X_val.merge(temp, on = ['id'], how = 'left')\n",
    "X_test = X_test.merge(temp, on = ['id'], how = 'left')\n"
   ]
  },
  {
   "cell_type": "code",
   "execution_count": 31,
   "metadata": {},
   "outputs": [],
   "source": [
    "temp = X_train[['id', 'weekday', 'avg_weekday_demand', 'quantile025_week', \n",
    "                'max_weekday_demand']].drop_duplicates()"
   ]
  },
  {
   "cell_type": "code",
   "execution_count": 32,
   "metadata": {},
   "outputs": [],
   "source": [
    "X_val = X_val.merge(temp, on = ['id', 'weekday'], how = 'left')\n",
    "X_test = X_test.merge(temp, on = ['id', 'weekday'], how = 'left')\n"
   ]
  },
  {
   "cell_type": "code",
   "execution_count": 33,
   "metadata": {},
   "outputs": [],
   "source": [
    "X_train['cheaper_than_usual'] = (X_train['sell_price'] < X_train['avg_price'])\n",
    "X_val['cheaper_than_usual'] = (X_val['sell_price'] < X_val['avg_price'])\n",
    "X_test['cheaper_than_usual'] = (X_test['sell_price'] < X_test['avg_price'])"
   ]
  },
  {
   "cell_type": "code",
   "execution_count": 34,
   "metadata": {},
   "outputs": [],
   "source": [
    "X_train = X_train.drop(columns = ['wm_yr_wk'])\n",
    "X_val = X_val.drop(columns = ['wm_yr_wk'])\n",
    "X_test = X_test.drop(columns = ['wm_yr_wk'])"
   ]
  },
  {
   "cell_type": "code",
   "execution_count": 35,
   "metadata": {},
   "outputs": [],
   "source": [
    "#X_train = X_train.drop(columns = ['demand'])\n",
    "#X_val = X_val.drop(columns = ['demand'])\n",
    "#X_test = X_test.drop(columns = ['demand'])\n",
    "\n",
    "\n",
    "X_val.to_pickle(\"../01_preprocessed_data/X_val.pkl\")\n",
    "y_val.to_pickle(\"../01_preprocessed_data/y_val.pkl\")\n",
    "X_test.to_pickle(\"../01_preprocessed_data/X_test.pkl\")\n",
    "X_train.to_pickle(\"../01_preprocessed_data/X_train.pkl\")\n",
    "y_train.to_pickle(\"../01_preprocessed_data/y_train.pkl\")\n",
    "\n"
   ]
  },
  {
   "cell_type": "code",
   "execution_count": 36,
   "metadata": {},
   "outputs": [],
   "source": [
    "#del X_test\n",
    "#del X_val, y_val\n",
    "#del X_train, y_train"
   ]
  },
  {
   "cell_type": "code",
   "execution_count": 37,
   "metadata": {},
   "outputs": [
    {
     "data": {
      "text/plain": [
       "Index(['id', 'item_id', 'dept_id', 'cat_id', 'store_id', 'state_id', 'd',\n",
       "       'demand', 'date', 'weekday', 'month', 'event_name_1', 'event_type_1',\n",
       "       'year', 'event_name_2', 'event_type_2', 'snap_CA', 'snap_TX', 'snap_WI',\n",
       "       'start_date', 'days_from_start', 'start_date_from_start', 'sell_price',\n",
       "       'lag_28', 'lag_29', 'lag_30', 'lag_31', 'lag_32', 'lag_33', 'lag_34',\n",
       "       'lag_35', 'rmean_28_3', 'rmean_28_7', 'ADI', 'CV2', 'demand_type',\n",
       "       'avg_price', 'avg_demand', 'max_demand', 'std_demand',\n",
       "       'avg_weekday_demand', 'quantile025_week', 'max_weekday_demand',\n",
       "       'cheaper_than_usual'],\n",
       "      dtype='object')"
      ]
     },
     "execution_count": 37,
     "metadata": {},
     "output_type": "execute_result"
    }
   ],
   "source": [
    "X_val.columns"
   ]
  },
  {
   "cell_type": "markdown",
   "metadata": {},
   "source": [
    "## Correlations with demand"
   ]
  },
  {
   "cell_type": "code",
   "execution_count": 38,
   "metadata": {},
   "outputs": [
    {
     "data": {
      "text/plain": [
       "Index(['id', 'item_id', 'dept_id', 'cat_id', 'store_id', 'state_id', 'd',\n",
       "       'demand', 'date', 'weekday', 'month', 'event_name_1', 'event_type_1',\n",
       "       'year', 'event_name_2', 'event_type_2', 'snap_CA', 'snap_TX', 'snap_WI',\n",
       "       'start_date', 'days_from_start', 'start_date_from_start', 'sell_price',\n",
       "       'lag_28', 'lag_29', 'lag_30', 'lag_31', 'lag_32', 'lag_33', 'lag_34',\n",
       "       'lag_35', 'rmean_28_3', 'rmean_28_7', 'ADI', 'CV2', 'demand_type',\n",
       "       'avg_weekday_demand', 'avg_demand', 'max_demand', 'std_demand',\n",
       "       'quantile025_week', 'max_weekday_demand', 'avg_price',\n",
       "       'cheaper_than_usual'],\n",
       "      dtype='object')"
      ]
     },
     "execution_count": 38,
     "metadata": {},
     "output_type": "execute_result"
    }
   ],
   "source": [
    "X_train.columns"
   ]
  },
  {
   "cell_type": "code",
   "execution_count": 39,
   "metadata": {},
   "outputs": [
    {
     "name": "stdout",
     "output_type": "stream",
     "text": [
      "days_from_start: -0.039962476511587595\n",
      "sell_price: -0.1513283127030602\n",
      "lag_28: 0.6680024197500379\n",
      "lag_29: 0.6527569517440269\n",
      "lag_30: 0.6348291923528367\n",
      "lag_31: 0.6247735505053124\n",
      "lag_32: 0.6209171779490299\n",
      "lag_33: 0.6268593469844892\n",
      "lag_34: 0.6413506181185942\n",
      "rmean_28_7: 0.7322895290054611\n"
     ]
    },
    {
     "ename": "KeyError",
     "evalue": "'rmean_28_14'",
     "output_type": "error",
     "traceback": [
      "\u001b[1;31m---------------------------------------------------------------------------\u001b[0m",
      "\u001b[1;31mKeyError\u001b[0m                                  Traceback (most recent call last)",
      "\u001b[1;32m~\\Anaconda3\\lib\\site-packages\\pandas\\core\\indexes\\base.py\u001b[0m in \u001b[0;36mget_loc\u001b[1;34m(self, key, method, tolerance)\u001b[0m\n\u001b[0;32m   2896\u001b[0m             \u001b[1;32mtry\u001b[0m\u001b[1;33m:\u001b[0m\u001b[1;33m\u001b[0m\u001b[1;33m\u001b[0m\u001b[0m\n\u001b[1;32m-> 2897\u001b[1;33m                 \u001b[1;32mreturn\u001b[0m \u001b[0mself\u001b[0m\u001b[1;33m.\u001b[0m\u001b[0m_engine\u001b[0m\u001b[1;33m.\u001b[0m\u001b[0mget_loc\u001b[0m\u001b[1;33m(\u001b[0m\u001b[0mkey\u001b[0m\u001b[1;33m)\u001b[0m\u001b[1;33m\u001b[0m\u001b[1;33m\u001b[0m\u001b[0m\n\u001b[0m\u001b[0;32m   2898\u001b[0m             \u001b[1;32mexcept\u001b[0m \u001b[0mKeyError\u001b[0m\u001b[1;33m:\u001b[0m\u001b[1;33m\u001b[0m\u001b[1;33m\u001b[0m\u001b[0m\n",
      "\u001b[1;32mpandas\\_libs\\index.pyx\u001b[0m in \u001b[0;36mpandas._libs.index.IndexEngine.get_loc\u001b[1;34m()\u001b[0m\n",
      "\u001b[1;32mpandas\\_libs\\index.pyx\u001b[0m in \u001b[0;36mpandas._libs.index.IndexEngine.get_loc\u001b[1;34m()\u001b[0m\n",
      "\u001b[1;32mpandas\\_libs\\hashtable_class_helper.pxi\u001b[0m in \u001b[0;36mpandas._libs.hashtable.PyObjectHashTable.get_item\u001b[1;34m()\u001b[0m\n",
      "\u001b[1;32mpandas\\_libs\\hashtable_class_helper.pxi\u001b[0m in \u001b[0;36mpandas._libs.hashtable.PyObjectHashTable.get_item\u001b[1;34m()\u001b[0m\n",
      "\u001b[1;31mKeyError\u001b[0m: 'rmean_28_14'",
      "\nDuring handling of the above exception, another exception occurred:\n",
      "\u001b[1;31mKeyError\u001b[0m                                  Traceback (most recent call last)",
      "\u001b[1;32m<ipython-input-39-46004cd4fbd3>\u001b[0m in \u001b[0;36m<module>\u001b[1;34m\u001b[0m\n\u001b[0;32m      5\u001b[0m        'std_demand', 'quantile025_week', 'max_weekday_demand', 'avg_price']\n\u001b[0;32m      6\u001b[0m \u001b[1;32mfor\u001b[0m \u001b[0mfeature\u001b[0m \u001b[1;32min\u001b[0m \u001b[0mnumerical_features\u001b[0m\u001b[1;33m:\u001b[0m\u001b[1;33m\u001b[0m\u001b[1;33m\u001b[0m\u001b[0m\n\u001b[1;32m----> 7\u001b[1;33m     \u001b[0mprint\u001b[0m\u001b[1;33m(\u001b[0m\u001b[1;34m\"{}: {}\"\u001b[0m\u001b[1;33m.\u001b[0m\u001b[0mformat\u001b[0m\u001b[1;33m(\u001b[0m\u001b[0mfeature\u001b[0m\u001b[1;33m,\u001b[0m \u001b[0mX_train\u001b[0m\u001b[1;33m[\u001b[0m\u001b[0mfeature\u001b[0m\u001b[1;33m]\u001b[0m\u001b[1;33m.\u001b[0m\u001b[0mcorr\u001b[0m\u001b[1;33m(\u001b[0m\u001b[0mX_train\u001b[0m\u001b[1;33m[\u001b[0m\u001b[1;34m'demand'\u001b[0m\u001b[1;33m]\u001b[0m\u001b[1;33m)\u001b[0m\u001b[1;33m)\u001b[0m\u001b[1;33m)\u001b[0m\u001b[1;33m\u001b[0m\u001b[1;33m\u001b[0m\u001b[0m\n\u001b[0m",
      "\u001b[1;32m~\\Anaconda3\\lib\\site-packages\\pandas\\core\\frame.py\u001b[0m in \u001b[0;36m__getitem__\u001b[1;34m(self, key)\u001b[0m\n\u001b[0;32m   2978\u001b[0m             \u001b[1;32mif\u001b[0m \u001b[0mself\u001b[0m\u001b[1;33m.\u001b[0m\u001b[0mcolumns\u001b[0m\u001b[1;33m.\u001b[0m\u001b[0mnlevels\u001b[0m \u001b[1;33m>\u001b[0m \u001b[1;36m1\u001b[0m\u001b[1;33m:\u001b[0m\u001b[1;33m\u001b[0m\u001b[1;33m\u001b[0m\u001b[0m\n\u001b[0;32m   2979\u001b[0m                 \u001b[1;32mreturn\u001b[0m \u001b[0mself\u001b[0m\u001b[1;33m.\u001b[0m\u001b[0m_getitem_multilevel\u001b[0m\u001b[1;33m(\u001b[0m\u001b[0mkey\u001b[0m\u001b[1;33m)\u001b[0m\u001b[1;33m\u001b[0m\u001b[1;33m\u001b[0m\u001b[0m\n\u001b[1;32m-> 2980\u001b[1;33m             \u001b[0mindexer\u001b[0m \u001b[1;33m=\u001b[0m \u001b[0mself\u001b[0m\u001b[1;33m.\u001b[0m\u001b[0mcolumns\u001b[0m\u001b[1;33m.\u001b[0m\u001b[0mget_loc\u001b[0m\u001b[1;33m(\u001b[0m\u001b[0mkey\u001b[0m\u001b[1;33m)\u001b[0m\u001b[1;33m\u001b[0m\u001b[1;33m\u001b[0m\u001b[0m\n\u001b[0m\u001b[0;32m   2981\u001b[0m             \u001b[1;32mif\u001b[0m \u001b[0mis_integer\u001b[0m\u001b[1;33m(\u001b[0m\u001b[0mindexer\u001b[0m\u001b[1;33m)\u001b[0m\u001b[1;33m:\u001b[0m\u001b[1;33m\u001b[0m\u001b[1;33m\u001b[0m\u001b[0m\n\u001b[0;32m   2982\u001b[0m                 \u001b[0mindexer\u001b[0m \u001b[1;33m=\u001b[0m \u001b[1;33m[\u001b[0m\u001b[0mindexer\u001b[0m\u001b[1;33m]\u001b[0m\u001b[1;33m\u001b[0m\u001b[1;33m\u001b[0m\u001b[0m\n",
      "\u001b[1;32m~\\Anaconda3\\lib\\site-packages\\pandas\\core\\indexes\\base.py\u001b[0m in \u001b[0;36mget_loc\u001b[1;34m(self, key, method, tolerance)\u001b[0m\n\u001b[0;32m   2897\u001b[0m                 \u001b[1;32mreturn\u001b[0m \u001b[0mself\u001b[0m\u001b[1;33m.\u001b[0m\u001b[0m_engine\u001b[0m\u001b[1;33m.\u001b[0m\u001b[0mget_loc\u001b[0m\u001b[1;33m(\u001b[0m\u001b[0mkey\u001b[0m\u001b[1;33m)\u001b[0m\u001b[1;33m\u001b[0m\u001b[1;33m\u001b[0m\u001b[0m\n\u001b[0;32m   2898\u001b[0m             \u001b[1;32mexcept\u001b[0m \u001b[0mKeyError\u001b[0m\u001b[1;33m:\u001b[0m\u001b[1;33m\u001b[0m\u001b[1;33m\u001b[0m\u001b[0m\n\u001b[1;32m-> 2899\u001b[1;33m                 \u001b[1;32mreturn\u001b[0m \u001b[0mself\u001b[0m\u001b[1;33m.\u001b[0m\u001b[0m_engine\u001b[0m\u001b[1;33m.\u001b[0m\u001b[0mget_loc\u001b[0m\u001b[1;33m(\u001b[0m\u001b[0mself\u001b[0m\u001b[1;33m.\u001b[0m\u001b[0m_maybe_cast_indexer\u001b[0m\u001b[1;33m(\u001b[0m\u001b[0mkey\u001b[0m\u001b[1;33m)\u001b[0m\u001b[1;33m)\u001b[0m\u001b[1;33m\u001b[0m\u001b[1;33m\u001b[0m\u001b[0m\n\u001b[0m\u001b[0;32m   2900\u001b[0m         \u001b[0mindexer\u001b[0m \u001b[1;33m=\u001b[0m \u001b[0mself\u001b[0m\u001b[1;33m.\u001b[0m\u001b[0mget_indexer\u001b[0m\u001b[1;33m(\u001b[0m\u001b[1;33m[\u001b[0m\u001b[0mkey\u001b[0m\u001b[1;33m]\u001b[0m\u001b[1;33m,\u001b[0m \u001b[0mmethod\u001b[0m\u001b[1;33m=\u001b[0m\u001b[0mmethod\u001b[0m\u001b[1;33m,\u001b[0m \u001b[0mtolerance\u001b[0m\u001b[1;33m=\u001b[0m\u001b[0mtolerance\u001b[0m\u001b[1;33m)\u001b[0m\u001b[1;33m\u001b[0m\u001b[1;33m\u001b[0m\u001b[0m\n\u001b[0;32m   2901\u001b[0m         \u001b[1;32mif\u001b[0m \u001b[0mindexer\u001b[0m\u001b[1;33m.\u001b[0m\u001b[0mndim\u001b[0m \u001b[1;33m>\u001b[0m \u001b[1;36m1\u001b[0m \u001b[1;32mor\u001b[0m \u001b[0mindexer\u001b[0m\u001b[1;33m.\u001b[0m\u001b[0msize\u001b[0m \u001b[1;33m>\u001b[0m \u001b[1;36m1\u001b[0m\u001b[1;33m:\u001b[0m\u001b[1;33m\u001b[0m\u001b[1;33m\u001b[0m\u001b[0m\n",
      "\u001b[1;32mpandas\\_libs\\index.pyx\u001b[0m in \u001b[0;36mpandas._libs.index.IndexEngine.get_loc\u001b[1;34m()\u001b[0m\n",
      "\u001b[1;32mpandas\\_libs\\index.pyx\u001b[0m in \u001b[0;36mpandas._libs.index.IndexEngine.get_loc\u001b[1;34m()\u001b[0m\n",
      "\u001b[1;32mpandas\\_libs\\hashtable_class_helper.pxi\u001b[0m in \u001b[0;36mpandas._libs.hashtable.PyObjectHashTable.get_item\u001b[1;34m()\u001b[0m\n",
      "\u001b[1;32mpandas\\_libs\\hashtable_class_helper.pxi\u001b[0m in \u001b[0;36mpandas._libs.hashtable.PyObjectHashTable.get_item\u001b[1;34m()\u001b[0m\n",
      "\u001b[1;31mKeyError\u001b[0m: 'rmean_28_14'"
     ]
    }
   ],
   "source": [
    "numerical_features = ['days_from_start', 'sell_price',\n",
    "       'lag_28', 'lag_29', 'lag_30', 'lag_31', 'lag_32', 'lag_33', 'lag_34',\n",
    "       'rmean_28_7', 'rmean_28_14',\n",
    "       'ADI', 'CV2', 'avg_weekday_demand', 'avg_demand', 'max_demand',\n",
    "       'std_demand', 'quantile025_week', 'max_weekday_demand', 'avg_price']\n",
    "for feature in numerical_features:\n",
    "    print(\"{}: {}\".format(feature, X_train[feature].corr(X_train['demand'])))"
   ]
  },
  {
   "cell_type": "code",
   "execution_count": null,
   "metadata": {},
   "outputs": [],
   "source": [
    "numerical_features = ['lag_28', 'lag_29', 'lag_30', 'lag_31', 'lag_32', 'lag_33', 'lag_34',\n",
    "       'rmean_28_7', 'rmean_28_14']\n",
    "X_train[numerical_features].corr()\n"
   ]
  },
  {
   "cell_type": "markdown",
   "metadata": {},
   "source": [
    "### Save by demand type"
   ]
  },
  {
   "cell_type": "code",
   "execution_count": 40,
   "metadata": {},
   "outputs": [
    {
     "name": "stdout",
     "output_type": "stream",
     "text": [
      "                                   id      item_id  dept_id cat_id store_id  \\\n",
      "44902646  FOODS_3_595_CA_1_validation  FOODS_3_595  FOODS_3  FOODS     CA_1   \n",
      "44933136  FOODS_3_595_CA_1_validation  FOODS_3_595  FOODS_3  FOODS     CA_1   \n",
      "44963626  FOODS_3_595_CA_1_validation  FOODS_3_595  FOODS_3  FOODS     CA_1   \n",
      "44994116  FOODS_3_595_CA_1_validation  FOODS_3_595  FOODS_3  FOODS     CA_1   \n",
      "45024606  FOODS_3_595_CA_1_validation  FOODS_3_595  FOODS_3  FOODS     CA_1   \n",
      "45055096  FOODS_3_595_CA_1_validation  FOODS_3_595  FOODS_3  FOODS     CA_1   \n",
      "45085586  FOODS_3_595_CA_1_validation  FOODS_3_595  FOODS_3  FOODS     CA_1   \n",
      "45116076  FOODS_3_595_CA_1_validation  FOODS_3_595  FOODS_3  FOODS     CA_1   \n",
      "45146566  FOODS_3_595_CA_1_validation  FOODS_3_595  FOODS_3  FOODS     CA_1   \n",
      "\n",
      "         state_id       d  demand       date    weekday  ...       CV2  \\\n",
      "44902646       CA  d_1877       5 2016-03-19   Saturday  ...  0.532544   \n",
      "44933136       CA  d_1878       2 2016-03-20     Sunday  ...  0.532544   \n",
      "44963626       CA  d_1879       1 2016-03-21     Monday  ...  0.532544   \n",
      "44994116       CA  d_1880       2 2016-03-22    Tuesday  ...  0.532544   \n",
      "45024606       CA  d_1881       0 2016-03-23  Wednesday  ...  0.532544   \n",
      "45055096       CA  d_1882       1 2016-03-24   Thursday  ...  0.532544   \n",
      "45085586       CA  d_1883       0 2016-03-25     Friday  ...  0.532544   \n",
      "45116076       CA  d_1884       1 2016-03-26   Saturday  ...  0.532544   \n",
      "45146566       CA  d_1885       1 2016-03-27     Sunday  ...  0.532544   \n",
      "\n",
      "         demand_type avg_weekday_demand  avg_demand max_demand std_demand  \\\n",
      "44902646     erratic                3.0    1.444444          5   1.509231   \n",
      "44933136     erratic                1.5    1.444444          5   1.509231   \n",
      "44963626     erratic                1.0    1.444444          5   1.509231   \n",
      "44994116     erratic                2.0    1.444444          5   1.509231   \n",
      "45024606     erratic                0.0    1.444444          5   1.509231   \n",
      "45055096     erratic                1.0    1.444444          5   1.509231   \n",
      "45085586     erratic                0.0    1.444444          5   1.509231   \n",
      "45116076     erratic                3.0    1.444444          5   1.509231   \n",
      "45146566     erratic                1.5    1.444444          5   1.509231   \n",
      "\n",
      "          quantile025_week  max_weekday_demand  avg_price cheaper_than_usual  \n",
      "44902646              2.00                   5   1.980469              False  \n",
      "44933136              1.25                   2   1.980469              False  \n",
      "44963626              1.00                   1   1.980469              False  \n",
      "44994116              2.00                   2   1.980469              False  \n",
      "45024606              0.00                   0   1.980469              False  \n",
      "45055096              1.00                   1   1.980469              False  \n",
      "45085586              0.00                   0   1.980469              False  \n",
      "45116076              2.00                   5   1.980469              False  \n",
      "45146566              1.25                   2   1.980469              False  \n",
      "\n",
      "[9 rows x 44 columns]\n"
     ]
    }
   ],
   "source": [
    "print(X_train[X_train['id'] == 'FOODS_3_595_CA_1_validation'])\n",
    "#print(X_val[X_val['id'] == 'FOODS_3_595_CA_1_validation'])\n",
    "#print(X_test[X_test['id'] == 'FOODS_3_595_CA_1_validation'])"
   ]
  },
  {
   "cell_type": "code",
   "execution_count": 41,
   "metadata": {},
   "outputs": [
    {
     "name": "stdout",
     "output_type": "stream",
     "text": [
      "smooth\n",
      "\n",
      "erratic\n",
      "\n",
      "lumpy\n",
      "\n",
      "intermittent\n",
      "\n"
     ]
    }
   ],
   "source": [
    "X_train = X_train.dropna()\n",
    "for i in ['smooth', 'erratic', 'lumpy', 'intermittent']:\n",
    "    print(i)\n",
    "    X_val[X_val['demand_type'] == i].to_pickle(\"../01_preprocessed_data/X_val_{}.pkl\".format(i))\n",
    "    X_train[X_train['demand_type'] == i].to_pickle(\"../01_preprocessed_data/X_train_{}.pkl\".format(i))\n",
    "    X_test[X_test['demand_type'] == i].to_pickle(\"../01_preprocessed_data/X_test_{}.pkl\".format(i))\n",
    "    print()"
   ]
  },
  {
   "cell_type": "code",
   "execution_count": 42,
   "metadata": {},
   "outputs": [
    {
     "data": {
      "text/plain": [
       "Index(['id', 'item_id', 'dept_id', 'cat_id', 'store_id', 'state_id', 'd',\n",
       "       'demand', 'date', 'weekday', 'month', 'event_name_1', 'event_type_1',\n",
       "       'year', 'event_name_2', 'event_type_2', 'snap_CA', 'snap_TX', 'snap_WI',\n",
       "       'start_date', 'days_from_start', 'start_date_from_start', 'sell_price',\n",
       "       'lag_28', 'lag_29', 'lag_30', 'lag_31', 'lag_32', 'lag_33', 'lag_34',\n",
       "       'lag_35', 'rmean_28_3', 'rmean_28_7', 'ADI', 'CV2', 'demand_type',\n",
       "       'avg_price', 'avg_demand', 'max_demand', 'std_demand',\n",
       "       'avg_weekday_demand', 'quantile025_week', 'max_weekday_demand',\n",
       "       'cheaper_than_usual'],\n",
       "      dtype='object')"
      ]
     },
     "execution_count": 42,
     "metadata": {},
     "output_type": "execute_result"
    }
   ],
   "source": [
    "X_test.columns"
   ]
  },
  {
   "cell_type": "code",
   "execution_count": null,
   "metadata": {},
   "outputs": [],
   "source": []
  }
 ],
 "metadata": {
  "kernelspec": {
   "display_name": "Python 3",
   "language": "python",
   "name": "python3"
  },
  "language_info": {
   "codemirror_mode": {
    "name": "ipython",
    "version": 3
   },
   "file_extension": ".py",
   "mimetype": "text/x-python",
   "name": "python",
   "nbconvert_exporter": "python",
   "pygments_lexer": "ipython3",
   "version": "3.7.4"
  }
 },
 "nbformat": 4,
 "nbformat_minor": 2
}
