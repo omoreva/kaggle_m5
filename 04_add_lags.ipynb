{
 "cells": [
  {
   "cell_type": "code",
   "execution_count": 1,
   "metadata": {},
   "outputs": [],
   "source": [
    "import pandas as pd\n",
    "import numpy as np\n",
    "from datetime  import datetime  \n",
    "from datetime import timedelta  \n",
    "import lightgbm as lgb\n",
    "from sklearn import preprocessing, metrics\n",
    "from sklearn.model_selection import ParameterGrid\n",
    "import matplotlib.pyplot as plt\n",
    "import seaborn as sns\n",
    "import mlflow\n",
    "import mlflow.lightgbm"
   ]
  },
  {
   "cell_type": "code",
   "execution_count": 2,
   "metadata": {},
   "outputs": [],
   "source": [
    "X = pd.read_pickle('../01_preprocessed_data/X.pkl')"
   ]
  },
  {
   "cell_type": "code",
   "execution_count": 3,
   "metadata": {},
   "outputs": [
    {
     "data": {
      "text/html": [
       "<div>\n",
       "<style scoped>\n",
       "    .dataframe tbody tr th:only-of-type {\n",
       "        vertical-align: middle;\n",
       "    }\n",
       "\n",
       "    .dataframe tbody tr th {\n",
       "        vertical-align: top;\n",
       "    }\n",
       "\n",
       "    .dataframe thead th {\n",
       "        text-align: right;\n",
       "    }\n",
       "</style>\n",
       "<table border=\"1\" class=\"dataframe\">\n",
       "  <thead>\n",
       "    <tr style=\"text-align: right;\">\n",
       "      <th></th>\n",
       "      <th>d</th>\n",
       "      <th>days_from_start</th>\n",
       "    </tr>\n",
       "  </thead>\n",
       "  <tbody>\n",
       "    <tr>\n",
       "      <td>700176</td>\n",
       "      <td>d_56</td>\n",
       "      <td>55</td>\n",
       "    </tr>\n",
       "    <tr>\n",
       "      <td>700177</td>\n",
       "      <td>d_56</td>\n",
       "      <td>55</td>\n",
       "    </tr>\n",
       "    <tr>\n",
       "      <td>700178</td>\n",
       "      <td>d_56</td>\n",
       "      <td>55</td>\n",
       "    </tr>\n",
       "    <tr>\n",
       "      <td>700179</td>\n",
       "      <td>d_56</td>\n",
       "      <td>55</td>\n",
       "    </tr>\n",
       "    <tr>\n",
       "      <td>700180</td>\n",
       "      <td>d_56</td>\n",
       "      <td>55</td>\n",
       "    </tr>\n",
       "    <tr>\n",
       "      <td>...</td>\n",
       "      <td>...</td>\n",
       "      <td>...</td>\n",
       "    </tr>\n",
       "    <tr>\n",
       "      <td>853715</td>\n",
       "      <td>d_1941</td>\n",
       "      <td>1940</td>\n",
       "    </tr>\n",
       "    <tr>\n",
       "      <td>853716</td>\n",
       "      <td>d_1941</td>\n",
       "      <td>1940</td>\n",
       "    </tr>\n",
       "    <tr>\n",
       "      <td>853717</td>\n",
       "      <td>d_1941</td>\n",
       "      <td>1940</td>\n",
       "    </tr>\n",
       "    <tr>\n",
       "      <td>853718</td>\n",
       "      <td>d_1941</td>\n",
       "      <td>1940</td>\n",
       "    </tr>\n",
       "    <tr>\n",
       "      <td>853719</td>\n",
       "      <td>d_1941</td>\n",
       "      <td>1940</td>\n",
       "    </tr>\n",
       "  </tbody>\n",
       "</table>\n",
       "<p>45204727 rows × 2 columns</p>\n",
       "</div>"
      ],
      "text/plain": [
       "             d  days_from_start\n",
       "700176    d_56               55\n",
       "700177    d_56               55\n",
       "700178    d_56               55\n",
       "700179    d_56               55\n",
       "700180    d_56               55\n",
       "...        ...              ...\n",
       "853715  d_1941             1940\n",
       "853716  d_1941             1940\n",
       "853717  d_1941             1940\n",
       "853718  d_1941             1940\n",
       "853719  d_1941             1940\n",
       "\n",
       "[45204727 rows x 2 columns]"
      ]
     },
     "execution_count": 3,
     "metadata": {},
     "output_type": "execute_result"
    }
   ],
   "source": [
    "X[['d', 'days_from_start']]"
   ]
  },
  {
   "cell_type": "code",
   "execution_count": 4,
   "metadata": {},
   "outputs": [],
   "source": [
    "lags = [1, 2, 3, 4, 5, 6, 7]\n",
    "lag_cols = [f\"lag_{lag}\" for lag in lags ]\n",
    "for lag, lag_col in zip(lags, lag_cols):\n",
    "    X[lag_col] = X.groupby(\"id\")[\"demand\"].shift(lag)\n"
   ]
  },
  {
   "cell_type": "code",
   "execution_count": 5,
   "metadata": {},
   "outputs": [],
   "source": [
    "lags = [1, 2, 3, 4, 5, 6, 7, 28]\n",
    "windows = [7, 28, 30, 31]\n",
    "for window in windows:\n",
    "    for lag,lag_col in zip(lags, lag_cols):\n",
    "        X[f\"rmean_{lag}_{window}\"] = X[[\"id\", lag_col]].groupby(\"id\")[lag_col].transform(lambda x : x.rolling(window).mean())"
   ]
  },
  {
   "cell_type": "code",
   "execution_count": 6,
   "metadata": {},
   "outputs": [
    {
     "data": {
      "text/plain": [
       "Index(['id', 'item_id', 'dept_id', 'cat_id', 'store_id', 'state_id', 'd',\n",
       "       'demand', 'date', 'weekday', 'month', 'event_name_1', 'event_type_1',\n",
       "       'year', 'event_name_2', 'event_type_2', 'snap_CA', 'snap_TX', 'snap_WI',\n",
       "       'start_date', 'days_from_start', 'start_date_from_start', 'sell_price',\n",
       "       'ADI', 'CV2', 'demand_type', 'avg_weekday_demand', 'avg_demand',\n",
       "       'max_demand', 'quantile025_week', 'max_weekday_demand', 'avg_price',\n",
       "       'cheaper_than_usual', 'lag_28', 'lag_29', 'lag_35', 'rmean_28_7',\n",
       "       'rmean_28_28', 'lag_1', 'lag_2', 'lag_3', 'lag_4', 'lag_5', 'lag_6',\n",
       "       'lag_7', 'rmean_1_7', 'rmean_2_7', 'rmean_3_7', 'rmean_4_7',\n",
       "       'rmean_5_7', 'rmean_6_7', 'rmean_7_7', 'rmean_1_28', 'rmean_2_28',\n",
       "       'rmean_3_28', 'rmean_4_28', 'rmean_5_28', 'rmean_6_28', 'rmean_7_28',\n",
       "       'rmean_1_30', 'rmean_2_30', 'rmean_3_30', 'rmean_4_30', 'rmean_5_30',\n",
       "       'rmean_6_30', 'rmean_7_30', 'rmean_1_31', 'rmean_2_31', 'rmean_3_31',\n",
       "       'rmean_4_31', 'rmean_5_31', 'rmean_6_31', 'rmean_7_31'],\n",
       "      dtype='object')"
      ]
     },
     "execution_count": 6,
     "metadata": {},
     "output_type": "execute_result"
    }
   ],
   "source": [
    "X.columns"
   ]
  },
  {
   "cell_type": "code",
   "execution_count": 7,
   "metadata": {},
   "outputs": [],
   "source": [
    "first_day = pd.Timestamp(X['date'].values.min())\n",
    "last_day = pd.Timestamp(X['date'].values.max())\n",
    "\n"
   ]
  },
  {
   "cell_type": "code",
   "execution_count": 8,
   "metadata": {},
   "outputs": [],
   "source": [
    "last_X_day = pd.Timestamp(X.date.values.max())"
   ]
  },
  {
   "cell_type": "code",
   "execution_count": 9,
   "metadata": {},
   "outputs": [
    {
     "data": {
      "text/plain": [
       "Timestamp('2016-05-22 00:00:00')"
      ]
     },
     "execution_count": 9,
     "metadata": {},
     "output_type": "execute_result"
    }
   ],
   "source": [
    "last_X_day"
   ]
  },
  {
   "cell_type": "code",
   "execution_count": 10,
   "metadata": {},
   "outputs": [],
   "source": [
    "first_train_day = first_day + timedelta(days = 365)\n",
    "n_days = last_day-first_train_day\n",
    "n_days = n_days.days\n",
    "n_val_days = 28# round(n_days*val_size)\n",
    "n_test_days = 28\n",
    "first_val_day = first_train_day + timedelta(days = n_days - n_val_days - n_test_days + 1)\n",
    "first_test_day = first_val_day +  timedelta(days = n_test_days)"
   ]
  },
  {
   "cell_type": "code",
   "execution_count": 11,
   "metadata": {},
   "outputs": [
    {
     "data": {
      "text/plain": [
       "Timedelta('1465 days 00:00:00')"
      ]
     },
     "execution_count": 11,
     "metadata": {},
     "output_type": "execute_result"
    }
   ],
   "source": [
    "first_val_day - first_train_day"
   ]
  },
  {
   "cell_type": "code",
   "execution_count": 12,
   "metadata": {},
   "outputs": [
    {
     "data": {
      "text/plain": [
       "Timedelta('-27 days +00:00:00')"
      ]
     },
     "execution_count": 12,
     "metadata": {},
     "output_type": "execute_result"
    }
   ],
   "source": [
    "first_test_day - last_day"
   ]
  },
  {
   "cell_type": "code",
   "execution_count": 13,
   "metadata": {},
   "outputs": [],
   "source": [
    "X_1_train = X[(X['date'] < first_val_day) & (X['date'] >= first_train_day) ]\n",
    "y_1_train = X_1_train[['demand']]\n",
    "X_1_val = X[(X['date'] >= first_val_day) & (X['date'] < first_test_day)]\n",
    "y_1_val = X_1_val[['demand']]\n",
    "X_1_test = X[X['date'] >= first_test_day]"
   ]
  },
  {
   "cell_type": "code",
   "execution_count": 14,
   "metadata": {},
   "outputs": [
    {
     "name": "stdout",
     "output_type": "stream",
     "text": [
      "2016-05-22 00:00:00\n",
      "2016-04-25 00:00:00\n"
     ]
    }
   ],
   "source": [
    "print(pd.Timestamp(X_1_test['date'].values.max()) )\n",
    "print(pd.Timestamp(X_1_test['date'].values.min()))"
   ]
  },
  {
   "cell_type": "code",
   "execution_count": 15,
   "metadata": {},
   "outputs": [
    {
     "data": {
      "text/html": [
       "<div>\n",
       "<style scoped>\n",
       "    .dataframe tbody tr th:only-of-type {\n",
       "        vertical-align: middle;\n",
       "    }\n",
       "\n",
       "    .dataframe tbody tr th {\n",
       "        vertical-align: top;\n",
       "    }\n",
       "\n",
       "    .dataframe thead th {\n",
       "        text-align: right;\n",
       "    }\n",
       "</style>\n",
       "<table border=\"1\" class=\"dataframe\">\n",
       "  <thead>\n",
       "    <tr style=\"text-align: right;\">\n",
       "      <th></th>\n",
       "      <th>d</th>\n",
       "      <th>days_from_start</th>\n",
       "    </tr>\n",
       "  </thead>\n",
       "  <tbody>\n",
       "    <tr>\n",
       "      <td>0</td>\n",
       "      <td>d_1914</td>\n",
       "      <td>1913</td>\n",
       "    </tr>\n",
       "    <tr>\n",
       "      <td>1</td>\n",
       "      <td>d_1914</td>\n",
       "      <td>1913</td>\n",
       "    </tr>\n",
       "    <tr>\n",
       "      <td>2</td>\n",
       "      <td>d_1914</td>\n",
       "      <td>1913</td>\n",
       "    </tr>\n",
       "    <tr>\n",
       "      <td>3</td>\n",
       "      <td>d_1914</td>\n",
       "      <td>1913</td>\n",
       "    </tr>\n",
       "    <tr>\n",
       "      <td>4</td>\n",
       "      <td>d_1914</td>\n",
       "      <td>1913</td>\n",
       "    </tr>\n",
       "    <tr>\n",
       "      <td>...</td>\n",
       "      <td>...</td>\n",
       "      <td>...</td>\n",
       "    </tr>\n",
       "    <tr>\n",
       "      <td>853715</td>\n",
       "      <td>d_1941</td>\n",
       "      <td>1940</td>\n",
       "    </tr>\n",
       "    <tr>\n",
       "      <td>853716</td>\n",
       "      <td>d_1941</td>\n",
       "      <td>1940</td>\n",
       "    </tr>\n",
       "    <tr>\n",
       "      <td>853717</td>\n",
       "      <td>d_1941</td>\n",
       "      <td>1940</td>\n",
       "    </tr>\n",
       "    <tr>\n",
       "      <td>853718</td>\n",
       "      <td>d_1941</td>\n",
       "      <td>1940</td>\n",
       "    </tr>\n",
       "    <tr>\n",
       "      <td>853719</td>\n",
       "      <td>d_1941</td>\n",
       "      <td>1940</td>\n",
       "    </tr>\n",
       "  </tbody>\n",
       "</table>\n",
       "<p>853720 rows × 2 columns</p>\n",
       "</div>"
      ],
      "text/plain": [
       "             d  days_from_start\n",
       "0       d_1914             1913\n",
       "1       d_1914             1913\n",
       "2       d_1914             1913\n",
       "3       d_1914             1913\n",
       "4       d_1914             1913\n",
       "...        ...              ...\n",
       "853715  d_1941             1940\n",
       "853716  d_1941             1940\n",
       "853717  d_1941             1940\n",
       "853718  d_1941             1940\n",
       "853719  d_1941             1940\n",
       "\n",
       "[853720 rows x 2 columns]"
      ]
     },
     "execution_count": 15,
     "metadata": {},
     "output_type": "execute_result"
    }
   ],
   "source": [
    "X_1_test[['d', 'days_from_start']]"
   ]
  },
  {
   "cell_type": "code",
   "execution_count": 16,
   "metadata": {},
   "outputs": [
    {
     "name": "stdout",
     "output_type": "stream",
     "text": [
      "(37915775, 73)\n",
      "(37915775, 1)\n",
      "(853632, 73)\n",
      "(853632, 1)\n",
      "(853720, 73)\n"
     ]
    }
   ],
   "source": [
    "print(X_1_train.shape)\n",
    "print(y_1_train.shape)\n",
    "print(X_1_val.shape)\n",
    "print(y_1_val.shape)\n",
    "print(X_1_test.shape)"
   ]
  },
  {
   "cell_type": "code",
   "execution_count": 17,
   "metadata": {},
   "outputs": [],
   "source": [
    "del X"
   ]
  },
  {
   "cell_type": "code",
   "execution_count": 18,
   "metadata": {},
   "outputs": [],
   "source": [
    "X_1_val.to_pickle(\"../01_preprocessed_data/X_1_val.pkl\")\n",
    "y_1_val.to_pickle(\"../01_preprocessed_data/y_1_val.pkl\")\n",
    "del X_1_val, y_1_val"
   ]
  },
  {
   "cell_type": "code",
   "execution_count": 19,
   "metadata": {},
   "outputs": [],
   "source": [
    "X_1_test.to_pickle(\"../01_preprocessed_data/X_1_test.pkl\")\n",
    "del X_1_test"
   ]
  },
  {
   "cell_type": "code",
   "execution_count": 20,
   "metadata": {},
   "outputs": [],
   "source": [
    "X_1_train.to_pickle(\"../01_preprocessed_data/X_1_train.pkl\")\n",
    "y_1_train.to_pickle(\"../01_preprocessed_data/y_1_train.pkl\")\n",
    "del X_1_train, y_1_train"
   ]
  },
  {
   "cell_type": "code",
   "execution_count": null,
   "metadata": {},
   "outputs": [],
   "source": []
  },
  {
   "cell_type": "code",
   "execution_count": null,
   "metadata": {},
   "outputs": [],
   "source": []
  }
 ],
 "metadata": {
  "kernelspec": {
   "display_name": "Python 3",
   "language": "python",
   "name": "python3"
  },
  "language_info": {
   "codemirror_mode": {
    "name": "ipython",
    "version": 3
   },
   "file_extension": ".py",
   "mimetype": "text/x-python",
   "name": "python",
   "nbconvert_exporter": "python",
   "pygments_lexer": "ipython3",
   "version": "3.7.4"
  }
 },
 "nbformat": 4,
 "nbformat_minor": 2
}
