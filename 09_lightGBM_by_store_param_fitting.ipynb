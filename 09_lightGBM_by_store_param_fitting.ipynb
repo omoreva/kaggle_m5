{
  "nbformat": 4,
  "nbformat_minor": 0,
  "metadata": {
    "kernelspec": {
      "display_name": "Python 3",
      "language": "python",
      "name": "python3"
    },
    "language_info": {
      "codemirror_mode": {
        "name": "ipython",
        "version": 3
      },
      "file_extension": ".py",
      "mimetype": "text/x-python",
      "name": "python",
      "nbconvert_exporter": "python",
      "pygments_lexer": "ipython3",
      "version": "3.7.4"
    },
    "colab": {
      "name": "07_lightGBM_demand_type.ipynb",
      "provenance": []
    }
  },
  "cells": [
    {
      "cell_type": "code",
      "metadata": {
        "id": "jW8-zNCCabFC",
        "colab_type": "code",
        "colab": {
          "base_uri": "https://localhost:8080/",
          "height": 804
        },
        "outputId": "648738ec-d1df-4e6f-ff84-67650e0db6cb"
      },
      "source": [
        "!pip install mlflow"
      ],
      "execution_count": 6,
      "outputs": [
        {
          "output_type": "stream",
          "text": [
            "Requirement already satisfied: mlflow in /usr/local/lib/python3.6/dist-packages (1.8.0)\n",
            "Requirement already satisfied: cloudpickle in /usr/local/lib/python3.6/dist-packages (from mlflow) (1.3.0)\n",
            "Requirement already satisfied: numpy in /usr/local/lib/python3.6/dist-packages (from mlflow) (1.18.3)\n",
            "Requirement already satisfied: sqlparse in /usr/local/lib/python3.6/dist-packages (from mlflow) (0.3.1)\n",
            "Requirement already satisfied: databricks-cli>=0.8.7 in /usr/local/lib/python3.6/dist-packages (from mlflow) (0.10.0)\n",
            "Requirement already satisfied: click>=7.0 in /usr/local/lib/python3.6/dist-packages (from mlflow) (7.1.2)\n",
            "Requirement already satisfied: gunicorn; platform_system != \"Windows\" in /usr/local/lib/python3.6/dist-packages (from mlflow) (20.0.4)\n",
            "Requirement already satisfied: requests>=2.17.3 in /usr/local/lib/python3.6/dist-packages (from mlflow) (2.23.0)\n",
            "Requirement already satisfied: alembic in /usr/local/lib/python3.6/dist-packages (from mlflow) (1.4.2)\n",
            "Requirement already satisfied: entrypoints in /usr/local/lib/python3.6/dist-packages (from mlflow) (0.3)\n",
            "Requirement already satisfied: gorilla in /usr/local/lib/python3.6/dist-packages (from mlflow) (0.3.0)\n",
            "Requirement already satisfied: python-dateutil in /usr/local/lib/python3.6/dist-packages (from mlflow) (2.8.1)\n",
            "Requirement already satisfied: sqlalchemy<=1.3.13 in /usr/local/lib/python3.6/dist-packages (from mlflow) (1.3.13)\n",
            "Requirement already satisfied: Flask in /usr/local/lib/python3.6/dist-packages (from mlflow) (1.1.2)\n",
            "Requirement already satisfied: pandas in /usr/local/lib/python3.6/dist-packages (from mlflow) (1.0.3)\n",
            "Requirement already satisfied: pyyaml in /usr/local/lib/python3.6/dist-packages (from mlflow) (3.13)\n",
            "Requirement already satisfied: gitpython>=2.1.0 in /usr/local/lib/python3.6/dist-packages (from mlflow) (3.1.2)\n",
            "Requirement already satisfied: protobuf>=3.6.0 in /usr/local/lib/python3.6/dist-packages (from mlflow) (3.10.0)\n",
            "Requirement already satisfied: docker>=4.0.0 in /usr/local/lib/python3.6/dist-packages (from mlflow) (4.2.0)\n",
            "Requirement already satisfied: six>=1.10.0 in /usr/local/lib/python3.6/dist-packages (from mlflow) (1.12.0)\n",
            "Requirement already satisfied: prometheus-flask-exporter in /usr/local/lib/python3.6/dist-packages (from mlflow) (0.13.0)\n",
            "Requirement already satisfied: simplejson in /usr/local/lib/python3.6/dist-packages (from mlflow) (3.17.0)\n",
            "Requirement already satisfied: querystring-parser in /usr/local/lib/python3.6/dist-packages (from mlflow) (1.2.4)\n",
            "Requirement already satisfied: configparser>=0.3.5 in /usr/local/lib/python3.6/dist-packages (from databricks-cli>=0.8.7->mlflow) (5.0.0)\n",
            "Requirement already satisfied: tabulate>=0.7.7 in /usr/local/lib/python3.6/dist-packages (from databricks-cli>=0.8.7->mlflow) (0.8.7)\n",
            "Requirement already satisfied: setuptools>=3.0 in /usr/local/lib/python3.6/dist-packages (from gunicorn; platform_system != \"Windows\"->mlflow) (46.1.3)\n",
            "Requirement already satisfied: chardet<4,>=3.0.2 in /usr/local/lib/python3.6/dist-packages (from requests>=2.17.3->mlflow) (3.0.4)\n",
            "Requirement already satisfied: certifi>=2017.4.17 in /usr/local/lib/python3.6/dist-packages (from requests>=2.17.3->mlflow) (2020.4.5.1)\n",
            "Requirement already satisfied: idna<3,>=2.5 in /usr/local/lib/python3.6/dist-packages (from requests>=2.17.3->mlflow) (2.9)\n",
            "Requirement already satisfied: urllib3!=1.25.0,!=1.25.1,<1.26,>=1.21.1 in /usr/local/lib/python3.6/dist-packages (from requests>=2.17.3->mlflow) (1.24.3)\n",
            "Requirement already satisfied: Mako in /usr/local/lib/python3.6/dist-packages (from alembic->mlflow) (1.1.2)\n",
            "Requirement already satisfied: python-editor>=0.3 in /usr/local/lib/python3.6/dist-packages (from alembic->mlflow) (1.0.4)\n",
            "Requirement already satisfied: Jinja2>=2.10.1 in /usr/local/lib/python3.6/dist-packages (from Flask->mlflow) (2.11.2)\n",
            "Requirement already satisfied: Werkzeug>=0.15 in /usr/local/lib/python3.6/dist-packages (from Flask->mlflow) (1.0.1)\n",
            "Requirement already satisfied: itsdangerous>=0.24 in /usr/local/lib/python3.6/dist-packages (from Flask->mlflow) (1.1.0)\n",
            "Requirement already satisfied: pytz>=2017.2 in /usr/local/lib/python3.6/dist-packages (from pandas->mlflow) (2018.9)\n",
            "Requirement already satisfied: gitdb<5,>=4.0.1 in /usr/local/lib/python3.6/dist-packages (from gitpython>=2.1.0->mlflow) (4.0.5)\n",
            "Requirement already satisfied: websocket-client>=0.32.0 in /usr/local/lib/python3.6/dist-packages (from docker>=4.0.0->mlflow) (0.57.0)\n",
            "Requirement already satisfied: prometheus-client in /usr/local/lib/python3.6/dist-packages (from prometheus-flask-exporter->mlflow) (0.7.1)\n",
            "Requirement already satisfied: MarkupSafe>=0.9.2 in /usr/local/lib/python3.6/dist-packages (from Mako->alembic->mlflow) (1.1.1)\n",
            "Requirement already satisfied: smmap<4,>=3.0.1 in /usr/local/lib/python3.6/dist-packages (from gitdb<5,>=4.0.1->gitpython>=2.1.0->mlflow) (3.0.4)\n"
          ],
          "name": "stdout"
        }
      ]
    },
    {
      "cell_type": "code",
      "metadata": {
        "id": "rSXHr9PKa2zQ",
        "colab_type": "code",
        "colab": {
          "base_uri": "https://localhost:8080/",
          "height": 36
        },
        "outputId": "e6c7650e-716f-45d5-cb7d-4eb199f36fdb"
      },
      "source": [
        "from google.colab import drive\n",
        "drive.mount('/content/drive')"
      ],
      "execution_count": 7,
      "outputs": [
        {
          "output_type": "stream",
          "text": [
            "Drive already mounted at /content/drive; to attempt to forcibly remount, call drive.mount(\"/content/drive\", force_remount=True).\n"
          ],
          "name": "stdout"
        }
      ]
    },
    {
      "cell_type": "code",
      "metadata": {
        "id": "RU5EEyZHYShR",
        "colab_type": "code",
        "colab": {}
      },
      "source": [
        "import pandas as pd\n",
        "import numpy as np\n",
        "from datetime  import datetime  \n",
        "from datetime import timedelta  \n",
        "import lightgbm as lgb\n",
        "from sklearn import preprocessing, metrics\n",
        "from sklearn.model_selection import ParameterGrid\n",
        "import matplotlib.pyplot as plt\n",
        "import seaborn as sns\n",
        "import mlflow\n",
        "import mlflow.lightgbm\n",
        "import seaborn as sns"
      ],
      "execution_count": 0,
      "outputs": []
    },
    {
      "cell_type": "code",
      "metadata": {
        "id": "jIh3bs2K3m7R",
        "colab_type": "code",
        "colab": {}
      },
      "source": [
        "np.random.seed(0)"
      ],
      "execution_count": 0,
      "outputs": []
    },
    {
      "cell_type": "code",
      "metadata": {
        "id": "oGmPdLayYShf",
        "colab_type": "code",
        "colab": {}
      },
      "source": [
        "data_folder = '/content/drive/My Drive/Kaggle_M5/00_data/'\n",
        "submission = pd.read_csv(data_folder + 'sample_submission.csv')"
      ],
      "execution_count": 0,
      "outputs": []
    },
    {
      "cell_type": "code",
      "metadata": {
        "id": "sajf_2UrYShr",
        "colab_type": "code",
        "colab": {}
      },
      "source": [
        "params = {\n",
        "        'boosting_type': 'gbdt',\n",
        "        'metric': 'rmse',\n",
        "        'objective':  'tweedie',\n",
        "        'n_jobs': -1,\n",
        "        'seed': 0,\n",
        "        'learning_rate': 0.05, \n",
        "        'bagging_fraction': 0.9,\n",
        "        'bagging_freq': 1, \n",
        "        'colsample_bytree': 0.75,\n",
        "        'num_iterations': 5000,\n",
        "        'early_stopping_round': 500,\n",
        "        'max_bin': 100,\n",
        "        'boost_from_average': False}"
      ],
      "execution_count": 0,
      "outputs": []
    },
    {
      "cell_type": "code",
      "metadata": {
        "id": "cfv8X1jUa8UO",
        "colab_type": "code",
        "colab": {}
      },
      "source": [
        "params = {'bagging_fraction': 0.5, \n",
        "          'bagging_freq': 10, \n",
        "          'boosting_type': 'gbdt', \n",
        "          'colsample_bytree': 0.75, \n",
        "          'early_stopping_round': 500, \n",
        "          'learning_rate': 0.05, \n",
        "          'metric': 'rmse', \n",
        "          'n_jobs': -1, \n",
        "          'num_iterations': 5000, \n",
        "          'early_stopping_round': 500,         \n",
        "          'objective': 'tweedie', \n",
        "          'seed': 0}"
      ],
      "execution_count": 0,
      "outputs": []
    },
    {
      "cell_type": "code",
      "metadata": {
        "id": "2iqdipBlwuBw",
        "colab_type": "code",
        "colab": {}
      },
      "source": [
        "param_grid = {'boosting_type': ['gbdt', 'dart'],\n",
        "        'metric': ['rmse'],\n",
        "        'objective': ['poisson', 'tweedie'],\n",
        "        'n_jobs': [-1],\n",
        "        'seed': [0],\n",
        "        'learning_rate':  [0.05, 0.075],\n",
        "        'bagging_fraction': [0.75],\n",
        "        'bagging_freq': [5, 10], \n",
        "        'colsample_bytree': [0.75],\n",
        "        'num_iterations': [5000],\n",
        "        'early_stopping_round': [500]}"
      ],
      "execution_count": 0,
      "outputs": []
    },
    {
      "cell_type": "code",
      "metadata": {
        "id": "Iw6qv9FaYSh9",
        "colab_type": "code",
        "colab": {}
      },
      "source": [
        "evaluation_rows = [row for row in submission['id'] if 'evaluation' in row] \n",
        "evaluation = submission[submission['id'].isin(evaluation_rows)]\n",
        "\n",
        "validation_rows = [row for row in submission['id'] if 'validation' in row] \n",
        "validation_csv = submission[submission['id'].isin(validation_rows)]\n"
      ],
      "execution_count": 0,
      "outputs": []
    },
    {
      "cell_type": "code",
      "metadata": {
        "id": "blDaEKjmcZTm",
        "colab_type": "code",
        "colab": {}
      },
      "source": [
        "not_features = ['d', 'id', 'item_id', 'store_id', 'demand', 'date', 'start_date']"
      ],
      "execution_count": 0,
      "outputs": []
    },
    {
      "cell_type": "code",
      "metadata": {
        "id": "U_LDEPjdYSiY",
        "colab_type": "code",
        "outputId": "808b643b-2443-4e57-8c55-2bf55ca5587f",
        "colab": {
          "base_uri": "https://localhost:8080/",
          "height": 1000
        }
      },
      "source": [
        "validation = pd.DataFrame(columns=submission.columns)\n",
        "data_folder = '/content/drive/My Drive/Kaggle_M5/01_preprocessed_data/'\n",
        "\n",
        "overall_rmse = 0\n",
        "pred_true = pd.DataFrame(columns=['pred', 'true'])\n",
        "rmse_score = []\n",
        "mae_score = []\n",
        "j = 0\n",
        "for param in ParameterGrid(param_grid):\n",
        "  print(\"----------------------\")\n",
        "  print(j)\n",
        "  print(param)\n",
        "  for i in ['CA_1', 'CA_2', 'CA_3', 'CA_4', 'TX_1', 'TX_2', 'TX_3', 'WI_1', 'WI_2', 'WI_3']:\n",
        "      print(i)\n",
        "      \n",
        "      X_val = pd.read_pickle(data_folder + \"X_val_{}.pkl\".format(i))\n",
        "      X_test = pd.read_pickle(data_folder + \"X_test_{}.pkl\".format(i))\n",
        "      X_train = pd.read_pickle(data_folder + \"X_train_{}.pkl\".format(i))\n",
        "      y_train = X_train['demand']\n",
        "      y_val = X_val['demand']\n",
        "      print(X_train.shape)\n",
        "      features = X_train.columns[~X_train.columns.isin(not_features) ]\n",
        "\n",
        "      train_set = lgb.Dataset(X_train[features],y_train)\n",
        "      val_set = lgb.Dataset(X_val[features], y_val)\n",
        "      model = lgb.train(param, train_set, valid_sets = [train_set, val_set], verbose_eval = 100)\n",
        "      \n",
        "      val_pred = model.predict(X_val[features])\n",
        "      val_score = metrics.mean_absolute_error(val_pred, y_val)\n",
        "\n",
        "      temp = pd.DataFrame({'pred':val_pred, 'true':y_val})\n",
        "      pred_true =pred_true.append(temp)\n",
        "      print(f'Our val mae score is {val_score}')\n",
        "\n",
        "      y_test = model.predict(X_test[features])\n",
        "      X_test['demand'] = y_test\n",
        "      predictions = X_test[['id', 'days_from_start', 'demand']]\n",
        "      predictions = pd.pivot(predictions, index = 'id', columns = 'days_from_start', values = 'demand').reset_index()\n",
        "      predictions.columns = ['id'] + ['F' + str(j + 1) for j in range(28)]\n",
        "      validation = validation.append(predictions)\n",
        "  rmse = np.sqrt(np.mean((pred_true['pred'] - pred_true['true'])**2) )\n",
        "  rmse_score.append(rmse)\n",
        "  print(\"oooooooooooooooooooooooo Overall RMSE oooooooooooooooooooooooo\")\n",
        "  print(rmse_score)\n",
        "  mae_score.append(np.mean(np.abs(pred_true['pred'] - pred_true['true']) ))\n",
        "  j = j + 1\n",
        "    "
      ],
      "execution_count": 0,
      "outputs": [
        {
          "output_type": "stream",
          "text": [
            "----------------------\n",
            "0\n",
            "{'bagging_fraction': 0.75, 'bagging_freq': 5, 'boosting_type': 'gbdt', 'colsample_bytree': 0.75, 'early_stopping_round': 500, 'learning_rate': 0.05, 'metric': 'rmse', 'n_jobs': -1, 'num_iterations': 5000, 'objective': 'poisson', 'seed': 0}\n",
            "CA_1\n",
            "(4510808, 46)\n"
          ],
          "name": "stdout"
        },
        {
          "output_type": "stream",
          "text": [
            "/usr/local/lib/python3.6/dist-packages/lightgbm/engine.py:118: UserWarning: Found `num_iterations` in params. Will use it instead of argument\n",
            "  warnings.warn(\"Found `{}` in params. Will use it instead of argument\".format(alias))\n",
            "/usr/local/lib/python3.6/dist-packages/lightgbm/engine.py:123: UserWarning: Found `early_stopping_round` in params. Will use it instead of argument\n",
            "  warnings.warn(\"Found `{}` in params. Will use it instead of argument\".format(alias))\n",
            "/usr/local/lib/python3.6/dist-packages/lightgbm/basic.py:762: UserWarning: categorical_feature in param dict is overridden.\n",
            "  warnings.warn('categorical_feature in param dict is overridden.')\n"
          ],
          "name": "stderr"
        },
        {
          "output_type": "stream",
          "text": [
            "Training until validation scores don't improve for 500 rounds.\n",
            "[100]\ttraining's rmse: 2.78533\tvalid_1's rmse: 2.24759\n",
            "[200]\ttraining's rmse: 2.71834\tvalid_1's rmse: 2.20953\n",
            "[300]\ttraining's rmse: 2.67628\tvalid_1's rmse: 2.19993\n",
            "[400]\ttraining's rmse: 2.63692\tvalid_1's rmse: 2.18155\n",
            "[500]\ttraining's rmse: 2.60285\tvalid_1's rmse: 2.17362\n",
            "[600]\ttraining's rmse: 2.57496\tvalid_1's rmse: 2.16809\n",
            "[700]\ttraining's rmse: 2.54864\tvalid_1's rmse: 2.16504\n",
            "[800]\ttraining's rmse: 2.5327\tvalid_1's rmse: 2.16549\n",
            "[900]\ttraining's rmse: 2.51406\tvalid_1's rmse: 2.16536\n",
            "[1000]\ttraining's rmse: 2.49294\tvalid_1's rmse: 2.16242\n",
            "[1100]\ttraining's rmse: 2.47869\tvalid_1's rmse: 2.16177\n",
            "[1200]\ttraining's rmse: 2.46517\tvalid_1's rmse: 2.16115\n",
            "[1300]\ttraining's rmse: 2.45361\tvalid_1's rmse: 2.16115\n",
            "[1400]\ttraining's rmse: 2.44082\tvalid_1's rmse: 2.16693\n",
            "[1500]\ttraining's rmse: 2.43155\tvalid_1's rmse: 2.17632\n",
            "[1600]\ttraining's rmse: 2.42085\tvalid_1's rmse: 2.17862\n",
            "[1700]\ttraining's rmse: 2.41047\tvalid_1's rmse: 2.17835\n",
            "Early stopping, best iteration is:\n",
            "[1232]\ttraining's rmse: 2.4614\tvalid_1's rmse: 2.16076\n",
            "Our val mae score is 1.1353972911585133\n",
            "CA_2\n",
            "(4082924, 46)\n"
          ],
          "name": "stdout"
        },
        {
          "output_type": "stream",
          "text": [
            "/usr/local/lib/python3.6/dist-packages/lightgbm/engine.py:118: UserWarning: Found `num_iterations` in params. Will use it instead of argument\n",
            "  warnings.warn(\"Found `{}` in params. Will use it instead of argument\".format(alias))\n",
            "/usr/local/lib/python3.6/dist-packages/lightgbm/engine.py:123: UserWarning: Found `early_stopping_round` in params. Will use it instead of argument\n",
            "  warnings.warn(\"Found `{}` in params. Will use it instead of argument\".format(alias))\n",
            "/usr/local/lib/python3.6/dist-packages/lightgbm/basic.py:762: UserWarning: categorical_feature in param dict is overridden.\n",
            "  warnings.warn('categorical_feature in param dict is overridden.')\n"
          ],
          "name": "stderr"
        },
        {
          "output_type": "stream",
          "text": [
            "Training until validation scores don't improve for 500 rounds.\n",
            "[100]\ttraining's rmse: 2.20559\tvalid_1's rmse: 2.14394\n",
            "[200]\ttraining's rmse: 2.16759\tvalid_1's rmse: 2.11163\n",
            "[300]\ttraining's rmse: 2.14553\tvalid_1's rmse: 2.10674\n",
            "[400]\ttraining's rmse: 2.12555\tvalid_1's rmse: 2.10376\n",
            "[500]\ttraining's rmse: 2.10969\tvalid_1's rmse: 2.09599\n",
            "[600]\ttraining's rmse: 2.09531\tvalid_1's rmse: 2.09106\n",
            "[700]\ttraining's rmse: 2.08366\tvalid_1's rmse: 2.08964\n",
            "[800]\ttraining's rmse: 2.07227\tvalid_1's rmse: 2.08543\n",
            "[900]\ttraining's rmse: 2.0603\tvalid_1's rmse: 2.08124\n",
            "[1000]\ttraining's rmse: 2.05148\tvalid_1's rmse: 2.07544\n",
            "[1100]\ttraining's rmse: 2.04272\tvalid_1's rmse: 2.07138\n",
            "[1200]\ttraining's rmse: 2.03596\tvalid_1's rmse: 2.06846\n",
            "[1300]\ttraining's rmse: 2.02883\tvalid_1's rmse: 2.068\n",
            "[1400]\ttraining's rmse: 2.02249\tvalid_1's rmse: 2.06199\n",
            "[1500]\ttraining's rmse: 2.0159\tvalid_1's rmse: 2.05609\n",
            "[1600]\ttraining's rmse: 2.01002\tvalid_1's rmse: 2.0544\n",
            "[1700]\ttraining's rmse: 2.00395\tvalid_1's rmse: 2.05336\n",
            "[1800]\ttraining's rmse: 1.9989\tvalid_1's rmse: 2.05201\n",
            "[1900]\ttraining's rmse: 1.99432\tvalid_1's rmse: 2.04998\n",
            "[2000]\ttraining's rmse: 1.98997\tvalid_1's rmse: 2.04929\n",
            "[2100]\ttraining's rmse: 1.98473\tvalid_1's rmse: 2.0488\n",
            "[2200]\ttraining's rmse: 1.97989\tvalid_1's rmse: 2.04866\n",
            "[2300]\ttraining's rmse: 1.97526\tvalid_1's rmse: 2.04843\n",
            "[2400]\ttraining's rmse: 1.97118\tvalid_1's rmse: 2.04985\n",
            "[2500]\ttraining's rmse: 1.9674\tvalid_1's rmse: 2.04929\n",
            "[2600]\ttraining's rmse: 1.96295\tvalid_1's rmse: 2.04924\n",
            "[2700]\ttraining's rmse: 1.95854\tvalid_1's rmse: 2.04944\n",
            "[2800]\ttraining's rmse: 1.95515\tvalid_1's rmse: 2.05056\n",
            "Early stopping, best iteration is:\n",
            "[2328]\ttraining's rmse: 1.97428\tvalid_1's rmse: 2.04775\n",
            "Our val mae score is 1.1251712257438287\n",
            "CA_3\n",
            "(4479854, 46)\n"
          ],
          "name": "stdout"
        },
        {
          "output_type": "stream",
          "text": [
            "/usr/local/lib/python3.6/dist-packages/lightgbm/engine.py:118: UserWarning: Found `num_iterations` in params. Will use it instead of argument\n",
            "  warnings.warn(\"Found `{}` in params. Will use it instead of argument\".format(alias))\n",
            "/usr/local/lib/python3.6/dist-packages/lightgbm/engine.py:123: UserWarning: Found `early_stopping_round` in params. Will use it instead of argument\n",
            "  warnings.warn(\"Found `{}` in params. Will use it instead of argument\".format(alias))\n",
            "/usr/local/lib/python3.6/dist-packages/lightgbm/basic.py:762: UserWarning: categorical_feature in param dict is overridden.\n",
            "  warnings.warn('categorical_feature in param dict is overridden.')\n"
          ],
          "name": "stderr"
        },
        {
          "output_type": "stream",
          "text": [
            "Training until validation scores don't improve for 500 rounds.\n",
            "[100]\ttraining's rmse: 4.15997\tvalid_1's rmse: 2.93635\n",
            "[200]\ttraining's rmse: 4.05342\tvalid_1's rmse: 2.85779\n",
            "[300]\ttraining's rmse: 3.90854\tvalid_1's rmse: 2.83493\n",
            "[400]\ttraining's rmse: 3.79401\tvalid_1's rmse: 2.84161\n",
            "[500]\ttraining's rmse: 3.71209\tvalid_1's rmse: 2.84488\n",
            "[600]\ttraining's rmse: 3.6446\tvalid_1's rmse: 2.81996\n",
            "[700]\ttraining's rmse: 3.59281\tvalid_1's rmse: 2.81123\n",
            "[800]\ttraining's rmse: 3.55107\tvalid_1's rmse: 2.80001\n",
            "[900]\ttraining's rmse: 3.51662\tvalid_1's rmse: 2.78402\n",
            "[1000]\ttraining's rmse: 3.48873\tvalid_1's rmse: 2.77971\n",
            "[1100]\ttraining's rmse: 3.45535\tvalid_1's rmse: 2.77054\n",
            "[1200]\ttraining's rmse: 3.42951\tvalid_1's rmse: 2.76323\n",
            "[1300]\ttraining's rmse: 3.40844\tvalid_1's rmse: 2.75975\n",
            "[1400]\ttraining's rmse: 3.38667\tvalid_1's rmse: 2.75366\n",
            "[1500]\ttraining's rmse: 3.3652\tvalid_1's rmse: 2.75081\n",
            "[1600]\ttraining's rmse: 3.34278\tvalid_1's rmse: 2.74774\n",
            "[1700]\ttraining's rmse: 3.32564\tvalid_1's rmse: 2.74709\n",
            "[1800]\ttraining's rmse: 3.31055\tvalid_1's rmse: 2.74383\n",
            "[1900]\ttraining's rmse: 3.29738\tvalid_1's rmse: 2.74138\n",
            "[2000]\ttraining's rmse: 3.28465\tvalid_1's rmse: 2.73925\n",
            "[2100]\ttraining's rmse: 3.27127\tvalid_1's rmse: 2.73654\n",
            "[2200]\ttraining's rmse: 3.2586\tvalid_1's rmse: 2.73407\n",
            "[2300]\ttraining's rmse: 3.24728\tvalid_1's rmse: 2.73338\n",
            "[2400]\ttraining's rmse: 3.23418\tvalid_1's rmse: 2.73705\n",
            "[2500]\ttraining's rmse: 3.22158\tvalid_1's rmse: 2.7366\n",
            "[2600]\ttraining's rmse: 3.21111\tvalid_1's rmse: 2.73507\n",
            "[2700]\ttraining's rmse: 3.19988\tvalid_1's rmse: 2.7342\n",
            "[2800]\ttraining's rmse: 3.1914\tvalid_1's rmse: 2.73094\n",
            "[2900]\ttraining's rmse: 3.17968\tvalid_1's rmse: 2.73219\n",
            "[3000]\ttraining's rmse: 3.17039\tvalid_1's rmse: 2.72992\n",
            "[3100]\ttraining's rmse: 3.16216\tvalid_1's rmse: 2.72801\n",
            "[3200]\ttraining's rmse: 3.15163\tvalid_1's rmse: 2.73004\n",
            "[3300]\ttraining's rmse: 3.14379\tvalid_1's rmse: 2.72881\n",
            "[3400]\ttraining's rmse: 3.1369\tvalid_1's rmse: 2.72701\n",
            "[3500]\ttraining's rmse: 3.12916\tvalid_1's rmse: 2.72749\n",
            "[3600]\ttraining's rmse: 3.12028\tvalid_1's rmse: 2.72558\n",
            "[3700]\ttraining's rmse: 3.11205\tvalid_1's rmse: 2.72258\n",
            "[3800]\ttraining's rmse: 3.10229\tvalid_1's rmse: 2.72401\n",
            "[3900]\ttraining's rmse: 3.09508\tvalid_1's rmse: 2.72383\n",
            "[4000]\ttraining's rmse: 3.08809\tvalid_1's rmse: 2.72494\n",
            "[4100]\ttraining's rmse: 3.0803\tvalid_1's rmse: 2.72674\n",
            "[4200]\ttraining's rmse: 3.07237\tvalid_1's rmse: 2.7281\n",
            "Early stopping, best iteration is:\n",
            "[3725]\ttraining's rmse: 3.10912\tvalid_1's rmse: 2.72184\n",
            "Our val mae score is 1.3877900985793945\n",
            "CA_4\n",
            "(4375090, 46)\n"
          ],
          "name": "stdout"
        },
        {
          "output_type": "stream",
          "text": [
            "/usr/local/lib/python3.6/dist-packages/lightgbm/engine.py:118: UserWarning: Found `num_iterations` in params. Will use it instead of argument\n",
            "  warnings.warn(\"Found `{}` in params. Will use it instead of argument\".format(alias))\n",
            "/usr/local/lib/python3.6/dist-packages/lightgbm/engine.py:123: UserWarning: Found `early_stopping_round` in params. Will use it instead of argument\n",
            "  warnings.warn(\"Found `{}` in params. Will use it instead of argument\".format(alias))\n",
            "/usr/local/lib/python3.6/dist-packages/lightgbm/basic.py:762: UserWarning: categorical_feature in param dict is overridden.\n",
            "  warnings.warn('categorical_feature in param dict is overridden.')\n"
          ],
          "name": "stderr"
        },
        {
          "output_type": "stream",
          "text": [
            "Training until validation scores don't improve for 500 rounds.\n",
            "[100]\ttraining's rmse: 1.59668\tvalid_1's rmse: 1.42777\n",
            "[200]\ttraining's rmse: 1.57698\tvalid_1's rmse: 1.41992\n",
            "[300]\ttraining's rmse: 1.56377\tvalid_1's rmse: 1.41625\n",
            "[400]\ttraining's rmse: 1.55263\tvalid_1's rmse: 1.40621\n",
            "[500]\ttraining's rmse: 1.54392\tvalid_1's rmse: 1.40381\n",
            "[600]\ttraining's rmse: 1.53436\tvalid_1's rmse: 1.40236\n",
            "[700]\ttraining's rmse: 1.52776\tvalid_1's rmse: 1.40182\n",
            "[800]\ttraining's rmse: 1.52262\tvalid_1's rmse: 1.40176\n",
            "[900]\ttraining's rmse: 1.51731\tvalid_1's rmse: 1.40149\n",
            "[1000]\ttraining's rmse: 1.51204\tvalid_1's rmse: 1.40335\n",
            "[1100]\ttraining's rmse: 1.50692\tvalid_1's rmse: 1.40224\n",
            "[1200]\ttraining's rmse: 1.50284\tvalid_1's rmse: 1.40306\n",
            "[1300]\ttraining's rmse: 1.49911\tvalid_1's rmse: 1.40321\n",
            "[1400]\ttraining's rmse: 1.49502\tvalid_1's rmse: 1.40307\n",
            "Early stopping, best iteration is:\n",
            "[944]\ttraining's rmse: 1.51514\tvalid_1's rmse: 1.40096\n",
            "Our val mae score is 0.7941112853742172\n",
            "TX_1\n",
            "(4519857, 46)\n"
          ],
          "name": "stdout"
        },
        {
          "output_type": "stream",
          "text": [
            "/usr/local/lib/python3.6/dist-packages/lightgbm/engine.py:118: UserWarning: Found `num_iterations` in params. Will use it instead of argument\n",
            "  warnings.warn(\"Found `{}` in params. Will use it instead of argument\".format(alias))\n",
            "/usr/local/lib/python3.6/dist-packages/lightgbm/engine.py:123: UserWarning: Found `early_stopping_round` in params. Will use it instead of argument\n",
            "  warnings.warn(\"Found `{}` in params. Will use it instead of argument\".format(alias))\n",
            "/usr/local/lib/python3.6/dist-packages/lightgbm/basic.py:762: UserWarning: categorical_feature in param dict is overridden.\n",
            "  warnings.warn('categorical_feature in param dict is overridden.')\n"
          ],
          "name": "stderr"
        },
        {
          "output_type": "stream",
          "text": [
            "Training until validation scores don't improve for 500 rounds.\n",
            "[100]\ttraining's rmse: 2.31196\tvalid_1's rmse: 1.92515\n",
            "[200]\ttraining's rmse: 2.24672\tvalid_1's rmse: 1.88299\n",
            "[300]\ttraining's rmse: 2.20932\tvalid_1's rmse: 1.86419\n",
            "[400]\ttraining's rmse: 2.17433\tvalid_1's rmse: 1.84305\n",
            "[500]\ttraining's rmse: 2.14268\tvalid_1's rmse: 1.82761\n",
            "[600]\ttraining's rmse: 2.11816\tvalid_1's rmse: 1.80907\n",
            "[700]\ttraining's rmse: 2.09748\tvalid_1's rmse: 1.8011\n",
            "[800]\ttraining's rmse: 2.07975\tvalid_1's rmse: 1.79251\n",
            "[900]\ttraining's rmse: 2.06485\tvalid_1's rmse: 1.7903\n",
            "[1000]\ttraining's rmse: 2.0509\tvalid_1's rmse: 1.78792\n",
            "[1100]\ttraining's rmse: 2.04033\tvalid_1's rmse: 1.78531\n",
            "[1200]\ttraining's rmse: 2.03075\tvalid_1's rmse: 1.78237\n",
            "[1300]\ttraining's rmse: 2.01729\tvalid_1's rmse: 1.78135\n",
            "[1400]\ttraining's rmse: 2.00975\tvalid_1's rmse: 1.77869\n",
            "[1500]\ttraining's rmse: 2.00074\tvalid_1's rmse: 1.77766\n",
            "[1600]\ttraining's rmse: 1.99303\tvalid_1's rmse: 1.7776\n",
            "[1700]\ttraining's rmse: 1.9863\tvalid_1's rmse: 1.77552\n",
            "[1800]\ttraining's rmse: 1.9781\tvalid_1's rmse: 1.77554\n",
            "[1900]\ttraining's rmse: 1.97131\tvalid_1's rmse: 1.77509\n",
            "[2000]\ttraining's rmse: 1.96407\tvalid_1's rmse: 1.77402\n",
            "[2100]\ttraining's rmse: 1.95721\tvalid_1's rmse: 1.77332\n",
            "[2200]\ttraining's rmse: 1.95099\tvalid_1's rmse: 1.77209\n",
            "[2300]\ttraining's rmse: 1.94517\tvalid_1's rmse: 1.77191\n",
            "[2400]\ttraining's rmse: 1.93925\tvalid_1's rmse: 1.77145\n",
            "[2500]\ttraining's rmse: 1.93362\tvalid_1's rmse: 1.7698\n",
            "[2600]\ttraining's rmse: 1.9283\tvalid_1's rmse: 1.76926\n",
            "[2700]\ttraining's rmse: 1.92273\tvalid_1's rmse: 1.76596\n",
            "[2800]\ttraining's rmse: 1.91693\tvalid_1's rmse: 1.7649\n",
            "[2900]\ttraining's rmse: 1.91225\tvalid_1's rmse: 1.76573\n",
            "[3000]\ttraining's rmse: 1.90792\tvalid_1's rmse: 1.76419\n",
            "[3100]\ttraining's rmse: 1.90369\tvalid_1's rmse: 1.76233\n",
            "[3200]\ttraining's rmse: 1.89938\tvalid_1's rmse: 1.76163\n",
            "[3300]\ttraining's rmse: 1.89461\tvalid_1's rmse: 1.7613\n",
            "[3400]\ttraining's rmse: 1.89059\tvalid_1's rmse: 1.76177\n",
            "[3500]\ttraining's rmse: 1.88682\tvalid_1's rmse: 1.76162\n",
            "[3600]\ttraining's rmse: 1.88235\tvalid_1's rmse: 1.76082\n",
            "[3700]\ttraining's rmse: 1.87821\tvalid_1's rmse: 1.76049\n",
            "[3800]\ttraining's rmse: 1.87321\tvalid_1's rmse: 1.76052\n",
            "[3900]\ttraining's rmse: 1.86937\tvalid_1's rmse: 1.76236\n",
            "[4000]\ttraining's rmse: 1.86518\tvalid_1's rmse: 1.76249\n",
            "[4100]\ttraining's rmse: 1.86172\tvalid_1's rmse: 1.76302\n",
            "[4200]\ttraining's rmse: 1.85839\tvalid_1's rmse: 1.76319\n",
            "Early stopping, best iteration is:\n",
            "[3746]\ttraining's rmse: 1.87593\tvalid_1's rmse: 1.75969\n",
            "Our val mae score is 0.8758608877842794\n",
            "TX_2\n",
            "(4530422, 46)\n"
          ],
          "name": "stdout"
        },
        {
          "output_type": "stream",
          "text": [
            "/usr/local/lib/python3.6/dist-packages/lightgbm/engine.py:118: UserWarning: Found `num_iterations` in params. Will use it instead of argument\n",
            "  warnings.warn(\"Found `{}` in params. Will use it instead of argument\".format(alias))\n",
            "/usr/local/lib/python3.6/dist-packages/lightgbm/engine.py:123: UserWarning: Found `early_stopping_round` in params. Will use it instead of argument\n",
            "  warnings.warn(\"Found `{}` in params. Will use it instead of argument\".format(alias))\n",
            "/usr/local/lib/python3.6/dist-packages/lightgbm/basic.py:762: UserWarning: categorical_feature in param dict is overridden.\n",
            "  warnings.warn('categorical_feature in param dict is overridden.')\n"
          ],
          "name": "stderr"
        },
        {
          "output_type": "stream",
          "text": [
            "Training until validation scores don't improve for 500 rounds.\n",
            "[100]\ttraining's rmse: 2.79224\tvalid_1's rmse: 1.97983\n",
            "[200]\ttraining's rmse: 2.7175\tvalid_1's rmse: 1.98445\n",
            "[300]\ttraining's rmse: 2.66362\tvalid_1's rmse: 1.98367\n",
            "[400]\ttraining's rmse: 2.61027\tvalid_1's rmse: 1.97186\n",
            "[500]\ttraining's rmse: 2.56695\tvalid_1's rmse: 1.96411\n",
            "[600]\ttraining's rmse: 2.52838\tvalid_1's rmse: 1.95197\n",
            "[700]\ttraining's rmse: 2.50132\tvalid_1's rmse: 1.94502\n",
            "[800]\ttraining's rmse: 2.47861\tvalid_1's rmse: 1.94123\n",
            "[900]\ttraining's rmse: 2.45545\tvalid_1's rmse: 1.93506\n",
            "[1000]\ttraining's rmse: 2.43571\tvalid_1's rmse: 1.93716\n",
            "[1100]\ttraining's rmse: 2.42026\tvalid_1's rmse: 1.94221\n",
            "[1200]\ttraining's rmse: 2.40348\tvalid_1's rmse: 1.94116\n",
            "[1300]\ttraining's rmse: 2.3896\tvalid_1's rmse: 1.95376\n",
            "[1400]\ttraining's rmse: 2.37872\tvalid_1's rmse: 1.95175\n",
            "Early stopping, best iteration is:\n",
            "[950]\ttraining's rmse: 2.44412\tvalid_1's rmse: 1.93288\n",
            "Our val mae score is 1.0000088002910652\n",
            "TX_3\n",
            "(4459708, 46)\n"
          ],
          "name": "stdout"
        },
        {
          "output_type": "stream",
          "text": [
            "/usr/local/lib/python3.6/dist-packages/lightgbm/engine.py:118: UserWarning: Found `num_iterations` in params. Will use it instead of argument\n",
            "  warnings.warn(\"Found `{}` in params. Will use it instead of argument\".format(alias))\n",
            "/usr/local/lib/python3.6/dist-packages/lightgbm/engine.py:123: UserWarning: Found `early_stopping_round` in params. Will use it instead of argument\n",
            "  warnings.warn(\"Found `{}` in params. Will use it instead of argument\".format(alias))\n",
            "/usr/local/lib/python3.6/dist-packages/lightgbm/basic.py:762: UserWarning: categorical_feature in param dict is overridden.\n",
            "  warnings.warn('categorical_feature in param dict is overridden.')\n"
          ],
          "name": "stderr"
        },
        {
          "output_type": "stream",
          "text": [
            "Training until validation scores don't improve for 500 rounds.\n",
            "[100]\ttraining's rmse: 2.43422\tvalid_1's rmse: 1.90682\n",
            "[200]\ttraining's rmse: 2.36874\tvalid_1's rmse: 1.9114\n",
            "[300]\ttraining's rmse: 2.3207\tvalid_1's rmse: 1.91617\n",
            "[400]\ttraining's rmse: 2.27653\tvalid_1's rmse: 1.92024\n",
            "[500]\ttraining's rmse: 2.24376\tvalid_1's rmse: 1.92342\n",
            "[600]\ttraining's rmse: 2.22342\tvalid_1's rmse: 1.93885\n",
            "Early stopping, best iteration is:\n",
            "[115]\ttraining's rmse: 2.41975\tvalid_1's rmse: 1.90558\n",
            "Our val mae score is 0.9871075937165432\n",
            "WI_1\n",
            "(4283308, 46)\n"
          ],
          "name": "stdout"
        },
        {
          "output_type": "stream",
          "text": [
            "/usr/local/lib/python3.6/dist-packages/lightgbm/engine.py:118: UserWarning: Found `num_iterations` in params. Will use it instead of argument\n",
            "  warnings.warn(\"Found `{}` in params. Will use it instead of argument\".format(alias))\n",
            "/usr/local/lib/python3.6/dist-packages/lightgbm/engine.py:123: UserWarning: Found `early_stopping_round` in params. Will use it instead of argument\n",
            "  warnings.warn(\"Found `{}` in params. Will use it instead of argument\".format(alias))\n",
            "/usr/local/lib/python3.6/dist-packages/lightgbm/basic.py:762: UserWarning: categorical_feature in param dict is overridden.\n",
            "  warnings.warn('categorical_feature in param dict is overridden.')\n"
          ],
          "name": "stderr"
        },
        {
          "output_type": "stream",
          "text": [
            "Training until validation scores don't improve for 500 rounds.\n",
            "[100]\ttraining's rmse: 1.84407\tvalid_1's rmse: 1.74292\n",
            "[200]\ttraining's rmse: 1.81131\tvalid_1's rmse: 1.72346\n",
            "[300]\ttraining's rmse: 1.79099\tvalid_1's rmse: 1.7295\n",
            "[400]\ttraining's rmse: 1.77626\tvalid_1's rmse: 1.75083\n",
            "[500]\ttraining's rmse: 1.76369\tvalid_1's rmse: 1.76837\n",
            "[600]\ttraining's rmse: 1.75433\tvalid_1's rmse: 1.76157\n",
            "[700]\ttraining's rmse: 1.74483\tvalid_1's rmse: 1.77375\n",
            "Early stopping, best iteration is:\n",
            "[238]\ttraining's rmse: 1.80323\tvalid_1's rmse: 1.7189\n",
            "Our val mae score is 0.9800764720335826\n",
            "WI_2\n",
            "(4368755, 46)\n"
          ],
          "name": "stdout"
        },
        {
          "output_type": "stream",
          "text": [
            "/usr/local/lib/python3.6/dist-packages/lightgbm/engine.py:118: UserWarning: Found `num_iterations` in params. Will use it instead of argument\n",
            "  warnings.warn(\"Found `{}` in params. Will use it instead of argument\".format(alias))\n",
            "/usr/local/lib/python3.6/dist-packages/lightgbm/engine.py:123: UserWarning: Found `early_stopping_round` in params. Will use it instead of argument\n",
            "  warnings.warn(\"Found `{}` in params. Will use it instead of argument\".format(alias))\n",
            "/usr/local/lib/python3.6/dist-packages/lightgbm/basic.py:762: UserWarning: categorical_feature in param dict is overridden.\n",
            "  warnings.warn('categorical_feature in param dict is overridden.')\n"
          ],
          "name": "stderr"
        },
        {
          "output_type": "stream",
          "text": [
            "Training until validation scores don't improve for 500 rounds.\n",
            "[100]\ttraining's rmse: 2.97724\tvalid_1's rmse: 3.12214\n",
            "[200]\ttraining's rmse: 2.91406\tvalid_1's rmse: 2.99074\n",
            "[300]\ttraining's rmse: 2.86551\tvalid_1's rmse: 2.95283\n",
            "[400]\ttraining's rmse: 2.82338\tvalid_1's rmse: 2.95668\n",
            "[500]\ttraining's rmse: 2.78538\tvalid_1's rmse: 2.94689\n",
            "[600]\ttraining's rmse: 2.75739\tvalid_1's rmse: 2.94161\n",
            "[700]\ttraining's rmse: 2.729\tvalid_1's rmse: 2.93635\n",
            "[800]\ttraining's rmse: 2.70583\tvalid_1's rmse: 2.93464\n",
            "[900]\ttraining's rmse: 2.6823\tvalid_1's rmse: 2.92635\n",
            "[1000]\ttraining's rmse: 2.66202\tvalid_1's rmse: 2.93081\n",
            "[1100]\ttraining's rmse: 2.64431\tvalid_1's rmse: 2.93317\n",
            "[1200]\ttraining's rmse: 2.62457\tvalid_1's rmse: 2.932\n",
            "[1300]\ttraining's rmse: 2.60682\tvalid_1's rmse: 2.93608\n",
            "[1400]\ttraining's rmse: 2.59212\tvalid_1's rmse: 2.9367\n",
            "Early stopping, best iteration is:\n",
            "[913]\ttraining's rmse: 2.67931\tvalid_1's rmse: 2.9253\n",
            "Our val mae score is 1.2295555157882077\n",
            "WI_3\n",
            "(4494582, 46)\n"
          ],
          "name": "stdout"
        },
        {
          "output_type": "stream",
          "text": [
            "/usr/local/lib/python3.6/dist-packages/lightgbm/engine.py:118: UserWarning: Found `num_iterations` in params. Will use it instead of argument\n",
            "  warnings.warn(\"Found `{}` in params. Will use it instead of argument\".format(alias))\n",
            "/usr/local/lib/python3.6/dist-packages/lightgbm/engine.py:123: UserWarning: Found `early_stopping_round` in params. Will use it instead of argument\n",
            "  warnings.warn(\"Found `{}` in params. Will use it instead of argument\".format(alias))\n",
            "/usr/local/lib/python3.6/dist-packages/lightgbm/basic.py:762: UserWarning: categorical_feature in param dict is overridden.\n",
            "  warnings.warn('categorical_feature in param dict is overridden.')\n"
          ],
          "name": "stderr"
        },
        {
          "output_type": "stream",
          "text": [
            "Training until validation scores don't improve for 500 rounds.\n",
            "[100]\ttraining's rmse: 2.70734\tvalid_1's rmse: 2.18218\n",
            "[200]\ttraining's rmse: 2.62798\tvalid_1's rmse: 2.1103\n",
            "[300]\ttraining's rmse: 2.56513\tvalid_1's rmse: 2.0826\n",
            "[400]\ttraining's rmse: 2.51285\tvalid_1's rmse: 2.06468\n",
            "[500]\ttraining's rmse: 2.46975\tvalid_1's rmse: 2.04922\n",
            "[600]\ttraining's rmse: 2.43697\tvalid_1's rmse: 2.038\n",
            "[700]\ttraining's rmse: 2.40517\tvalid_1's rmse: 2.03343\n",
            "[800]\ttraining's rmse: 2.38469\tvalid_1's rmse: 2.03167\n",
            "[900]\ttraining's rmse: 2.36464\tvalid_1's rmse: 2.02755\n",
            "[1000]\ttraining's rmse: 2.34251\tvalid_1's rmse: 2.02295\n",
            "[1100]\ttraining's rmse: 2.32419\tvalid_1's rmse: 2.0198\n",
            "[1200]\ttraining's rmse: 2.30863\tvalid_1's rmse: 2.01969\n",
            "[1300]\ttraining's rmse: 2.29548\tvalid_1's rmse: 2.02022\n",
            "[1400]\ttraining's rmse: 2.28142\tvalid_1's rmse: 2.01565\n",
            "[1500]\ttraining's rmse: 2.2702\tvalid_1's rmse: 2.0183\n",
            "[1600]\ttraining's rmse: 2.25788\tvalid_1's rmse: 2.01955\n",
            "[1700]\ttraining's rmse: 2.24643\tvalid_1's rmse: 2.0206\n",
            "[1800]\ttraining's rmse: 2.23621\tvalid_1's rmse: 2.02224\n",
            "Early stopping, best iteration is:\n",
            "[1398]\ttraining's rmse: 2.28175\tvalid_1's rmse: 2.01544\n",
            "Our val mae score is 0.9727359918138375\n",
            "----------------------\n",
            "1\n",
            "{'bagging_fraction': 0.75, 'bagging_freq': 5, 'boosting_type': 'gbdt', 'colsample_bytree': 0.75, 'early_stopping_round': 500, 'learning_rate': 0.05, 'metric': 'rmse', 'n_jobs': -1, 'num_iterations': 5000, 'objective': 'tweedie', 'seed': 0}\n",
            "CA_1\n",
            "(4510808, 46)\n"
          ],
          "name": "stdout"
        },
        {
          "output_type": "stream",
          "text": [
            "/usr/local/lib/python3.6/dist-packages/lightgbm/engine.py:118: UserWarning: Found `num_iterations` in params. Will use it instead of argument\n",
            "  warnings.warn(\"Found `{}` in params. Will use it instead of argument\".format(alias))\n",
            "/usr/local/lib/python3.6/dist-packages/lightgbm/engine.py:123: UserWarning: Found `early_stopping_round` in params. Will use it instead of argument\n",
            "  warnings.warn(\"Found `{}` in params. Will use it instead of argument\".format(alias))\n",
            "/usr/local/lib/python3.6/dist-packages/lightgbm/basic.py:762: UserWarning: categorical_feature in param dict is overridden.\n",
            "  warnings.warn('categorical_feature in param dict is overridden.')\n"
          ],
          "name": "stderr"
        },
        {
          "output_type": "stream",
          "text": [
            "Training until validation scores don't improve for 500 rounds.\n",
            "[100]\ttraining's rmse: 2.80939\tvalid_1's rmse: 2.20737\n",
            "[200]\ttraining's rmse: 2.73433\tvalid_1's rmse: 2.18381\n",
            "[300]\ttraining's rmse: 2.69686\tvalid_1's rmse: 2.1651\n",
            "[400]\ttraining's rmse: 2.66496\tvalid_1's rmse: 2.15947\n",
            "[500]\ttraining's rmse: 2.64195\tvalid_1's rmse: 2.152\n",
            "[600]\ttraining's rmse: 2.61866\tvalid_1's rmse: 2.14786\n",
            "[700]\ttraining's rmse: 2.60289\tvalid_1's rmse: 2.14683\n",
            "[800]\ttraining's rmse: 2.58914\tvalid_1's rmse: 2.15187\n",
            "[900]\ttraining's rmse: 2.57447\tvalid_1's rmse: 2.15697\n",
            "[1000]\ttraining's rmse: 2.55625\tvalid_1's rmse: 2.15825\n",
            "[1100]\ttraining's rmse: 2.54704\tvalid_1's rmse: 2.15519\n",
            "[1200]\ttraining's rmse: 2.53546\tvalid_1's rmse: 2.15494\n",
            "Early stopping, best iteration is:\n",
            "[741]\ttraining's rmse: 2.59407\tvalid_1's rmse: 2.14428\n",
            "Our val mae score is 1.119551493204966\n",
            "CA_2\n",
            "(4082924, 46)\n"
          ],
          "name": "stdout"
        },
        {
          "output_type": "stream",
          "text": [
            "/usr/local/lib/python3.6/dist-packages/lightgbm/engine.py:118: UserWarning: Found `num_iterations` in params. Will use it instead of argument\n",
            "  warnings.warn(\"Found `{}` in params. Will use it instead of argument\".format(alias))\n",
            "/usr/local/lib/python3.6/dist-packages/lightgbm/engine.py:123: UserWarning: Found `early_stopping_round` in params. Will use it instead of argument\n",
            "  warnings.warn(\"Found `{}` in params. Will use it instead of argument\".format(alias))\n",
            "/usr/local/lib/python3.6/dist-packages/lightgbm/basic.py:762: UserWarning: categorical_feature in param dict is overridden.\n",
            "  warnings.warn('categorical_feature in param dict is overridden.')\n"
          ],
          "name": "stderr"
        },
        {
          "output_type": "stream",
          "text": [
            "Training until validation scores don't improve for 500 rounds.\n",
            "[100]\ttraining's rmse: 2.20832\tvalid_1's rmse: 2.12888\n",
            "[200]\ttraining's rmse: 2.17172\tvalid_1's rmse: 2.10439\n",
            "[300]\ttraining's rmse: 2.15275\tvalid_1's rmse: 2.09814\n",
            "[400]\ttraining's rmse: 2.13818\tvalid_1's rmse: 2.09285\n",
            "[500]\ttraining's rmse: 2.12554\tvalid_1's rmse: 2.08724\n",
            "[600]\ttraining's rmse: 2.11429\tvalid_1's rmse: 2.09028\n",
            "[700]\ttraining's rmse: 2.10488\tvalid_1's rmse: 2.08826\n",
            "[800]\ttraining's rmse: 2.0967\tvalid_1's rmse: 2.08646\n",
            "[900]\ttraining's rmse: 2.08637\tvalid_1's rmse: 2.08607\n",
            "[1000]\ttraining's rmse: 2.07933\tvalid_1's rmse: 2.0514\n",
            "[1100]\ttraining's rmse: 2.07322\tvalid_1's rmse: 2.05011\n",
            "[1200]\ttraining's rmse: 2.06784\tvalid_1's rmse: 2.0473\n",
            "[1300]\ttraining's rmse: 2.06177\tvalid_1's rmse: 2.04686\n",
            "[1400]\ttraining's rmse: 2.05762\tvalid_1's rmse: 2.04603\n",
            "[1500]\ttraining's rmse: 2.05194\tvalid_1's rmse: 2.04437\n",
            "[1600]\ttraining's rmse: 2.04714\tvalid_1's rmse: 2.04191\n",
            "[1700]\ttraining's rmse: 2.04207\tvalid_1's rmse: 2.0413\n",
            "[1800]\ttraining's rmse: 2.03683\tvalid_1's rmse: 2.04008\n",
            "[1900]\ttraining's rmse: 2.03225\tvalid_1's rmse: 2.0401\n",
            "[2000]\ttraining's rmse: 2.02994\tvalid_1's rmse: 2.039\n",
            "[2100]\ttraining's rmse: 2.02615\tvalid_1's rmse: 2.0376\n",
            "[2200]\ttraining's rmse: 2.02262\tvalid_1's rmse: 2.03652\n",
            "[2300]\ttraining's rmse: 2.01877\tvalid_1's rmse: 2.03419\n",
            "[2400]\ttraining's rmse: 2.01602\tvalid_1's rmse: 2.03413\n",
            "[2500]\ttraining's rmse: 2.01293\tvalid_1's rmse: 2.03357\n",
            "[2600]\ttraining's rmse: 2.00877\tvalid_1's rmse: 2.03258\n",
            "[2700]\ttraining's rmse: 2.00599\tvalid_1's rmse: 2.03251\n",
            "[2800]\ttraining's rmse: 2.00322\tvalid_1's rmse: 2.0323\n",
            "[2900]\ttraining's rmse: 2.00019\tvalid_1's rmse: 2.0324\n",
            "[3000]\ttraining's rmse: 1.99676\tvalid_1's rmse: 2.03037\n",
            "[3100]\ttraining's rmse: 1.99373\tvalid_1's rmse: 2.03039\n",
            "[3200]\ttraining's rmse: 1.99092\tvalid_1's rmse: 2.02952\n",
            "[3300]\ttraining's rmse: 1.98833\tvalid_1's rmse: 2.02911\n",
            "[3400]\ttraining's rmse: 1.9867\tvalid_1's rmse: 2.02922\n",
            "[3500]\ttraining's rmse: 1.98464\tvalid_1's rmse: 2.02888\n",
            "[3600]\ttraining's rmse: 1.98211\tvalid_1's rmse: 2.02903\n",
            "[3700]\ttraining's rmse: 1.97981\tvalid_1's rmse: 2.02876\n",
            "[3800]\ttraining's rmse: 1.97785\tvalid_1's rmse: 2.02608\n",
            "[3900]\ttraining's rmse: 1.97609\tvalid_1's rmse: 2.02592\n",
            "[4000]\ttraining's rmse: 1.97493\tvalid_1's rmse: 2.0258\n",
            "[4100]\ttraining's rmse: 1.9717\tvalid_1's rmse: 2.02548\n",
            "[4200]\ttraining's rmse: 1.96932\tvalid_1's rmse: 2.02547\n",
            "[4300]\ttraining's rmse: 1.96742\tvalid_1's rmse: 2.02502\n",
            "[4400]\ttraining's rmse: 1.96491\tvalid_1's rmse: 2.02522\n",
            "[4500]\ttraining's rmse: 1.96271\tvalid_1's rmse: 2.02362\n",
            "[4600]\ttraining's rmse: 1.95983\tvalid_1's rmse: 2.02351\n",
            "[4700]\ttraining's rmse: 1.95916\tvalid_1's rmse: 2.0233\n",
            "[4800]\ttraining's rmse: 1.95746\tvalid_1's rmse: 2.0234\n",
            "[4900]\ttraining's rmse: 1.95556\tvalid_1's rmse: 2.02367\n",
            "[5000]\ttraining's rmse: 1.95365\tvalid_1's rmse: 2.02368\n",
            "Did not meet early stopping. Best iteration is:\n",
            "[5000]\ttraining's rmse: 1.95365\tvalid_1's rmse: 2.02368\n",
            "Our val mae score is 1.0960854125432502\n",
            "CA_3\n",
            "(4479854, 46)\n"
          ],
          "name": "stdout"
        },
        {
          "output_type": "stream",
          "text": [
            "/usr/local/lib/python3.6/dist-packages/lightgbm/engine.py:118: UserWarning: Found `num_iterations` in params. Will use it instead of argument\n",
            "  warnings.warn(\"Found `{}` in params. Will use it instead of argument\".format(alias))\n",
            "/usr/local/lib/python3.6/dist-packages/lightgbm/engine.py:123: UserWarning: Found `early_stopping_round` in params. Will use it instead of argument\n",
            "  warnings.warn(\"Found `{}` in params. Will use it instead of argument\".format(alias))\n",
            "/usr/local/lib/python3.6/dist-packages/lightgbm/basic.py:762: UserWarning: categorical_feature in param dict is overridden.\n",
            "  warnings.warn('categorical_feature in param dict is overridden.')\n"
          ],
          "name": "stderr"
        },
        {
          "output_type": "stream",
          "text": [
            "Training until validation scores don't improve for 500 rounds.\n",
            "[100]\ttraining's rmse: 4.0256\tvalid_1's rmse: 2.83634\n",
            "[200]\ttraining's rmse: 3.85934\tvalid_1's rmse: 2.78728\n",
            "[300]\ttraining's rmse: 3.79357\tvalid_1's rmse: 2.75234\n",
            "[400]\ttraining's rmse: 3.75243\tvalid_1's rmse: 2.74746\n",
            "[500]\ttraining's rmse: 3.71052\tvalid_1's rmse: 2.7361\n",
            "[600]\ttraining's rmse: 3.65039\tvalid_1's rmse: 2.73023\n",
            "[700]\ttraining's rmse: 3.62664\tvalid_1's rmse: 2.7264\n",
            "[800]\ttraining's rmse: 3.59643\tvalid_1's rmse: 2.72103\n",
            "[900]\ttraining's rmse: 3.58031\tvalid_1's rmse: 2.71519\n",
            "[1000]\ttraining's rmse: 3.56739\tvalid_1's rmse: 2.71616\n",
            "[1100]\ttraining's rmse: 3.55685\tvalid_1's rmse: 2.7129\n",
            "[1200]\ttraining's rmse: 3.5419\tvalid_1's rmse: 2.70905\n",
            "[1300]\ttraining's rmse: 3.52477\tvalid_1's rmse: 2.70352\n",
            "[1400]\ttraining's rmse: 3.51414\tvalid_1's rmse: 2.7047\n",
            "[1500]\ttraining's rmse: 3.49886\tvalid_1's rmse: 2.69868\n",
            "[1600]\ttraining's rmse: 3.48824\tvalid_1's rmse: 2.69659\n",
            "[1700]\ttraining's rmse: 3.47401\tvalid_1's rmse: 2.69836\n",
            "[1800]\ttraining's rmse: 3.45596\tvalid_1's rmse: 2.69137\n",
            "[1900]\ttraining's rmse: 3.44513\tvalid_1's rmse: 2.68982\n",
            "[2000]\ttraining's rmse: 3.43609\tvalid_1's rmse: 2.69069\n",
            "[2100]\ttraining's rmse: 3.42608\tvalid_1's rmse: 2.69105\n",
            "[2200]\ttraining's rmse: 3.4146\tvalid_1's rmse: 2.69211\n",
            "[2300]\ttraining's rmse: 3.40787\tvalid_1's rmse: 2.69232\n",
            "[2400]\ttraining's rmse: 3.40001\tvalid_1's rmse: 2.69174\n",
            "[2500]\ttraining's rmse: 3.39432\tvalid_1's rmse: 2.69294\n",
            "Early stopping, best iteration is:\n",
            "[2083]\ttraining's rmse: 3.42681\tvalid_1's rmse: 2.6878\n",
            "Our val mae score is 1.3640851510805887\n",
            "CA_4\n",
            "(4375090, 46)\n"
          ],
          "name": "stdout"
        },
        {
          "output_type": "stream",
          "text": [
            "/usr/local/lib/python3.6/dist-packages/lightgbm/engine.py:118: UserWarning: Found `num_iterations` in params. Will use it instead of argument\n",
            "  warnings.warn(\"Found `{}` in params. Will use it instead of argument\".format(alias))\n",
            "/usr/local/lib/python3.6/dist-packages/lightgbm/engine.py:123: UserWarning: Found `early_stopping_round` in params. Will use it instead of argument\n",
            "  warnings.warn(\"Found `{}` in params. Will use it instead of argument\".format(alias))\n",
            "/usr/local/lib/python3.6/dist-packages/lightgbm/basic.py:762: UserWarning: categorical_feature in param dict is overridden.\n",
            "  warnings.warn('categorical_feature in param dict is overridden.')\n"
          ],
          "name": "stderr"
        },
        {
          "output_type": "stream",
          "text": [
            "Training until validation scores don't improve for 500 rounds.\n",
            "[100]\ttraining's rmse: 1.60688\tvalid_1's rmse: 1.41603\n",
            "[200]\ttraining's rmse: 1.58485\tvalid_1's rmse: 1.41038\n",
            "[300]\ttraining's rmse: 1.57362\tvalid_1's rmse: 1.40701\n",
            "[400]\ttraining's rmse: 1.56605\tvalid_1's rmse: 1.40517\n",
            "[500]\ttraining's rmse: 1.56068\tvalid_1's rmse: 1.40387\n",
            "[600]\ttraining's rmse: 1.55038\tvalid_1's rmse: 1.40281\n",
            "[700]\ttraining's rmse: 1.54576\tvalid_1's rmse: 1.40294\n",
            "[800]\ttraining's rmse: 1.54284\tvalid_1's rmse: 1.40193\n",
            "[900]\ttraining's rmse: 1.53905\tvalid_1's rmse: 1.40171\n",
            "[1000]\ttraining's rmse: 1.53483\tvalid_1's rmse: 1.39991\n",
            "[1100]\ttraining's rmse: 1.53158\tvalid_1's rmse: 1.3989\n",
            "[1200]\ttraining's rmse: 1.52808\tvalid_1's rmse: 1.39755\n",
            "[1300]\ttraining's rmse: 1.52573\tvalid_1's rmse: 1.39762\n",
            "[1400]\ttraining's rmse: 1.52313\tvalid_1's rmse: 1.39873\n",
            "[1500]\ttraining's rmse: 1.52047\tvalid_1's rmse: 1.39909\n",
            "[1600]\ttraining's rmse: 1.51751\tvalid_1's rmse: 1.39922\n",
            "[1700]\ttraining's rmse: 1.51464\tvalid_1's rmse: 1.39892\n",
            "Early stopping, best iteration is:\n",
            "[1260]\ttraining's rmse: 1.527\tvalid_1's rmse: 1.39726\n",
            "Our val mae score is 0.7876034036528391\n",
            "TX_1\n",
            "(4519857, 46)\n"
          ],
          "name": "stdout"
        },
        {
          "output_type": "stream",
          "text": [
            "/usr/local/lib/python3.6/dist-packages/lightgbm/engine.py:118: UserWarning: Found `num_iterations` in params. Will use it instead of argument\n",
            "  warnings.warn(\"Found `{}` in params. Will use it instead of argument\".format(alias))\n",
            "/usr/local/lib/python3.6/dist-packages/lightgbm/engine.py:123: UserWarning: Found `early_stopping_round` in params. Will use it instead of argument\n",
            "  warnings.warn(\"Found `{}` in params. Will use it instead of argument\".format(alias))\n",
            "/usr/local/lib/python3.6/dist-packages/lightgbm/basic.py:762: UserWarning: categorical_feature in param dict is overridden.\n",
            "  warnings.warn('categorical_feature in param dict is overridden.')\n"
          ],
          "name": "stderr"
        },
        {
          "output_type": "stream",
          "text": [
            "Training until validation scores don't improve for 500 rounds.\n",
            "[100]\ttraining's rmse: 2.33216\tvalid_1's rmse: 1.87959\n",
            "[200]\ttraining's rmse: 2.27877\tvalid_1's rmse: 1.85823\n",
            "[300]\ttraining's rmse: 2.24034\tvalid_1's rmse: 1.84803\n",
            "[400]\ttraining's rmse: 2.21603\tvalid_1's rmse: 1.82019\n",
            "[500]\ttraining's rmse: 2.19685\tvalid_1's rmse: 1.81276\n",
            "[600]\ttraining's rmse: 2.18388\tvalid_1's rmse: 1.80593\n",
            "[700]\ttraining's rmse: 2.17428\tvalid_1's rmse: 1.80371\n",
            "[800]\ttraining's rmse: 2.16718\tvalid_1's rmse: 1.79968\n",
            "[900]\ttraining's rmse: 2.15671\tvalid_1's rmse: 1.80086\n",
            "[1000]\ttraining's rmse: 2.14552\tvalid_1's rmse: 1.79823\n",
            "[1100]\ttraining's rmse: 2.1395\tvalid_1's rmse: 1.79757\n",
            "[1200]\ttraining's rmse: 2.13345\tvalid_1's rmse: 1.79703\n",
            "[1300]\ttraining's rmse: 2.1262\tvalid_1's rmse: 1.79568\n",
            "[1400]\ttraining's rmse: 2.11877\tvalid_1's rmse: 1.78869\n",
            "[1500]\ttraining's rmse: 2.10987\tvalid_1's rmse: 1.78775\n",
            "[1600]\ttraining's rmse: 2.1024\tvalid_1's rmse: 1.78828\n",
            "[1700]\ttraining's rmse: 2.09761\tvalid_1's rmse: 1.78872\n",
            "[1800]\ttraining's rmse: 2.09115\tvalid_1's rmse: 1.78923\n",
            "[1900]\ttraining's rmse: 2.08611\tvalid_1's rmse: 1.78861\n",
            "[2000]\ttraining's rmse: 2.08129\tvalid_1's rmse: 1.7881\n",
            "Early stopping, best iteration is:\n",
            "[1521]\ttraining's rmse: 2.10636\tvalid_1's rmse: 1.78755\n",
            "Our val mae score is 0.8704522363210624\n",
            "TX_2\n",
            "(4530422, 46)\n"
          ],
          "name": "stdout"
        },
        {
          "output_type": "stream",
          "text": [
            "/usr/local/lib/python3.6/dist-packages/lightgbm/engine.py:118: UserWarning: Found `num_iterations` in params. Will use it instead of argument\n",
            "  warnings.warn(\"Found `{}` in params. Will use it instead of argument\".format(alias))\n",
            "/usr/local/lib/python3.6/dist-packages/lightgbm/engine.py:123: UserWarning: Found `early_stopping_round` in params. Will use it instead of argument\n",
            "  warnings.warn(\"Found `{}` in params. Will use it instead of argument\".format(alias))\n",
            "/usr/local/lib/python3.6/dist-packages/lightgbm/basic.py:762: UserWarning: categorical_feature in param dict is overridden.\n",
            "  warnings.warn('categorical_feature in param dict is overridden.')\n"
          ],
          "name": "stderr"
        },
        {
          "output_type": "stream",
          "text": [
            "Training until validation scores don't improve for 500 rounds.\n",
            "[100]\ttraining's rmse: 2.8176\tvalid_1's rmse: 1.91199\n",
            "[200]\ttraining's rmse: 2.72746\tvalid_1's rmse: 1.91942\n",
            "[300]\ttraining's rmse: 2.67981\tvalid_1's rmse: 1.92745\n",
            "[400]\ttraining's rmse: 2.64335\tvalid_1's rmse: 1.93693\n",
            "[500]\ttraining's rmse: 2.62825\tvalid_1's rmse: 1.93973\n",
            "[600]\ttraining's rmse: 2.61295\tvalid_1's rmse: 1.93596\n",
            "Early stopping, best iteration is:\n",
            "[101]\ttraining's rmse: 2.81675\tvalid_1's rmse: 1.9119\n",
            "Our val mae score is 0.9946499716107862\n",
            "TX_3\n",
            "(4459708, 46)\n"
          ],
          "name": "stdout"
        },
        {
          "output_type": "stream",
          "text": [
            "/usr/local/lib/python3.6/dist-packages/lightgbm/engine.py:118: UserWarning: Found `num_iterations` in params. Will use it instead of argument\n",
            "  warnings.warn(\"Found `{}` in params. Will use it instead of argument\".format(alias))\n",
            "/usr/local/lib/python3.6/dist-packages/lightgbm/engine.py:123: UserWarning: Found `early_stopping_round` in params. Will use it instead of argument\n",
            "  warnings.warn(\"Found `{}` in params. Will use it instead of argument\".format(alias))\n",
            "/usr/local/lib/python3.6/dist-packages/lightgbm/basic.py:762: UserWarning: categorical_feature in param dict is overridden.\n",
            "  warnings.warn('categorical_feature in param dict is overridden.')\n"
          ],
          "name": "stderr"
        },
        {
          "output_type": "stream",
          "text": [
            "Training until validation scores don't improve for 500 rounds.\n",
            "[100]\ttraining's rmse: 2.44818\tvalid_1's rmse: 1.89678\n",
            "[200]\ttraining's rmse: 2.36109\tvalid_1's rmse: 1.90403\n",
            "[300]\ttraining's rmse: 2.32881\tvalid_1's rmse: 1.9038\n",
            "[400]\ttraining's rmse: 2.29687\tvalid_1's rmse: 1.90418\n",
            "[500]\ttraining's rmse: 2.27794\tvalid_1's rmse: 1.90042\n",
            "Early stopping, best iteration is:\n",
            "[93]\ttraining's rmse: 2.46315\tvalid_1's rmse: 1.89541\n",
            "Our val mae score is 0.9730346302794791\n",
            "WI_1\n",
            "(4283308, 46)\n"
          ],
          "name": "stdout"
        },
        {
          "output_type": "stream",
          "text": [
            "/usr/local/lib/python3.6/dist-packages/lightgbm/engine.py:118: UserWarning: Found `num_iterations` in params. Will use it instead of argument\n",
            "  warnings.warn(\"Found `{}` in params. Will use it instead of argument\".format(alias))\n",
            "/usr/local/lib/python3.6/dist-packages/lightgbm/engine.py:123: UserWarning: Found `early_stopping_round` in params. Will use it instead of argument\n",
            "  warnings.warn(\"Found `{}` in params. Will use it instead of argument\".format(alias))\n",
            "/usr/local/lib/python3.6/dist-packages/lightgbm/basic.py:762: UserWarning: categorical_feature in param dict is overridden.\n",
            "  warnings.warn('categorical_feature in param dict is overridden.')\n"
          ],
          "name": "stderr"
        },
        {
          "output_type": "stream",
          "text": [
            "Training until validation scores don't improve for 500 rounds.\n",
            "[100]\ttraining's rmse: 1.84775\tvalid_1's rmse: 1.72298\n",
            "[200]\ttraining's rmse: 1.81131\tvalid_1's rmse: 1.72534\n",
            "[300]\ttraining's rmse: 1.7932\tvalid_1's rmse: 1.72873\n",
            "[400]\ttraining's rmse: 1.78007\tvalid_1's rmse: 1.73311\n",
            "[500]\ttraining's rmse: 1.77034\tvalid_1's rmse: 1.73027\n",
            "[600]\ttraining's rmse: 1.763\tvalid_1's rmse: 1.72776\n",
            "Early stopping, best iteration is:\n",
            "[133]\ttraining's rmse: 1.83056\tvalid_1's rmse: 1.71666\n",
            "Our val mae score is 0.9775109600536039\n",
            "WI_2\n",
            "(4368755, 46)\n"
          ],
          "name": "stdout"
        },
        {
          "output_type": "stream",
          "text": [
            "/usr/local/lib/python3.6/dist-packages/lightgbm/engine.py:118: UserWarning: Found `num_iterations` in params. Will use it instead of argument\n",
            "  warnings.warn(\"Found `{}` in params. Will use it instead of argument\".format(alias))\n",
            "/usr/local/lib/python3.6/dist-packages/lightgbm/engine.py:123: UserWarning: Found `early_stopping_round` in params. Will use it instead of argument\n",
            "  warnings.warn(\"Found `{}` in params. Will use it instead of argument\".format(alias))\n",
            "/usr/local/lib/python3.6/dist-packages/lightgbm/basic.py:762: UserWarning: categorical_feature in param dict is overridden.\n",
            "  warnings.warn('categorical_feature in param dict is overridden.')\n"
          ],
          "name": "stderr"
        },
        {
          "output_type": "stream",
          "text": [
            "Training until validation scores don't improve for 500 rounds.\n",
            "[100]\ttraining's rmse: 2.98717\tvalid_1's rmse: 3.12901\n",
            "[200]\ttraining's rmse: 2.92762\tvalid_1's rmse: 3.02704\n",
            "[300]\ttraining's rmse: 2.88503\tvalid_1's rmse: 2.97897\n",
            "[400]\ttraining's rmse: 2.85168\tvalid_1's rmse: 2.96039\n",
            "[500]\ttraining's rmse: 2.82793\tvalid_1's rmse: 2.94589\n",
            "[600]\ttraining's rmse: 2.81141\tvalid_1's rmse: 2.93245\n",
            "[700]\ttraining's rmse: 2.78149\tvalid_1's rmse: 2.9279\n",
            "[800]\ttraining's rmse: 2.75965\tvalid_1's rmse: 2.92051\n",
            "[900]\ttraining's rmse: 2.73859\tvalid_1's rmse: 2.91472\n",
            "[1000]\ttraining's rmse: 2.72051\tvalid_1's rmse: 2.93923\n",
            "[1100]\ttraining's rmse: 2.70646\tvalid_1's rmse: 2.93485\n",
            "[1200]\ttraining's rmse: 2.69344\tvalid_1's rmse: 2.93251\n",
            "[1300]\ttraining's rmse: 2.67655\tvalid_1's rmse: 2.94295\n",
            "[1400]\ttraining's rmse: 2.66237\tvalid_1's rmse: 2.94586\n",
            "Early stopping, best iteration is:\n",
            "[906]\ttraining's rmse: 2.73691\tvalid_1's rmse: 2.91426\n",
            "Our val mae score is 1.2173866542558944\n",
            "WI_3\n",
            "(4494582, 46)\n"
          ],
          "name": "stdout"
        },
        {
          "output_type": "stream",
          "text": [
            "/usr/local/lib/python3.6/dist-packages/lightgbm/engine.py:118: UserWarning: Found `num_iterations` in params. Will use it instead of argument\n",
            "  warnings.warn(\"Found `{}` in params. Will use it instead of argument\".format(alias))\n",
            "/usr/local/lib/python3.6/dist-packages/lightgbm/engine.py:123: UserWarning: Found `early_stopping_round` in params. Will use it instead of argument\n",
            "  warnings.warn(\"Found `{}` in params. Will use it instead of argument\".format(alias))\n",
            "/usr/local/lib/python3.6/dist-packages/lightgbm/basic.py:762: UserWarning: categorical_feature in param dict is overridden.\n",
            "  warnings.warn('categorical_feature in param dict is overridden.')\n"
          ],
          "name": "stderr"
        },
        {
          "output_type": "stream",
          "text": [
            "Training until validation scores don't improve for 500 rounds.\n",
            "[100]\ttraining's rmse: 2.69982\tvalid_1's rmse: 2.15618\n",
            "[200]\ttraining's rmse: 2.59432\tvalid_1's rmse: 2.10655\n",
            "[300]\ttraining's rmse: 2.54625\tvalid_1's rmse: 2.08508\n",
            "[400]\ttraining's rmse: 2.51113\tvalid_1's rmse: 2.06744\n",
            "[500]\ttraining's rmse: 2.48485\tvalid_1's rmse: 2.0616\n",
            "[600]\ttraining's rmse: 2.46356\tvalid_1's rmse: 2.05237\n",
            "[700]\ttraining's rmse: 2.44106\tvalid_1's rmse: 2.04406\n",
            "[800]\ttraining's rmse: 2.42237\tvalid_1's rmse: 2.04414\n",
            "[900]\ttraining's rmse: 2.40861\tvalid_1's rmse: 2.0452\n",
            "[1000]\ttraining's rmse: 2.39677\tvalid_1's rmse: 2.04494\n",
            "[1100]\ttraining's rmse: 2.37679\tvalid_1's rmse: 2.04668\n",
            "[1200]\ttraining's rmse: 2.36826\tvalid_1's rmse: 2.04667\n",
            "Early stopping, best iteration is:\n",
            "[716]\ttraining's rmse: 2.4389\tvalid_1's rmse: 2.04221\n",
            "Our val mae score is 0.9652190571403043\n",
            "----------------------\n",
            "2\n",
            "{'bagging_fraction': 0.75, 'bagging_freq': 5, 'boosting_type': 'gbdt', 'colsample_bytree': 0.75, 'early_stopping_round': 500, 'learning_rate': 0.075, 'metric': 'rmse', 'n_jobs': -1, 'num_iterations': 5000, 'objective': 'poisson', 'seed': 0}\n",
            "CA_1\n",
            "(4510808, 46)\n"
          ],
          "name": "stdout"
        },
        {
          "output_type": "stream",
          "text": [
            "/usr/local/lib/python3.6/dist-packages/lightgbm/engine.py:118: UserWarning: Found `num_iterations` in params. Will use it instead of argument\n",
            "  warnings.warn(\"Found `{}` in params. Will use it instead of argument\".format(alias))\n",
            "/usr/local/lib/python3.6/dist-packages/lightgbm/engine.py:123: UserWarning: Found `early_stopping_round` in params. Will use it instead of argument\n",
            "  warnings.warn(\"Found `{}` in params. Will use it instead of argument\".format(alias))\n",
            "/usr/local/lib/python3.6/dist-packages/lightgbm/basic.py:762: UserWarning: categorical_feature in param dict is overridden.\n",
            "  warnings.warn('categorical_feature in param dict is overridden.')\n"
          ],
          "name": "stderr"
        },
        {
          "output_type": "stream",
          "text": [
            "Training until validation scores don't improve for 500 rounds.\n",
            "[100]\ttraining's rmse: 2.77514\tvalid_1's rmse: 2.24269\n",
            "[200]\ttraining's rmse: 2.69872\tvalid_1's rmse: 2.21342\n",
            "[300]\ttraining's rmse: 2.62885\tvalid_1's rmse: 2.18448\n",
            "[400]\ttraining's rmse: 2.57822\tvalid_1's rmse: 2.16979\n",
            "[500]\ttraining's rmse: 2.5418\tvalid_1's rmse: 2.1689\n",
            "[600]\ttraining's rmse: 2.51616\tvalid_1's rmse: 2.16806\n",
            "[700]\ttraining's rmse: 2.49239\tvalid_1's rmse: 2.16451\n",
            "[800]\ttraining's rmse: 2.47698\tvalid_1's rmse: 2.17267\n",
            "[900]\ttraining's rmse: 2.45761\tvalid_1's rmse: 2.17195\n",
            "[1000]\ttraining's rmse: 2.43863\tvalid_1's rmse: 2.16788\n",
            "[1100]\ttraining's rmse: 2.42367\tvalid_1's rmse: 2.17041\n",
            "[1200]\ttraining's rmse: 2.40696\tvalid_1's rmse: 2.17116\n",
            "Early stopping, best iteration is:\n",
            "[722]\ttraining's rmse: 2.4882\tvalid_1's rmse: 2.16328\n",
            "Our val mae score is 1.1362573852703388\n",
            "CA_2\n",
            "(4082924, 46)\n"
          ],
          "name": "stdout"
        },
        {
          "output_type": "stream",
          "text": [
            "/usr/local/lib/python3.6/dist-packages/lightgbm/engine.py:118: UserWarning: Found `num_iterations` in params. Will use it instead of argument\n",
            "  warnings.warn(\"Found `{}` in params. Will use it instead of argument\".format(alias))\n",
            "/usr/local/lib/python3.6/dist-packages/lightgbm/engine.py:123: UserWarning: Found `early_stopping_round` in params. Will use it instead of argument\n",
            "  warnings.warn(\"Found `{}` in params. Will use it instead of argument\".format(alias))\n",
            "/usr/local/lib/python3.6/dist-packages/lightgbm/basic.py:762: UserWarning: categorical_feature in param dict is overridden.\n",
            "  warnings.warn('categorical_feature in param dict is overridden.')\n"
          ],
          "name": "stderr"
        },
        {
          "output_type": "stream",
          "text": [
            "Training until validation scores don't improve for 500 rounds.\n",
            "[100]\ttraining's rmse: 2.18674\tvalid_1's rmse: 2.12058\n",
            "[200]\ttraining's rmse: 2.15024\tvalid_1's rmse: 2.10808\n",
            "[300]\ttraining's rmse: 2.11978\tvalid_1's rmse: 2.10214\n",
            "[400]\ttraining's rmse: 2.0955\tvalid_1's rmse: 2.09466\n",
            "[500]\ttraining's rmse: 2.07866\tvalid_1's rmse: 2.08681\n",
            "[600]\ttraining's rmse: 2.06195\tvalid_1's rmse: 2.07633\n",
            "[700]\ttraining's rmse: 2.04858\tvalid_1's rmse: 2.07002\n",
            "[800]\ttraining's rmse: 2.03652\tvalid_1's rmse: 2.06466\n",
            "[900]\ttraining's rmse: 2.02461\tvalid_1's rmse: 2.06286\n",
            "[1000]\ttraining's rmse: 2.01686\tvalid_1's rmse: 2.0613\n",
            "[1100]\ttraining's rmse: 2.00773\tvalid_1's rmse: 2.05687\n",
            "[1200]\ttraining's rmse: 2.00027\tvalid_1's rmse: 2.05689\n",
            "[1300]\ttraining's rmse: 1.99177\tvalid_1's rmse: 2.05607\n",
            "[1400]\ttraining's rmse: 1.9849\tvalid_1's rmse: 2.05511\n",
            "[1500]\ttraining's rmse: 1.97853\tvalid_1's rmse: 2.05358\n",
            "[1600]\ttraining's rmse: 1.97156\tvalid_1's rmse: 2.05287\n",
            "[1700]\ttraining's rmse: 1.96461\tvalid_1's rmse: 2.05058\n",
            "[1800]\ttraining's rmse: 1.95848\tvalid_1's rmse: 2.05065\n",
            "[1900]\ttraining's rmse: 1.95301\tvalid_1's rmse: 2.04915\n",
            "[2000]\ttraining's rmse: 1.94752\tvalid_1's rmse: 2.04439\n",
            "[2100]\ttraining's rmse: 1.94176\tvalid_1's rmse: 2.04444\n",
            "[2200]\ttraining's rmse: 1.93651\tvalid_1's rmse: 2.04358\n",
            "[2300]\ttraining's rmse: 1.93184\tvalid_1's rmse: 2.04334\n",
            "[2400]\ttraining's rmse: 1.92728\tvalid_1's rmse: 2.04774\n",
            "[2500]\ttraining's rmse: 1.92274\tvalid_1's rmse: 2.04784\n",
            "[2600]\ttraining's rmse: 1.91817\tvalid_1's rmse: 2.04813\n",
            "[2700]\ttraining's rmse: 1.91344\tvalid_1's rmse: 2.04855\n",
            "[2800]\ttraining's rmse: 1.90893\tvalid_1's rmse: 2.04917\n",
            "Early stopping, best iteration is:\n",
            "[2327]\ttraining's rmse: 1.93067\tvalid_1's rmse: 2.04314\n",
            "Our val mae score is 1.1205669852549596\n",
            "CA_3\n",
            "(4479854, 46)\n"
          ],
          "name": "stdout"
        },
        {
          "output_type": "stream",
          "text": [
            "/usr/local/lib/python3.6/dist-packages/lightgbm/engine.py:118: UserWarning: Found `num_iterations` in params. Will use it instead of argument\n",
            "  warnings.warn(\"Found `{}` in params. Will use it instead of argument\".format(alias))\n",
            "/usr/local/lib/python3.6/dist-packages/lightgbm/engine.py:123: UserWarning: Found `early_stopping_round` in params. Will use it instead of argument\n",
            "  warnings.warn(\"Found `{}` in params. Will use it instead of argument\".format(alias))\n",
            "/usr/local/lib/python3.6/dist-packages/lightgbm/basic.py:762: UserWarning: categorical_feature in param dict is overridden.\n",
            "  warnings.warn('categorical_feature in param dict is overridden.')\n"
          ],
          "name": "stderr"
        },
        {
          "output_type": "stream",
          "text": [
            "Training until validation scores don't improve for 500 rounds.\n",
            "[100]\ttraining's rmse: 4.28831\tvalid_1's rmse: 2.89134\n",
            "[200]\ttraining's rmse: 3.94566\tvalid_1's rmse: 2.81932\n",
            "[300]\ttraining's rmse: 3.76863\tvalid_1's rmse: 2.77986\n",
            "[400]\ttraining's rmse: 3.68616\tvalid_1's rmse: 2.77169\n",
            "[500]\ttraining's rmse: 3.61252\tvalid_1's rmse: 2.75842\n",
            "[600]\ttraining's rmse: 3.5291\tvalid_1's rmse: 2.74842\n",
            "[700]\ttraining's rmse: 3.48001\tvalid_1's rmse: 2.74321\n",
            "[800]\ttraining's rmse: 3.44036\tvalid_1's rmse: 2.73285\n",
            "[900]\ttraining's rmse: 3.40798\tvalid_1's rmse: 2.72813\n",
            "[1000]\ttraining's rmse: 3.37863\tvalid_1's rmse: 2.72175\n",
            "[1100]\ttraining's rmse: 3.34898\tvalid_1's rmse: 2.72513\n",
            "[1200]\ttraining's rmse: 3.32307\tvalid_1's rmse: 2.72034\n",
            "[1300]\ttraining's rmse: 3.30224\tvalid_1's rmse: 2.72307\n",
            "[1400]\ttraining's rmse: 3.2829\tvalid_1's rmse: 2.72233\n",
            "[1500]\ttraining's rmse: 3.26177\tvalid_1's rmse: 2.72086\n",
            "[1600]\ttraining's rmse: 3.23953\tvalid_1's rmse: 2.72158\n",
            "[1700]\ttraining's rmse: 3.22074\tvalid_1's rmse: 2.72632\n",
            "Early stopping, best iteration is:\n",
            "[1201]\ttraining's rmse: 3.3225\tvalid_1's rmse: 2.71959\n",
            "Our val mae score is 1.3913763828444379\n",
            "CA_4\n",
            "(4375090, 46)\n"
          ],
          "name": "stdout"
        },
        {
          "output_type": "stream",
          "text": [
            "/usr/local/lib/python3.6/dist-packages/lightgbm/engine.py:118: UserWarning: Found `num_iterations` in params. Will use it instead of argument\n",
            "  warnings.warn(\"Found `{}` in params. Will use it instead of argument\".format(alias))\n",
            "/usr/local/lib/python3.6/dist-packages/lightgbm/engine.py:123: UserWarning: Found `early_stopping_round` in params. Will use it instead of argument\n",
            "  warnings.warn(\"Found `{}` in params. Will use it instead of argument\".format(alias))\n",
            "/usr/local/lib/python3.6/dist-packages/lightgbm/basic.py:762: UserWarning: categorical_feature in param dict is overridden.\n",
            "  warnings.warn('categorical_feature in param dict is overridden.')\n"
          ],
          "name": "stderr"
        },
        {
          "output_type": "stream",
          "text": [
            "Training until validation scores don't improve for 500 rounds.\n",
            "[100]\ttraining's rmse: 1.59467\tvalid_1's rmse: 1.4229\n",
            "[200]\ttraining's rmse: 1.5677\tvalid_1's rmse: 1.41107\n",
            "[300]\ttraining's rmse: 1.5514\tvalid_1's rmse: 1.4036\n",
            "[400]\ttraining's rmse: 1.53778\tvalid_1's rmse: 1.40201\n",
            "[500]\ttraining's rmse: 1.52735\tvalid_1's rmse: 1.40092\n",
            "[600]\ttraining's rmse: 1.51761\tvalid_1's rmse: 1.40078\n",
            "[700]\ttraining's rmse: 1.51045\tvalid_1's rmse: 1.401\n",
            "[800]\ttraining's rmse: 1.50425\tvalid_1's rmse: 1.40044\n",
            "[900]\ttraining's rmse: 1.49756\tvalid_1's rmse: 1.40141\n",
            "[1000]\ttraining's rmse: 1.49149\tvalid_1's rmse: 1.40236\n",
            "Early stopping, best iteration is:\n",
            "[544]\ttraining's rmse: 1.52228\tvalid_1's rmse: 1.40006\n",
            "Our val mae score is 0.7933121849805503\n",
            "TX_1\n",
            "(4519857, 46)\n"
          ],
          "name": "stdout"
        },
        {
          "output_type": "stream",
          "text": [
            "/usr/local/lib/python3.6/dist-packages/lightgbm/engine.py:118: UserWarning: Found `num_iterations` in params. Will use it instead of argument\n",
            "  warnings.warn(\"Found `{}` in params. Will use it instead of argument\".format(alias))\n",
            "/usr/local/lib/python3.6/dist-packages/lightgbm/engine.py:123: UserWarning: Found `early_stopping_round` in params. Will use it instead of argument\n",
            "  warnings.warn(\"Found `{}` in params. Will use it instead of argument\".format(alias))\n",
            "/usr/local/lib/python3.6/dist-packages/lightgbm/basic.py:762: UserWarning: categorical_feature in param dict is overridden.\n",
            "  warnings.warn('categorical_feature in param dict is overridden.')\n"
          ],
          "name": "stderr"
        },
        {
          "output_type": "stream",
          "text": [
            "Training until validation scores don't improve for 500 rounds.\n",
            "[100]\ttraining's rmse: 2.33139\tvalid_1's rmse: 1.91278\n",
            "[200]\ttraining's rmse: 2.22801\tvalid_1's rmse: 1.88411\n",
            "[300]\ttraining's rmse: 2.17354\tvalid_1's rmse: 1.85767\n",
            "[400]\ttraining's rmse: 2.12832\tvalid_1's rmse: 1.82848\n",
            "[500]\ttraining's rmse: 2.09987\tvalid_1's rmse: 1.82081\n",
            "[600]\ttraining's rmse: 2.07472\tvalid_1's rmse: 1.79724\n",
            "[700]\ttraining's rmse: 2.05546\tvalid_1's rmse: 1.79323\n",
            "[800]\ttraining's rmse: 2.0356\tvalid_1's rmse: 1.79203\n",
            "[900]\ttraining's rmse: 2.02116\tvalid_1's rmse: 1.79083\n",
            "[1000]\ttraining's rmse: 2.00724\tvalid_1's rmse: 1.78793\n",
            "[1100]\ttraining's rmse: 1.99622\tvalid_1's rmse: 1.78148\n",
            "[1200]\ttraining's rmse: 1.98382\tvalid_1's rmse: 1.78171\n",
            "[1300]\ttraining's rmse: 1.97016\tvalid_1's rmse: 1.77872\n",
            "[1400]\ttraining's rmse: 1.96105\tvalid_1's rmse: 1.77234\n",
            "[1500]\ttraining's rmse: 1.95149\tvalid_1's rmse: 1.77004\n",
            "[1600]\ttraining's rmse: 1.94316\tvalid_1's rmse: 1.77065\n",
            "[1700]\ttraining's rmse: 1.93566\tvalid_1's rmse: 1.76743\n",
            "[1800]\ttraining's rmse: 1.92745\tvalid_1's rmse: 1.76677\n",
            "[1900]\ttraining's rmse: 1.9204\tvalid_1's rmse: 1.7672\n",
            "[2000]\ttraining's rmse: 1.91059\tvalid_1's rmse: 1.76426\n",
            "[2100]\ttraining's rmse: 1.90383\tvalid_1's rmse: 1.76203\n",
            "[2200]\ttraining's rmse: 1.89722\tvalid_1's rmse: 1.76136\n",
            "[2300]\ttraining's rmse: 1.89111\tvalid_1's rmse: 1.76145\n",
            "[2400]\ttraining's rmse: 1.88498\tvalid_1's rmse: 1.76076\n",
            "[2500]\ttraining's rmse: 1.87928\tvalid_1's rmse: 1.75858\n",
            "[2600]\ttraining's rmse: 1.87223\tvalid_1's rmse: 1.75754\n",
            "[2700]\ttraining's rmse: 1.86524\tvalid_1's rmse: 1.75739\n",
            "[2800]\ttraining's rmse: 1.85931\tvalid_1's rmse: 1.75692\n",
            "[2900]\ttraining's rmse: 1.85388\tvalid_1's rmse: 1.76315\n",
            "[3000]\ttraining's rmse: 1.84797\tvalid_1's rmse: 1.76285\n",
            "[3100]\ttraining's rmse: 1.84347\tvalid_1's rmse: 1.76115\n",
            "Early stopping, best iteration is:\n",
            "[2647]\ttraining's rmse: 1.86844\tvalid_1's rmse: 1.75621\n",
            "Our val mae score is 0.8751577424721193\n",
            "TX_2\n",
            "(4530422, 46)\n"
          ],
          "name": "stdout"
        },
        {
          "output_type": "stream",
          "text": [
            "/usr/local/lib/python3.6/dist-packages/lightgbm/engine.py:118: UserWarning: Found `num_iterations` in params. Will use it instead of argument\n",
            "  warnings.warn(\"Found `{}` in params. Will use it instead of argument\".format(alias))\n",
            "/usr/local/lib/python3.6/dist-packages/lightgbm/engine.py:123: UserWarning: Found `early_stopping_round` in params. Will use it instead of argument\n",
            "  warnings.warn(\"Found `{}` in params. Will use it instead of argument\".format(alias))\n",
            "/usr/local/lib/python3.6/dist-packages/lightgbm/basic.py:762: UserWarning: categorical_feature in param dict is overridden.\n",
            "  warnings.warn('categorical_feature in param dict is overridden.')\n"
          ],
          "name": "stderr"
        },
        {
          "output_type": "stream",
          "text": [
            "Training until validation scores don't improve for 500 rounds.\n",
            "[100]\ttraining's rmse: 2.76509\tvalid_1's rmse: 1.99353\n",
            "[200]\ttraining's rmse: 2.67718\tvalid_1's rmse: 1.99309\n",
            "[300]\ttraining's rmse: 2.60376\tvalid_1's rmse: 1.97185\n",
            "[400]\ttraining's rmse: 2.54014\tvalid_1's rmse: 1.9553\n",
            "[500]\ttraining's rmse: 2.50014\tvalid_1's rmse: 1.95443\n",
            "[600]\ttraining's rmse: 2.46564\tvalid_1's rmse: 1.94304\n",
            "[700]\ttraining's rmse: 2.44082\tvalid_1's rmse: 1.94024\n",
            "[800]\ttraining's rmse: 2.41797\tvalid_1's rmse: 1.93687\n",
            "[900]\ttraining's rmse: 2.39727\tvalid_1's rmse: 1.93172\n",
            "[1000]\ttraining's rmse: 2.3796\tvalid_1's rmse: 1.93321\n",
            "[1100]\ttraining's rmse: 2.36073\tvalid_1's rmse: 1.93515\n",
            "[1200]\ttraining's rmse: 2.34537\tvalid_1's rmse: 1.93699\n",
            "[1300]\ttraining's rmse: 2.33359\tvalid_1's rmse: 1.96203\n",
            "[1400]\ttraining's rmse: 2.32214\tvalid_1's rmse: 1.95915\n",
            "Early stopping, best iteration is:\n",
            "[959]\ttraining's rmse: 2.38613\tvalid_1's rmse: 1.93068\n",
            "Our val mae score is 1.0017777919157649\n",
            "TX_3\n",
            "(4459708, 46)\n"
          ],
          "name": "stdout"
        },
        {
          "output_type": "stream",
          "text": [
            "/usr/local/lib/python3.6/dist-packages/lightgbm/engine.py:118: UserWarning: Found `num_iterations` in params. Will use it instead of argument\n",
            "  warnings.warn(\"Found `{}` in params. Will use it instead of argument\".format(alias))\n",
            "/usr/local/lib/python3.6/dist-packages/lightgbm/engine.py:123: UserWarning: Found `early_stopping_round` in params. Will use it instead of argument\n",
            "  warnings.warn(\"Found `{}` in params. Will use it instead of argument\".format(alias))\n",
            "/usr/local/lib/python3.6/dist-packages/lightgbm/basic.py:762: UserWarning: categorical_feature in param dict is overridden.\n",
            "  warnings.warn('categorical_feature in param dict is overridden.')\n"
          ],
          "name": "stderr"
        },
        {
          "output_type": "stream",
          "text": [
            "Training until validation scores don't improve for 500 rounds.\n",
            "[100]\ttraining's rmse: 2.41312\tvalid_1's rmse: 1.92615\n",
            "[200]\ttraining's rmse: 2.33733\tvalid_1's rmse: 1.93682\n",
            "[300]\ttraining's rmse: 2.27886\tvalid_1's rmse: 1.93926\n",
            "[400]\ttraining's rmse: 2.22914\tvalid_1's rmse: 1.97577\n",
            "[500]\ttraining's rmse: 2.2015\tvalid_1's rmse: 1.98443\n",
            "Early stopping, best iteration is:\n",
            "[70]\ttraining's rmse: 2.44251\tvalid_1's rmse: 1.9157\n",
            "Our val mae score is 0.992948380674265\n",
            "WI_1\n",
            "(4283308, 46)\n"
          ],
          "name": "stdout"
        },
        {
          "output_type": "stream",
          "text": [
            "/usr/local/lib/python3.6/dist-packages/lightgbm/engine.py:118: UserWarning: Found `num_iterations` in params. Will use it instead of argument\n",
            "  warnings.warn(\"Found `{}` in params. Will use it instead of argument\".format(alias))\n",
            "/usr/local/lib/python3.6/dist-packages/lightgbm/engine.py:123: UserWarning: Found `early_stopping_round` in params. Will use it instead of argument\n",
            "  warnings.warn(\"Found `{}` in params. Will use it instead of argument\".format(alias))\n",
            "/usr/local/lib/python3.6/dist-packages/lightgbm/basic.py:762: UserWarning: categorical_feature in param dict is overridden.\n",
            "  warnings.warn('categorical_feature in param dict is overridden.')\n"
          ],
          "name": "stderr"
        },
        {
          "output_type": "stream",
          "text": [
            "Training until validation scores don't improve for 500 rounds.\n",
            "[100]\ttraining's rmse: 1.82628\tvalid_1's rmse: 1.73742\n",
            "[200]\ttraining's rmse: 1.79483\tvalid_1's rmse: 1.73487\n",
            "[300]\ttraining's rmse: 1.77332\tvalid_1's rmse: 1.73891\n",
            "[400]\ttraining's rmse: 1.75621\tvalid_1's rmse: 1.75721\n",
            "[500]\ttraining's rmse: 1.74166\tvalid_1's rmse: 1.76178\n",
            "[600]\ttraining's rmse: 1.73117\tvalid_1's rmse: 1.75932\n",
            "Early stopping, best iteration is:\n",
            "[142]\ttraining's rmse: 1.81181\tvalid_1's rmse: 1.72854\n",
            "Our val mae score is 0.9802811702869343\n",
            "WI_2\n",
            "(4368755, 46)\n"
          ],
          "name": "stdout"
        },
        {
          "output_type": "stream",
          "text": [
            "/usr/local/lib/python3.6/dist-packages/lightgbm/engine.py:118: UserWarning: Found `num_iterations` in params. Will use it instead of argument\n",
            "  warnings.warn(\"Found `{}` in params. Will use it instead of argument\".format(alias))\n",
            "/usr/local/lib/python3.6/dist-packages/lightgbm/engine.py:123: UserWarning: Found `early_stopping_round` in params. Will use it instead of argument\n",
            "  warnings.warn(\"Found `{}` in params. Will use it instead of argument\".format(alias))\n",
            "/usr/local/lib/python3.6/dist-packages/lightgbm/basic.py:762: UserWarning: categorical_feature in param dict is overridden.\n",
            "  warnings.warn('categorical_feature in param dict is overridden.')\n"
          ],
          "name": "stderr"
        },
        {
          "output_type": "stream",
          "text": [
            "Training until validation scores don't improve for 500 rounds.\n",
            "[100]\ttraining's rmse: 2.9502\tvalid_1's rmse: 3.03349\n",
            "[200]\ttraining's rmse: 2.87682\tvalid_1's rmse: 2.95672\n",
            "[300]\ttraining's rmse: 2.81221\tvalid_1's rmse: 2.94607\n",
            "[400]\ttraining's rmse: 2.7645\tvalid_1's rmse: 2.95476\n",
            "[500]\ttraining's rmse: 2.72225\tvalid_1's rmse: 2.9448\n",
            "[600]\ttraining's rmse: 2.69034\tvalid_1's rmse: 2.9409\n",
            "[700]\ttraining's rmse: 2.65817\tvalid_1's rmse: 2.94105\n",
            "[800]\ttraining's rmse: 2.63035\tvalid_1's rmse: 2.93993\n",
            "[900]\ttraining's rmse: 2.60335\tvalid_1's rmse: 2.92913\n",
            "[1000]\ttraining's rmse: 2.58055\tvalid_1's rmse: 2.93679\n",
            "[1100]\ttraining's rmse: 2.55847\tvalid_1's rmse: 2.94189\n",
            "[1200]\ttraining's rmse: 2.53666\tvalid_1's rmse: 2.9429\n",
            "[1300]\ttraining's rmse: 2.51499\tvalid_1's rmse: 2.94346\n",
            "Early stopping, best iteration is:\n",
            "[884]\ttraining's rmse: 2.60813\tvalid_1's rmse: 2.92827\n",
            "Our val mae score is 1.2281199992306056\n",
            "WI_3\n",
            "(4494582, 46)\n"
          ],
          "name": "stdout"
        },
        {
          "output_type": "stream",
          "text": [
            "/usr/local/lib/python3.6/dist-packages/lightgbm/engine.py:118: UserWarning: Found `num_iterations` in params. Will use it instead of argument\n",
            "  warnings.warn(\"Found `{}` in params. Will use it instead of argument\".format(alias))\n",
            "/usr/local/lib/python3.6/dist-packages/lightgbm/engine.py:123: UserWarning: Found `early_stopping_round` in params. Will use it instead of argument\n",
            "  warnings.warn(\"Found `{}` in params. Will use it instead of argument\".format(alias))\n",
            "/usr/local/lib/python3.6/dist-packages/lightgbm/basic.py:762: UserWarning: categorical_feature in param dict is overridden.\n",
            "  warnings.warn('categorical_feature in param dict is overridden.')\n"
          ],
          "name": "stderr"
        },
        {
          "output_type": "stream",
          "text": [
            "Training until validation scores don't improve for 500 rounds.\n",
            "[100]\ttraining's rmse: 2.74875\tvalid_1's rmse: 2.13671\n",
            "[200]\ttraining's rmse: 2.59756\tvalid_1's rmse: 2.09752\n",
            "[300]\ttraining's rmse: 2.51161\tvalid_1's rmse: 2.06684\n",
            "[400]\ttraining's rmse: 2.45329\tvalid_1's rmse: 2.04551\n",
            "[500]\ttraining's rmse: 2.41203\tvalid_1's rmse: 2.03336\n",
            "[600]\ttraining's rmse: 2.37534\tvalid_1's rmse: 2.02877\n",
            "[700]\ttraining's rmse: 2.34403\tvalid_1's rmse: 2.02431\n",
            "[800]\ttraining's rmse: 2.32089\tvalid_1's rmse: 2.01797\n",
            "[900]\ttraining's rmse: 2.29906\tvalid_1's rmse: 2.02106\n",
            "[1000]\ttraining's rmse: 2.27509\tvalid_1's rmse: 2.019\n",
            "[1100]\ttraining's rmse: 2.25628\tvalid_1's rmse: 2.02141\n",
            "[1200]\ttraining's rmse: 2.24164\tvalid_1's rmse: 2.02244\n",
            "Early stopping, best iteration is:\n",
            "[799]\ttraining's rmse: 2.32137\tvalid_1's rmse: 2.01796\n",
            "Our val mae score is 0.973186267579071\n",
            "----------------------\n",
            "3\n",
            "{'bagging_fraction': 0.75, 'bagging_freq': 5, 'boosting_type': 'gbdt', 'colsample_bytree': 0.75, 'early_stopping_round': 500, 'learning_rate': 0.075, 'metric': 'rmse', 'n_jobs': -1, 'num_iterations': 5000, 'objective': 'tweedie', 'seed': 0}\n",
            "CA_1\n",
            "(4510808, 46)\n"
          ],
          "name": "stdout"
        },
        {
          "output_type": "stream",
          "text": [
            "/usr/local/lib/python3.6/dist-packages/lightgbm/engine.py:118: UserWarning: Found `num_iterations` in params. Will use it instead of argument\n",
            "  warnings.warn(\"Found `{}` in params. Will use it instead of argument\".format(alias))\n",
            "/usr/local/lib/python3.6/dist-packages/lightgbm/engine.py:123: UserWarning: Found `early_stopping_round` in params. Will use it instead of argument\n",
            "  warnings.warn(\"Found `{}` in params. Will use it instead of argument\".format(alias))\n",
            "/usr/local/lib/python3.6/dist-packages/lightgbm/basic.py:762: UserWarning: categorical_feature in param dict is overridden.\n",
            "  warnings.warn('categorical_feature in param dict is overridden.')\n"
          ],
          "name": "stderr"
        },
        {
          "output_type": "stream",
          "text": [
            "Training until validation scores don't improve for 500 rounds.\n",
            "[100]\ttraining's rmse: 2.75678\tvalid_1's rmse: 2.20561\n",
            "[200]\ttraining's rmse: 2.69336\tvalid_1's rmse: 2.16226\n",
            "[300]\ttraining's rmse: 2.64948\tvalid_1's rmse: 2.15948\n",
            "[400]\ttraining's rmse: 2.6101\tvalid_1's rmse: 2.15467\n",
            "[500]\ttraining's rmse: 2.58824\tvalid_1's rmse: 2.16156\n",
            "[600]\ttraining's rmse: 2.57031\tvalid_1's rmse: 2.16723\n",
            "[700]\ttraining's rmse: 2.55209\tvalid_1's rmse: 2.17212\n",
            "[800]\ttraining's rmse: 2.54115\tvalid_1's rmse: 2.1738\n",
            "[900]\ttraining's rmse: 2.52793\tvalid_1's rmse: 2.1732\n",
            "Early stopping, best iteration is:\n",
            "[425]\ttraining's rmse: 2.6059\tvalid_1's rmse: 2.15424\n",
            "Our val mae score is 1.1226090787182719\n",
            "CA_2\n",
            "(4082924, 46)\n"
          ],
          "name": "stdout"
        },
        {
          "output_type": "stream",
          "text": [
            "/usr/local/lib/python3.6/dist-packages/lightgbm/engine.py:118: UserWarning: Found `num_iterations` in params. Will use it instead of argument\n",
            "  warnings.warn(\"Found `{}` in params. Will use it instead of argument\".format(alias))\n",
            "/usr/local/lib/python3.6/dist-packages/lightgbm/engine.py:123: UserWarning: Found `early_stopping_round` in params. Will use it instead of argument\n",
            "  warnings.warn(\"Found `{}` in params. Will use it instead of argument\".format(alias))\n",
            "/usr/local/lib/python3.6/dist-packages/lightgbm/basic.py:762: UserWarning: categorical_feature in param dict is overridden.\n",
            "  warnings.warn('categorical_feature in param dict is overridden.')\n"
          ],
          "name": "stderr"
        },
        {
          "output_type": "stream",
          "text": [
            "Training until validation scores don't improve for 500 rounds.\n",
            "[100]\ttraining's rmse: 2.18502\tvalid_1's rmse: 2.10791\n",
            "[200]\ttraining's rmse: 2.15176\tvalid_1's rmse: 2.0969\n",
            "[300]\ttraining's rmse: 2.13519\tvalid_1's rmse: 2.09247\n",
            "[400]\ttraining's rmse: 2.11441\tvalid_1's rmse: 2.09211\n",
            "[500]\ttraining's rmse: 2.09934\tvalid_1's rmse: 2.08787\n",
            "[600]\ttraining's rmse: 2.08778\tvalid_1's rmse: 2.08404\n",
            "[700]\ttraining's rmse: 2.07869\tvalid_1's rmse: 2.08461\n",
            "[800]\ttraining's rmse: 2.06934\tvalid_1's rmse: 2.07258\n",
            "[900]\ttraining's rmse: 2.06227\tvalid_1's rmse: 2.07344\n",
            "[1000]\ttraining's rmse: 2.05389\tvalid_1's rmse: 2.07188\n",
            "[1100]\ttraining's rmse: 2.04533\tvalid_1's rmse: 2.06842\n",
            "[1200]\ttraining's rmse: 2.0397\tvalid_1's rmse: 2.06928\n",
            "[1300]\ttraining's rmse: 2.03346\tvalid_1's rmse: 2.06738\n",
            "[1400]\ttraining's rmse: 2.02773\tvalid_1's rmse: 2.06738\n",
            "[1500]\ttraining's rmse: 2.02146\tvalid_1's rmse: 2.06349\n",
            "[1600]\ttraining's rmse: 2.01577\tvalid_1's rmse: 2.06118\n",
            "[1700]\ttraining's rmse: 2.01044\tvalid_1's rmse: 2.05922\n",
            "[1800]\ttraining's rmse: 2.00359\tvalid_1's rmse: 2.05655\n",
            "[1900]\ttraining's rmse: 1.99891\tvalid_1's rmse: 2.05606\n",
            "[2000]\ttraining's rmse: 1.99632\tvalid_1's rmse: 2.05459\n",
            "[2100]\ttraining's rmse: 1.99197\tvalid_1's rmse: 2.05418\n",
            "[2200]\ttraining's rmse: 1.98851\tvalid_1's rmse: 2.03504\n",
            "[2300]\ttraining's rmse: 1.98527\tvalid_1's rmse: 2.03422\n",
            "[2400]\ttraining's rmse: 1.98307\tvalid_1's rmse: 2.03382\n",
            "[2500]\ttraining's rmse: 1.98\tvalid_1's rmse: 2.03338\n",
            "[2600]\ttraining's rmse: 1.97637\tvalid_1's rmse: 2.02903\n"
          ],
          "name": "stdout"
        }
      ]
    },
    {
      "cell_type": "code",
      "metadata": {
        "id": "IPa-ZAxwDjZ1",
        "colab_type": "code",
        "colab": {}
      },
      "source": [
        "np.sqrt(np.mean((pred_true['pred'] - pred_true['true'])**2) )"
      ],
      "execution_count": 0,
      "outputs": []
    },
    {
      "cell_type": "code",
      "metadata": {
        "id": "uVWVgCSsDT1t",
        "colab_type": "code",
        "colab": {}
      },
      "source": [
        "np.mean(np.abs(pred_true['pred'] - pred_true['true']) )"
      ],
      "execution_count": 0,
      "outputs": []
    },
    {
      "cell_type": "code",
      "metadata": {
        "id": "mVr0NRqYYSjD",
        "colab_type": "code",
        "colab": {}
      },
      "source": [
        "validation = validation.set_index('id')\n",
        "validation = validation.reindex(index=validation_csv['id'])\n",
        "validation = validation.reset_index()"
      ],
      "execution_count": 0,
      "outputs": []
    },
    {
      "cell_type": "code",
      "metadata": {
        "id": "_6HOyj95YSjK",
        "colab_type": "code",
        "colab": {}
      },
      "source": [
        "validation"
      ],
      "execution_count": 0,
      "outputs": []
    },
    {
      "cell_type": "code",
      "metadata": {
        "id": "76_9Dc93YSjQ",
        "colab_type": "code",
        "colab": {}
      },
      "source": [
        "final = pd.concat([validation, evaluation])"
      ],
      "execution_count": 0,
      "outputs": []
    },
    {
      "cell_type": "code",
      "metadata": {
        "id": "uwXWKZlaYSj0",
        "colab_type": "code",
        "colab": {}
      },
      "source": [
        "submission_folder = '/content/drive/My Drive/Kaggle_M5/04_submissions/'\n",
        "final.to_csv(submission_folder  + 'submission-by_store.csv', index = False)"
      ],
      "execution_count": 0,
      "outputs": []
    },
    {
      "cell_type": "code",
      "metadata": {
        "id": "Ar8YLi5uvc0R",
        "colab_type": "code",
        "colab": {}
      },
      "source": [
        ""
      ],
      "execution_count": 0,
      "outputs": []
    }
  ]
}