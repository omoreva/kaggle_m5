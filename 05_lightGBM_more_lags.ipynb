{
 "cells": [
  {
   "cell_type": "code",
   "execution_count": 1,
   "metadata": {},
   "outputs": [],
   "source": [
    "import pandas as pd\n",
    "import numpy as np\n",
    "from datetime  import datetime  \n",
    "from datetime import timedelta  \n",
    "import lightgbm as lgb\n",
    "from sklearn import preprocessing, metrics\n",
    "from sklearn.model_selection import ParameterGrid\n",
    "import matplotlib.pyplot as plt\n",
    "import seaborn as sns\n",
    "import mlflow\n",
    "import mlflow.lightgbm"
   ]
  },
  {
   "cell_type": "code",
   "execution_count": 2,
   "metadata": {},
   "outputs": [],
   "source": [
    "X_train = pd.read_pickle('../01_preprocessed_data/X_1_train.pkl')\n",
    "y_train = pd.read_pickle('../01_preprocessed_data/y_1_train.pkl')\n",
    "X_val = pd.read_pickle('../01_preprocessed_data/X_1_val.pkl')\n",
    "y_val = pd.read_pickle('../01_preprocessed_data/y_1_val.pkl')\n",
    "X_test = pd.read_pickle('../01_preprocessed_data/X_1_test.pkl')"
   ]
  },
  {
   "cell_type": "code",
   "execution_count": 3,
   "metadata": {},
   "outputs": [],
   "source": [
    "data_location = '../00_data/sample_submission.csv'\n",
    "submission = pd.read_csv(data_location)"
   ]
  },
  {
   "cell_type": "code",
   "execution_count": 4,
   "metadata": {},
   "outputs": [
    {
     "name": "stdout",
     "output_type": "stream",
     "text": [
      "(37915775, 73)\n",
      "(853632, 73)\n",
      "(853720, 73)\n",
      "(37915775, 1)\n",
      "(853632, 1)\n"
     ]
    }
   ],
   "source": [
    "print(X_train.shape)\n",
    "print(X_val.shape)\n",
    "print(X_test.shape)\n",
    "print(y_train.shape)\n",
    "print(y_val.shape)"
   ]
  },
  {
   "cell_type": "code",
   "execution_count": null,
   "metadata": {},
   "outputs": [],
   "source": []
  },
  {
   "cell_type": "code",
   "execution_count": 17,
   "metadata": {},
   "outputs": [],
   "source": [
    "params = {\n",
    "        'boosting_type': 'gbdt',\n",
    "        'metric': 'rmse',\n",
    "        'objective':  'poisson',\n",
    "        'n_jobs': -1,\n",
    "        'seed': 0,\n",
    "        'learning_rate': 0.1, \n",
    "        'bagging_fraction': 0.75,\n",
    "        'bagging_freq': 10, \n",
    "        'colsample_bytree': 0.75,\n",
    "        'num_iterations': 1000,\n",
    "        'early_stopping_round': 100}"
   ]
  },
  {
   "cell_type": "code",
   "execution_count": 18,
   "metadata": {},
   "outputs": [],
   "source": [
    "data_location = '../04_submissions/lightGBM_no_fe(7)(1).csv'\n",
    "best_submission_original = pd.read_csv(data_location)\n",
    "best_submission = pd.read_csv(data_location)"
   ]
  },
  {
   "cell_type": "code",
   "execution_count": 19,
   "metadata": {},
   "outputs": [],
   "source": [
    "evaluation_rows = [row for row in submission['id'] if 'evaluation' in row] \n",
    "evaluation = submission[submission['id'].isin(evaluation_rows)]\n"
   ]
  },
  {
   "cell_type": "code",
   "execution_count": null,
   "metadata": {},
   "outputs": [
    {
     "name": "stdout",
     "output_type": "stream",
     "text": [
      "1\n",
      "Training until validation scores don't improve for 100 rounds\n"
     ]
    }
   ],
   "source": [
    "features = ['item_id', 'dept_id', 'cat_id', 'store_id', 'state_id', \n",
    "            'weekday', 'month', 'year',\n",
    "            'event_name_1',  \n",
    "            'snap_CA', 'snap_TX', 'snap_WI',\n",
    "            'days_from_start', 'sell_price', 'avg_price', \n",
    "            'ADI', 'CV2', 'demand_type',\n",
    "           'avg_weekday_demand', 'avg_demand', 'max_demand', 'quantile025_week', 'max_weekday_demand',  \n",
    "            'lag_28', 'lag_35']\n",
    "for i in range(1, 7):\n",
    "    print(i)\n",
    "    features_for_run = features + [\"lag_{}\".format(i)] + [\"lag_{}\".format(i+1)] + ['rmean_{}_7'.format(i)] + \\\n",
    "    ['rmean_{}_7'.format(i+1)] + ['rmean_{}_28'.format(i+1)]\n",
    "    train_set = lgb.Dataset(X_train[features_for_run], y_train)\n",
    "    val_set = lgb.Dataset(X_val[features_for_run], y_val)\n",
    "    model = lgb.train(params, train_set, valid_sets = [train_set, val_set], verbose_eval = 100)\n",
    "    y_test = model.predict(X_test[features_for_run])\n",
    "    X_test['demand'] = y_test\n",
    "    predictions = X_test[['id', 'days_from_start', 'demand']]\n",
    "    predictions = pd.pivot(predictions, index = 'id', columns = 'days_from_start', values = 'demand').reset_index()\n",
    "    predictions.columns = ['id'] + ['F' + str(j + 1) for j in range(28)]\n",
    "    validation = submission[['id']].merge(predictions, on = 'id')\n",
    "\n",
    "    final = pd.concat([validation, evaluation])\n",
    "    final.to_csv('../04_submissions/final-{}.csv'.format(i), index = False)\n",
    "    best_submission['F{}'.format(i)] = final['F{}'.format(i)]"
   ]
  },
  {
   "cell_type": "code",
   "execution_count": null,
   "metadata": {},
   "outputs": [],
   "source": [
    "best_submission.to_csv('../04_submissions/best_submission_day1-{}.csv'.format(i), index = False)"
   ]
  },
  {
   "cell_type": "code",
   "execution_count": null,
   "metadata": {},
   "outputs": [],
   "source": [
    "with open(\"../04_submissions/best_submission_day1-{}.txt\".format(i), \"a\") as outfile:\n",
    "    outfile.write(\"\\n\".join(features))\n",
    "    outfile.write(\"\\n\")\n",
    "    outfile.write(str(params) )\n",
    "    outfile.write(\"\\n\")\n",
    "    #outfile.write(str(val_score))\n",
    "    #outfile.write(\"\\n\")"
   ]
  },
  {
   "cell_type": "code",
   "execution_count": null,
   "metadata": {},
   "outputs": [],
   "source": [
    "best_submission"
   ]
  },
  {
   "cell_type": "code",
   "execution_count": null,
   "metadata": {},
   "outputs": [],
   "source": [
    "best_submission_original"
   ]
  },
  {
   "cell_type": "code",
   "execution_count": null,
   "metadata": {},
   "outputs": [],
   "source": []
  }
 ],
 "metadata": {
  "kernelspec": {
   "display_name": "Python 3",
   "language": "python",
   "name": "python3"
  },
  "language_info": {
   "codemirror_mode": {
    "name": "ipython",
    "version": 3
   },
   "file_extension": ".py",
   "mimetype": "text/x-python",
   "name": "python",
   "nbconvert_exporter": "python",
   "pygments_lexer": "ipython3",
   "version": "3.7.4"
  }
 },
 "nbformat": 4,
 "nbformat_minor": 2
}
