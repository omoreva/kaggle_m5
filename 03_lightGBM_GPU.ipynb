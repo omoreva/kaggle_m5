{
  "nbformat": 4,
  "nbformat_minor": 0,
  "metadata": {
    "kernelspec": {
      "display_name": "Python 3",
      "language": "python",
      "name": "python3"
    },
    "language_info": {
      "codemirror_mode": {
        "name": "ipython",
        "version": 3
      },
      "file_extension": ".py",
      "mimetype": "text/x-python",
      "name": "python",
      "nbconvert_exporter": "python",
      "pygments_lexer": "ipython3",
      "version": "3.7.4"
    },
    "colab": {
      "name": "03_lightGBM.ipynb",
      "provenance": [],
      "machine_shape": "hm"
    },
    "accelerator": "GPU"
  },
  "cells": [
    {
      "cell_type": "markdown",
      "metadata": {
        "id": "m0hTjBtvgQ7-",
        "colab_type": "text"
      },
      "source": [
        "# Light GBM"
      ]
    },
    {
      "cell_type": "code",
      "metadata": {
        "id": "QGDV7PxhgVxm",
        "colab_type": "code",
        "colab": {
          "base_uri": "https://localhost:8080/",
          "height": 35
        },
        "outputId": "f298eac0-4c05-4ca7-8255-ff1f6434c579"
      },
      "source": [
        "from google.colab import drive\n",
        "drive.mount('/content/drive')"
      ],
      "execution_count": 2,
      "outputs": [
        {
          "output_type": "stream",
          "text": [
            "Drive already mounted at /content/drive; to attempt to forcibly remount, call drive.mount(\"/content/drive\", force_remount=True).\n"
          ],
          "name": "stdout"
        }
      ]
    },
    {
      "cell_type": "code",
      "metadata": {
        "id": "Mk_rJZZNQct3",
        "colab_type": "code",
        "colab": {
          "base_uri": "https://localhost:8080/",
          "height": 35
        },
        "outputId": "5cdb5f2c-7850-4493-900e-a9691ee666f4"
      },
      "source": [
        "!git clone --recursive https://github.com/Microsoft/LightGBM ;"
      ],
      "execution_count": 3,
      "outputs": [
        {
          "output_type": "stream",
          "text": [
            "fatal: destination path 'LightGBM' already exists and is not an empty directory.\n"
          ],
          "name": "stdout"
        }
      ]
    },
    {
      "cell_type": "code",
      "metadata": {
        "id": "3nFuDXadYj8o",
        "colab_type": "code",
        "colab": {
          "base_uri": "https://localhost:8080/",
          "height": 35
        },
        "outputId": "20cb8c69-e018-4257-a0a7-672844a40467"
      },
      "source": [
        "%cd /content/LightGBM"
      ],
      "execution_count": 4,
      "outputs": [
        {
          "output_type": "stream",
          "text": [
            "/content/LightGBM\n"
          ],
          "name": "stdout"
        }
      ]
    },
    {
      "cell_type": "code",
      "metadata": {
        "id": "pwHfAPbDYrLC",
        "colab_type": "code",
        "colab": {
          "base_uri": "https://localhost:8080/",
          "height": 256
        },
        "outputId": "8ae4696f-4ca1-4999-c1c2-d04c041f0227"
      },
      "source": [
        "!mkdir build\n",
        "!cmake -DUSE_GPU=1 #avoid ..\n",
        "!make -j$(nproc)"
      ],
      "execution_count": 5,
      "outputs": [
        {
          "output_type": "stream",
          "text": [
            "mkdir: cannot create directory ‘build’: File exists\n",
            "-- OpenCL include directory: /usr/include\n",
            "-- Boost version: 1.65.1\n",
            "-- Found the following Boost libraries:\n",
            "--   filesystem\n",
            "--   system\n",
            "-- Using _mm_prefetch\n",
            "-- Using _mm_malloc\n",
            "-- Configuring done\n",
            "-- Generating done\n",
            "-- Build files have been written to: /content/LightGBM\n",
            "[100%] Built target _lightgbm\n",
            "[100%] Built target lightgbm\n"
          ],
          "name": "stdout"
        }
      ]
    },
    {
      "cell_type": "code",
      "metadata": {
        "id": "iRfVto7QYzEg",
        "colab_type": "code",
        "colab": {
          "base_uri": "https://localhost:8080/",
          "height": 109
        },
        "outputId": "af343bf9-09e2-4e59-e60c-ab7c1cab2c72"
      },
      "source": [
        "!sudo apt-get -y install python-pip"
      ],
      "execution_count": 6,
      "outputs": [
        {
          "output_type": "stream",
          "text": [
            "Reading package lists... Done\n",
            "Building dependency tree       \n",
            "Reading state information... Done\n",
            "python-pip is already the newest version (9.0.1-2.3~ubuntu1.18.04.1).\n",
            "0 upgraded, 0 newly installed, 0 to remove and 25 not upgraded.\n"
          ],
          "name": "stdout"
        }
      ]
    },
    {
      "cell_type": "code",
      "metadata": {
        "id": "XhnbSlZNY6Ag",
        "colab_type": "code",
        "colab": {
          "base_uri": "https://localhost:8080/",
          "height": 935
        },
        "outputId": "08f0371a-53f9-4a6b-c990-d73b3192dc68"
      },
      "source": [
        "!sudo -H pip install setuptools pandas numpy scipy scikit-learn mlflow datetime matplotlib -U"
      ],
      "execution_count": 7,
      "outputs": [
        {
          "output_type": "stream",
          "text": [
            "Requirement already up-to-date: setuptools in /usr/local/lib/python3.6/dist-packages (46.1.3)\n",
            "Requirement already up-to-date: pandas in /usr/local/lib/python3.6/dist-packages (1.0.3)\n",
            "Requirement already up-to-date: numpy in /usr/local/lib/python3.6/dist-packages (1.18.4)\n",
            "Requirement already up-to-date: scipy in /usr/local/lib/python3.6/dist-packages (1.4.1)\n",
            "Requirement already up-to-date: scikit-learn in /usr/local/lib/python3.6/dist-packages (0.22.2.post1)\n",
            "Requirement already up-to-date: mlflow in /usr/local/lib/python3.6/dist-packages (1.8.0)\n",
            "Requirement already up-to-date: datetime in /usr/local/lib/python3.6/dist-packages (4.3)\n",
            "Requirement already up-to-date: matplotlib in /usr/local/lib/python3.6/dist-packages (3.2.1)\n",
            "Requirement already satisfied, skipping upgrade: pytz>=2017.2 in /usr/local/lib/python3.6/dist-packages (from pandas) (2018.9)\n",
            "Requirement already satisfied, skipping upgrade: python-dateutil>=2.6.1 in /usr/local/lib/python3.6/dist-packages (from pandas) (2.8.1)\n",
            "Requirement already satisfied, skipping upgrade: joblib>=0.11 in /usr/local/lib/python3.6/dist-packages (from scikit-learn) (0.14.1)\n",
            "Requirement already satisfied, skipping upgrade: alembic in /usr/local/lib/python3.6/dist-packages (from mlflow) (1.4.2)\n",
            "Requirement already satisfied, skipping upgrade: six>=1.10.0 in /usr/local/lib/python3.6/dist-packages (from mlflow) (1.12.0)\n",
            "Requirement already satisfied, skipping upgrade: cloudpickle in /usr/local/lib/python3.6/dist-packages (from mlflow) (1.3.0)\n",
            "Requirement already satisfied, skipping upgrade: databricks-cli>=0.8.7 in /usr/local/lib/python3.6/dist-packages (from mlflow) (0.10.0)\n",
            "Requirement already satisfied, skipping upgrade: entrypoints in /usr/local/lib/python3.6/dist-packages (from mlflow) (0.3)\n",
            "Requirement already satisfied, skipping upgrade: gitpython>=2.1.0 in /usr/local/lib/python3.6/dist-packages (from mlflow) (3.1.1)\n",
            "Requirement already satisfied, skipping upgrade: sqlparse in /usr/local/lib/python3.6/dist-packages (from mlflow) (0.3.1)\n",
            "Requirement already satisfied, skipping upgrade: docker>=4.0.0 in /usr/local/lib/python3.6/dist-packages (from mlflow) (4.2.0)\n",
            "Requirement already satisfied, skipping upgrade: protobuf>=3.6.0 in /usr/local/lib/python3.6/dist-packages (from mlflow) (3.10.0)\n",
            "Requirement already satisfied, skipping upgrade: simplejson in /usr/local/lib/python3.6/dist-packages (from mlflow) (3.17.0)\n",
            "Requirement already satisfied, skipping upgrade: gunicorn; platform_system != \"Windows\" in /usr/local/lib/python3.6/dist-packages (from mlflow) (20.0.4)\n",
            "Requirement already satisfied, skipping upgrade: requests>=2.17.3 in /usr/local/lib/python3.6/dist-packages (from mlflow) (2.23.0)\n",
            "Requirement already satisfied, skipping upgrade: prometheus-flask-exporter in /usr/local/lib/python3.6/dist-packages (from mlflow) (0.13.0)\n",
            "Requirement already satisfied, skipping upgrade: querystring-parser in /usr/local/lib/python3.6/dist-packages (from mlflow) (1.2.4)\n",
            "Requirement already satisfied, skipping upgrade: pyyaml in /usr/local/lib/python3.6/dist-packages (from mlflow) (3.13)\n",
            "Requirement already satisfied, skipping upgrade: gorilla in /usr/local/lib/python3.6/dist-packages (from mlflow) (0.3.0)\n",
            "Requirement already satisfied, skipping upgrade: Flask in /usr/local/lib/python3.6/dist-packages (from mlflow) (1.1.2)\n",
            "Requirement already satisfied, skipping upgrade: sqlalchemy<=1.3.13 in /usr/local/lib/python3.6/dist-packages (from mlflow) (1.3.13)\n",
            "Requirement already satisfied, skipping upgrade: click>=7.0 in /usr/local/lib/python3.6/dist-packages (from mlflow) (7.1.2)\n",
            "Requirement already satisfied, skipping upgrade: zope.interface in /usr/local/lib/python3.6/dist-packages (from datetime) (5.1.0)\n",
            "Requirement already satisfied, skipping upgrade: pyparsing!=2.0.4,!=2.1.2,!=2.1.6,>=2.0.1 in /usr/local/lib/python3.6/dist-packages (from matplotlib) (2.4.7)\n",
            "Requirement already satisfied, skipping upgrade: kiwisolver>=1.0.1 in /usr/local/lib/python3.6/dist-packages (from matplotlib) (1.2.0)\n",
            "Requirement already satisfied, skipping upgrade: cycler>=0.10 in /usr/local/lib/python3.6/dist-packages (from matplotlib) (0.10.0)\n",
            "Requirement already satisfied, skipping upgrade: Mako in /usr/local/lib/python3.6/dist-packages (from alembic->mlflow) (1.1.2)\n",
            "Requirement already satisfied, skipping upgrade: python-editor>=0.3 in /usr/local/lib/python3.6/dist-packages (from alembic->mlflow) (1.0.4)\n",
            "Requirement already satisfied, skipping upgrade: configparser>=0.3.5 in /usr/local/lib/python3.6/dist-packages (from databricks-cli>=0.8.7->mlflow) (5.0.0)\n",
            "Requirement already satisfied, skipping upgrade: tabulate>=0.7.7 in /usr/local/lib/python3.6/dist-packages (from databricks-cli>=0.8.7->mlflow) (0.8.7)\n",
            "Requirement already satisfied, skipping upgrade: gitdb<5,>=4.0.1 in /usr/local/lib/python3.6/dist-packages (from gitpython>=2.1.0->mlflow) (4.0.4)\n",
            "Requirement already satisfied, skipping upgrade: websocket-client>=0.32.0 in /usr/local/lib/python3.6/dist-packages (from docker>=4.0.0->mlflow) (0.57.0)\n",
            "Requirement already satisfied, skipping upgrade: urllib3!=1.25.0,!=1.25.1,<1.26,>=1.21.1 in /usr/local/lib/python3.6/dist-packages (from requests>=2.17.3->mlflow) (1.24.3)\n",
            "Requirement already satisfied, skipping upgrade: idna<3,>=2.5 in /usr/local/lib/python3.6/dist-packages (from requests>=2.17.3->mlflow) (2.9)\n",
            "Requirement already satisfied, skipping upgrade: certifi>=2017.4.17 in /usr/local/lib/python3.6/dist-packages (from requests>=2.17.3->mlflow) (2020.4.5.1)\n",
            "Requirement already satisfied, skipping upgrade: chardet<4,>=3.0.2 in /usr/local/lib/python3.6/dist-packages (from requests>=2.17.3->mlflow) (3.0.4)\n",
            "Requirement already satisfied, skipping upgrade: prometheus-client in /usr/local/lib/python3.6/dist-packages (from prometheus-flask-exporter->mlflow) (0.7.1)\n",
            "Requirement already satisfied, skipping upgrade: Werkzeug>=0.15 in /usr/local/lib/python3.6/dist-packages (from Flask->mlflow) (1.0.1)\n",
            "Requirement already satisfied, skipping upgrade: itsdangerous>=0.24 in /usr/local/lib/python3.6/dist-packages (from Flask->mlflow) (1.1.0)\n",
            "Requirement already satisfied, skipping upgrade: Jinja2>=2.10.1 in /usr/local/lib/python3.6/dist-packages (from Flask->mlflow) (2.11.2)\n",
            "Requirement already satisfied, skipping upgrade: MarkupSafe>=0.9.2 in /usr/local/lib/python3.6/dist-packages (from Mako->alembic->mlflow) (1.1.1)\n",
            "Requirement already satisfied, skipping upgrade: smmap<4,>=3.0.1 in /usr/local/lib/python3.6/dist-packages (from gitdb<5,>=4.0.1->gitpython>=2.1.0->mlflow) (3.0.2)\n"
          ],
          "name": "stdout"
        }
      ]
    },
    {
      "cell_type": "code",
      "metadata": {
        "id": "IXImMmHSZU9P",
        "colab_type": "code",
        "colab": {
          "base_uri": "https://localhost:8080/",
          "height": 35
        },
        "outputId": "e6fb83fe-aa2b-43f9-bf6d-aa2fbaaa57be"
      },
      "source": [
        "%cd /content/LightGBM/python-package"
      ],
      "execution_count": 8,
      "outputs": [
        {
          "output_type": "stream",
          "text": [
            "/content/LightGBM/python-package\n"
          ],
          "name": "stdout"
        }
      ]
    },
    {
      "cell_type": "code",
      "metadata": {
        "id": "CMQ_m38yZZTs",
        "colab_type": "code",
        "colab": {
          "base_uri": "https://localhost:8080/",
          "height": 605
        },
        "outputId": "8f10f81f-495e-433d-dbe3-f3813ab8661c"
      },
      "source": [
        "!sudo python setup.py install --precompile"
      ],
      "execution_count": 9,
      "outputs": [
        {
          "output_type": "stream",
          "text": [
            "running install\n",
            "running build\n",
            "running build_py\n",
            "INFO:root:Generating grammar tables from /usr/lib/python3.6/lib2to3/Grammar.txt\n",
            "INFO:root:Generating grammar tables from /usr/lib/python3.6/lib2to3/PatternGrammar.txt\n",
            "running egg_info\n",
            "writing lightgbm.egg-info/PKG-INFO\n",
            "writing dependency_links to lightgbm.egg-info/dependency_links.txt\n",
            "writing requirements to lightgbm.egg-info/requires.txt\n",
            "writing top-level names to lightgbm.egg-info/top_level.txt\n",
            "reading manifest template 'MANIFEST.in'\n",
            "no previously-included directories found matching 'build'\n",
            "warning: no files found matching 'LICENSE'\n",
            "warning: no files found matching '*.txt'\n",
            "warning: no files found matching '*.so' under directory 'lightgbm'\n",
            "warning: no files found matching '*.txt' under directory 'compile'\n",
            "warning: no files found matching '*.so' under directory 'compile'\n",
            "warning: no files found matching '*.dll' under directory 'compile/Release'\n",
            "warning: no files found matching '*' under directory 'compile/compute'\n",
            "warning: no files found matching '*' under directory 'compile/include'\n",
            "warning: no files found matching '*' under directory 'compile/src'\n",
            "warning: no files found matching 'LightGBM.sln' under directory 'compile/windows'\n",
            "warning: no files found matching 'LightGBM.vcxproj' under directory 'compile/windows'\n",
            "warning: no files found matching '*.dll' under directory 'compile/windows/x64/DLL'\n",
            "warning: no previously-included files matching '*.py[co]' found anywhere in distribution\n",
            "writing manifest file 'lightgbm.egg-info/SOURCES.txt'\n",
            "running install_lib\n",
            "INFO:LightGBM:Installing lib_lightgbm from: ['../lib_lightgbm.so']\n",
            "running install_egg_info\n",
            "removing '/usr/local/lib/python3.6/dist-packages/lightgbm-2.3.2-py3.6.egg-info' (and everything under it)\n",
            "Copying lightgbm.egg-info to /usr/local/lib/python3.6/dist-packages/lightgbm-2.3.2-py3.6.egg-info\n",
            "running install_scripts\n"
          ],
          "name": "stdout"
        }
      ]
    },
    {
      "cell_type": "markdown",
      "metadata": {
        "id": "i6OfvlzjgQ8A",
        "colab_type": "text"
      },
      "source": [
        "Use tree-based algorithms since they are powerful and do not impose strict assumptions on features like linearity or independence. Light GBM is a fast algorithm with lower memory usage."
      ]
    },
    {
      "cell_type": "code",
      "metadata": {
        "id": "lphSz2l0gQ8E",
        "colab_type": "code",
        "colab": {}
      },
      "source": [
        "#!pip install mlflow"
      ],
      "execution_count": 0,
      "outputs": []
    },
    {
      "cell_type": "code",
      "metadata": {
        "id": "Xf3T4hGhgQ8R",
        "colab_type": "code",
        "colab": {}
      },
      "source": [
        "#conda install numpy"
      ],
      "execution_count": 0,
      "outputs": []
    },
    {
      "cell_type": "markdown",
      "metadata": {
        "id": "APM4Y5eDgQ8a",
        "colab_type": "text"
      },
      "source": [
        "Import libraries"
      ]
    },
    {
      "cell_type": "code",
      "metadata": {
        "id": "hn9GkhDYgQ8c",
        "colab_type": "code",
        "colab": {
          "base_uri": "https://localhost:8080/",
          "height": 54
        },
        "outputId": "7dc87725-f2e7-4a02-e5fb-8d6060dc5a6b"
      },
      "source": [
        "import pandas as pd\n",
        "import numpy as np\n",
        "from datetime  import datetime  \n",
        "from datetime import timedelta  \n",
        "import lightgbm as lgb\n",
        "from sklearn import preprocessing, metrics\n",
        "from sklearn.model_selection import ParameterGrid\n",
        "import matplotlib.pyplot as plt\n",
        "import seaborn as sns\n",
        "import mlflow\n",
        "import mlflow.lightgbm"
      ],
      "execution_count": 12,
      "outputs": [
        {
          "output_type": "stream",
          "text": [
            "/usr/local/lib/python3.6/dist-packages/statsmodels/tools/_testing.py:19: FutureWarning: pandas.util.testing is deprecated. Use the functions in the public API at pandas.testing instead.\n",
            "  import pandas.util.testing as tm\n"
          ],
          "name": "stderr"
        }
      ]
    },
    {
      "cell_type": "markdown",
      "metadata": {
        "id": "c3n1XWpWgQ8j",
        "colab_type": "text"
      },
      "source": [
        "Read data"
      ]
    },
    {
      "cell_type": "code",
      "metadata": {
        "id": "q5ZjUiq5gQ8m",
        "colab_type": "code",
        "colab": {}
      },
      "source": [
        "data_folder = '/content/drive/My Drive/Kaggle_M5/01_preprocessed_data/'\n",
        "X_train = pd.read_pickle(data_folder + 'X_train.pkl')\n",
        "X_val = pd.read_pickle(data_folder +  'X_val.pkl')\n",
        "X_test = pd.read_pickle(data_folder + 'X_test.pkl')\n",
        "y_train = X_train['demand']\n",
        "y_val = X_val['demand']\n"
      ],
      "execution_count": 0,
      "outputs": []
    },
    {
      "cell_type": "code",
      "metadata": {
        "id": "XurGzYpHgQ8t",
        "colab_type": "code",
        "colab": {}
      },
      "source": [
        "data_folder = '/content/drive/My Drive/Kaggle_M5/00_data/'\n",
        "submission = pd.read_csv(data_folder + 'sample_submission.csv')"
      ],
      "execution_count": 0,
      "outputs": []
    },
    {
      "cell_type": "markdown",
      "metadata": {
        "id": "zqDf9jw9gQ82",
        "colab_type": "text"
      },
      "source": [
        "Set parameters of the light GBM and select features to fit."
      ]
    },
    {
      "cell_type": "code",
      "metadata": {
        "id": "2DI8NAIggQ83",
        "colab_type": "code",
        "colab": {
          "base_uri": "https://localhost:8080/",
          "height": 109
        },
        "outputId": "60536498-61f4-4f2f-fa5b-1a065741139d"
      },
      "source": [
        "print(X_train.shape)\n",
        "print(X_val.shape)\n",
        "print(X_test.shape)\n",
        "print(y_train.shape)\n",
        "print(y_val.shape)"
      ],
      "execution_count": 15,
      "outputs": [
        {
          "output_type": "stream",
          "text": [
            "(44105308, 44)\n",
            "(853720, 44)\n",
            "(853720, 44)\n",
            "(44105308,)\n",
            "(853720,)\n"
          ],
          "name": "stdout"
        }
      ]
    },
    {
      "cell_type": "code",
      "metadata": {
        "id": "j6qZ9yWfgQ8_",
        "colab_type": "code",
        "colab": {}
      },
      "source": [
        "params = {\n",
        "        'boosting_type': 'gbdt',\n",
        "        'metric': 'rmse',\n",
        "        'objective':  'poisson',\n",
        "        'n_jobs': -1,\n",
        "        'seed': 0,\n",
        "        'learning_rate': 0.1, \n",
        "        'bagging_fraction': 0.75,\n",
        "        'bagging_freq': 10, \n",
        "        'colsample_bytree': 0.75, \n",
        "        'num_iterations':2000,\n",
        "        'device': 'gpu'}\n",
        "not_features = ['d', 'id', 'item_id', 'demand', 'date', 'start_date']"
      ],
      "execution_count": 0,
      "outputs": []
    },
    {
      "cell_type": "code",
      "metadata": {
        "id": "hxVO3ABkWTNX",
        "colab_type": "code",
        "colab": {}
      },
      "source": [
        "params = {'bagging_fraction': 0.5, \n",
        "          'bagging_freq': 10, \n",
        "          'boosting_type': 'gbdt', \n",
        "          'colsample_bytree': 0.75, \n",
        "          'device': 'gpu', \n",
        "          'early_stopping_round': 500, \n",
        "          'learning_rate': 0.05, \n",
        "          'metric': 'rmse', \n",
        "          'n_jobs': -1, \n",
        "          'num_iterations': 5000, \n",
        "          'objective': 'tweedie', \n",
        "          'seed': 0}"
      ],
      "execution_count": 0,
      "outputs": []
    },
    {
      "cell_type": "code",
      "metadata": {
        "id": "uBUIAYVZgQ9D",
        "colab_type": "code",
        "colab": {}
      },
      "source": [
        "param_grid = {'boosting_type': ['gbdt'],\n",
        "        'metric': ['rmse'],\n",
        "        'objective': ['poisson', 'tweedie'],\n",
        "        'n_jobs': [-1],\n",
        "        'seed': [0],\n",
        "        'learning_rate':  [0.05, 0.075, 0.1],\n",
        "        'bagging_fraction': [0.5, 0.75, 1],\n",
        "        'bagging_freq': [10], \n",
        "        'colsample_bytree': [0.75],\n",
        "        'num_iterations': [1000, 5000],\n",
        "        'early_stopping_round': [500],\n",
        "        'device': ['gpu']}"
      ],
      "execution_count": 0,
      "outputs": []
    },
    {
      "cell_type": "code",
      "metadata": {
        "id": "uuE4wF1ggQ9K",
        "colab_type": "code",
        "colab": {}
      },
      "source": [
        "features = X_test.columns[~X_test.columns.isin(not_features)]"
      ],
      "execution_count": 0,
      "outputs": []
    },
    {
      "cell_type": "code",
      "metadata": {
        "id": "nCXtaSTkgQ9T",
        "colab_type": "code",
        "colab": {
          "base_uri": "https://localhost:8080/",
          "height": 226
        },
        "outputId": "55c8042d-a880-4fa5-8962-ef3df4a5a2ae"
      },
      "source": [
        "X_train.head()"
      ],
      "execution_count": 19,
      "outputs": [
        {
          "output_type": "execute_result",
          "data": {
            "text/html": [
              "<div>\n",
              "<style scoped>\n",
              "    .dataframe tbody tr th:only-of-type {\n",
              "        vertical-align: middle;\n",
              "    }\n",
              "\n",
              "    .dataframe tbody tr th {\n",
              "        vertical-align: top;\n",
              "    }\n",
              "\n",
              "    .dataframe thead th {\n",
              "        text-align: right;\n",
              "    }\n",
              "</style>\n",
              "<table border=\"1\" class=\"dataframe\">\n",
              "  <thead>\n",
              "    <tr style=\"text-align: right;\">\n",
              "      <th></th>\n",
              "      <th>id</th>\n",
              "      <th>item_id</th>\n",
              "      <th>dept_id</th>\n",
              "      <th>cat_id</th>\n",
              "      <th>store_id</th>\n",
              "      <th>state_id</th>\n",
              "      <th>d</th>\n",
              "      <th>demand</th>\n",
              "      <th>date</th>\n",
              "      <th>weekday</th>\n",
              "      <th>month</th>\n",
              "      <th>event_name_1</th>\n",
              "      <th>event_type_1</th>\n",
              "      <th>year</th>\n",
              "      <th>event_name_2</th>\n",
              "      <th>event_type_2</th>\n",
              "      <th>snap_CA</th>\n",
              "      <th>snap_TX</th>\n",
              "      <th>snap_WI</th>\n",
              "      <th>start_date</th>\n",
              "      <th>days_from_start</th>\n",
              "      <th>start_date_from_start</th>\n",
              "      <th>sell_price</th>\n",
              "      <th>lag_28</th>\n",
              "      <th>lag_29</th>\n",
              "      <th>lag_30</th>\n",
              "      <th>lag_31</th>\n",
              "      <th>lag_32</th>\n",
              "      <th>lag_33</th>\n",
              "      <th>lag_34</th>\n",
              "      <th>lag_35</th>\n",
              "      <th>rmean_28_3</th>\n",
              "      <th>rmean_28_7</th>\n",
              "      <th>ADI</th>\n",
              "      <th>CV2</th>\n",
              "      <th>demand_type</th>\n",
              "      <th>avg_weekday_demand</th>\n",
              "      <th>avg_demand</th>\n",
              "      <th>max_demand</th>\n",
              "      <th>std_demand</th>\n",
              "      <th>quantile025_week</th>\n",
              "      <th>max_weekday_demand</th>\n",
              "      <th>avg_price</th>\n",
              "      <th>cheaper_than_usual</th>\n",
              "    </tr>\n",
              "  </thead>\n",
              "  <tbody>\n",
              "    <tr>\n",
              "      <th>428807</th>\n",
              "      <td>HOBBIES_1_008_CA_1_validation</td>\n",
              "      <td>HOBBIES_1_008</td>\n",
              "      <td>HOBBIES_1</td>\n",
              "      <td>HOBBIES</td>\n",
              "      <td>CA_1</td>\n",
              "      <td>CA</td>\n",
              "      <td>d_36</td>\n",
              "      <td>0</td>\n",
              "      <td>2011-03-05</td>\n",
              "      <td>Saturday</td>\n",
              "      <td>3</td>\n",
              "      <td>no event</td>\n",
              "      <td>no event</td>\n",
              "      <td>2011</td>\n",
              "      <td>no event</td>\n",
              "      <td>no event</td>\n",
              "      <td>1</td>\n",
              "      <td>1</td>\n",
              "      <td>1</td>\n",
              "      <td>2011-01-29</td>\n",
              "      <td>35</td>\n",
              "      <td>0</td>\n",
              "      <td>0.419922</td>\n",
              "      <td>5.0</td>\n",
              "      <td>6.0</td>\n",
              "      <td>4.0</td>\n",
              "      <td>0.0</td>\n",
              "      <td>0.0</td>\n",
              "      <td>0.0</td>\n",
              "      <td>15.0</td>\n",
              "      <td>12.0</td>\n",
              "      <td>5.000000</td>\n",
              "      <td>4.285156</td>\n",
              "      <td>1.385742</td>\n",
              "      <td>0.858398</td>\n",
              "      <td>lumpy</td>\n",
              "      <td>8.570312</td>\n",
              "      <td>7.285156</td>\n",
              "      <td>91</td>\n",
              "      <td>9.140625</td>\n",
              "      <td>1.0</td>\n",
              "      <td>47</td>\n",
              "      <td>0.476807</td>\n",
              "      <td>True</td>\n",
              "    </tr>\n",
              "    <tr>\n",
              "      <th>428808</th>\n",
              "      <td>HOBBIES_1_009_CA_1_validation</td>\n",
              "      <td>HOBBIES_1_009</td>\n",
              "      <td>HOBBIES_1</td>\n",
              "      <td>HOBBIES</td>\n",
              "      <td>CA_1</td>\n",
              "      <td>CA</td>\n",
              "      <td>d_36</td>\n",
              "      <td>7</td>\n",
              "      <td>2011-03-05</td>\n",
              "      <td>Saturday</td>\n",
              "      <td>3</td>\n",
              "      <td>no event</td>\n",
              "      <td>no event</td>\n",
              "      <td>2011</td>\n",
              "      <td>no event</td>\n",
              "      <td>no event</td>\n",
              "      <td>1</td>\n",
              "      <td>1</td>\n",
              "      <td>1</td>\n",
              "      <td>2011-01-29</td>\n",
              "      <td>35</td>\n",
              "      <td>0</td>\n",
              "      <td>1.559570</td>\n",
              "      <td>9.0</td>\n",
              "      <td>3.0</td>\n",
              "      <td>2.0</td>\n",
              "      <td>0.0</td>\n",
              "      <td>3.0</td>\n",
              "      <td>7.0</td>\n",
              "      <td>0.0</td>\n",
              "      <td>2.0</td>\n",
              "      <td>4.667969</td>\n",
              "      <td>3.427734</td>\n",
              "      <td>2.181641</td>\n",
              "      <td>0.798340</td>\n",
              "      <td>lumpy</td>\n",
              "      <td>1.463867</td>\n",
              "      <td>1.174805</td>\n",
              "      <td>20</td>\n",
              "      <td>2.007812</td>\n",
              "      <td>0.0</td>\n",
              "      <td>10</td>\n",
              "      <td>1.767578</td>\n",
              "      <td>True</td>\n",
              "    </tr>\n",
              "    <tr>\n",
              "      <th>428809</th>\n",
              "      <td>HOBBIES_1_010_CA_1_validation</td>\n",
              "      <td>HOBBIES_1_010</td>\n",
              "      <td>HOBBIES_1</td>\n",
              "      <td>HOBBIES</td>\n",
              "      <td>CA_1</td>\n",
              "      <td>CA</td>\n",
              "      <td>d_36</td>\n",
              "      <td>0</td>\n",
              "      <td>2011-03-05</td>\n",
              "      <td>Saturday</td>\n",
              "      <td>3</td>\n",
              "      <td>no event</td>\n",
              "      <td>no event</td>\n",
              "      <td>2011</td>\n",
              "      <td>no event</td>\n",
              "      <td>no event</td>\n",
              "      <td>1</td>\n",
              "      <td>1</td>\n",
              "      <td>1</td>\n",
              "      <td>2011-01-29</td>\n",
              "      <td>35</td>\n",
              "      <td>0</td>\n",
              "      <td>3.169922</td>\n",
              "      <td>0.0</td>\n",
              "      <td>0.0</td>\n",
              "      <td>0.0</td>\n",
              "      <td>0.0</td>\n",
              "      <td>0.0</td>\n",
              "      <td>1.0</td>\n",
              "      <td>0.0</td>\n",
              "      <td>0.0</td>\n",
              "      <td>0.000000</td>\n",
              "      <td>0.142822</td>\n",
              "      <td>2.054688</td>\n",
              "      <td>0.267822</td>\n",
              "      <td>intermittent</td>\n",
              "      <td>0.826172</td>\n",
              "      <td>0.730469</td>\n",
              "      <td>6</td>\n",
              "      <td>0.925781</td>\n",
              "      <td>0.0</td>\n",
              "      <td>5</td>\n",
              "      <td>2.978516</td>\n",
              "      <td>False</td>\n",
              "    </tr>\n",
              "    <tr>\n",
              "      <th>428810</th>\n",
              "      <td>HOBBIES_1_012_CA_1_validation</td>\n",
              "      <td>HOBBIES_1_012</td>\n",
              "      <td>HOBBIES_1</td>\n",
              "      <td>HOBBIES</td>\n",
              "      <td>CA_1</td>\n",
              "      <td>CA</td>\n",
              "      <td>d_36</td>\n",
              "      <td>1</td>\n",
              "      <td>2011-03-05</td>\n",
              "      <td>Saturday</td>\n",
              "      <td>3</td>\n",
              "      <td>no event</td>\n",
              "      <td>no event</td>\n",
              "      <td>2011</td>\n",
              "      <td>no event</td>\n",
              "      <td>no event</td>\n",
              "      <td>1</td>\n",
              "      <td>1</td>\n",
              "      <td>1</td>\n",
              "      <td>2011-01-29</td>\n",
              "      <td>35</td>\n",
              "      <td>0</td>\n",
              "      <td>5.980469</td>\n",
              "      <td>2.0</td>\n",
              "      <td>0.0</td>\n",
              "      <td>0.0</td>\n",
              "      <td>0.0</td>\n",
              "      <td>0.0</td>\n",
              "      <td>0.0</td>\n",
              "      <td>2.0</td>\n",
              "      <td>0.0</td>\n",
              "      <td>0.666504</td>\n",
              "      <td>0.571289</td>\n",
              "      <td>3.183594</td>\n",
              "      <td>0.157715</td>\n",
              "      <td>intermittent</td>\n",
              "      <td>0.486816</td>\n",
              "      <td>0.394043</td>\n",
              "      <td>3</td>\n",
              "      <td>0.645996</td>\n",
              "      <td>0.0</td>\n",
              "      <td>3</td>\n",
              "      <td>6.476562</td>\n",
              "      <td>True</td>\n",
              "    </tr>\n",
              "    <tr>\n",
              "      <th>428811</th>\n",
              "      <td>HOBBIES_1_015_CA_1_validation</td>\n",
              "      <td>HOBBIES_1_015</td>\n",
              "      <td>HOBBIES_1</td>\n",
              "      <td>HOBBIES</td>\n",
              "      <td>CA_1</td>\n",
              "      <td>CA</td>\n",
              "      <td>d_36</td>\n",
              "      <td>1</td>\n",
              "      <td>2011-03-05</td>\n",
              "      <td>Saturday</td>\n",
              "      <td>3</td>\n",
              "      <td>no event</td>\n",
              "      <td>no event</td>\n",
              "      <td>2011</td>\n",
              "      <td>no event</td>\n",
              "      <td>no event</td>\n",
              "      <td>1</td>\n",
              "      <td>1</td>\n",
              "      <td>1</td>\n",
              "      <td>2011-01-29</td>\n",
              "      <td>35</td>\n",
              "      <td>0</td>\n",
              "      <td>0.720215</td>\n",
              "      <td>0.0</td>\n",
              "      <td>0.0</td>\n",
              "      <td>0.0</td>\n",
              "      <td>0.0</td>\n",
              "      <td>5.0</td>\n",
              "      <td>0.0</td>\n",
              "      <td>0.0</td>\n",
              "      <td>4.0</td>\n",
              "      <td>0.000000</td>\n",
              "      <td>0.714355</td>\n",
              "      <td>1.237305</td>\n",
              "      <td>0.986328</td>\n",
              "      <td>erratic</td>\n",
              "      <td>8.757812</td>\n",
              "      <td>6.128906</td>\n",
              "      <td>83</td>\n",
              "      <td>7.398438</td>\n",
              "      <td>3.0</td>\n",
              "      <td>52</td>\n",
              "      <td>0.707031</td>\n",
              "      <td>False</td>\n",
              "    </tr>\n",
              "  </tbody>\n",
              "</table>\n",
              "</div>"
            ],
            "text/plain": [
              "                                   id  ... cheaper_than_usual\n",
              "428807  HOBBIES_1_008_CA_1_validation  ...               True\n",
              "428808  HOBBIES_1_009_CA_1_validation  ...               True\n",
              "428809  HOBBIES_1_010_CA_1_validation  ...              False\n",
              "428810  HOBBIES_1_012_CA_1_validation  ...               True\n",
              "428811  HOBBIES_1_015_CA_1_validation  ...              False\n",
              "\n",
              "[5 rows x 44 columns]"
            ]
          },
          "metadata": {
            "tags": []
          },
          "execution_count": 19
        }
      ]
    },
    {
      "cell_type": "code",
      "metadata": {
        "id": "kJyt5_WlgQ9c",
        "colab_type": "code",
        "colab": {}
      },
      "source": [
        "X_train = X_train[X_train['date'] >= \"2015-01-01\"]\n",
        "y_train = X_train['demand']\n"
      ],
      "execution_count": 0,
      "outputs": []
    },
    {
      "cell_type": "code",
      "metadata": {
        "id": "Knr52YANgQ9h",
        "colab_type": "code",
        "colab": {}
      },
      "source": [
        "train_set = lgb.Dataset(X_train[features], y_train) #, categorical_feature = categorical_features)\n",
        "val_set = lgb.Dataset(X_val[features], y_val)#,  categorical_feature = categorical_features)"
      ],
      "execution_count": 0,
      "outputs": []
    },
    {
      "cell_type": "markdown",
      "metadata": {
        "id": "rS9QupycgQ9t",
        "colab_type": "text"
      },
      "source": [
        "Train the model"
      ]
    },
    {
      "cell_type": "code",
      "metadata": {
        "id": "unhYXPwd81Nz",
        "colab_type": "code",
        "colab": {}
      },
      "source": [
        "#print(X_train.dtypes)"
      ],
      "execution_count": 0,
      "outputs": []
    },
    {
      "cell_type": "code",
      "metadata": {
        "id": "_NFr11KlgQ9u",
        "colab_type": "code",
        "colab": {
          "base_uri": "https://localhost:8080/",
          "height": 495
        },
        "outputId": "d6af30d9-af86-48ab-a218-252b9f681519"
      },
      "source": [
        "model = lgb.train(params, train_set,  \n",
        "                  valid_sets = [train_set, val_set], verbose_eval = 100)"
      ],
      "execution_count": 23,
      "outputs": [
        {
          "output_type": "stream",
          "text": [
            "/content/LightGBM/python-package/lightgbm/engine.py:148: UserWarning: Found `num_iterations` in params. Will use it instead of argument\n",
            "  warnings.warn(\"Found `{}` in params. Will use it instead of argument\".format(alias))\n",
            "/content/LightGBM/python-package/lightgbm/basic.py:1117: UserWarning: Overriding the parameters from Reference Dataset.\n",
            "  warnings.warn('Overriding the parameters from Reference Dataset.')\n",
            "/content/LightGBM/python-package/lightgbm/basic.py:929: UserWarning: categorical_column in param dict is overridden.\n",
            "  warnings.warn('{} in param dict is overridden.'.format(cat_alias))\n"
          ],
          "name": "stderr"
        },
        {
          "output_type": "stream",
          "text": [
            "[100]\ttraining's rmse: 2.28871\tvalid_1's rmse: 2.23278\n",
            "[200]\ttraining's rmse: 2.21928\tvalid_1's rmse: 2.18815\n",
            "[300]\ttraining's rmse: 2.17797\tvalid_1's rmse: 2.18278\n",
            "[400]\ttraining's rmse: 2.14603\tvalid_1's rmse: 2.17284\n",
            "[500]\ttraining's rmse: 2.12326\tvalid_1's rmse: 2.17587\n",
            "[600]\ttraining's rmse: 2.10169\tvalid_1's rmse: 2.1725\n",
            "[700]\ttraining's rmse: 2.08406\tvalid_1's rmse: 2.17212\n",
            "[800]\ttraining's rmse: 2.07021\tvalid_1's rmse: 2.17952\n",
            "[900]\ttraining's rmse: 2.05767\tvalid_1's rmse: 2.18299\n",
            "[1000]\ttraining's rmse: 2.04617\tvalid_1's rmse: 2.17978\n",
            "[1100]\ttraining's rmse: 2.03322\tvalid_1's rmse: 2.17767\n",
            "[1200]\ttraining's rmse: 2.02369\tvalid_1's rmse: 2.17744\n",
            "[1300]\ttraining's rmse: 2.01581\tvalid_1's rmse: 2.18408\n",
            "[1400]\ttraining's rmse: 2.00541\tvalid_1's rmse: 2.18808\n",
            "[1500]\ttraining's rmse: 1.99655\tvalid_1's rmse: 2.18578\n",
            "[1600]\ttraining's rmse: 1.98833\tvalid_1's rmse: 2.18728\n",
            "[1700]\ttraining's rmse: 1.98031\tvalid_1's rmse: 2.1866\n",
            "[1800]\ttraining's rmse: 1.9726\tvalid_1's rmse: 2.18545\n",
            "[1900]\ttraining's rmse: 1.96589\tvalid_1's rmse: 2.1903\n",
            "[2000]\ttraining's rmse: 1.95952\tvalid_1's rmse: 2.19539\n"
          ],
          "name": "stdout"
        }
      ]
    },
    {
      "cell_type": "code",
      "metadata": {
        "id": "dBCAEeKvgQ9z",
        "colab_type": "code",
        "colab": {
          "base_uri": "https://localhost:8080/",
          "height": 1000
        },
        "outputId": "3051f9ae-5bcf-4288-d143-00309e03fa41"
      },
      "source": [
        "i = 0\n",
        "data_folder = '/content/drive/My Drive/Kaggle_M5/04_submissions/'\n",
        "for g in ParameterGrid(param_grid):\n",
        "    print(i)\n",
        "    print(g)\n",
        "    mlflow.lightgbm.autolog() \n",
        "    model = lgb.train(g, train_set,  \n",
        "                  valid_sets = [train_set, val_set], verbose_eval = 100)\n",
        "    \n",
        "    y_test = model.predict(X_test[features])\n",
        "    X_test['demand'] = y_test\n",
        "\n",
        "    predictions = X_test[['id', 'days_from_start', 'demand']]\n",
        "    predictions = pd.pivot(predictions, index = 'id', columns = 'days_from_start', values = 'demand').reset_index()\n",
        "    predictions.columns = ['id'] + ['F' + str(i + 1) for i in range(28)]\n",
        "\n",
        "    evaluation_rows = [row for row in submission['id'] if 'evaluation' in row] \n",
        "    evaluation = submission[submission['id'].isin(evaluation_rows)]\n",
        "\n",
        "    validation = submission[['id']].merge(predictions, on = 'id')\n",
        "    final = pd.concat([validation, evaluation])\n",
        "    final.head()\n",
        "    final.to_csv(data_folder + 'lightGBM.csv', index = False)\n",
        "    final.to_csv(data_folder + 'lightGBM_{}.csv'.format(i), index = False)\n",
        "    i = i + 1\n",
        "    print(\"------------------------------------\")"
      ],
      "execution_count": 24,
      "outputs": [
        {
          "output_type": "stream",
          "text": [
            "0\n",
            "{'bagging_fraction': 0.5, 'bagging_freq': 10, 'boosting_type': 'gbdt', 'colsample_bytree': 0.75, 'device': 'gpu', 'early_stopping_round': 500, 'learning_rate': 0.05, 'metric': 'rmse', 'n_jobs': -1, 'num_iterations': 1000, 'objective': 'poisson', 'seed': 0}\n"
          ],
          "name": "stdout"
        },
        {
          "output_type": "stream",
          "text": [
            "/usr/local/lib/python3.6/dist-packages/mlflow/utils/autologging_utils.py:60: DeprecationWarning: inspect.getargspec() is deprecated since Python 3.0, use inspect.signature() or inspect.getfullargspec()\n",
            "  all_param_names, _, _, all_default_values = inspect.getargspec(fn)  # pylint: disable=W1505\n",
            "/usr/local/lib/python3.6/dist-packages/mlflow/lightgbm.py:285: DeprecationWarning: inspect.getargspec() is deprecated since Python 3.0, use inspect.signature() or inspect.getfullargspec()\n",
            "  all_arg_names = inspect.getargspec(original)[0]  # pylint: disable=W1505\n",
            "/content/LightGBM/python-package/lightgbm/engine.py:148: UserWarning: Found `num_iterations` in params. Will use it instead of argument\n",
            "  warnings.warn(\"Found `{}` in params. Will use it instead of argument\".format(alias))\n",
            "/content/LightGBM/python-package/lightgbm/engine.py:153: UserWarning: Found `early_stopping_round` in params. Will use it instead of argument\n",
            "  warnings.warn(\"Found `{}` in params. Will use it instead of argument\".format(alias))\n"
          ],
          "name": "stderr"
        },
        {
          "output_type": "stream",
          "text": [
            "Training until validation scores don't improve for 500 rounds\n",
            "[100]\ttraining's rmse: 2.30674\tvalid_1's rmse: 2.22647\n",
            "[200]\ttraining's rmse: 2.26263\tvalid_1's rmse: 2.1925\n",
            "[300]\ttraining's rmse: 2.23111\tvalid_1's rmse: 2.17507\n",
            "[400]\ttraining's rmse: 2.20408\tvalid_1's rmse: 2.16892\n",
            "[500]\ttraining's rmse: 2.17884\tvalid_1's rmse: 2.16208\n",
            "[600]\ttraining's rmse: 2.15798\tvalid_1's rmse: 2.15934\n",
            "[700]\ttraining's rmse: 2.14161\tvalid_1's rmse: 2.15281\n",
            "[800]\ttraining's rmse: 2.13051\tvalid_1's rmse: 2.1596\n",
            "[900]\ttraining's rmse: 2.11793\tvalid_1's rmse: 2.16028\n",
            "[1000]\ttraining's rmse: 2.1054\tvalid_1's rmse: 2.15784\n",
            "Did not meet early stopping. Best iteration is:\n",
            "[1000]\ttraining's rmse: 2.1054\tvalid_1's rmse: 2.15784\n",
            "------------------------------------\n",
            "1\n",
            "{'bagging_fraction': 0.5, 'bagging_freq': 10, 'boosting_type': 'gbdt', 'colsample_bytree': 0.75, 'device': 'gpu', 'early_stopping_round': 500, 'learning_rate': 0.05, 'metric': 'rmse', 'n_jobs': -1, 'num_iterations': 1000, 'objective': 'tweedie', 'seed': 0}\n",
            "Training until validation scores don't improve for 500 rounds\n",
            "[100]\ttraining's rmse: 2.32481\tvalid_1's rmse: 2.22242\n",
            "[200]\ttraining's rmse: 2.25582\tvalid_1's rmse: 2.16826\n",
            "[300]\ttraining's rmse: 2.22039\tvalid_1's rmse: 2.14982\n",
            "[400]\ttraining's rmse: 2.19482\tvalid_1's rmse: 2.14491\n",
            "[500]\ttraining's rmse: 2.17632\tvalid_1's rmse: 2.13896\n",
            "[600]\ttraining's rmse: 2.16167\tvalid_1's rmse: 2.1363\n",
            "[700]\ttraining's rmse: 2.14671\tvalid_1's rmse: 2.13464\n",
            "[800]\ttraining's rmse: 2.13866\tvalid_1's rmse: 2.14078\n",
            "[900]\ttraining's rmse: 2.13248\tvalid_1's rmse: 2.13986\n",
            "[1000]\ttraining's rmse: 2.12462\tvalid_1's rmse: 2.13846\n",
            "Did not meet early stopping. Best iteration is:\n",
            "[1000]\ttraining's rmse: 2.12462\tvalid_1's rmse: 2.13846\n",
            "------------------------------------\n",
            "2\n",
            "{'bagging_fraction': 0.5, 'bagging_freq': 10, 'boosting_type': 'gbdt', 'colsample_bytree': 0.75, 'device': 'gpu', 'early_stopping_round': 500, 'learning_rate': 0.05, 'metric': 'rmse', 'n_jobs': -1, 'num_iterations': 5000, 'objective': 'poisson', 'seed': 0}\n",
            "Training until validation scores don't improve for 500 rounds\n",
            "[100]\ttraining's rmse: 2.30674\tvalid_1's rmse: 2.22647\n",
            "[200]\ttraining's rmse: 2.26263\tvalid_1's rmse: 2.19251\n",
            "[300]\ttraining's rmse: 2.23111\tvalid_1's rmse: 2.17509\n",
            "[400]\ttraining's rmse: 2.20408\tvalid_1's rmse: 2.16893\n",
            "[500]\ttraining's rmse: 2.17884\tvalid_1's rmse: 2.1621\n",
            "[600]\ttraining's rmse: 2.15798\tvalid_1's rmse: 2.15936\n",
            "[700]\ttraining's rmse: 2.1416\tvalid_1's rmse: 2.15283\n",
            "[800]\ttraining's rmse: 2.13041\tvalid_1's rmse: 2.1593\n",
            "[900]\ttraining's rmse: 2.11784\tvalid_1's rmse: 2.15943\n",
            "[1000]\ttraining's rmse: 2.10583\tvalid_1's rmse: 2.15562\n",
            "[1100]\ttraining's rmse: 2.09497\tvalid_1's rmse: 2.15411\n",
            "[1200]\ttraining's rmse: 2.08524\tvalid_1's rmse: 2.15396\n",
            "Early stopping, best iteration is:\n",
            "[712]\ttraining's rmse: 2.1404\tvalid_1's rmse: 2.1522\n",
            "------------------------------------\n",
            "3\n",
            "{'bagging_fraction': 0.5, 'bagging_freq': 10, 'boosting_type': 'gbdt', 'colsample_bytree': 0.75, 'device': 'gpu', 'early_stopping_round': 500, 'learning_rate': 0.05, 'metric': 'rmse', 'n_jobs': -1, 'num_iterations': 5000, 'objective': 'tweedie', 'seed': 0}\n",
            "Training until validation scores don't improve for 500 rounds\n",
            "[100]\ttraining's rmse: 2.32481\tvalid_1's rmse: 2.22242\n",
            "[200]\ttraining's rmse: 2.25582\tvalid_1's rmse: 2.16826\n",
            "[300]\ttraining's rmse: 2.22039\tvalid_1's rmse: 2.14982\n",
            "[400]\ttraining's rmse: 2.19482\tvalid_1's rmse: 2.14491\n",
            "[500]\ttraining's rmse: 2.17632\tvalid_1's rmse: 2.13896\n",
            "[600]\ttraining's rmse: 2.1602\tvalid_1's rmse: 2.13829\n",
            "[700]\ttraining's rmse: 2.14828\tvalid_1's rmse: 2.13911\n",
            "[800]\ttraining's rmse: 2.14156\tvalid_1's rmse: 2.1457\n",
            "[900]\ttraining's rmse: 2.13415\tvalid_1's rmse: 2.14574\n",
            "[1000]\ttraining's rmse: 2.12577\tvalid_1's rmse: 2.14688\n",
            "[1100]\ttraining's rmse: 2.11489\tvalid_1's rmse: 2.15048\n",
            "Early stopping, best iteration is:\n",
            "[679]\ttraining's rmse: 2.14941\tvalid_1's rmse: 2.13654\n",
            "------------------------------------\n",
            "4\n",
            "{'bagging_fraction': 0.5, 'bagging_freq': 10, 'boosting_type': 'gbdt', 'colsample_bytree': 0.75, 'device': 'gpu', 'early_stopping_round': 500, 'learning_rate': 0.075, 'metric': 'rmse', 'n_jobs': -1, 'num_iterations': 1000, 'objective': 'poisson', 'seed': 0}\n",
            "Training until validation scores don't improve for 500 rounds\n",
            "[100]\ttraining's rmse: 2.29328\tvalid_1's rmse: 2.22293\n",
            "[200]\ttraining's rmse: 2.23855\tvalid_1's rmse: 2.18824\n",
            "[300]\ttraining's rmse: 2.19257\tvalid_1's rmse: 2.17043\n",
            "[400]\ttraining's rmse: 2.16273\tvalid_1's rmse: 2.15992\n",
            "[500]\ttraining's rmse: 2.14086\tvalid_1's rmse: 2.15657\n",
            "[600]\ttraining's rmse: 2.1189\tvalid_1's rmse: 2.15634\n",
            "[700]\ttraining's rmse: 2.10155\tvalid_1's rmse: 2.1502\n",
            "[800]\ttraining's rmse: 2.08966\tvalid_1's rmse: 2.15326\n",
            "[900]\ttraining's rmse: 2.07615\tvalid_1's rmse: 2.15492\n",
            "[1000]\ttraining's rmse: 2.0637\tvalid_1's rmse: 2.15344\n",
            "Did not meet early stopping. Best iteration is:\n",
            "[1000]\ttraining's rmse: 2.0637\tvalid_1's rmse: 2.15344\n",
            "------------------------------------\n",
            "5\n",
            "{'bagging_fraction': 0.5, 'bagging_freq': 10, 'boosting_type': 'gbdt', 'colsample_bytree': 0.75, 'device': 'gpu', 'early_stopping_round': 500, 'learning_rate': 0.075, 'metric': 'rmse', 'n_jobs': -1, 'num_iterations': 1000, 'objective': 'tweedie', 'seed': 0}\n",
            "Training until validation scores don't improve for 500 rounds\n",
            "[100]\ttraining's rmse: 2.28137\tvalid_1's rmse: 2.18919\n",
            "[200]\ttraining's rmse: 2.22424\tvalid_1's rmse: 2.15022\n",
            "[300]\ttraining's rmse: 2.19692\tvalid_1's rmse: 2.14311\n",
            "[400]\ttraining's rmse: 2.16602\tvalid_1's rmse: 2.14586\n",
            "[500]\ttraining's rmse: 2.14184\tvalid_1's rmse: 2.13849\n",
            "[600]\ttraining's rmse: 2.12788\tvalid_1's rmse: 2.14688\n",
            "[700]\ttraining's rmse: 2.11538\tvalid_1's rmse: 2.15358\n",
            "[800]\ttraining's rmse: 2.10618\tvalid_1's rmse: 2.16616\n",
            "[900]\ttraining's rmse: 2.09864\tvalid_1's rmse: 2.16584\n",
            "Early stopping, best iteration is:\n",
            "[481]\ttraining's rmse: 2.1462\tvalid_1's rmse: 2.13835\n",
            "------------------------------------\n",
            "6\n",
            "{'bagging_fraction': 0.5, 'bagging_freq': 10, 'boosting_type': 'gbdt', 'colsample_bytree': 0.75, 'device': 'gpu', 'early_stopping_round': 500, 'learning_rate': 0.075, 'metric': 'rmse', 'n_jobs': -1, 'num_iterations': 5000, 'objective': 'poisson', 'seed': 0}\n",
            "Training until validation scores don't improve for 500 rounds\n",
            "[100]\ttraining's rmse: 2.29328\tvalid_1's rmse: 2.22293\n",
            "[200]\ttraining's rmse: 2.23855\tvalid_1's rmse: 2.18817\n",
            "[300]\ttraining's rmse: 2.19257\tvalid_1's rmse: 2.17041\n",
            "[400]\ttraining's rmse: 2.16273\tvalid_1's rmse: 2.1599\n",
            "[500]\ttraining's rmse: 2.14174\tvalid_1's rmse: 2.15661\n",
            "[600]\ttraining's rmse: 2.11908\tvalid_1's rmse: 2.15822\n",
            "[700]\ttraining's rmse: 2.10165\tvalid_1's rmse: 2.15287\n",
            "[800]\ttraining's rmse: 2.08759\tvalid_1's rmse: 2.15571\n",
            "[900]\ttraining's rmse: 2.07391\tvalid_1's rmse: 2.15526\n",
            "[1000]\ttraining's rmse: 2.0611\tvalid_1's rmse: 2.15583\n",
            "[1100]\ttraining's rmse: 2.05019\tvalid_1's rmse: 2.15673\n",
            "[1200]\ttraining's rmse: 2.04079\tvalid_1's rmse: 2.15594\n",
            "Early stopping, best iteration is:\n",
            "[733]\ttraining's rmse: 2.09696\tvalid_1's rmse: 2.15031\n",
            "------------------------------------\n",
            "7\n",
            "{'bagging_fraction': 0.5, 'bagging_freq': 10, 'boosting_type': 'gbdt', 'colsample_bytree': 0.75, 'device': 'gpu', 'early_stopping_round': 500, 'learning_rate': 0.075, 'metric': 'rmse', 'n_jobs': -1, 'num_iterations': 5000, 'objective': 'tweedie', 'seed': 0}\n",
            "Training until validation scores don't improve for 500 rounds\n",
            "[100]\ttraining's rmse: 2.28137\tvalid_1's rmse: 2.18919\n",
            "[200]\ttraining's rmse: 2.22424\tvalid_1's rmse: 2.15022\n",
            "[300]\ttraining's rmse: 2.19416\tvalid_1's rmse: 2.14128\n",
            "[400]\ttraining's rmse: 2.16622\tvalid_1's rmse: 2.14603\n",
            "[500]\ttraining's rmse: 2.14593\tvalid_1's rmse: 2.14724\n",
            "[600]\ttraining's rmse: 2.1311\tvalid_1's rmse: 2.1519\n",
            "[700]\ttraining's rmse: 2.11855\tvalid_1's rmse: 2.15554\n",
            "[800]\ttraining's rmse: 2.10965\tvalid_1's rmse: 2.16965\n",
            "Early stopping, best iteration is:\n",
            "[343]\ttraining's rmse: 2.18556\tvalid_1's rmse: 2.13763\n",
            "------------------------------------\n",
            "8\n",
            "{'bagging_fraction': 0.5, 'bagging_freq': 10, 'boosting_type': 'gbdt', 'colsample_bytree': 0.75, 'device': 'gpu', 'early_stopping_round': 500, 'learning_rate': 0.1, 'metric': 'rmse', 'n_jobs': -1, 'num_iterations': 1000, 'objective': 'poisson', 'seed': 0}\n",
            "Training until validation scores don't improve for 500 rounds\n",
            "[100]\ttraining's rmse: 2.2903\tvalid_1's rmse: 2.22491\n",
            "[200]\ttraining's rmse: 2.22134\tvalid_1's rmse: 2.19289\n",
            "[300]\ttraining's rmse: 2.17404\tvalid_1's rmse: 2.18574\n",
            "[400]\ttraining's rmse: 2.14293\tvalid_1's rmse: 2.18387\n",
            "[500]\ttraining's rmse: 2.11825\tvalid_1's rmse: 2.17981\n",
            "[600]\ttraining's rmse: 2.09551\tvalid_1's rmse: 2.18105\n",
            "[700]\ttraining's rmse: 2.07777\tvalid_1's rmse: 2.17524\n",
            "[800]\ttraining's rmse: 2.06446\tvalid_1's rmse: 2.18285\n",
            "[900]\ttraining's rmse: 2.05073\tvalid_1's rmse: 2.1815\n",
            "[1000]\ttraining's rmse: 2.03775\tvalid_1's rmse: 2.18382\n",
            "Did not meet early stopping. Best iteration is:\n",
            "[1000]\ttraining's rmse: 2.03775\tvalid_1's rmse: 2.18382\n",
            "------------------------------------\n",
            "9\n",
            "{'bagging_fraction': 0.5, 'bagging_freq': 10, 'boosting_type': 'gbdt', 'colsample_bytree': 0.75, 'device': 'gpu', 'early_stopping_round': 500, 'learning_rate': 0.1, 'metric': 'rmse', 'n_jobs': -1, 'num_iterations': 1000, 'objective': 'tweedie', 'seed': 0}\n",
            "Training until validation scores don't improve for 500 rounds\n",
            "[100]\ttraining's rmse: 2.25568\tvalid_1's rmse: 2.16887\n",
            "[200]\ttraining's rmse: 2.19969\tvalid_1's rmse: 2.14762\n",
            "[300]\ttraining's rmse: 2.16371\tvalid_1's rmse: 2.15065\n",
            "[400]\ttraining's rmse: 2.14102\tvalid_1's rmse: 2.16381\n",
            "[500]\ttraining's rmse: 2.11883\tvalid_1's rmse: 2.16608\n",
            "[600]\ttraining's rmse: 2.10408\tvalid_1's rmse: 2.17556\n",
            "[700]\ttraining's rmse: 2.09543\tvalid_1's rmse: 2.17755\n",
            "Early stopping, best iteration is:\n",
            "[223]\ttraining's rmse: 2.19036\tvalid_1's rmse: 2.14149\n",
            "------------------------------------\n",
            "10\n",
            "{'bagging_fraction': 0.5, 'bagging_freq': 10, 'boosting_type': 'gbdt', 'colsample_bytree': 0.75, 'device': 'gpu', 'early_stopping_round': 500, 'learning_rate': 0.1, 'metric': 'rmse', 'n_jobs': -1, 'num_iterations': 5000, 'objective': 'poisson', 'seed': 0}\n",
            "Training until validation scores don't improve for 500 rounds\n",
            "[100]\ttraining's rmse: 2.2903\tvalid_1's rmse: 2.22491\n",
            "[200]\ttraining's rmse: 2.22134\tvalid_1's rmse: 2.19289\n",
            "[300]\ttraining's rmse: 2.17404\tvalid_1's rmse: 2.18574\n",
            "[400]\ttraining's rmse: 2.14293\tvalid_1's rmse: 2.18387\n",
            "[500]\ttraining's rmse: 2.11762\tvalid_1's rmse: 2.1809\n",
            "[600]\ttraining's rmse: 2.09537\tvalid_1's rmse: 2.18118\n",
            "[700]\ttraining's rmse: 2.07788\tvalid_1's rmse: 2.17646\n",
            "[800]\ttraining's rmse: 2.06586\tvalid_1's rmse: 2.18545\n",
            "[900]\ttraining's rmse: 2.05262\tvalid_1's rmse: 2.18243\n",
            "[1000]\ttraining's rmse: 2.03958\tvalid_1's rmse: 2.18288\n",
            "[1100]\ttraining's rmse: 2.02789\tvalid_1's rmse: 2.18376\n",
            "[1200]\ttraining's rmse: 2.01768\tvalid_1's rmse: 2.18646\n",
            "Early stopping, best iteration is:\n",
            "[732]\ttraining's rmse: 2.07404\tvalid_1's rmse: 2.17524\n",
            "------------------------------------\n",
            "11\n",
            "{'bagging_fraction': 0.5, 'bagging_freq': 10, 'boosting_type': 'gbdt', 'colsample_bytree': 0.75, 'device': 'gpu', 'early_stopping_round': 500, 'learning_rate': 0.1, 'metric': 'rmse', 'n_jobs': -1, 'num_iterations': 5000, 'objective': 'tweedie', 'seed': 0}\n",
            "Training until validation scores don't improve for 500 rounds\n",
            "[100]\ttraining's rmse: 2.25568\tvalid_1's rmse: 2.16887\n",
            "[200]\ttraining's rmse: 2.19969\tvalid_1's rmse: 2.14762\n",
            "[300]\ttraining's rmse: 2.16565\tvalid_1's rmse: 2.14534\n",
            "[400]\ttraining's rmse: 2.14099\tvalid_1's rmse: 2.16271\n",
            "[500]\ttraining's rmse: 2.11814\tvalid_1's rmse: 2.15882\n",
            "[600]\ttraining's rmse: 2.10435\tvalid_1's rmse: 2.15866\n",
            "[700]\ttraining's rmse: 2.09383\tvalid_1's rmse: 2.1585\n",
            "Early stopping, best iteration is:\n",
            "[223]\ttraining's rmse: 2.19036\tvalid_1's rmse: 2.14149\n",
            "------------------------------------\n",
            "12\n",
            "{'bagging_fraction': 0.75, 'bagging_freq': 10, 'boosting_type': 'gbdt', 'colsample_bytree': 0.75, 'device': 'gpu', 'early_stopping_round': 500, 'learning_rate': 0.05, 'metric': 'rmse', 'n_jobs': -1, 'num_iterations': 1000, 'objective': 'poisson', 'seed': 0}\n",
            "Training until validation scores don't improve for 500 rounds\n",
            "[100]\ttraining's rmse: 2.30951\tvalid_1's rmse: 2.23034\n",
            "[200]\ttraining's rmse: 2.26452\tvalid_1's rmse: 2.19262\n",
            "[300]\ttraining's rmse: 2.2345\tvalid_1's rmse: 2.17707\n",
            "[400]\ttraining's rmse: 2.20586\tvalid_1's rmse: 2.16658\n",
            "[500]\ttraining's rmse: 2.18517\tvalid_1's rmse: 2.16433\n",
            "[600]\ttraining's rmse: 2.16434\tvalid_1's rmse: 2.15773\n",
            "[700]\ttraining's rmse: 2.1482\tvalid_1's rmse: 2.15119\n",
            "[800]\ttraining's rmse: 2.13571\tvalid_1's rmse: 2.1605\n",
            "[900]\ttraining's rmse: 2.12248\tvalid_1's rmse: 2.16057\n",
            "[1000]\ttraining's rmse: 2.11004\tvalid_1's rmse: 2.15585\n",
            "Did not meet early stopping. Best iteration is:\n",
            "[1000]\ttraining's rmse: 2.11004\tvalid_1's rmse: 2.15585\n",
            "------------------------------------\n",
            "13\n",
            "{'bagging_fraction': 0.75, 'bagging_freq': 10, 'boosting_type': 'gbdt', 'colsample_bytree': 0.75, 'device': 'gpu', 'early_stopping_round': 500, 'learning_rate': 0.05, 'metric': 'rmse', 'n_jobs': -1, 'num_iterations': 1000, 'objective': 'tweedie', 'seed': 0}\n",
            "Training until validation scores don't improve for 500 rounds\n",
            "[100]\ttraining's rmse: 2.32151\tvalid_1's rmse: 2.22434\n",
            "[200]\ttraining's rmse: 2.25621\tvalid_1's rmse: 2.17054\n",
            "[300]\ttraining's rmse: 2.22367\tvalid_1's rmse: 2.15494\n",
            "[400]\ttraining's rmse: 2.20052\tvalid_1's rmse: 2.14879\n",
            "[500]\ttraining's rmse: 2.18249\tvalid_1's rmse: 2.14682\n",
            "[600]\ttraining's rmse: 2.16022\tvalid_1's rmse: 2.14287\n",
            "[700]\ttraining's rmse: 2.14468\tvalid_1's rmse: 2.1422\n",
            "[800]\ttraining's rmse: 2.138\tvalid_1's rmse: 2.14049\n",
            "[900]\ttraining's rmse: 2.12729\tvalid_1's rmse: 2.14161\n",
            "[1000]\ttraining's rmse: 2.11826\tvalid_1's rmse: 2.14301\n",
            "Did not meet early stopping. Best iteration is:\n",
            "[1000]\ttraining's rmse: 2.11826\tvalid_1's rmse: 2.14301\n",
            "------------------------------------\n",
            "14\n",
            "{'bagging_fraction': 0.75, 'bagging_freq': 10, 'boosting_type': 'gbdt', 'colsample_bytree': 0.75, 'device': 'gpu', 'early_stopping_round': 500, 'learning_rate': 0.05, 'metric': 'rmse', 'n_jobs': -1, 'num_iterations': 5000, 'objective': 'poisson', 'seed': 0}\n",
            "Training until validation scores don't improve for 500 rounds\n",
            "[100]\ttraining's rmse: 2.30951\tvalid_1's rmse: 2.23034\n",
            "[200]\ttraining's rmse: 2.26452\tvalid_1's rmse: 2.19261\n",
            "[300]\ttraining's rmse: 2.2345\tvalid_1's rmse: 2.17706\n",
            "[400]\ttraining's rmse: 2.20586\tvalid_1's rmse: 2.16656\n",
            "[500]\ttraining's rmse: 2.18517\tvalid_1's rmse: 2.16431\n",
            "[600]\ttraining's rmse: 2.16434\tvalid_1's rmse: 2.15772\n",
            "[700]\ttraining's rmse: 2.1482\tvalid_1's rmse: 2.15122\n",
            "[800]\ttraining's rmse: 2.13605\tvalid_1's rmse: 2.16029\n",
            "[900]\ttraining's rmse: 2.12355\tvalid_1's rmse: 2.16061\n",
            "[1000]\ttraining's rmse: 2.11098\tvalid_1's rmse: 2.15711\n",
            "[1100]\ttraining's rmse: 2.10102\tvalid_1's rmse: 2.15372\n",
            "[1200]\ttraining's rmse: 2.09085\tvalid_1's rmse: 2.15289\n",
            "Early stopping, best iteration is:\n",
            "[732]\ttraining's rmse: 2.14348\tvalid_1's rmse: 2.14979\n",
            "------------------------------------\n",
            "15\n",
            "{'bagging_fraction': 0.75, 'bagging_freq': 10, 'boosting_type': 'gbdt', 'colsample_bytree': 0.75, 'device': 'gpu', 'early_stopping_round': 500, 'learning_rate': 0.05, 'metric': 'rmse', 'n_jobs': -1, 'num_iterations': 5000, 'objective': 'tweedie', 'seed': 0}\n",
            "Training until validation scores don't improve for 500 rounds\n",
            "[100]\ttraining's rmse: 2.32151\tvalid_1's rmse: 2.22434\n",
            "[200]\ttraining's rmse: 2.25621\tvalid_1's rmse: 2.1705\n",
            "[300]\ttraining's rmse: 2.22367\tvalid_1's rmse: 2.15489\n",
            "[400]\ttraining's rmse: 2.20052\tvalid_1's rmse: 2.14864\n",
            "[500]\ttraining's rmse: 2.18398\tvalid_1's rmse: 2.14807\n",
            "[600]\ttraining's rmse: 2.16077\tvalid_1's rmse: 2.14536\n",
            "[700]\ttraining's rmse: 2.14701\tvalid_1's rmse: 2.14388\n",
            "[800]\ttraining's rmse: 2.13798\tvalid_1's rmse: 2.15259\n",
            "[900]\ttraining's rmse: 2.12668\tvalid_1's rmse: 2.15442\n",
            "[1000]\ttraining's rmse: 2.11804\tvalid_1's rmse: 2.15358\n",
            "[1100]\ttraining's rmse: 2.10999\tvalid_1's rmse: 2.15604\n",
            "[1200]\ttraining's rmse: 2.10313\tvalid_1's rmse: 2.15751\n",
            "Early stopping, best iteration is:\n",
            "[713]\ttraining's rmse: 2.14563\tvalid_1's rmse: 2.14314\n",
            "------------------------------------\n",
            "16\n",
            "{'bagging_fraction': 0.75, 'bagging_freq': 10, 'boosting_type': 'gbdt', 'colsample_bytree': 0.75, 'device': 'gpu', 'early_stopping_round': 500, 'learning_rate': 0.075, 'metric': 'rmse', 'n_jobs': -1, 'num_iterations': 1000, 'objective': 'poisson', 'seed': 0}\n",
            "Training until validation scores don't improve for 500 rounds\n",
            "[100]\ttraining's rmse: 2.29442\tvalid_1's rmse: 2.22315\n",
            "[200]\ttraining's rmse: 2.24068\tvalid_1's rmse: 2.19416\n",
            "[300]\ttraining's rmse: 2.20162\tvalid_1's rmse: 2.17887\n",
            "[400]\ttraining's rmse: 2.16816\tvalid_1's rmse: 2.16464\n",
            "[500]\ttraining's rmse: 2.14625\tvalid_1's rmse: 2.16572\n",
            "[600]\ttraining's rmse: 2.1266\tvalid_1's rmse: 2.15974\n",
            "[700]\ttraining's rmse: 2.10722\tvalid_1's rmse: 2.15366\n",
            "[800]\ttraining's rmse: 2.09528\tvalid_1's rmse: 2.15736\n",
            "[900]\ttraining's rmse: 2.08289\tvalid_1's rmse: 2.16093\n",
            "[1000]\ttraining's rmse: 2.07105\tvalid_1's rmse: 2.16006\n",
            "Did not meet early stopping. Best iteration is:\n",
            "[1000]\ttraining's rmse: 2.07105\tvalid_1's rmse: 2.16006\n",
            "------------------------------------\n",
            "17\n",
            "{'bagging_fraction': 0.75, 'bagging_freq': 10, 'boosting_type': 'gbdt', 'colsample_bytree': 0.75, 'device': 'gpu', 'early_stopping_round': 500, 'learning_rate': 0.075, 'metric': 'rmse', 'n_jobs': -1, 'num_iterations': 1000, 'objective': 'tweedie', 'seed': 0}\n",
            "Training until validation scores don't improve for 500 rounds\n",
            "[100]\ttraining's rmse: 2.28083\tvalid_1's rmse: 2.18536\n",
            "[200]\ttraining's rmse: 2.22453\tvalid_1's rmse: 2.15606\n",
            "[300]\ttraining's rmse: 2.18963\tvalid_1's rmse: 2.14413\n",
            "[400]\ttraining's rmse: 2.16669\tvalid_1's rmse: 2.14773\n",
            "[500]\ttraining's rmse: 2.14771\tvalid_1's rmse: 2.15148\n",
            "[600]\ttraining's rmse: 2.1278\tvalid_1's rmse: 2.15714\n",
            "[700]\ttraining's rmse: 2.11495\tvalid_1's rmse: 2.15525\n",
            "[800]\ttraining's rmse: 2.10644\tvalid_1's rmse: 2.17102\n",
            "Early stopping, best iteration is:\n",
            "[359]\ttraining's rmse: 2.17659\tvalid_1's rmse: 2.14186\n",
            "------------------------------------\n",
            "18\n",
            "{'bagging_fraction': 0.75, 'bagging_freq': 10, 'boosting_type': 'gbdt', 'colsample_bytree': 0.75, 'device': 'gpu', 'early_stopping_round': 500, 'learning_rate': 0.075, 'metric': 'rmse', 'n_jobs': -1, 'num_iterations': 5000, 'objective': 'poisson', 'seed': 0}\n",
            "Training until validation scores don't improve for 500 rounds\n",
            "[100]\ttraining's rmse: 2.29442\tvalid_1's rmse: 2.22315\n",
            "[200]\ttraining's rmse: 2.24068\tvalid_1's rmse: 2.19416\n",
            "[300]\ttraining's rmse: 2.20162\tvalid_1's rmse: 2.17887\n",
            "[400]\ttraining's rmse: 2.16815\tvalid_1's rmse: 2.16469\n",
            "[500]\ttraining's rmse: 2.14642\tvalid_1's rmse: 2.16421\n",
            "[600]\ttraining's rmse: 2.1261\tvalid_1's rmse: 2.1597\n",
            "[700]\ttraining's rmse: 2.10915\tvalid_1's rmse: 2.15404\n",
            "[800]\ttraining's rmse: 2.09589\tvalid_1's rmse: 2.15693\n",
            "[900]\ttraining's rmse: 2.08379\tvalid_1's rmse: 2.16138\n",
            "[1000]\ttraining's rmse: 2.07065\tvalid_1's rmse: 2.15672\n",
            "[1100]\ttraining's rmse: 2.05997\tvalid_1's rmse: 2.1551\n",
            "[1200]\ttraining's rmse: 2.0503\tvalid_1's rmse: 2.15441\n",
            "[1300]\ttraining's rmse: 2.04255\tvalid_1's rmse: 2.15836\n",
            "[1400]\ttraining's rmse: 2.03319\tvalid_1's rmse: 2.16145\n",
            "[1500]\ttraining's rmse: 2.02549\tvalid_1's rmse: 2.15996\n",
            "[1600]\ttraining's rmse: 2.01731\tvalid_1's rmse: 2.15931\n",
            "Early stopping, best iteration is:\n",
            "[1162]\ttraining's rmse: 2.0539\tvalid_1's rmse: 2.15214\n",
            "------------------------------------\n",
            "19\n",
            "{'bagging_fraction': 0.75, 'bagging_freq': 10, 'boosting_type': 'gbdt', 'colsample_bytree': 0.75, 'device': 'gpu', 'early_stopping_round': 500, 'learning_rate': 0.075, 'metric': 'rmse', 'n_jobs': -1, 'num_iterations': 5000, 'objective': 'tweedie', 'seed': 0}\n",
            "Training until validation scores don't improve for 500 rounds\n",
            "[100]\ttraining's rmse: 2.28081\tvalid_1's rmse: 2.18528\n",
            "[200]\ttraining's rmse: 2.22846\tvalid_1's rmse: 2.1533\n",
            "[300]\ttraining's rmse: 2.19273\tvalid_1's rmse: 2.14087\n",
            "[400]\ttraining's rmse: 2.16901\tvalid_1's rmse: 2.14175\n",
            "[500]\ttraining's rmse: 2.15347\tvalid_1's rmse: 2.1406\n",
            "[600]\ttraining's rmse: 2.13159\tvalid_1's rmse: 2.14971\n",
            "[700]\ttraining's rmse: 2.11717\tvalid_1's rmse: 2.14685\n",
            "[800]\ttraining's rmse: 2.11007\tvalid_1's rmse: 2.14759\n",
            "[900]\ttraining's rmse: 2.09689\tvalid_1's rmse: 2.15447\n",
            "[1000]\ttraining's rmse: 2.08756\tvalid_1's rmse: 2.15361\n",
            "Early stopping, best iteration is:\n",
            "[526]\ttraining's rmse: 2.14419\tvalid_1's rmse: 2.13794\n",
            "------------------------------------\n",
            "20\n",
            "{'bagging_fraction': 0.75, 'bagging_freq': 10, 'boosting_type': 'gbdt', 'colsample_bytree': 0.75, 'device': 'gpu', 'early_stopping_round': 500, 'learning_rate': 0.1, 'metric': 'rmse', 'n_jobs': -1, 'num_iterations': 1000, 'objective': 'poisson', 'seed': 0}\n",
            "Training until validation scores don't improve for 500 rounds\n",
            "[100]\ttraining's rmse: 2.28871\tvalid_1's rmse: 2.23278\n",
            "[200]\ttraining's rmse: 2.21928\tvalid_1's rmse: 2.18815\n",
            "[300]\ttraining's rmse: 2.17785\tvalid_1's rmse: 2.1824\n",
            "[400]\ttraining's rmse: 2.14438\tvalid_1's rmse: 2.17567\n",
            "[500]\ttraining's rmse: 2.12107\tvalid_1's rmse: 2.1795\n",
            "[600]\ttraining's rmse: 2.10042\tvalid_1's rmse: 2.17538\n",
            "[700]\ttraining's rmse: 2.08347\tvalid_1's rmse: 2.17299\n",
            "[800]\ttraining's rmse: 2.0706\tvalid_1's rmse: 2.18215\n",
            "[900]\ttraining's rmse: 2.05648\tvalid_1's rmse: 2.18797\n",
            "[1000]\ttraining's rmse: 2.04456\tvalid_1's rmse: 2.18422\n",
            "Did not meet early stopping. Best iteration is:\n",
            "[1000]\ttraining's rmse: 2.04456\tvalid_1's rmse: 2.18422\n",
            "------------------------------------\n",
            "21\n",
            "{'bagging_fraction': 0.75, 'bagging_freq': 10, 'boosting_type': 'gbdt', 'colsample_bytree': 0.75, 'device': 'gpu', 'early_stopping_round': 500, 'learning_rate': 0.1, 'metric': 'rmse', 'n_jobs': -1, 'num_iterations': 1000, 'objective': 'tweedie', 'seed': 0}\n",
            "Training until validation scores don't improve for 500 rounds\n",
            "[100]\ttraining's rmse: 2.25841\tvalid_1's rmse: 2.17001\n",
            "[200]\ttraining's rmse: 2.20572\tvalid_1's rmse: 2.14364\n",
            "[300]\ttraining's rmse: 2.17144\tvalid_1's rmse: 2.1434\n",
            "[400]\ttraining's rmse: 2.14475\tvalid_1's rmse: 2.15152\n",
            "[500]\ttraining's rmse: 2.12543\tvalid_1's rmse: 2.15502\n",
            "[600]\ttraining's rmse: 2.10723\tvalid_1's rmse: 2.16182\n",
            "[700]\ttraining's rmse: 2.0916\tvalid_1's rmse: 2.1699\n",
            "Early stopping, best iteration is:\n",
            "[213]\ttraining's rmse: 2.19879\tvalid_1's rmse: 2.14146\n",
            "------------------------------------\n",
            "22\n",
            "{'bagging_fraction': 0.75, 'bagging_freq': 10, 'boosting_type': 'gbdt', 'colsample_bytree': 0.75, 'device': 'gpu', 'early_stopping_round': 500, 'learning_rate': 0.1, 'metric': 'rmse', 'n_jobs': -1, 'num_iterations': 5000, 'objective': 'poisson', 'seed': 0}\n",
            "Training until validation scores don't improve for 500 rounds\n",
            "[100]\ttraining's rmse: 2.28871\tvalid_1's rmse: 2.23278\n",
            "[200]\ttraining's rmse: 2.21928\tvalid_1's rmse: 2.18797\n",
            "[300]\ttraining's rmse: 2.17785\tvalid_1's rmse: 2.18223\n",
            "[400]\ttraining's rmse: 2.14438\tvalid_1's rmse: 2.1755\n",
            "[500]\ttraining's rmse: 2.12107\tvalid_1's rmse: 2.17934\n",
            "[600]\ttraining's rmse: 2.10042\tvalid_1's rmse: 2.17523\n",
            "[700]\ttraining's rmse: 2.08347\tvalid_1's rmse: 2.17286\n",
            "[800]\ttraining's rmse: 2.07078\tvalid_1's rmse: 2.18287\n",
            "[900]\ttraining's rmse: 2.05747\tvalid_1's rmse: 2.18588\n",
            "[1000]\ttraining's rmse: 2.04497\tvalid_1's rmse: 2.18502\n",
            "[1100]\ttraining's rmse: 2.03269\tvalid_1's rmse: 2.18427\n",
            "Early stopping, best iteration is:\n",
            "[693]\ttraining's rmse: 2.08458\tvalid_1's rmse: 2.17272\n",
            "------------------------------------\n",
            "23\n",
            "{'bagging_fraction': 0.75, 'bagging_freq': 10, 'boosting_type': 'gbdt', 'colsample_bytree': 0.75, 'device': 'gpu', 'early_stopping_round': 500, 'learning_rate': 0.1, 'metric': 'rmse', 'n_jobs': -1, 'num_iterations': 5000, 'objective': 'tweedie', 'seed': 0}\n",
            "Training until validation scores don't improve for 500 rounds\n",
            "[100]\ttraining's rmse: 2.25841\tvalid_1's rmse: 2.17001\n",
            "[200]\ttraining's rmse: 2.20687\tvalid_1's rmse: 2.14709\n",
            "[300]\ttraining's rmse: 2.16757\tvalid_1's rmse: 2.14159\n",
            "[400]\ttraining's rmse: 2.13845\tvalid_1's rmse: 2.14617\n",
            "[500]\ttraining's rmse: 2.12156\tvalid_1's rmse: 2.14387\n",
            "[600]\ttraining's rmse: 2.10681\tvalid_1's rmse: 2.14877\n",
            "[700]\ttraining's rmse: 2.09333\tvalid_1's rmse: 2.15195\n",
            "[800]\ttraining's rmse: 2.08373\tvalid_1's rmse: 2.15213\n",
            "Early stopping, best iteration is:\n",
            "[364]\ttraining's rmse: 2.14845\tvalid_1's rmse: 2.13708\n",
            "------------------------------------\n",
            "24\n",
            "{'bagging_fraction': 1, 'bagging_freq': 10, 'boosting_type': 'gbdt', 'colsample_bytree': 0.75, 'device': 'gpu', 'early_stopping_round': 500, 'learning_rate': 0.05, 'metric': 'rmse', 'n_jobs': -1, 'num_iterations': 1000, 'objective': 'poisson', 'seed': 0}\n",
            "Training until validation scores don't improve for 500 rounds\n",
            "[100]\ttraining's rmse: 2.30432\tvalid_1's rmse: 2.22603\n",
            "[200]\ttraining's rmse: 2.26309\tvalid_1's rmse: 2.19492\n",
            "[300]\ttraining's rmse: 2.23184\tvalid_1's rmse: 2.18251\n",
            "[400]\ttraining's rmse: 2.20578\tvalid_1's rmse: 2.17722\n",
            "[500]\ttraining's rmse: 2.18523\tvalid_1's rmse: 2.17269\n",
            "[600]\ttraining's rmse: 2.16675\tvalid_1's rmse: 2.16639\n",
            "[700]\ttraining's rmse: 2.15193\tvalid_1's rmse: 2.1631\n",
            "[800]\ttraining's rmse: 2.13984\tvalid_1's rmse: 2.16137\n",
            "[900]\ttraining's rmse: 2.12847\tvalid_1's rmse: 2.16212\n",
            "[1000]\ttraining's rmse: 2.11851\tvalid_1's rmse: 2.15852\n",
            "Did not meet early stopping. Best iteration is:\n",
            "[1000]\ttraining's rmse: 2.11851\tvalid_1's rmse: 2.15852\n",
            "------------------------------------\n",
            "25\n",
            "{'bagging_fraction': 1, 'bagging_freq': 10, 'boosting_type': 'gbdt', 'colsample_bytree': 0.75, 'device': 'gpu', 'early_stopping_round': 500, 'learning_rate': 0.05, 'metric': 'rmse', 'n_jobs': -1, 'num_iterations': 1000, 'objective': 'tweedie', 'seed': 0}\n"
          ],
          "name": "stdout"
        },
        {
          "output_type": "error",
          "ename": "LightGBMError",
          "evalue": "ignored",
          "traceback": [
            "\u001b[0;31m---------------------------------------------------------------------------\u001b[0m",
            "\u001b[0;31mLightGBMError\u001b[0m                             Traceback (most recent call last)",
            "\u001b[0;32m<ipython-input-24-ffe0c58424db>\u001b[0m in \u001b[0;36m<module>\u001b[0;34m()\u001b[0m\n\u001b[1;32m      6\u001b[0m     \u001b[0mmlflow\u001b[0m\u001b[0;34m.\u001b[0m\u001b[0mlightgbm\u001b[0m\u001b[0;34m.\u001b[0m\u001b[0mautolog\u001b[0m\u001b[0;34m(\u001b[0m\u001b[0;34m)\u001b[0m\u001b[0;34m\u001b[0m\u001b[0;34m\u001b[0m\u001b[0m\n\u001b[1;32m      7\u001b[0m     model = lgb.train(g, train_set,  \n\u001b[0;32m----> 8\u001b[0;31m                   valid_sets = [train_set, val_set], verbose_eval = 100)\n\u001b[0m\u001b[1;32m      9\u001b[0m \u001b[0;34m\u001b[0m\u001b[0m\n\u001b[1;32m     10\u001b[0m     \u001b[0my_test\u001b[0m \u001b[0;34m=\u001b[0m \u001b[0mmodel\u001b[0m\u001b[0;34m.\u001b[0m\u001b[0mpredict\u001b[0m\u001b[0;34m(\u001b[0m\u001b[0mX_test\u001b[0m\u001b[0;34m[\u001b[0m\u001b[0mfeatures\u001b[0m\u001b[0;34m]\u001b[0m\u001b[0;34m)\u001b[0m\u001b[0;34m\u001b[0m\u001b[0;34m\u001b[0m\u001b[0m\n",
            "\u001b[0;32m/usr/local/lib/python3.6/dist-packages/mlflow/lightgbm.py\u001b[0m in \u001b[0;36mtrain\u001b[0;34m(*args, **kwargs)\u001b[0m\n\u001b[1;32m    300\u001b[0m \u001b[0;34m\u001b[0m\u001b[0m\n\u001b[1;32m    301\u001b[0m         \u001b[0;31m# training model\u001b[0m\u001b[0;34m\u001b[0m\u001b[0;34m\u001b[0m\u001b[0;34m\u001b[0m\u001b[0m\n\u001b[0;32m--> 302\u001b[0;31m         \u001b[0mmodel\u001b[0m \u001b[0;34m=\u001b[0m \u001b[0moriginal\u001b[0m\u001b[0;34m(\u001b[0m\u001b[0;34m*\u001b[0m\u001b[0margs\u001b[0m\u001b[0;34m,\u001b[0m \u001b[0;34m**\u001b[0m\u001b[0mkwargs\u001b[0m\u001b[0;34m)\u001b[0m\u001b[0;34m\u001b[0m\u001b[0;34m\u001b[0m\u001b[0m\n\u001b[0m\u001b[1;32m    303\u001b[0m \u001b[0;34m\u001b[0m\u001b[0m\n\u001b[1;32m    304\u001b[0m         \u001b[0;31m# logging metrics on each iteration.\u001b[0m\u001b[0;34m\u001b[0m\u001b[0;34m\u001b[0m\u001b[0;34m\u001b[0m\u001b[0m\n",
            "\u001b[0;32m/content/LightGBM/python-package/lightgbm/engine.py\u001b[0m in \u001b[0;36mtrain\u001b[0;34m(params, train_set, num_boost_round, valid_sets, valid_names, fobj, feval, init_model, feature_name, categorical_feature, early_stopping_rounds, evals_result, verbose_eval, learning_rates, keep_training_booster, callbacks)\u001b[0m\n\u001b[1;32m    247\u001b[0m                                     evaluation_result_list=None))\n\u001b[1;32m    248\u001b[0m \u001b[0;34m\u001b[0m\u001b[0m\n\u001b[0;32m--> 249\u001b[0;31m         \u001b[0mbooster\u001b[0m\u001b[0;34m.\u001b[0m\u001b[0mupdate\u001b[0m\u001b[0;34m(\u001b[0m\u001b[0mfobj\u001b[0m\u001b[0;34m=\u001b[0m\u001b[0mfobj\u001b[0m\u001b[0;34m)\u001b[0m\u001b[0;34m\u001b[0m\u001b[0;34m\u001b[0m\u001b[0m\n\u001b[0m\u001b[1;32m    250\u001b[0m \u001b[0;34m\u001b[0m\u001b[0m\n\u001b[1;32m    251\u001b[0m         \u001b[0mevaluation_result_list\u001b[0m \u001b[0;34m=\u001b[0m \u001b[0;34m[\u001b[0m\u001b[0;34m]\u001b[0m\u001b[0;34m\u001b[0m\u001b[0;34m\u001b[0m\u001b[0m\n",
            "\u001b[0;32m/content/LightGBM/python-package/lightgbm/basic.py\u001b[0m in \u001b[0;36mupdate\u001b[0;34m(self, train_set, fobj)\u001b[0m\n\u001b[1;32m   2168\u001b[0m             _safe_call(_LIB.LGBM_BoosterUpdateOneIter(\n\u001b[1;32m   2169\u001b[0m                 \u001b[0mself\u001b[0m\u001b[0;34m.\u001b[0m\u001b[0mhandle\u001b[0m\u001b[0;34m,\u001b[0m\u001b[0;34m\u001b[0m\u001b[0;34m\u001b[0m\u001b[0m\n\u001b[0;32m-> 2170\u001b[0;31m                 ctypes.byref(is_finished)))\n\u001b[0m\u001b[1;32m   2171\u001b[0m             \u001b[0mself\u001b[0m\u001b[0;34m.\u001b[0m\u001b[0m__is_predicted_cur_iter\u001b[0m \u001b[0;34m=\u001b[0m \u001b[0;34m[\u001b[0m\u001b[0;32mFalse\u001b[0m \u001b[0;32mfor\u001b[0m \u001b[0m_\u001b[0m \u001b[0;32min\u001b[0m \u001b[0mrange_\u001b[0m\u001b[0;34m(\u001b[0m\u001b[0mself\u001b[0m\u001b[0;34m.\u001b[0m\u001b[0m__num_dataset\u001b[0m\u001b[0;34m)\u001b[0m\u001b[0;34m]\u001b[0m\u001b[0;34m\u001b[0m\u001b[0;34m\u001b[0m\u001b[0m\n\u001b[1;32m   2172\u001b[0m             \u001b[0;32mreturn\u001b[0m \u001b[0mis_finished\u001b[0m\u001b[0;34m.\u001b[0m\u001b[0mvalue\u001b[0m \u001b[0;34m==\u001b[0m \u001b[0;36m1\u001b[0m\u001b[0;34m\u001b[0m\u001b[0;34m\u001b[0m\u001b[0m\n",
            "\u001b[0;32m/content/LightGBM/python-package/lightgbm/basic.py\u001b[0m in \u001b[0;36m_safe_call\u001b[0;34m(ret)\u001b[0m\n\u001b[1;32m     44\u001b[0m     \"\"\"\n\u001b[1;32m     45\u001b[0m     \u001b[0;32mif\u001b[0m \u001b[0mret\u001b[0m \u001b[0;34m!=\u001b[0m \u001b[0;36m0\u001b[0m\u001b[0;34m:\u001b[0m\u001b[0;34m\u001b[0m\u001b[0;34m\u001b[0m\u001b[0m\n\u001b[0;32m---> 46\u001b[0;31m         \u001b[0;32mraise\u001b[0m \u001b[0mLightGBMError\u001b[0m\u001b[0;34m(\u001b[0m\u001b[0mdecode_string\u001b[0m\u001b[0;34m(\u001b[0m\u001b[0m_LIB\u001b[0m\u001b[0;34m.\u001b[0m\u001b[0mLGBM_GetLastError\u001b[0m\u001b[0;34m(\u001b[0m\u001b[0;34m)\u001b[0m\u001b[0;34m)\u001b[0m\u001b[0;34m)\u001b[0m\u001b[0;34m\u001b[0m\u001b[0;34m\u001b[0m\u001b[0m\n\u001b[0m\u001b[1;32m     47\u001b[0m \u001b[0;34m\u001b[0m\u001b[0m\n\u001b[1;32m     48\u001b[0m \u001b[0;34m\u001b[0m\u001b[0m\n",
            "\u001b[0;31mLightGBMError\u001b[0m: Check failed: (best_split_info.left_count) > (0) at /content/LightGBM/src/treelearner/serial_tree_learner.cpp, line 622 .\n"
          ]
        }
      ]
    },
    {
      "cell_type": "code",
      "metadata": {
        "id": "UzmCdHzKgQ96",
        "colab_type": "code",
        "colab": {},
        "outputId": "ff836e5b-fcad-494c-e262-a04f396f788c"
      },
      "source": [
        "print(len(ParameterGrid(param_grid)))"
      ],
      "execution_count": 0,
      "outputs": [
        {
          "output_type": "stream",
          "text": [
            "18\n"
          ],
          "name": "stdout"
        }
      ]
    },
    {
      "cell_type": "markdown",
      "metadata": {
        "id": "ZcYY014DgQ9-",
        "colab_type": "text"
      },
      "source": [
        "Calculate the RMSE on the validation set"
      ]
    },
    {
      "cell_type": "code",
      "metadata": {
        "id": "-4TzBLpTgQ9_",
        "colab_type": "code",
        "colab": {}
      },
      "source": [
        "y_test = model.predict(X_test[features])"
      ],
      "execution_count": 0,
      "outputs": []
    },
    {
      "cell_type": "code",
      "metadata": {
        "id": "Yvyp9HKxgQ-Q",
        "colab_type": "code",
        "colab": {
          "base_uri": "https://localhost:8080/",
          "height": 35
        },
        "outputId": "4b078341-0415-4617-d88c-a7e23a1e11fc"
      },
      "source": [
        "val_pred = model.predict(X_val[features])\n",
        "val_score = np.sqrt(metrics.mean_squared_error(val_pred, y_val))\n",
        "X_val['demand'] = y_val\n",
        "X_val['demand_pred'] = val_pred\n",
        "X_val['abs_difference'] = abs(X_val['demand'] - X_val['demand_pred'])\n",
        "print(f'Our val rmse score is {val_score}')\n",
        "y_test = model.predict(X_test[features])\n",
        "X_test['demand'] = y_test\n"
      ],
      "execution_count": 31,
      "outputs": [
        {
          "output_type": "stream",
          "text": [
            "Our val rmse score is 2.1670413807487776\n"
          ],
          "name": "stdout"
        }
      ]
    },
    {
      "cell_type": "code",
      "metadata": {
        "id": "C_OXP8B1gQ-U",
        "colab_type": "code",
        "colab": {
          "base_uri": "https://localhost:8080/",
          "height": 35
        },
        "outputId": "bd472778-63d9-4852-ba48-cf0e7892b4f3"
      },
      "source": [
        "print(f'Our val mae score is {metrics.mean_absolute_error(val_pred, y_val)}')"
      ],
      "execution_count": 32,
      "outputs": [
        {
          "output_type": "stream",
          "text": [
            "Our val mae score is 1.064301236515293\n"
          ],
          "name": "stdout"
        }
      ]
    },
    {
      "cell_type": "markdown",
      "metadata": {
        "id": "g8n_oM2DgQ-Y",
        "colab_type": "text"
      },
      "source": [
        "We look at the mean absolute error by forecastablity in order to indestand what category needs more improvement for prediction."
      ]
    },
    {
      "cell_type": "code",
      "metadata": {
        "id": "mDbKpqsHgQ-a",
        "colab_type": "code",
        "colab": {
          "base_uri": "https://localhost:8080/",
          "height": 294
        },
        "outputId": "9ab96952-7ba9-40ee-c7e1-c82affab8ba4"
      },
      "source": [
        "X_val.groupby(['demand_type'])['demand_type', 'abs_difference'].agg(['mean']).reset_index()"
      ],
      "execution_count": 33,
      "outputs": [
        {
          "output_type": "stream",
          "text": [
            "/usr/local/lib/python3.6/dist-packages/ipykernel_launcher.py:1: FutureWarning: Indexing with multiple keys (implicitly converted to a tuple of keys) will be deprecated, use a list instead.\n",
            "  \"\"\"Entry point for launching an IPython kernel.\n"
          ],
          "name": "stderr"
        },
        {
          "output_type": "execute_result",
          "data": {
            "text/html": [
              "<div>\n",
              "<style scoped>\n",
              "    .dataframe tbody tr th:only-of-type {\n",
              "        vertical-align: middle;\n",
              "    }\n",
              "\n",
              "    .dataframe tbody tr th {\n",
              "        vertical-align: top;\n",
              "    }\n",
              "\n",
              "    .dataframe thead tr th {\n",
              "        text-align: left;\n",
              "    }\n",
              "</style>\n",
              "<table border=\"1\" class=\"dataframe\">\n",
              "  <thead>\n",
              "    <tr>\n",
              "      <th></th>\n",
              "      <th>demand_type</th>\n",
              "      <th>abs_difference</th>\n",
              "    </tr>\n",
              "    <tr>\n",
              "      <th></th>\n",
              "      <th></th>\n",
              "      <th>mean</th>\n",
              "    </tr>\n",
              "  </thead>\n",
              "  <tbody>\n",
              "    <tr>\n",
              "      <th>0</th>\n",
              "      <td>0</td>\n",
              "      <td>0.902455</td>\n",
              "    </tr>\n",
              "    <tr>\n",
              "      <th>1</th>\n",
              "      <td>erratic</td>\n",
              "      <td>3.403389</td>\n",
              "    </tr>\n",
              "    <tr>\n",
              "      <th>2</th>\n",
              "      <td>intermittent</td>\n",
              "      <td>0.717328</td>\n",
              "    </tr>\n",
              "    <tr>\n",
              "      <th>3</th>\n",
              "      <td>lumpy</td>\n",
              "      <td>1.565815</td>\n",
              "    </tr>\n",
              "    <tr>\n",
              "      <th>4</th>\n",
              "      <td>smooth</td>\n",
              "      <td>2.801362</td>\n",
              "    </tr>\n",
              "  </tbody>\n",
              "</table>\n",
              "</div>"
            ],
            "text/plain": [
              "    demand_type abs_difference\n",
              "                          mean\n",
              "0             0       0.902455\n",
              "1       erratic       3.403389\n",
              "2  intermittent       0.717328\n",
              "3         lumpy       1.565815\n",
              "4        smooth       2.801362"
            ]
          },
          "metadata": {
            "tags": []
          },
          "execution_count": 33
        }
      ]
    },
    {
      "cell_type": "code",
      "metadata": {
        "id": "e6zQdIgggQ-h",
        "colab_type": "code",
        "colab": {
          "base_uri": "https://localhost:8080/",
          "height": 313
        },
        "outputId": "ae495d25-fd3a-4aca-9be2-0863faaddb0b"
      },
      "source": [
        "demans_vs_error = sns.scatterplot(x=X_val['demand'], y=X_val['abs_difference'])\n",
        "demans_vs_error.set_title('Distribution of error over demand')\n",
        "demans_vs_error.set_xlabel('absolute error')"
      ],
      "execution_count": 34,
      "outputs": [
        {
          "output_type": "execute_result",
          "data": {
            "text/plain": [
              "Text(0.5, 0, 'absolute error')"
            ]
          },
          "metadata": {
            "tags": []
          },
          "execution_count": 34
        },
        {
          "output_type": "display_data",
          "data": {
            "image/png": "[encoded data removed]",
            "text/plain": [
              "<Figure size 432x288 with 1 Axes>"
            ]
          },
          "metadata": {
            "tags": [],
            "needs_background": "light"
          }
        }
      ]
    },
    {
      "cell_type": "markdown",
      "metadata": {
        "id": "WUt3ggb1gQ-k",
        "colab_type": "text"
      },
      "source": [
        "Surprisingly smooth time series has a large mean absolute error. Erratic time series has a large mean absolute error; typically time series of this type is difficult to predict."
      ]
    },
    {
      "cell_type": "markdown",
      "metadata": {
        "id": "7odHhbd-gQ-n",
        "colab_type": "text"
      },
      "source": [
        "## Feature importance"
      ]
    },
    {
      "cell_type": "code",
      "metadata": {
        "scrolled": true,
        "id": "Rgd_Aga_gQ-n",
        "colab_type": "code",
        "colab": {
          "base_uri": "https://localhost:8080/",
          "height": 731
        },
        "outputId": "84609a19-f05f-422f-ed76-6e27b73bcaf8"
      },
      "source": [
        "def plotImp(model, X , num = 20):\n",
        "    feature_imp = pd.DataFrame({'Value':model.feature_importance(),'Feature':X.columns})\n",
        "    plt.figure(figsize=(40, 20))\n",
        "    sns.set(font_scale = 5)\n",
        "    sns.barplot(x=\"Value\", y=\"Feature\", data=feature_imp.sort_values(by=\"Value\", \n",
        "                                                        ascending=False)[0:num])\n",
        "    plt.title('LightGBM Features (avg over folds)')\n",
        "    plt.tight_layout()\n",
        "    plt.savefig('lgbm_importances-01.png')\n",
        "    plt.show()\n",
        "plotImp(model, X_train[features], 30)"
      ],
      "execution_count": 35,
      "outputs": [
        {
          "output_type": "display_data",
          "data": {
            "image/png": "[encoded data removed]",
            "text/plain": [
              "<Figure size 2880x1440 with 1 Axes>"
            ]
          },
          "metadata": {
            "tags": [],
            "needs_background": "light"
          }
        }
      ]
    },
    {
      "cell_type": "markdown",
      "metadata": {
        "id": "hmXGtIragQ-t",
        "colab_type": "text"
      },
      "source": [
        "'item_id' and 'id' are most important features. 'days_from_start' reflect the trend of data. "
      ]
    },
    {
      "cell_type": "markdown",
      "metadata": {
        "id": "0C3tI6e8gQ-u",
        "colab_type": "text"
      },
      "source": [
        "## Transform prediction"
      ]
    },
    {
      "cell_type": "markdown",
      "metadata": {
        "id": "Lu30-XekgQ-v",
        "colab_type": "text"
      },
      "source": [
        "Transform predictions to the right format"
      ]
    },
    {
      "cell_type": "code",
      "metadata": {
        "id": "WpJ6AAipgQ-w",
        "colab_type": "code",
        "colab": {
          "base_uri": "https://localhost:8080/",
          "height": 226
        },
        "outputId": "4bfb216f-2b22-4a72-9a1e-ae34f17cb23e"
      },
      "source": [
        "predictions = X_test[['id', 'days_from_start', 'demand']]\n",
        "predictions = pd.pivot(predictions, index = 'id', columns = 'days_from_start', values = 'demand').reset_index()\n",
        "predictions.columns = ['id'] + ['F' + str(i + 1) for i in range(28)]\n",
        "\n",
        "evaluation_rows = [row for row in submission['id'] if 'evaluation' in row] \n",
        "evaluation = submission[submission['id'].isin(evaluation_rows)]\n",
        "\n",
        "validation = submission[['id']].merge(predictions, on = 'id')\n",
        "final = pd.concat([validation, evaluation])\n",
        "final.head()\n"
      ],
      "execution_count": 36,
      "outputs": [
        {
          "output_type": "execute_result",
          "data": {
            "text/html": [
              "<div>\n",
              "<style scoped>\n",
              "    .dataframe tbody tr th:only-of-type {\n",
              "        vertical-align: middle;\n",
              "    }\n",
              "\n",
              "    .dataframe tbody tr th {\n",
              "        vertical-align: top;\n",
              "    }\n",
              "\n",
              "    .dataframe thead th {\n",
              "        text-align: right;\n",
              "    }\n",
              "</style>\n",
              "<table border=\"1\" class=\"dataframe\">\n",
              "  <thead>\n",
              "    <tr style=\"text-align: right;\">\n",
              "      <th></th>\n",
              "      <th>id</th>\n",
              "      <th>F1</th>\n",
              "      <th>F2</th>\n",
              "      <th>F3</th>\n",
              "      <th>F4</th>\n",
              "      <th>F5</th>\n",
              "      <th>F6</th>\n",
              "      <th>F7</th>\n",
              "      <th>F8</th>\n",
              "      <th>F9</th>\n",
              "      <th>F10</th>\n",
              "      <th>F11</th>\n",
              "      <th>F12</th>\n",
              "      <th>F13</th>\n",
              "      <th>F14</th>\n",
              "      <th>F15</th>\n",
              "      <th>F16</th>\n",
              "      <th>F17</th>\n",
              "      <th>F18</th>\n",
              "      <th>F19</th>\n",
              "      <th>F20</th>\n",
              "      <th>F21</th>\n",
              "      <th>F22</th>\n",
              "      <th>F23</th>\n",
              "      <th>F24</th>\n",
              "      <th>F25</th>\n",
              "      <th>F26</th>\n",
              "      <th>F27</th>\n",
              "      <th>F28</th>\n",
              "    </tr>\n",
              "  </thead>\n",
              "  <tbody>\n",
              "    <tr>\n",
              "      <th>0</th>\n",
              "      <td>HOBBIES_1_001_CA_1_validation</td>\n",
              "      <td>0.690058</td>\n",
              "      <td>0.756166</td>\n",
              "      <td>0.506678</td>\n",
              "      <td>0.443369</td>\n",
              "      <td>0.574863</td>\n",
              "      <td>0.804272</td>\n",
              "      <td>0.621334</td>\n",
              "      <td>0.512695</td>\n",
              "      <td>0.682156</td>\n",
              "      <td>0.563065</td>\n",
              "      <td>0.586526</td>\n",
              "      <td>0.778125</td>\n",
              "      <td>1.171879</td>\n",
              "      <td>0.934010</td>\n",
              "      <td>0.798848</td>\n",
              "      <td>0.850178</td>\n",
              "      <td>0.556909</td>\n",
              "      <td>0.487124</td>\n",
              "      <td>0.614526</td>\n",
              "      <td>1.048450</td>\n",
              "      <td>0.755817</td>\n",
              "      <td>0.626190</td>\n",
              "      <td>0.754338</td>\n",
              "      <td>0.567648</td>\n",
              "      <td>0.622604</td>\n",
              "      <td>0.769295</td>\n",
              "      <td>1.116728</td>\n",
              "      <td>0.803339</td>\n",
              "    </tr>\n",
              "    <tr>\n",
              "      <th>1</th>\n",
              "      <td>HOBBIES_1_002_CA_1_validation</td>\n",
              "      <td>0.319041</td>\n",
              "      <td>0.320369</td>\n",
              "      <td>0.332386</td>\n",
              "      <td>0.389947</td>\n",
              "      <td>0.377834</td>\n",
              "      <td>0.437123</td>\n",
              "      <td>0.325596</td>\n",
              "      <td>0.208220</td>\n",
              "      <td>0.173065</td>\n",
              "      <td>0.182348</td>\n",
              "      <td>0.217180</td>\n",
              "      <td>0.222143</td>\n",
              "      <td>0.288298</td>\n",
              "      <td>0.223549</td>\n",
              "      <td>0.175075</td>\n",
              "      <td>0.172699</td>\n",
              "      <td>0.181262</td>\n",
              "      <td>0.220311</td>\n",
              "      <td>0.221019</td>\n",
              "      <td>0.281694</td>\n",
              "      <td>0.232291</td>\n",
              "      <td>0.172714</td>\n",
              "      <td>0.170986</td>\n",
              "      <td>0.244405</td>\n",
              "      <td>0.292439</td>\n",
              "      <td>0.296070</td>\n",
              "      <td>0.387648</td>\n",
              "      <td>0.302530</td>\n",
              "    </tr>\n",
              "    <tr>\n",
              "      <th>2</th>\n",
              "      <td>HOBBIES_1_003_CA_1_validation</td>\n",
              "      <td>0.273260</td>\n",
              "      <td>0.297892</td>\n",
              "      <td>0.280508</td>\n",
              "      <td>0.306482</td>\n",
              "      <td>0.367899</td>\n",
              "      <td>0.473569</td>\n",
              "      <td>0.338761</td>\n",
              "      <td>0.251350</td>\n",
              "      <td>0.281557</td>\n",
              "      <td>0.256879</td>\n",
              "      <td>0.314453</td>\n",
              "      <td>0.377680</td>\n",
              "      <td>0.611185</td>\n",
              "      <td>0.358035</td>\n",
              "      <td>0.242890</td>\n",
              "      <td>0.269853</td>\n",
              "      <td>0.290696</td>\n",
              "      <td>0.362255</td>\n",
              "      <td>0.449678</td>\n",
              "      <td>0.763690</td>\n",
              "      <td>0.541264</td>\n",
              "      <td>0.370383</td>\n",
              "      <td>0.442780</td>\n",
              "      <td>0.423184</td>\n",
              "      <td>0.468034</td>\n",
              "      <td>0.561130</td>\n",
              "      <td>0.869509</td>\n",
              "      <td>0.518031</td>\n",
              "    </tr>\n",
              "    <tr>\n",
              "      <th>3</th>\n",
              "      <td>HOBBIES_1_004_CA_1_validation</td>\n",
              "      <td>1.894771</td>\n",
              "      <td>1.365470</td>\n",
              "      <td>1.320690</td>\n",
              "      <td>1.555709</td>\n",
              "      <td>1.527002</td>\n",
              "      <td>2.297133</td>\n",
              "      <td>2.614312</td>\n",
              "      <td>1.109453</td>\n",
              "      <td>1.080148</td>\n",
              "      <td>1.035023</td>\n",
              "      <td>1.338406</td>\n",
              "      <td>1.482830</td>\n",
              "      <td>2.479843</td>\n",
              "      <td>3.102989</td>\n",
              "      <td>1.669027</td>\n",
              "      <td>1.293910</td>\n",
              "      <td>1.251240</td>\n",
              "      <td>1.545840</td>\n",
              "      <td>1.623473</td>\n",
              "      <td>2.249205</td>\n",
              "      <td>2.940286</td>\n",
              "      <td>1.451563</td>\n",
              "      <td>1.180829</td>\n",
              "      <td>1.137735</td>\n",
              "      <td>1.383197</td>\n",
              "      <td>1.513090</td>\n",
              "      <td>2.728361</td>\n",
              "      <td>3.577905</td>\n",
              "    </tr>\n",
              "    <tr>\n",
              "      <th>4</th>\n",
              "      <td>HOBBIES_1_005_CA_1_validation</td>\n",
              "      <td>0.858905</td>\n",
              "      <td>0.724008</td>\n",
              "      <td>0.876744</td>\n",
              "      <td>1.028919</td>\n",
              "      <td>1.113309</td>\n",
              "      <td>1.541385</td>\n",
              "      <td>1.712992</td>\n",
              "      <td>1.107748</td>\n",
              "      <td>1.100008</td>\n",
              "      <td>1.139938</td>\n",
              "      <td>1.030989</td>\n",
              "      <td>0.992411</td>\n",
              "      <td>1.492916</td>\n",
              "      <td>1.322635</td>\n",
              "      <td>0.870455</td>\n",
              "      <td>0.789570</td>\n",
              "      <td>0.890612</td>\n",
              "      <td>0.906974</td>\n",
              "      <td>1.054931</td>\n",
              "      <td>1.508594</td>\n",
              "      <td>1.475675</td>\n",
              "      <td>0.899427</td>\n",
              "      <td>0.814827</td>\n",
              "      <td>0.940289</td>\n",
              "      <td>0.998273</td>\n",
              "      <td>1.130083</td>\n",
              "      <td>1.637941</td>\n",
              "      <td>1.751035</td>\n",
              "    </tr>\n",
              "  </tbody>\n",
              "</table>\n",
              "</div>"
            ],
            "text/plain": [
              "                              id        F1  ...       F27       F28\n",
              "0  HOBBIES_1_001_CA_1_validation  0.690058  ...  1.116728  0.803339\n",
              "1  HOBBIES_1_002_CA_1_validation  0.319041  ...  0.387648  0.302530\n",
              "2  HOBBIES_1_003_CA_1_validation  0.273260  ...  0.869509  0.518031\n",
              "3  HOBBIES_1_004_CA_1_validation  1.894771  ...  2.728361  3.577905\n",
              "4  HOBBIES_1_005_CA_1_validation  0.858905  ...  1.637941  1.751035\n",
              "\n",
              "[5 rows x 29 columns]"
            ]
          },
          "metadata": {
            "tags": []
          },
          "execution_count": 36
        }
      ]
    },
    {
      "cell_type": "markdown",
      "metadata": {
        "id": "L5Qe2hsBgQ-1",
        "colab_type": "text"
      },
      "source": [
        "Save the submission, the features and the score to files."
      ]
    },
    {
      "cell_type": "code",
      "metadata": {
        "id": "-MWsOVyhgQ-3",
        "colab_type": "code",
        "colab": {}
      },
      "source": [
        "data_folder = '/content/drive/My Drive/Kaggle_M5/04_submissions/'\n",
        "final.to_csv(data_folder + 'lightGBM.csv', index = False)"
      ],
      "execution_count": 0,
      "outputs": []
    },
    {
      "cell_type": "code",
      "metadata": {
        "id": "e6QltxGWgQ-8",
        "colab_type": "code",
        "colab": {}
      },
      "source": [
        "_features = X_test.columns[~X_test.columns.isin(not_features)]\n",
        "features = features.to_list()\n",
        "features.append(str(val_score))\n",
        "features.append(str(params['objective']))\n"
      ],
      "execution_count": 0,
      "outputs": []
    },
    {
      "cell_type": "code",
      "metadata": {
        "id": "rLSNtwLHgQ_B",
        "colab_type": "code",
        "colab": {}
      },
      "source": [
        "with open(\"../04_submissions/lgb_features_score.txt\", \"a\") as outfile:\n",
        "    outfile.write(\"\\n\".join(features))\n"
      ],
      "execution_count": 0,
      "outputs": []
    },
    {
      "cell_type": "markdown",
      "metadata": {
        "id": "WjC7Gr7egQ_F",
        "colab_type": "text"
      },
      "source": [
        "## Score"
      ]
    },
    {
      "cell_type": "markdown",
      "metadata": {
        "id": "ISJsNaWtgQ_H",
        "colab_type": "text"
      },
      "source": [
        "The score of this submission is 0.58584, which is better than naive prediction."
      ]
    },
    {
      "cell_type": "code",
      "metadata": {
        "id": "KY966IMegQ_I",
        "colab_type": "code",
        "colab": {}
      },
      "source": [
        ""
      ],
      "execution_count": 0,
      "outputs": []
    },
    {
      "cell_type": "code",
      "metadata": {
        "id": "Z-biR6DegQ_M",
        "colab_type": "code",
        "colab": {}
      },
      "source": [
        ""
      ],
      "execution_count": 0,
      "outputs": []
    }
  ]
}