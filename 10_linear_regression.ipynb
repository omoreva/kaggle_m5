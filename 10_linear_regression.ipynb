{
  "nbformat": 4,
  "nbformat_minor": 0,
  "metadata": {
    "colab": {
      "name": "linear_regression.ipynb",
      "provenance": [],
      "machine_shape": "hm",
      "mount_file_id": "1oVz1Yq8sDRC1KWO3vVpb06wtUJi1d1ws",
      "authorship_tag": "ABX9TyP6QIVcPt+aoL8eIr/MfKvZ",
      "include_colab_link": true
    },
    "kernelspec": {
      "name": "python3",
      "display_name": "Python 3"
    }
  },
  "cells": [
    {
      "cell_type": "markdown",
      "metadata": {
        "id": "view-in-github",
        "colab_type": "text"
      },
      "source": [
        "<a href=\"https://colab.research.google.com/github/omoreva/kaggle_m5/blob/master/10_linear_regression.ipynb\" target=\"_parent\"><img src=\"https://colab.research.google.com/assets/colab-badge.svg\" alt=\"Open In Colab\"/></a>"
      ]
    },
    {
      "cell_type": "code",
      "metadata": {
        "id": "_Xm7cc61fy0A",
        "colab_type": "code",
        "outputId": "8ee33797-8c4c-47bb-faad-76e421cf28bf",
        "colab": {
          "base_uri": "https://localhost:8080/",
          "height": 623
        }
      },
      "source": [
        "!pip install tsfresh"
      ],
      "execution_count": 2,
      "outputs": [
        {
          "output_type": "stream",
          "text": [
            "Requirement already satisfied: tsfresh in /usr/local/lib/python3.6/dist-packages (0.15.1)\n",
            "Requirement already satisfied: dask[dataframe]>=0.15.2 in /usr/local/lib/python3.6/dist-packages (from tsfresh) (2.12.0)\n",
            "Requirement already satisfied: statsmodels>=0.8.0 in /usr/local/lib/python3.6/dist-packages (from tsfresh) (0.10.2)\n",
            "Requirement already satisfied: scikit-learn>=0.19.0 in /usr/local/lib/python3.6/dist-packages (from tsfresh) (0.22.2.post1)\n",
            "Requirement already satisfied: scipy>=1.2.0 in /usr/local/lib/python3.6/dist-packages (from tsfresh) (1.4.1)\n",
            "Requirement already satisfied: patsy>=0.4.1 in /usr/local/lib/python3.6/dist-packages (from tsfresh) (0.5.1)\n",
            "Requirement already satisfied: requests>=2.9.1 in /usr/local/lib/python3.6/dist-packages (from tsfresh) (2.23.0)\n",
            "Requirement already satisfied: pandas!=0.24.*,>=0.20.3 in /usr/local/lib/python3.6/dist-packages (from tsfresh) (1.0.3)\n",
            "Requirement already satisfied: tqdm>=4.10.0 in /usr/local/lib/python3.6/dist-packages (from tsfresh) (4.38.0)\n",
            "Requirement already satisfied: distributed>=1.18.3 in /usr/local/lib/python3.6/dist-packages (from tsfresh) (1.25.3)\n",
            "Requirement already satisfied: numpy>=1.12.0 in /usr/local/lib/python3.6/dist-packages (from tsfresh) (1.18.3)\n",
            "Requirement already satisfied: partd>=0.3.10; extra == \"dataframe\" in /usr/local/lib/python3.6/dist-packages (from dask[dataframe]>=0.15.2->tsfresh) (1.1.0)\n",
            "Requirement already satisfied: fsspec>=0.6.0; extra == \"dataframe\" in /usr/local/lib/python3.6/dist-packages (from dask[dataframe]>=0.15.2->tsfresh) (0.7.3)\n",
            "Requirement already satisfied: toolz>=0.7.3; extra == \"dataframe\" in /usr/local/lib/python3.6/dist-packages (from dask[dataframe]>=0.15.2->tsfresh) (0.10.0)\n",
            "Requirement already satisfied: joblib>=0.11 in /usr/local/lib/python3.6/dist-packages (from scikit-learn>=0.19.0->tsfresh) (0.14.1)\n",
            "Requirement already satisfied: six in /usr/local/lib/python3.6/dist-packages (from patsy>=0.4.1->tsfresh) (1.12.0)\n",
            "Requirement already satisfied: idna<3,>=2.5 in /usr/local/lib/python3.6/dist-packages (from requests>=2.9.1->tsfresh) (2.9)\n",
            "Requirement already satisfied: certifi>=2017.4.17 in /usr/local/lib/python3.6/dist-packages (from requests>=2.9.1->tsfresh) (2020.4.5.1)\n",
            "Requirement already satisfied: urllib3!=1.25.0,!=1.25.1,<1.26,>=1.21.1 in /usr/local/lib/python3.6/dist-packages (from requests>=2.9.1->tsfresh) (1.24.3)\n",
            "Requirement already satisfied: chardet<4,>=3.0.2 in /usr/local/lib/python3.6/dist-packages (from requests>=2.9.1->tsfresh) (3.0.4)\n",
            "Requirement already satisfied: pytz>=2017.2 in /usr/local/lib/python3.6/dist-packages (from pandas!=0.24.*,>=0.20.3->tsfresh) (2018.9)\n",
            "Requirement already satisfied: python-dateutil>=2.6.1 in /usr/local/lib/python3.6/dist-packages (from pandas!=0.24.*,>=0.20.3->tsfresh) (2.8.1)\n",
            "Requirement already satisfied: click>=6.6 in /usr/local/lib/python3.6/dist-packages (from distributed>=1.18.3->tsfresh) (7.1.2)\n",
            "Requirement already satisfied: zict>=0.1.3 in /usr/local/lib/python3.6/dist-packages (from distributed>=1.18.3->tsfresh) (2.0.0)\n",
            "Requirement already satisfied: cloudpickle>=0.2.2 in /usr/local/lib/python3.6/dist-packages (from distributed>=1.18.3->tsfresh) (1.3.0)\n",
            "Requirement already satisfied: pyyaml in /usr/local/lib/python3.6/dist-packages (from distributed>=1.18.3->tsfresh) (3.13)\n",
            "Requirement already satisfied: sortedcontainers!=2.0.0,!=2.0.1 in /usr/local/lib/python3.6/dist-packages (from distributed>=1.18.3->tsfresh) (2.1.0)\n",
            "Requirement already satisfied: msgpack in /usr/local/lib/python3.6/dist-packages (from distributed>=1.18.3->tsfresh) (1.0.0)\n",
            "Requirement already satisfied: psutil>=5.0 in /usr/local/lib/python3.6/dist-packages (from distributed>=1.18.3->tsfresh) (5.4.8)\n",
            "Requirement already satisfied: tblib in /usr/local/lib/python3.6/dist-packages (from distributed>=1.18.3->tsfresh) (1.6.0)\n",
            "Requirement already satisfied: tornado>=4.5.1 in /usr/local/lib/python3.6/dist-packages (from distributed>=1.18.3->tsfresh) (4.5.3)\n",
            "Requirement already satisfied: locket in /usr/local/lib/python3.6/dist-packages (from partd>=0.3.10; extra == \"dataframe\"->dask[dataframe]>=0.15.2->tsfresh) (0.2.0)\n",
            "Requirement already satisfied: heapdict in /usr/local/lib/python3.6/dist-packages (from zict>=0.1.3->distributed>=1.18.3->tsfresh) (1.0.1)\n"
          ],
          "name": "stdout"
        }
      ]
    },
    {
      "cell_type": "code",
      "metadata": {
        "id": "RZCiQDdb8XC8",
        "colab_type": "code",
        "colab": {}
      },
      "source": [
        "import pandas as pd\n",
        "import numpy as np\n",
        "from datetime import datetime  \n",
        "from datetime import timedelta  \n",
        "import gc\n",
        "import pickle\n",
        "from sklearn import preprocessing, metrics\n",
        "import pandas as pd\n",
        "import matplotlib.pyplot as plt\n",
        "import seaborn as sns\n",
        "import matplotlib.pyplot as plt\n",
        "import numpy as np\n",
        "from sklearn import datasets, linear_model\n",
        "from sklearn.metrics import mean_squared_error, r2_score\n",
        "from tsfresh.examples.robot_execution_failures import download_robot_execution_failures, load_robot_execution_failures\n",
        "from tsfresh import extract_features, extract_relevant_features, select_features\n",
        "from tsfresh.utilities.dataframe_functions import impute\n",
        "from tsfresh.feature_extraction import ComprehensiveFCParameters\n",
        "from tsfresh.feature_extraction import EfficientFCParameters, MinimalFCParameters, ComprehensiveFCParameters"
      ],
      "execution_count": 0,
      "outputs": []
    },
    {
      "cell_type": "code",
      "metadata": {
        "id": "SKmhrhMk8fFt",
        "colab_type": "code",
        "outputId": "a7d8d5d0-673f-430b-b358-ce4788a84a06",
        "colab": {
          "base_uri": "https://localhost:8080/",
          "height": 35
        }
      },
      "source": [
        "print('Reading files...')\n",
        "#data_location = 's3://{}/{}/{}'.format(bucket, prefix, 'calendar.csv')\n",
        "data_folder = '/content/drive/My Drive/Kaggle_M5/01_preprocessed_data/'\n",
        "X_train = pd.read_pickle(data_folder + 'X_train_WI_2.pkl')\n",
        "X_val = pd.read_pickle(data_folder + 'X_val_WI_2.pkl')\n",
        "y_train = X_train['demand']\n",
        "y_val = X_val['demand']\n"
      ],
      "execution_count": 4,
      "outputs": [
        {
          "output_type": "stream",
          "text": [
            "Reading files...\n"
          ],
          "name": "stdout"
        }
      ]
    },
    {
      "cell_type": "code",
      "metadata": {
        "id": "k6i5wsKrAlPz",
        "colab_type": "code",
        "outputId": "2a6df6c0-bd88-45ef-e617-cd9819a2cabb",
        "colab": {
          "base_uri": "https://localhost:8080/",
          "height": 226
        }
      },
      "source": [
        "X_train.head()"
      ],
      "execution_count": 5,
      "outputs": [
        {
          "output_type": "execute_result",
          "data": {
            "text/html": [
              "<div>\n",
              "<style scoped>\n",
              "    .dataframe tbody tr th:only-of-type {\n",
              "        vertical-align: middle;\n",
              "    }\n",
              "\n",
              "    .dataframe tbody tr th {\n",
              "        vertical-align: top;\n",
              "    }\n",
              "\n",
              "    .dataframe thead th {\n",
              "        text-align: right;\n",
              "    }\n",
              "</style>\n",
              "<table border=\"1\" class=\"dataframe\">\n",
              "  <thead>\n",
              "    <tr style=\"text-align: right;\">\n",
              "      <th></th>\n",
              "      <th>id</th>\n",
              "      <th>item_id</th>\n",
              "      <th>dept_id</th>\n",
              "      <th>cat_id</th>\n",
              "      <th>store_id</th>\n",
              "      <th>state_id</th>\n",
              "      <th>d</th>\n",
              "      <th>demand</th>\n",
              "      <th>date</th>\n",
              "      <th>weekday</th>\n",
              "      <th>month</th>\n",
              "      <th>event_name_1</th>\n",
              "      <th>event_type_1</th>\n",
              "      <th>year</th>\n",
              "      <th>event_name_2</th>\n",
              "      <th>event_type_2</th>\n",
              "      <th>snap_CA</th>\n",
              "      <th>snap_TX</th>\n",
              "      <th>snap_WI</th>\n",
              "      <th>start_date</th>\n",
              "      <th>days_from_start</th>\n",
              "      <th>start_date_from_start</th>\n",
              "      <th>sell_price</th>\n",
              "      <th>lag_28</th>\n",
              "      <th>lag_29</th>\n",
              "      <th>lag_30</th>\n",
              "      <th>lag_31</th>\n",
              "      <th>lag_32</th>\n",
              "      <th>lag_33</th>\n",
              "      <th>lag_34</th>\n",
              "      <th>lag_35</th>\n",
              "      <th>rmean_28_3</th>\n",
              "      <th>rmean_28_7</th>\n",
              "      <th>ADI</th>\n",
              "      <th>CV2</th>\n",
              "      <th>demand_type</th>\n",
              "      <th>avg_weekday_demand</th>\n",
              "      <th>avg_demand</th>\n",
              "      <th>max_demand</th>\n",
              "      <th>std_demand</th>\n",
              "      <th>zero_seq_len</th>\n",
              "      <th>non_zero_seq_len</th>\n",
              "      <th>quantile025_week</th>\n",
              "      <th>max_weekday_demand</th>\n",
              "      <th>avg_price</th>\n",
              "      <th>cheaper_than_usual</th>\n",
              "    </tr>\n",
              "  </thead>\n",
              "  <tbody>\n",
              "    <tr>\n",
              "      <th>439578</th>\n",
              "      <td>HOBBIES_1_008_WI_2_validation</td>\n",
              "      <td>HOBBIES_1_008</td>\n",
              "      <td>HOBBIES_1</td>\n",
              "      <td>HOBBIES</td>\n",
              "      <td>WI_2</td>\n",
              "      <td>WI</td>\n",
              "      <td>d_36</td>\n",
              "      <td>0</td>\n",
              "      <td>2011-03-05</td>\n",
              "      <td>Saturday</td>\n",
              "      <td>3</td>\n",
              "      <td>no event</td>\n",
              "      <td>no event</td>\n",
              "      <td>2011</td>\n",
              "      <td>no event</td>\n",
              "      <td>no event</td>\n",
              "      <td>1</td>\n",
              "      <td>1</td>\n",
              "      <td>1</td>\n",
              "      <td>2011-01-29</td>\n",
              "      <td>35</td>\n",
              "      <td>0</td>\n",
              "      <td>0.419922</td>\n",
              "      <td>0.0</td>\n",
              "      <td>0.0</td>\n",
              "      <td>1.0</td>\n",
              "      <td>0.0</td>\n",
              "      <td>12.0</td>\n",
              "      <td>13.0</td>\n",
              "      <td>3.0</td>\n",
              "      <td>2.0</td>\n",
              "      <td>0.333252</td>\n",
              "      <td>4.144531</td>\n",
              "      <td>1.546875</td>\n",
              "      <td>0.949219</td>\n",
              "      <td>lumpy</td>\n",
              "      <td>3.437500</td>\n",
              "      <td>3.001953</td>\n",
              "      <td>51</td>\n",
              "      <td>4.261719</td>\n",
              "      <td>182</td>\n",
              "      <td>32</td>\n",
              "      <td>0.0</td>\n",
              "      <td>48</td>\n",
              "      <td>0.476318</td>\n",
              "      <td>True</td>\n",
              "    </tr>\n",
              "    <tr>\n",
              "      <th>439579</th>\n",
              "      <td>HOBBIES_1_009_WI_2_validation</td>\n",
              "      <td>HOBBIES_1_009</td>\n",
              "      <td>HOBBIES_1</td>\n",
              "      <td>HOBBIES</td>\n",
              "      <td>WI_2</td>\n",
              "      <td>WI</td>\n",
              "      <td>d_36</td>\n",
              "      <td>1</td>\n",
              "      <td>2011-03-05</td>\n",
              "      <td>Saturday</td>\n",
              "      <td>3</td>\n",
              "      <td>no event</td>\n",
              "      <td>no event</td>\n",
              "      <td>2011</td>\n",
              "      <td>no event</td>\n",
              "      <td>no event</td>\n",
              "      <td>1</td>\n",
              "      <td>1</td>\n",
              "      <td>1</td>\n",
              "      <td>2011-01-29</td>\n",
              "      <td>35</td>\n",
              "      <td>0</td>\n",
              "      <td>1.599609</td>\n",
              "      <td>0.0</td>\n",
              "      <td>0.0</td>\n",
              "      <td>0.0</td>\n",
              "      <td>0.0</td>\n",
              "      <td>0.0</td>\n",
              "      <td>0.0</td>\n",
              "      <td>0.0</td>\n",
              "      <td>3.0</td>\n",
              "      <td>0.000000</td>\n",
              "      <td>0.000000</td>\n",
              "      <td>5.890625</td>\n",
              "      <td>0.707520</td>\n",
              "      <td>lumpy</td>\n",
              "      <td>0.335938</td>\n",
              "      <td>0.262207</td>\n",
              "      <td>12</td>\n",
              "      <td>0.789062</td>\n",
              "      <td>190</td>\n",
              "      <td>5</td>\n",
              "      <td>0.0</td>\n",
              "      <td>12</td>\n",
              "      <td>1.746094</td>\n",
              "      <td>True</td>\n",
              "    </tr>\n",
              "    <tr>\n",
              "      <th>439580</th>\n",
              "      <td>HOBBIES_1_010_WI_2_validation</td>\n",
              "      <td>HOBBIES_1_010</td>\n",
              "      <td>HOBBIES_1</td>\n",
              "      <td>HOBBIES</td>\n",
              "      <td>WI_2</td>\n",
              "      <td>WI</td>\n",
              "      <td>d_36</td>\n",
              "      <td>0</td>\n",
              "      <td>2011-03-05</td>\n",
              "      <td>Saturday</td>\n",
              "      <td>3</td>\n",
              "      <td>no event</td>\n",
              "      <td>no event</td>\n",
              "      <td>2011</td>\n",
              "      <td>no event</td>\n",
              "      <td>no event</td>\n",
              "      <td>1</td>\n",
              "      <td>1</td>\n",
              "      <td>1</td>\n",
              "      <td>2011-01-29</td>\n",
              "      <td>35</td>\n",
              "      <td>0</td>\n",
              "      <td>3.169922</td>\n",
              "      <td>3.0</td>\n",
              "      <td>0.0</td>\n",
              "      <td>0.0</td>\n",
              "      <td>0.0</td>\n",
              "      <td>1.0</td>\n",
              "      <td>0.0</td>\n",
              "      <td>0.0</td>\n",
              "      <td>0.0</td>\n",
              "      <td>1.000000</td>\n",
              "      <td>0.571289</td>\n",
              "      <td>3.023438</td>\n",
              "      <td>0.206421</td>\n",
              "      <td>intermittent</td>\n",
              "      <td>0.494385</td>\n",
              "      <td>0.425293</td>\n",
              "      <td>5</td>\n",
              "      <td>0.692383</td>\n",
              "      <td>200</td>\n",
              "      <td>8</td>\n",
              "      <td>0.0</td>\n",
              "      <td>4</td>\n",
              "      <td>2.970703</td>\n",
              "      <td>False</td>\n",
              "    </tr>\n",
              "    <tr>\n",
              "      <th>439581</th>\n",
              "      <td>HOBBIES_1_012_WI_2_validation</td>\n",
              "      <td>HOBBIES_1_012</td>\n",
              "      <td>HOBBIES_1</td>\n",
              "      <td>HOBBIES</td>\n",
              "      <td>WI_2</td>\n",
              "      <td>WI</td>\n",
              "      <td>d_36</td>\n",
              "      <td>1</td>\n",
              "      <td>2011-03-05</td>\n",
              "      <td>Saturday</td>\n",
              "      <td>3</td>\n",
              "      <td>no event</td>\n",
              "      <td>no event</td>\n",
              "      <td>2011</td>\n",
              "      <td>no event</td>\n",
              "      <td>no event</td>\n",
              "      <td>1</td>\n",
              "      <td>1</td>\n",
              "      <td>1</td>\n",
              "      <td>2011-01-29</td>\n",
              "      <td>35</td>\n",
              "      <td>0</td>\n",
              "      <td>6.578125</td>\n",
              "      <td>2.0</td>\n",
              "      <td>0.0</td>\n",
              "      <td>0.0</td>\n",
              "      <td>0.0</td>\n",
              "      <td>0.0</td>\n",
              "      <td>0.0</td>\n",
              "      <td>0.0</td>\n",
              "      <td>1.0</td>\n",
              "      <td>0.666504</td>\n",
              "      <td>0.285645</td>\n",
              "      <td>4.882812</td>\n",
              "      <td>0.109985</td>\n",
              "      <td>intermittent</td>\n",
              "      <td>0.313232</td>\n",
              "      <td>0.231934</td>\n",
              "      <td>4</td>\n",
              "      <td>0.487549</td>\n",
              "      <td>36</td>\n",
              "      <td>5</td>\n",
              "      <td>0.0</td>\n",
              "      <td>3</td>\n",
              "      <td>6.480469</td>\n",
              "      <td>False</td>\n",
              "    </tr>\n",
              "    <tr>\n",
              "      <th>439583</th>\n",
              "      <td>HOBBIES_1_016_WI_2_validation</td>\n",
              "      <td>HOBBIES_1_016</td>\n",
              "      <td>HOBBIES_1</td>\n",
              "      <td>HOBBIES</td>\n",
              "      <td>WI_2</td>\n",
              "      <td>WI</td>\n",
              "      <td>d_36</td>\n",
              "      <td>1</td>\n",
              "      <td>2011-03-05</td>\n",
              "      <td>Saturday</td>\n",
              "      <td>3</td>\n",
              "      <td>no event</td>\n",
              "      <td>no event</td>\n",
              "      <td>2011</td>\n",
              "      <td>no event</td>\n",
              "      <td>no event</td>\n",
              "      <td>1</td>\n",
              "      <td>1</td>\n",
              "      <td>1</td>\n",
              "      <td>2011-01-29</td>\n",
              "      <td>35</td>\n",
              "      <td>0</td>\n",
              "      <td>0.830078</td>\n",
              "      <td>0.0</td>\n",
              "      <td>0.0</td>\n",
              "      <td>2.0</td>\n",
              "      <td>0.0</td>\n",
              "      <td>3.0</td>\n",
              "      <td>0.0</td>\n",
              "      <td>0.0</td>\n",
              "      <td>0.0</td>\n",
              "      <td>0.666504</td>\n",
              "      <td>0.714355</td>\n",
              "      <td>2.326172</td>\n",
              "      <td>0.886719</td>\n",
              "      <td>lumpy</td>\n",
              "      <td>1.301758</td>\n",
              "      <td>1.319336</td>\n",
              "      <td>25</td>\n",
              "      <td>2.429688</td>\n",
              "      <td>95</td>\n",
              "      <td>13</td>\n",
              "      <td>0.0</td>\n",
              "      <td>24</td>\n",
              "      <td>0.722656</td>\n",
              "      <td>False</td>\n",
              "    </tr>\n",
              "  </tbody>\n",
              "</table>\n",
              "</div>"
            ],
            "text/plain": [
              "                                   id  ... cheaper_than_usual\n",
              "439578  HOBBIES_1_008_WI_2_validation  ...               True\n",
              "439579  HOBBIES_1_009_WI_2_validation  ...               True\n",
              "439580  HOBBIES_1_010_WI_2_validation  ...              False\n",
              "439581  HOBBIES_1_012_WI_2_validation  ...              False\n",
              "439583  HOBBIES_1_016_WI_2_validation  ...              False\n",
              "\n",
              "[5 rows x 46 columns]"
            ]
          },
          "metadata": {
            "tags": []
          },
          "execution_count": 5
        }
      ]
    },
    {
      "cell_type": "code",
      "metadata": {
        "id": "xY5Zz-R4f4NQ",
        "colab_type": "code",
        "colab": {}
      },
      "source": [
        "my_parameters = {\n",
        " 'agg_autocorrelation': [{'f_agg': 'mean', 'maxlag': 40},\n",
        "  {'f_agg': 'median', 'maxlag': 40},\n",
        "  {'f_agg': 'var', 'maxlag': 40}],\n",
        "  'ar_coefficient': [{'coeff': 3, 'k': 10}],\n",
        "   'energy_ratio_by_chunks': [{'num_segments': 10, 'segment_focus': 0},\n",
        "  {'num_segments': 10, 'segment_focus': 1},\n",
        "  {'num_segments': 10, 'segment_focus': 2},\n",
        "  {'num_segments': 10, 'segment_focus': 3},\n",
        "  {'num_segments': 10, 'segment_focus': 4},\n",
        "  {'num_segments': 10, 'segment_focus': 5},\n",
        "  {'num_segments': 10, 'segment_focus': 6},\n",
        "  {'num_segments': 10, 'segment_focus': 7},\n",
        "  {'num_segments': 10, 'segment_focus': 8},\n",
        "  {'num_segments': 10, 'segment_focus': 9}],\n",
        " 'fft_coefficient': [{'attr': 'angle', 'coeff': 1},\n",
        "],\n",
        "}"
      ],
      "execution_count": 0,
      "outputs": []
    },
    {
      "cell_type": "code",
      "metadata": {
        "id": "HwAN8gykgA2F",
        "colab_type": "code",
        "colab": {}
      },
      "source": [
        "store_demand = X_train[['item_id', 'date', 'demand']]"
      ],
      "execution_count": 0,
      "outputs": []
    },
    {
      "cell_type": "code",
      "metadata": {
        "id": "8cFhbbsZgA4p",
        "colab_type": "code",
        "outputId": "02872e1e-6664-4d92-b58e-dd6203abcd42",
        "colab": {
          "base_uri": "https://localhost:8080/",
          "height": 35
        }
      },
      "source": [
        "store_demand_fe = extract_features(store_demand, \n",
        "                     column_id='item_id', column_sort='date',\n",
        "                     default_fc_parameters=my_parameters)"
      ],
      "execution_count": 8,
      "outputs": [
        {
          "output_type": "stream",
          "text": [
            "Feature Extraction: 100%|██████████| 5/5 [00:17<00:00,  3.53s/it]\n"
          ],
          "name": "stderr"
        }
      ]
    },
    {
      "cell_type": "code",
      "metadata": {
        "id": "7Dch8nplgA7k",
        "colab_type": "code",
        "colab": {}
      },
      "source": [
        "store_demand_fe = store_demand_fe.reset_index()\n",
        "store_demand_fe = store_demand_fe.rename(columns={\"id\": \"item_id\"})\n",
        "store_demand_fe.head()\n",
        "\n",
        "X_train = X_train.merge(store_demand_fe, on = ['item_id'], how = 'left')\n",
        "X_val = X_val.merge(store_demand_fe, on = ['item_id'], how = 'left')\n",
        "\n"
      ],
      "execution_count": 0,
      "outputs": []
    },
    {
      "cell_type": "code",
      "metadata": {
        "id": "bKOKUJgSEkjY",
        "colab_type": "code",
        "colab": {}
      },
      "source": [
        "not_features = ['d', 'id', 'item_id', 'store_id', 'dept_id',\n",
        "                'state_id',  'date', 'start_date', \n",
        "                'snap_CA', \t'snap_TX', 'weekday',\n",
        "                'event_name_1', 'event_type_1', 'event_name_2', 'event_type_2',\n",
        "                'demand_type']\n",
        "\n",
        "                not_features = ['d', 'id', 'item_id', 'store_id', 'demand', 'date', 'start_date',\n",
        "                'demand_type', 'event_name_1', \t'event_type_1', 'event_name_2',\n",
        "                'event_type_2', 'weekday' ]\n",
        "features = X_train.columns[~X_train.columns.isin(not_features) ]\n",
        "X_train = X_train[features]\n",
        "X_val = X_val[features]\n"
      ],
      "execution_count": 0,
      "outputs": []
    },
    {
      "cell_type": "code",
      "metadata": {
        "id": "oyuz8BNHIkvK",
        "colab_type": "code",
        "outputId": "cc14cf41-e904-4bf0-f801-1ee48357ee05",
        "colab": {
          "base_uri": "https://localhost:8080/",
          "height": 439
        }
      },
      "source": [
        "features"
      ],
      "execution_count": 11,
      "outputs": [
        {
          "output_type": "execute_result",
          "data": {
            "text/plain": [
              "Index(['cat_id', 'demand', 'month', 'year', 'snap_WI', 'days_from_start',\n",
              "       'start_date_from_start', 'sell_price', 'lag_28', 'lag_29', 'lag_30',\n",
              "       'lag_31', 'lag_32', 'lag_33', 'lag_34', 'lag_35', 'rmean_28_3',\n",
              "       'rmean_28_7', 'ADI', 'CV2', 'avg_weekday_demand', 'avg_demand',\n",
              "       'max_demand', 'std_demand', 'zero_seq_len', 'non_zero_seq_len',\n",
              "       'quantile025_week', 'max_weekday_demand', 'avg_price',\n",
              "       'cheaper_than_usual',\n",
              "       'demand__agg_autocorrelation__f_agg_\"mean\"__maxlag_40',\n",
              "       'demand__agg_autocorrelation__f_agg_\"median\"__maxlag_40',\n",
              "       'demand__agg_autocorrelation__f_agg_\"var\"__maxlag_40',\n",
              "       'demand__ar_coefficient__k_10__coeff_3',\n",
              "       'demand__energy_ratio_by_chunks__num_segments_10__segment_focus_0',\n",
              "       'demand__energy_ratio_by_chunks__num_segments_10__segment_focus_1',\n",
              "       'demand__energy_ratio_by_chunks__num_segments_10__segment_focus_2',\n",
              "       'demand__energy_ratio_by_chunks__num_segments_10__segment_focus_3',\n",
              "       'demand__energy_ratio_by_chunks__num_segments_10__segment_focus_4',\n",
              "       'demand__energy_ratio_by_chunks__num_segments_10__segment_focus_5',\n",
              "       'demand__energy_ratio_by_chunks__num_segments_10__segment_focus_6',\n",
              "       'demand__energy_ratio_by_chunks__num_segments_10__segment_focus_7',\n",
              "       'demand__energy_ratio_by_chunks__num_segments_10__segment_focus_8',\n",
              "       'demand__energy_ratio_by_chunks__num_segments_10__segment_focus_9',\n",
              "       'demand__fft_coefficient__coeff_1__attr_\"angle\"'],\n",
              "      dtype='object')"
            ]
          },
          "metadata": {
            "tags": []
          },
          "execution_count": 11
        }
      ]
    },
    {
      "cell_type": "code",
      "metadata": {
        "id": "df0MjXuDDgyv",
        "colab_type": "code",
        "colab": {}
      },
      "source": [
        "for column in X_val.columns:\n",
        " if X_val[column].dtype.name == 'category':\n",
        "  dummyCols=pd.get_dummies(X_val[column])\n",
        "  X_val=X_val.join(dummyCols)\n",
        "  del X_val[column]"
      ],
      "execution_count": 0,
      "outputs": []
    },
    {
      "cell_type": "code",
      "metadata": {
        "id": "o2neI4txEL1Q",
        "colab_type": "code",
        "colab": {}
      },
      "source": [
        "for column in X_train.columns:\n",
        " if X_train[column].dtype.name == 'category':\n",
        "  dummyCols=pd.get_dummies(X_train[column])\n",
        "  X_train=X_train.join(dummyCols)\n",
        "  del X_train[column]"
      ],
      "execution_count": 0,
      "outputs": []
    },
    {
      "cell_type": "code",
      "metadata": {
        "id": "bExdguR0LU3H",
        "colab_type": "code",
        "colab": {}
      },
      "source": [
        "X_val = X_val.fillna(0)"
      ],
      "execution_count": 0,
      "outputs": []
    },
    {
      "cell_type": "code",
      "metadata": {
        "id": "fhdM5ak0_VKx",
        "colab_type": "code",
        "colab": {}
      },
      "source": [
        "X_train = X_train.dropna()"
      ],
      "execution_count": 0,
      "outputs": []
    },
    {
      "cell_type": "code",
      "metadata": {
        "id": "K54aOSOQ_z7I",
        "colab_type": "code",
        "colab": {}
      },
      "source": [
        "y_train = X_train['demand']\n",
        "y_val = X_val['demand']\n",
        "del X_train['demand']\n",
        "del X_val['demand']"
      ],
      "execution_count": 0,
      "outputs": []
    },
    {
      "cell_type": "code",
      "metadata": {
        "id": "3_U2lEKl9Ukh",
        "colab_type": "code",
        "outputId": "b024eb4b-8bfd-4709-e365-6575c6485669",
        "colab": {
          "base_uri": "https://localhost:8080/",
          "height": 862
        }
      },
      "source": [
        "for feature in X_train.columns:\n",
        "    print(\"{}: {}\".format(feature, X_train[feature].corr(y_train)))"
      ],
      "execution_count": 17,
      "outputs": [
        {
          "output_type": "stream",
          "text": [
            "month: -0.005331694632323964\n",
            "year: 0.00602476206448677\n",
            "snap_WI: 0.04677626410824542\n",
            "days_from_start: 0.004378053822540438\n",
            "start_date_from_start: -0.02268596489262877\n",
            "sell_price: -0.16807703617770417\n",
            "lag_28: 0.5784407577671664\n",
            "lag_29: 0.5661573644994532\n",
            "lag_30: 0.5651533000667964\n",
            "lag_31: 0.563769764621623\n",
            "lag_32: 0.5533464205712468\n",
            "lag_33: 0.5491572710858105\n",
            "lag_34: 0.5528994652686361\n",
            "lag_35: 0.5484823804133633\n",
            "rmean_28_3: 0.6383461138395076\n",
            "rmean_28_7: 0.6679982503163494\n",
            "ADI: -0.1847997646336234\n",
            "CV2: 0.17971717721806027\n",
            "avg_weekday_demand: 0.6610092145325063\n",
            "avg_demand: 0.6554178429515397\n",
            "max_demand: 0.5434951921252689\n",
            "std_demand: 0.6064130928759729\n",
            "zero_seq_len: -0.07732519814595432\n",
            "non_zero_seq_len: 0.5170988900343764\n",
            "quantile025_week: 0.4606684628598245\n",
            "max_weekday_demand: 0.5691419770604416\n",
            "avg_price: -0.1678535454624901\n",
            "cheaper_than_usual: 0.04361777909577033\n",
            "demand__agg_autocorrelation__f_agg_\"mean\"__maxlag_40: 0.2918033404843618\n",
            "demand__agg_autocorrelation__f_agg_\"median\"__maxlag_40: 0.28024253170403934\n",
            "demand__agg_autocorrelation__f_agg_\"var\"__maxlag_40: 0.28594207747001993\n",
            "demand__ar_coefficient__k_10__coeff_3: 0.2121558222269402\n",
            "demand__energy_ratio_by_chunks__num_segments_10__segment_focus_0: -0.05062055904784686\n",
            "demand__energy_ratio_by_chunks__num_segments_10__segment_focus_1: -0.006008837896847523\n",
            "demand__energy_ratio_by_chunks__num_segments_10__segment_focus_2: 0.032060476412224585\n",
            "demand__energy_ratio_by_chunks__num_segments_10__segment_focus_3: 0.008735954172768429\n",
            "demand__energy_ratio_by_chunks__num_segments_10__segment_focus_4: 0.00927037563997256\n",
            "demand__energy_ratio_by_chunks__num_segments_10__segment_focus_5: 0.048096234475459895\n",
            "demand__energy_ratio_by_chunks__num_segments_10__segment_focus_6: 0.01637048942416625\n",
            "demand__energy_ratio_by_chunks__num_segments_10__segment_focus_7: 0.002353940210357538\n",
            "demand__energy_ratio_by_chunks__num_segments_10__segment_focus_8: -0.011827184650299706\n",
            "demand__energy_ratio_by_chunks__num_segments_10__segment_focus_9: -0.0033341283954977114\n",
            "demand__fft_coefficient__coeff_1__attr_\"angle\": 0.010456388289807373\n",
            "FOODS: 0.17808464682698494\n",
            "HOBBIES: -0.11261310783858426\n",
            "HOUSEHOLD: -0.09352645586699755\n"
          ],
          "name": "stdout"
        }
      ]
    },
    {
      "cell_type": "code",
      "metadata": {
        "id": "SzGblgaYC29a",
        "colab_type": "code",
        "outputId": "04f2a832-573d-44e5-beef-67dd9c53620a",
        "colab": {
          "base_uri": "https://localhost:8080/",
          "height": 293
        }
      },
      "source": [
        "regr = linear_model.LinearRegression()\n",
        "\n",
        "# Train the model using the training sets\n",
        "regr.fit(X_train, y_train)\n",
        "\n",
        "# Make predictions using the testing set\n",
        "y_pred = regr.predict(X_val)\n",
        "\n",
        "# The coefficients\n",
        "print('Coefficients: \\n', regr.coef_)\n",
        "# The mean squared error\n",
        "print('Mean squared error: %.2f'\n",
        "      % np.sqrt(mean_squared_error(y_val, y_pred)))\n",
        "# The coefficient of determination: 1 is perfect prediction\n",
        "print('Coefficient of determination: %.2f'\n",
        "      % r2_score(y_val, y_pred))\n"
      ],
      "execution_count": 18,
      "outputs": [
        {
          "output_type": "stream",
          "text": [
            "Coefficients: \n",
            " [ 8.22747662e-02  1.05544758e+00  2.88427138e-01 -2.80602107e-03\n",
            " -2.62836342e-05 -5.92897492e-02 -1.20373821e+00 -1.25467354e+00\n",
            " -1.24306351e+00 -4.25919631e-01 -4.48191175e-01 -4.53715153e-01\n",
            " -4.44227832e-01  4.22569848e-02  2.45319410e+00  3.46497237e+00\n",
            "  1.79093233e-04 -1.77507331e-02  9.08488318e-01 -3.88794025e-01\n",
            "  6.10042009e-04 -7.92505877e-03 -1.41136313e-05 -6.62048145e-05\n",
            " -5.04112008e-03  2.57105522e-04  5.85657295e-02  6.30484992e-02\n",
            " -2.77763041e-01  3.10211803e-01  6.39772365e-01  6.83356010e-03\n",
            " -8.74859872e-02 -5.47305778e-02 -2.36206765e-02 -2.31151263e-02\n",
            " -5.07151224e-02 -4.74170713e-02 -1.88779272e-02 -5.84149089e-02\n",
            " -3.35902849e-02  6.06047557e-02 -1.01101611e-06 -4.07842197e-03\n",
            "  5.14959064e-03 -1.07116867e-03]\n",
            "Mean squared error: 3.14\n",
            "Coefficient of determination: 0.59\n"
          ],
          "name": "stdout"
        }
      ]
    },
    {
      "cell_type": "code",
      "metadata": {
        "id": "81nyxp-0dKAW",
        "colab_type": "code",
        "colab": {}
      },
      "source": [
        "X2.to_numpy()"
      ],
      "execution_count": 0,
      "outputs": []
    }
  ]
}